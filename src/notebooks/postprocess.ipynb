{
 "cells": [
  {
   "cell_type": "code",
   "execution_count": 19,
   "id": "7968e013",
   "metadata": {},
   "outputs": [],
   "source": [
    "import sys\n",
    "sys.path.append('../')\n",
    "sys.path.append('../data_processing/')"
   ]
  },
  {
   "cell_type": "code",
   "execution_count": 22,
   "id": "98c07b5a",
   "metadata": {},
   "outputs": [],
   "source": [
    "from torch_geometric.loader import DataLoader\n",
    "import torch"
   ]
  },
  {
   "cell_type": "code",
   "execution_count": 20,
   "id": "bfbcc78b",
   "metadata": {},
   "outputs": [],
   "source": [
    "from data_processing.paired_data import PharmacophoreDataset, CombinedGraphDataset\n",
    "from data_processing.reconstruction import get_atomic_number_from_index, is_aromatic_from_index, reconstruct_from_generated"
   ]
  },
  {
   "cell_type": "code",
   "execution_count": 9,
   "id": "5f1d9cd0",
   "metadata": {},
   "outputs": [],
   "source": [
    "root = '/data/conghao001/pharmacophore2drug/PP2Drug/data/cleaned_crossdocked_data'\n",
    "split = 'test'\n",
    "batch_size = 10\n",
    "num_workers = 0"
   ]
  },
  {
   "cell_type": "code",
   "execution_count": 10,
   "id": "a589edb4",
   "metadata": {},
   "outputs": [],
   "source": [
    "dataset = CombinedGraphDataset(root, split)\n",
    "dataloader = DataLoader(dataset, batch_size=batch_size, shuffle=False, num_workers=num_workers)"
   ]
  },
  {
   "cell_type": "code",
   "execution_count": 11,
   "id": "80d14186",
   "metadata": {},
   "outputs": [
    {
     "data": {
      "text/plain": [
       "DataBatch(x=[10, 172, 13], pos=[10, 172, 3], original_x=[238, 13], original_pos=[238, 3], target_x=[10, 172, 13], target_pos=[10, 172, 3], CoM=[10, 3], node_mask=[10, 172], Gt_mask=[1720], edge_mask=[10, 29584], node_pp_index=[1, 1720], ligand_name=[10], num_nodes=238, batch=[238], ptr=[11])"
      ]
     },
     "execution_count": 11,
     "metadata": {},
     "output_type": "execute_result"
    }
   ],
   "source": [
    "one = next(iter(dataloader))\n",
    "one"
   ]
  },
  {
   "cell_type": "code",
   "execution_count": 28,
   "id": "e3df41d7",
   "metadata": {},
   "outputs": [
    {
     "data": {
      "text/plain": [
       "(torch.Size([18, 13]), torch.Size([18, 3]))"
      ]
     },
     "execution_count": 28,
     "metadata": {},
     "output_type": "execute_result"
    }
   ],
   "source": [
    "x = one.original_x[one.batch==1]\n",
    "pos = one.original_pos[one.batch==1]\n",
    "x.size(), pos.size()"
   ]
  },
  {
   "cell_type": "code",
   "execution_count": 34,
   "id": "bf5669ca",
   "metadata": {},
   "outputs": [
    {
     "data": {
      "text/plain": [
       "[[26.337299346923828, 2.9976000785827637, 4.181399822235107],\n",
       " [24.916799545288086, 5.399400234222412, 4.145500183105469],\n",
       " [27.008899688720703, 4.228099822998047, 4.0995001792907715],\n",
       " [26.318300247192383, 5.418099880218506, 4.07859992980957],\n",
       " [24.22920036315918, 4.17080020904541, 4.225299835205078],\n",
       " [22.492900848388672, 4.122600078582764, 4.300300121307373],\n",
       " [24.931800842285156, 2.9828999042510986, 4.247200012207031],\n",
       " [24.144500732421875, 1.6985000371932983, 4.3480000495910645],\n",
       " [29.291500091552734, 0.8658000230789185, 3.900700092315674],\n",
       " [28.24880027770996, 0.08590000122785568, 3.0738000869750977],\n",
       " [27.141399383544922, 1.1325000524520874, 2.890899896621704],\n",
       " [28.518999099731445, 1.6863000392913818, 6.220600128173828],\n",
       " [28.47719955444336, 1.9199999570846558, 4.7083001136779785],\n",
       " [30.025699615478516, -0.0406000018119812, 4.729300022125244],\n",
       " [27.067899703979492, 1.801800012588501, 4.219600200653076],\n",
       " [29.411100387573242, -0.5242000222206116, 5.303100109100342],\n",
       " [24.193899154663086, 6.637199878692627, 4.11359977722168],\n",
       " [23.590200424194336, 7.602399826049805, 4.1803998947143555]]"
      ]
     },
     "execution_count": 34,
     "metadata": {},
     "output_type": "execute_result"
    }
   ],
   "source": [
    "pos = pos.tolist()\n",
    "pos"
   ]
  },
  {
   "cell_type": "code",
   "execution_count": 29,
   "id": "e5eca269",
   "metadata": {},
   "outputs": [
    {
     "data": {
      "text/plain": [
       "tensor(18)"
      ]
     },
     "execution_count": 29,
     "metadata": {},
     "output_type": "execute_result"
    }
   ],
   "source": [
    "Gt_mask = one.Gt_mask.view(batch_size, -1)[1]\n",
    "Gt_mask.sum()"
   ]
  },
  {
   "cell_type": "code",
   "execution_count": 30,
   "id": "2ae77f53",
   "metadata": {},
   "outputs": [
    {
     "data": {
      "text/plain": [
       "tensor([ 1,  1,  1,  1,  1, 12,  1,  1,  1,  1,  1,  1,  1,  5,  3,  0,  1,  3])"
      ]
     },
     "execution_count": 30,
     "metadata": {},
     "output_type": "execute_result"
    }
   ],
   "source": [
    "atom_index = torch.argmax(x, dim=1)\n",
    "atom_index"
   ]
  },
  {
   "cell_type": "code",
   "execution_count": 31,
   "id": "e1da49b5",
   "metadata": {
    "scrolled": true
   },
   "outputs": [
    {
     "data": {
      "text/plain": [
       "[6, 6, 6, 6, 6, 17, 6, 6, 6, 6, 6, 6, 6, 8, 7, 1, 6, 7]"
      ]
     },
     "execution_count": 31,
     "metadata": {},
     "output_type": "execute_result"
    }
   ],
   "source": [
    "atom_type = get_atomic_number_from_index(atom_index)\n",
    "atom_type"
   ]
  },
  {
   "cell_type": "code",
   "execution_count": 32,
   "id": "a87646b4",
   "metadata": {
    "scrolled": true
   },
   "outputs": [
    {
     "data": {
      "text/plain": [
       "[False,\n",
       " False,\n",
       " False,\n",
       " False,\n",
       " False,\n",
       " False,\n",
       " False,\n",
       " False,\n",
       " False,\n",
       " False,\n",
       " False,\n",
       " False,\n",
       " False,\n",
       " False,\n",
       " False,\n",
       " False,\n",
       " False,\n",
       " False]"
      ]
     },
     "execution_count": 32,
     "metadata": {},
     "output_type": "execute_result"
    }
   ],
   "source": [
    "atom_aromatic = is_aromatic_from_index(atom_index)\n",
    "atom_aromatic"
   ]
  },
  {
   "cell_type": "code",
   "execution_count": 35,
   "id": "840cf23f",
   "metadata": {},
   "outputs": [
    {
     "data": {
      "image/png": "[encoded data removed]",
      "text/plain": [
       "<rdkit.Chem.rdchem.Mol at 0x7f84a4820820>"
      ]
     },
     "execution_count": 35,
     "metadata": {},
     "output_type": "execute_result"
    }
   ],
   "source": [
    "mol = reconstruct_from_generated(pos, atom_type, atom_aromatic)\n",
    "mol"
   ]
  },
  {
   "cell_type": "code",
   "execution_count": null,
   "id": "848a1d69",
   "metadata": {},
   "outputs": [],
   "source": []
  }
 ],
 "metadata": {
  "kernelspec": {
   "display_name": "pp2drug",
   "language": "python",
   "name": "pp2drug"
  },
  "language_info": {
   "codemirror_mode": {
    "name": "ipython",
    "version": 3
   },
   "file_extension": ".py",
   "mimetype": "text/x-python",
   "name": "python",
   "nbconvert_exporter": "python",
   "pygments_lexer": "ipython3",
   "version": "3.10.14"
  }
 },
 "nbformat": 4,
 "nbformat_minor": 5
}
