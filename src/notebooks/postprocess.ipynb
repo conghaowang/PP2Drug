{
 "cells": [
  {
   "cell_type": "code",
   "execution_count": 1,
   "id": "b840741a-a63f-45de-b1a5-ccdf59a49073",
   "metadata": {},
   "outputs": [],
   "source": [
    "%load_ext autoreload\n",
    "%autoreload 2"
   ]
  },
  {
   "cell_type": "code",
   "execution_count": 22,
   "id": "7968e013",
   "metadata": {},
   "outputs": [],
   "source": [
    "import sys\n",
    "sys.path.append('../')\n",
    "sys.path.append('../data_processing/')\n",
    "import os"
   ]
  },
  {
   "cell_type": "code",
   "execution_count": 33,
   "id": "98c07b5a",
   "metadata": {},
   "outputs": [],
   "source": [
    "from torch_geometric.loader import DataLoader\n",
    "import torch\n",
    "from torch_scatter import scatter_mean\n",
    "from tqdm import tqdm\n",
    "from rdkit import Chem"
   ]
  },
  {
   "cell_type": "code",
   "execution_count": 4,
   "id": "bfbcc78b",
   "metadata": {},
   "outputs": [],
   "source": [
    "from data_processing.paired_data import PharmacophoreDataset, CombinedGraphDataset, CombinedSparseGraphDataset\n",
    "from data_processing.reconstruction import get_atomic_number_from_index, is_aromatic_from_index, reconstruct_from_generated\n",
    "\n",
    "from model.utils.utils_diffusion import center2zero_sparse_graph\n",
    "from data_processing.utils import ATOM_TYPE_MAPPING, MAP_ATOMIC_NUMBER_TO_INDEX\n",
    "from data_processing.reconstruction import get_atomic_number_from_index, is_aromatic_from_index, reconstruct_from_generated"
   ]
  },
  {
   "cell_type": "code",
   "execution_count": 5,
   "id": "5f1d9cd0",
   "metadata": {},
   "outputs": [],
   "source": [
    "root = '../../data/cleaned_crossdocked_data'\n",
    "split = 'valid' # 'test\n",
    "batch_size = 1\n",
    "num_workers = 0"
   ]
  },
  {
   "cell_type": "code",
   "execution_count": 6,
   "id": "a589edb4",
   "metadata": {},
   "outputs": [],
   "source": [
    "dataset = CombinedSparseGraphDataset(root, split)\n",
    "dataloader = DataLoader(dataset, batch_size=batch_size, shuffle=False, num_workers=num_workers)"
   ]
  },
  {
   "cell_type": "code",
   "execution_count": 7,
   "id": "5cb3f4b4-4d94-4845-ae5b-8173d0f75394",
   "metadata": {},
   "outputs": [
    {
     "data": {
      "text/plain": [
       "['valid_combined_sparse_graph.pt']"
      ]
     },
     "execution_count": 7,
     "metadata": {},
     "output_type": "execute_result"
    }
   ],
   "source": [
    "dataset.processed_file_names"
   ]
  },
  {
   "cell_type": "code",
   "execution_count": 8,
   "id": "80d14186",
   "metadata": {},
   "outputs": [
    {
     "data": {
      "text/plain": [
       "DataBatch(x=[42, 8], pos=[42, 3], target_x=[42, 8], target_pos=[42, 3], Gt_mask=[42], ligand_name=[1], batch=[42], ptr=[2])"
      ]
     },
     "execution_count": 8,
     "metadata": {},
     "output_type": "execute_result"
    }
   ],
   "source": [
    "one = next(iter(dataloader))\n",
    "one"
   ]
  },
  {
   "cell_type": "code",
   "execution_count": 9,
   "id": "33b1bbdf-43bc-4b22-8247-e2eb1b321a65",
   "metadata": {},
   "outputs": [
    {
     "data": {
      "text/plain": [
       "tensor([0, 0, 0, 0, 0, 0, 0, 0, 0, 0, 0, 0, 0, 0, 0, 0, 0, 0, 0, 0, 0, 0, 0, 0,\n",
       "        0, 0, 0, 0, 0, 0, 0, 0, 0, 0, 0, 0, 0, 0, 0, 0, 0, 0])"
      ]
     },
     "execution_count": 9,
     "metadata": {},
     "output_type": "execute_result"
    }
   ],
   "source": [
    "one.batch"
   ]
  },
  {
   "cell_type": "code",
   "execution_count": 10,
   "id": "0ad0bfae-e0a0-40b4-8c93-d6114071ebeb",
   "metadata": {
    "scrolled": true
   },
   "outputs": [
    {
     "data": {
      "text/plain": [
       "(tensor([[1., 0., 0., 0., 0., 0., 0., 0.],\n",
       "         [0., 0., 1., 0., 0., 0., 0., 0.],\n",
       "         [1., 0., 0., 0., 0., 0., 0., 0.],\n",
       "         [0., 0., 1., 0., 0., 0., 0., 0.],\n",
       "         [0., 0., 1., 0., 0., 0., 0., 0.],\n",
       "         [1., 0., 0., 0., 0., 0., 0., 0.],\n",
       "         [0., 0., 1., 0., 0., 0., 0., 0.],\n",
       "         [1., 0., 0., 0., 0., 0., 0., 0.],\n",
       "         [0., 0., 1., 0., 0., 0., 0., 0.],\n",
       "         [1., 0., 0., 0., 0., 0., 0., 0.],\n",
       "         [0., 0., 1., 0., 0., 0., 0., 0.],\n",
       "         [0., 0., 0., 0., 1., 0., 0., 0.],\n",
       "         [0., 0., 1., 0., 0., 0., 0., 0.],\n",
       "         [0., 0., 1., 0., 0., 0., 0., 0.],\n",
       "         [0., 0., 1., 0., 0., 0., 0., 0.],\n",
       "         [1., 0., 0., 0., 0., 0., 0., 0.],\n",
       "         [0., 0., 1., 0., 0., 0., 0., 0.],\n",
       "         [0., 0., 0., 0., 1., 0., 0., 0.],\n",
       "         [0., 0., 1., 0., 0., 0., 0., 0.],\n",
       "         [0., 0., 1., 0., 0., 0., 0., 0.],\n",
       "         [0., 0., 1., 0., 0., 0., 0., 0.],\n",
       "         [1., 0., 0., 0., 0., 0., 0., 0.],\n",
       "         [0., 0., 0., 0., 0., 1., 0., 0.],\n",
       "         [0., 0., 0., 0., 1., 0., 0., 0.],\n",
       "         [0., 0., 0., 0., 1., 0., 0., 0.],\n",
       "         [0., 0., 0., 0., 1., 0., 0., 0.],\n",
       "         [1., 0., 0., 0., 0., 0., 0., 0.],\n",
       "         [0., 0., 0., 0., 0., 1., 0., 0.],\n",
       "         [1., 0., 0., 0., 0., 0., 0., 0.],\n",
       "         [0., 0., 0., 0., 0., 1., 0., 0.],\n",
       "         [1., 0., 0., 0., 0., 0., 0., 0.],\n",
       "         [0., 0., 0., 0., 1., 0., 0., 0.],\n",
       "         [0., 0., 0., 0., 1., 0., 0., 0.],\n",
       "         [0., 0., 0., 0., 1., 0., 0., 0.],\n",
       "         [0., 0., 0., 0., 1., 0., 0., 0.],\n",
       "         [0., 0., 0., 0., 1., 0., 0., 0.],\n",
       "         [1., 0., 0., 0., 0., 0., 0., 0.],\n",
       "         [0., 0., 0., 0., 1., 0., 0., 0.],\n",
       "         [0., 0., 0., 0., 1., 0., 0., 0.],\n",
       "         [0., 0., 0., 0., 1., 0., 0., 0.],\n",
       "         [0., 0., 0., 0., 1., 0., 0., 0.],\n",
       "         [0., 0., 0., 0., 1., 0., 0., 0.]]),\n",
       " tensor([[1., 0., 0., 0., 0., 0., 0., 0.],\n",
       "         [0., 0., 0., 0., 0., 1., 0., 0.],\n",
       "         [0., 0., 0., 0., 1., 0., 0., 0.],\n",
       "         [0., 0., 0., 0., 1., 0., 0., 0.],\n",
       "         [0., 0., 0., 0., 1., 0., 0., 0.],\n",
       "         [1., 0., 0., 0., 0., 0., 0., 0.],\n",
       "         [0., 0., 0., 0., 0., 1., 0., 0.],\n",
       "         [1., 0., 0., 0., 0., 0., 0., 0.],\n",
       "         [0., 0., 0., 0., 0., 1., 0., 0.],\n",
       "         [1., 0., 0., 0., 0., 0., 0., 0.],\n",
       "         [0., 0., 0., 0., 1., 0., 0., 0.],\n",
       "         [0., 0., 0., 0., 1., 0., 0., 0.],\n",
       "         [0., 0., 0., 0., 1., 0., 0., 0.],\n",
       "         [0., 0., 0., 0., 1., 0., 0., 0.],\n",
       "         [0., 0., 0., 0., 1., 0., 0., 0.],\n",
       "         [1., 0., 0., 0., 0., 0., 0., 0.],\n",
       "         [0., 0., 0., 0., 1., 0., 0., 0.],\n",
       "         [0., 0., 0., 0., 1., 0., 0., 0.],\n",
       "         [0., 0., 0., 0., 1., 0., 0., 0.],\n",
       "         [0., 0., 0., 0., 1., 0., 0., 0.],\n",
       "         [0., 0., 0., 0., 1., 0., 0., 0.],\n",
       "         [1., 0., 0., 0., 0., 0., 0., 0.],\n",
       "         [0., 0., 0., 0., 0., 1., 0., 0.],\n",
       "         [0., 0., 0., 0., 1., 0., 0., 0.],\n",
       "         [0., 0., 0., 0., 1., 0., 0., 0.],\n",
       "         [0., 0., 0., 0., 1., 0., 0., 0.],\n",
       "         [1., 0., 0., 0., 0., 0., 0., 0.],\n",
       "         [0., 0., 0., 0., 0., 1., 0., 0.],\n",
       "         [1., 0., 0., 0., 0., 0., 0., 0.],\n",
       "         [0., 0., 0., 0., 0., 1., 0., 0.],\n",
       "         [1., 0., 0., 0., 0., 0., 0., 0.],\n",
       "         [0., 0., 0., 0., 1., 0., 0., 0.],\n",
       "         [0., 0., 0., 0., 1., 0., 0., 0.],\n",
       "         [0., 0., 0., 0., 1., 0., 0., 0.],\n",
       "         [0., 0., 0., 0., 1., 0., 0., 0.],\n",
       "         [0., 0., 0., 0., 1., 0., 0., 0.],\n",
       "         [1., 0., 0., 0., 0., 0., 0., 0.],\n",
       "         [0., 0., 0., 0., 1., 0., 0., 0.],\n",
       "         [0., 0., 0., 0., 1., 0., 0., 0.],\n",
       "         [0., 0., 0., 0., 1., 0., 0., 0.],\n",
       "         [0., 0., 0., 0., 1., 0., 0., 0.],\n",
       "         [0., 0., 0., 0., 1., 0., 0., 0.]]))"
      ]
     },
     "execution_count": 10,
     "metadata": {},
     "output_type": "execute_result"
    }
   ],
   "source": [
    "one.x, one.target_x"
   ]
  },
  {
   "cell_type": "code",
   "execution_count": 11,
   "id": "d2188684-686b-4521-9aee-53712b74fc9a",
   "metadata": {
    "scrolled": true
   },
   "outputs": [
    {
     "data": {
      "text/plain": [
       "(tensor([[-33.6430,  20.0160, -16.0670],\n",
       "         [-33.0150,  18.8310, -16.6210],\n",
       "         [-34.8090,  19.5130, -15.2280],\n",
       "         [-35.8880,  20.1450, -15.1760],\n",
       "         [-34.6810,  18.4420, -14.5820],\n",
       "         [-32.6070,  20.7390, -15.2030],\n",
       "         [-32.2540,  19.8800, -14.1440],\n",
       "         [-33.0640,  22.0860, -14.6460],\n",
       "         [-32.6380,  23.0990, -15.5230],\n",
       "         [-32.4860,  22.3700, -13.2630],\n",
       "         [-32.9830,  23.6070, -12.8030],\n",
       "         [-31.9590,  24.7910, -12.4470],\n",
       "         [-31.0490,  24.9840, -13.6410],\n",
       "         [-31.1650,  24.4080, -11.2230],\n",
       "         [-32.7060,  26.0700, -12.1540],\n",
       "         [-34.1160,  20.8960, -17.2160],\n",
       "         [-34.5140,  20.0980, -18.3010],\n",
       "         [-35.2120,  20.7990, -19.5640],\n",
       "         [-36.0410,  21.9670, -19.0790],\n",
       "         [-34.1410,  21.3130, -20.4930],\n",
       "         [-36.0640,  19.7770, -20.2790],\n",
       "         [-33.5676,  21.7784, -15.6491],\n",
       "         [-33.0121,  18.8383, -16.6158],\n",
       "         [-35.2929,  19.2908, -14.8717],\n",
       "         [-35.3001,  19.2936, -14.8745],\n",
       "         [-35.2868,  19.2972, -14.8816],\n",
       "         [-33.5929,  21.7642, -15.6677],\n",
       "         [-32.2532,  19.8883, -14.1447],\n",
       "         [-33.5714,  21.7452, -15.6550],\n",
       "         [-32.6511,  23.1048, -15.5124],\n",
       "         [-33.5856,  21.7617, -15.6720],\n",
       "         [-31.9528,  24.7835, -12.4545],\n",
       "         [-31.9648,  24.7967, -12.4499],\n",
       "         [-31.9614,  24.7889, -12.4563],\n",
       "         [-31.9564,  24.7764, -12.4546],\n",
       "         [-31.9644,  24.7754, -12.4657],\n",
       "         [-33.5854,  21.7812, -15.6501],\n",
       "         [-35.2171,  20.7989, -19.5483],\n",
       "         [-35.2167,  20.8082, -19.5818],\n",
       "         [-35.1999,  20.8115, -19.5716],\n",
       "         [-35.2097,  20.7988, -19.5765],\n",
       "         [-35.2191,  20.8067, -19.5688]]),\n",
       " tensor([[-33.5676,  21.7784, -15.6491],\n",
       "         [-33.0121,  18.8383, -16.6158],\n",
       "         [-35.2929,  19.2908, -14.8717],\n",
       "         [-35.3001,  19.2936, -14.8745],\n",
       "         [-35.2868,  19.2972, -14.8816],\n",
       "         [-33.5929,  21.7642, -15.6677],\n",
       "         [-32.2532,  19.8883, -14.1447],\n",
       "         [-33.5714,  21.7452, -15.6550],\n",
       "         [-32.6511,  23.1048, -15.5124],\n",
       "         [-33.5856,  21.7617, -15.6720],\n",
       "         [-31.9528,  24.7835, -12.4545],\n",
       "         [-31.9648,  24.7967, -12.4499],\n",
       "         [-31.9614,  24.7889, -12.4563],\n",
       "         [-31.9564,  24.7764, -12.4546],\n",
       "         [-31.9644,  24.7754, -12.4657],\n",
       "         [-33.5854,  21.7812, -15.6501],\n",
       "         [-35.2171,  20.7989, -19.5483],\n",
       "         [-35.2167,  20.8082, -19.5818],\n",
       "         [-35.1999,  20.8115, -19.5716],\n",
       "         [-35.2097,  20.7988, -19.5765],\n",
       "         [-35.2191,  20.8067, -19.5688],\n",
       "         [-33.5676,  21.7784, -15.6491],\n",
       "         [-33.0121,  18.8383, -16.6158],\n",
       "         [-35.2929,  19.2908, -14.8717],\n",
       "         [-35.3001,  19.2936, -14.8745],\n",
       "         [-35.2868,  19.2972, -14.8816],\n",
       "         [-33.5929,  21.7642, -15.6677],\n",
       "         [-32.2532,  19.8883, -14.1447],\n",
       "         [-33.5714,  21.7452, -15.6550],\n",
       "         [-32.6511,  23.1048, -15.5124],\n",
       "         [-33.5856,  21.7617, -15.6720],\n",
       "         [-31.9528,  24.7835, -12.4545],\n",
       "         [-31.9648,  24.7967, -12.4499],\n",
       "         [-31.9614,  24.7889, -12.4563],\n",
       "         [-31.9564,  24.7764, -12.4546],\n",
       "         [-31.9644,  24.7754, -12.4657],\n",
       "         [-33.5854,  21.7812, -15.6501],\n",
       "         [-35.2171,  20.7989, -19.5483],\n",
       "         [-35.2167,  20.8082, -19.5818],\n",
       "         [-35.1999,  20.8115, -19.5716],\n",
       "         [-35.2097,  20.7988, -19.5765],\n",
       "         [-35.2191,  20.8067, -19.5688]]))"
      ]
     },
     "execution_count": 11,
     "metadata": {},
     "output_type": "execute_result"
    }
   ],
   "source": [
    "one.pos, one.target_pos"
   ]
  },
  {
   "cell_type": "code",
   "execution_count": 12,
   "id": "ead3f2e1-7430-4712-affd-f31b99738e21",
   "metadata": {},
   "outputs": [
    {
     "data": {
      "text/plain": [
       "tensor(21)"
      ]
     },
     "execution_count": 12,
     "metadata": {},
     "output_type": "execute_result"
    }
   ],
   "source": [
    "one.Gt_mask.sum()"
   ]
  },
  {
   "cell_type": "code",
   "execution_count": 13,
   "id": "bce0e569-60af-4021-86e7-3e228c643b86",
   "metadata": {
    "scrolled": true
   },
   "outputs": [
    {
     "data": {
      "text/plain": [
       "tensor([[ 0.0504, -1.7216, -0.3850],\n",
       "        [ 0.6784, -2.9066, -0.9390],\n",
       "        [-1.1156, -2.2246,  0.4540],\n",
       "        [-2.1946, -1.5926,  0.5060],\n",
       "        [-0.9876, -3.2956,  1.1000],\n",
       "        [ 1.0864, -0.9986,  0.4790],\n",
       "        [ 1.4394, -1.8576,  1.5380],\n",
       "        [ 0.6294,  0.3484,  1.0360],\n",
       "        [ 1.0554,  1.3614,  0.1590],\n",
       "        [ 1.2074,  0.6324,  2.4190],\n",
       "        [ 0.7104,  1.8694,  2.8790],\n",
       "        [ 1.7344,  3.0534,  3.2350],\n",
       "        [ 2.6444,  3.2464,  2.0410],\n",
       "        [ 2.5284,  2.6704,  4.4590],\n",
       "        [ 0.9874,  4.3324,  3.5280],\n",
       "        [-0.4226, -0.8416, -1.5340],\n",
       "        [-0.8206, -1.6396, -2.6190],\n",
       "        [-1.5186, -0.9386, -3.8820],\n",
       "        [-2.3476,  0.2294, -3.3970],\n",
       "        [-0.4476, -0.4246, -4.8110],\n",
       "        [-2.3706, -1.9606, -4.5970],\n",
       "        [ 0.1258,  0.0408,  0.0330],\n",
       "        [ 0.6813, -2.8992, -0.9338],\n",
       "        [-1.5995, -2.4468,  0.8104],\n",
       "        [-1.6067, -2.4439,  0.8075],\n",
       "        [-1.5934, -2.4404,  0.8004],\n",
       "        [ 0.1005,  0.0266,  0.0143],\n",
       "        [ 1.4402, -1.8493,  1.5373],\n",
       "        [ 0.1220,  0.0077,  0.0270],\n",
       "        [ 1.0423,  1.3673,  0.1696],\n",
       "        [ 0.1078,  0.0242,  0.0100],\n",
       "        [ 1.7406,  3.0460,  3.2275],\n",
       "        [ 1.7286,  3.0592,  3.2321],\n",
       "        [ 1.7320,  3.0513,  3.2257],\n",
       "        [ 1.7370,  3.0389,  3.2274],\n",
       "        [ 1.7290,  3.0378,  3.2163],\n",
       "        [ 0.1080,  0.0436,  0.0320],\n",
       "        [-1.5237, -0.9386, -3.8663],\n",
       "        [-1.5233, -0.9294, -3.8997],\n",
       "        [-1.5065, -0.9261, -3.8896],\n",
       "        [-1.5163, -0.9388, -3.8944],\n",
       "        [-1.5257, -0.9309, -3.8868]])"
      ]
     },
     "execution_count": 13,
     "metadata": {},
     "output_type": "execute_result"
    }
   ],
   "source": [
    "centered_pos = center2zero_sparse_graph(one.pos, one.Gt_mask, one.batch)\n",
    "centered_pos"
   ]
  },
  {
   "cell_type": "code",
   "execution_count": 14,
   "id": "e3df41d7",
   "metadata": {},
   "outputs": [
    {
     "data": {
      "text/plain": [
       "(torch.Size([21, 8]), torch.Size([21, 3]))"
      ]
     },
     "execution_count": 14,
     "metadata": {},
     "output_type": "execute_result"
    }
   ],
   "source": [
    "# x = one.original_x[one.batch==1]\n",
    "# pos = one.original_pos[one.batch==1]\n",
    "\n",
    "Gt_mask = one.Gt_mask\n",
    "x = one.x[Gt_mask]\n",
    "pos = one.pos[Gt_mask]\n",
    "batch = one.batch\n",
    "x.size(), pos.size()"
   ]
  },
  {
   "cell_type": "code",
   "execution_count": 15,
   "id": "f665b953-89e2-44dd-9122-69f44a9c73f6",
   "metadata": {},
   "outputs": [
    {
     "name": "stdout",
     "output_type": "stream",
     "text": [
      "tensor([False, False, False, False, False, False, False, False, False, False,\n",
      "        False, False, False, False, False, False, False, False, False, False,\n",
      "        False,  True,  True,  True,  True,  True,  True,  True,  True,  True,\n",
      "         True,  True,  True,  True,  True,  True,  True,  True,  True,  True,\n",
      "         True,  True])\n",
      "tensor([[-33.5731,  21.6110, -15.6025]]) tensor([[-33.6934,  21.7376, -15.6820]])\n"
     ]
    }
   ],
   "source": [
    "GT_mask = ~Gt_mask\n",
    "print(GT_mask)\n",
    "Gt_mean = scatter_mean(pos, batch[Gt_mask], dim=0)\n",
    "GT_mean = scatter_mean(one.pos[GT_mask], batch[GT_mask], dim=0)\n",
    "\n",
    "print(Gt_mean, GT_mean)"
   ]
  },
  {
   "cell_type": "code",
   "execution_count": null,
   "id": "8642b92d-3f67-4965-ac4a-cb0c76f0aef8",
   "metadata": {},
   "outputs": [],
   "source": []
  },
  {
   "cell_type": "code",
   "execution_count": null,
   "id": "ef40b0c6-3185-46d6-a1db-0a3a5e8640b3",
   "metadata": {},
   "outputs": [],
   "source": []
  },
  {
   "cell_type": "code",
   "execution_count": 16,
   "id": "bf5669ca",
   "metadata": {},
   "outputs": [
    {
     "data": {
      "text/plain": [
       "[[-33.643001556396484, 20.016000747680664, -16.066999435424805],\n",
       " [-33.01499938964844, 18.83099937438965, -16.621000289916992],\n",
       " [-34.808998107910156, 19.51300048828125, -15.227999687194824],\n",
       " [-35.88800048828125, 20.145000457763672, -15.175999641418457],\n",
       " [-34.680999755859375, 18.441999435424805, -14.581999778747559],\n",
       " [-32.606998443603516, 20.73900032043457, -15.20300006866455],\n",
       " [-32.25400161743164, 19.8799991607666, -14.144000053405762],\n",
       " [-33.06399917602539, 22.086000442504883, -14.645999908447266],\n",
       " [-32.63800048828125, 23.099000930786133, -15.52299976348877],\n",
       " [-32.486000061035156, 22.3700008392334, -13.262999534606934],\n",
       " [-32.983001708984375, 23.60700035095215, -12.803000450134277],\n",
       " [-31.958999633789062, 24.791000366210938, -12.446999549865723],\n",
       " [-31.048999786376953, 24.983999252319336, -13.640999794006348],\n",
       " [-31.165000915527344, 24.408000946044922, -11.222999572753906],\n",
       " [-32.70600128173828, 26.06999969482422, -12.154000282287598],\n",
       " [-34.11600112915039, 20.895999908447266, -17.215999603271484],\n",
       " [-34.513999938964844, 20.097999572753906, -18.301000595092773],\n",
       " [-35.21200180053711, 20.798999786376953, -19.56399917602539],\n",
       " [-36.04100036621094, 21.966999053955078, -19.07900047302246],\n",
       " [-34.14099884033203, 21.312999725341797, -20.493000030517578],\n",
       " [-36.06399917602539, 19.777000427246094, -20.27899932861328]]"
      ]
     },
     "execution_count": 16,
     "metadata": {},
     "output_type": "execute_result"
    }
   ],
   "source": [
    "pos = pos.tolist()\n",
    "pos"
   ]
  },
  {
   "cell_type": "code",
   "execution_count": 17,
   "id": "e5eca269",
   "metadata": {},
   "outputs": [
    {
     "data": {
      "text/plain": [
       "tensor(21)"
      ]
     },
     "execution_count": 17,
     "metadata": {},
     "output_type": "execute_result"
    }
   ],
   "source": [
    "Gt_mask = one.Gt_mask.view(batch_size, -1)[0]\n",
    "Gt_mask.sum()"
   ]
  },
  {
   "cell_type": "code",
   "execution_count": 18,
   "id": "2ae77f53",
   "metadata": {},
   "outputs": [
    {
     "data": {
      "text/plain": [
       "tensor([0, 2, 0, 2, 2, 0, 2, 0, 2, 0, 2, 4, 2, 2, 2, 0, 2, 4, 2, 2, 2])"
      ]
     },
     "execution_count": 18,
     "metadata": {},
     "output_type": "execute_result"
    }
   ],
   "source": [
    "atom_index = torch.argmax(x, dim=1)\n",
    "atom_index"
   ]
  },
  {
   "cell_type": "code",
   "execution_count": 19,
   "id": "e1da49b5",
   "metadata": {
    "scrolled": true
   },
   "outputs": [
    {
     "data": {
      "text/plain": [
       "[6, 8, 6, 8, 8, 6, 8, 6, 8, 6, 8, 15, 8, 8, 8, 6, 8, 15, 8, 8, 8]"
      ]
     },
     "execution_count": 19,
     "metadata": {},
     "output_type": "execute_result"
    }
   ],
   "source": [
    "# atom_type = get_atomic_number_from_index(atom_index)\n",
    "\n",
    "# for non aromatic data\n",
    "MAP_INDEX_TO_ATOMIC_NUMBER = {v: k for k, v in MAP_ATOMIC_NUMBER_TO_INDEX.items()}\n",
    "atom_type = get_atomic_number_from_index(atom_index, mode='nonaro', index_to_atom_type=MAP_INDEX_TO_ATOMIC_NUMBER)\n",
    "atom_type"
   ]
  },
  {
   "cell_type": "code",
   "execution_count": 20,
   "id": "a87646b4",
   "metadata": {
    "scrolled": true
   },
   "outputs": [],
   "source": [
    "# atom_aromatic = is_aromatic_from_index(atom_index)\n",
    "atom_aromatic = None\n",
    "atom_aromatic"
   ]
  },
  {
   "cell_type": "code",
   "execution_count": 21,
   "id": "840cf23f",
   "metadata": {},
   "outputs": [
    {
     "data": {
      "image/png": "[encoded data removed]",
      "text/plain": [
       "<rdkit.Chem.rdchem.Mol at 0x7fec94335420>"
      ]
     },
     "execution_count": 21,
     "metadata": {},
     "output_type": "execute_result"
    }
   ],
   "source": [
    "mol = reconstruct_from_generated(pos, atom_type, atom_aromatic)\n",
    "mol"
   ]
  },
  {
   "cell_type": "markdown",
   "id": "2e16113b",
   "metadata": {},
   "source": [
    "# Check the original ligand"
   ]
  },
  {
   "cell_type": "code",
   "execution_count": 26,
   "id": "39b1f78c",
   "metadata": {},
   "outputs": [
    {
     "data": {
      "text/plain": [
       "['3zxw_A_rec_3zxw_cap_lig_tt_min_0']"
      ]
     },
     "execution_count": 26,
     "metadata": {},
     "output_type": "execute_result"
    }
   ],
   "source": [
    "one.ligand_name"
   ]
  },
  {
   "cell_type": "code",
   "execution_count": 31,
   "id": "17696fc2",
   "metadata": {},
   "outputs": [
    {
     "name": "stderr",
     "output_type": "stream",
     "text": [
      "  0%|                                                                                                                                                                  | 0/22439 [00:00<?, ?it/s]"
     ]
    },
    {
     "name": "stdout",
     "output_type": "stream",
     "text": [
      "../../data/cleaned_crossdocked_data/raw/RBL_THEEB_1_475_0/3zxw_A_rec_3zxw_cap_lig_tt_min_0.sdf\n"
     ]
    },
    {
     "name": "stderr",
     "output_type": "stream",
     "text": [
      "\n"
     ]
    }
   ],
   "source": [
    "for raw_path in tqdm(dataset.raw_paths):\n",
    "    filename = raw_path.split('/')[-1].split('.')[0]\n",
    "    if filename == one.ligand_name[0]:\n",
    "        print(raw_path)\n",
    "        break"
   ]
  },
  {
   "cell_type": "code",
   "execution_count": 34,
   "id": "80e7c743",
   "metadata": {},
   "outputs": [
    {
     "data": {
      "image/png": "[encoded data removed]",
      "text/plain": [
       "<rdkit.Chem.rdchem.Mol at 0x7febc6398ca0>"
      ]
     },
     "execution_count": 34,
     "metadata": {},
     "output_type": "execute_result"
    }
   ],
   "source": [
    "rdmol = Chem.MolFromMolFile(raw_path, sanitize=True)\n",
    "rdmol"
   ]
  },
  {
   "cell_type": "code",
   "execution_count": null,
   "id": "61fb2954",
   "metadata": {},
   "outputs": [],
   "source": []
  }
 ],
 "metadata": {
  "kernelspec": {
   "display_name": "pp2drug",
   "language": "python",
   "name": "pp2drug"
  },
  "language_info": {
   "codemirror_mode": {
    "name": "ipython",
    "version": 3
   },
   "file_extension": ".py",
   "mimetype": "text/x-python",
   "name": "python",
   "nbconvert_exporter": "python",
   "pygments_lexer": "ipython3",
   "version": "3.10.14"
  }
 },
 "nbformat": 4,
 "nbformat_minor": 5
}
