{
 "cells": [
  {
   "cell_type": "code",
   "execution_count": 1,
   "id": "cd289b53-507c-4587-b7a2-8c9839893c37",
   "metadata": {},
   "outputs": [],
   "source": [
    "%load_ext autoreload\n",
    "%autoreload 2"
   ]
  },
  {
   "cell_type": "code",
   "execution_count": 2,
   "id": "55b3089f-717f-4031-a540-e6e5f9a8c59d",
   "metadata": {},
   "outputs": [],
   "source": [
    "import pickle\n",
    "import pandas as pd\n",
    "import numpy as np\n",
    "from rdkit import Chem\n",
    "from openbabel import pybel\n",
    "\n",
    "from tqdm import tqdm\n",
    "import os\n",
    "from collections import defaultdict"
   ]
  },
  {
   "cell_type": "code",
   "execution_count": 3,
   "id": "3f38854c-813d-4612-918b-862ec666e7c3",
   "metadata": {},
   "outputs": [],
   "source": [
    "import sys\n",
    "sys.path.append('../')\n",
    "sys.path.append('../data_processing/')\n",
    "sys.path.append('../evaluation/')"
   ]
  },
  {
   "cell_type": "code",
   "execution_count": 4,
   "id": "efa02ace-ea6e-426c-a5d7-01e1dbdf9a65",
   "metadata": {},
   "outputs": [],
   "source": [
    "from pharmacophore_matching import center2zero\n",
    "from script_utils import load_qm9_data, load_dataset\n",
    "from data_processing.ligand import Ligand\n",
    "from utils_eval import extract_pp, extract_all_pp, pp_match"
   ]
  },
  {
   "cell_type": "code",
   "execution_count": 5,
   "id": "ebefd180-b99c-44e5-b572-152f09da5d6e",
   "metadata": {},
   "outputs": [],
   "source": [
    "# root_path = '../lightning_logs/vp_bridge_egnn_CombinedSparseGraphDataset_2024-08-19_21_05_04.140916'\n",
    "root_path = '../lightning_logs/vp_bridge_egnn_CombinedSparseGraphDataset_2024-08-19_21_05_04.140916/ligand_based'\n",
    "# root_path = '../lightning_logs/vp_bridge_egnn_CombinedSparseGraphDataset_2024-08-19_13_30_50.133260'\n",
    "# root_path = '../lightning_logs/vp_bridge_egnn_CombinedSparseGraphDataset_2024-08-19_13_30_50.133260/ligand_based_old'"
   ]
  },
  {
   "cell_type": "code",
   "execution_count": 6,
   "id": "21332a82-06c8-46e2-9e74-806683ac7a59",
   "metadata": {},
   "outputs": [
    {
     "data": {
      "text/plain": [
       "'../lightning_logs/vp_bridge_egnn_CombinedSparseGraphDataset_2024-08-19_21_05_04.140916/ligand_based/reconstructed_mols_aromatic_mode_matches.pkl'"
      ]
     },
     "execution_count": 6,
     "metadata": {},
     "output_type": "execute_result"
    }
   ],
   "source": [
    "aromatic = True\n",
    "# we don't use optimized mols for pp matching eval\n",
    "optimization = False\n",
    "fn = 'reconstructed_mols' + '_aromatic_mode' if aromatic else 'reconstructed_mols'\n",
    "match_fn = fn + '_matches.pkl'\n",
    "score_fn = fn + '_scores.csv'\n",
    "match_file = os.path.join(root_path, match_fn)\n",
    "score_file = os.path.join(root_path, score_fn)\n",
    "match_file"
   ]
  },
  {
   "cell_type": "code",
   "execution_count": 7,
   "id": "26a7e2c5-a365-45f1-b45d-467b7a5e1e1f",
   "metadata": {},
   "outputs": [],
   "source": [
    "gen_path = os.path.join(root_path, 'reconstructed_mols')\n",
    "gen_path = gen_path + '_aromatic_mode' if aromatic else gen_path\n",
    "gen_path = gen_path + '_optimized' if optimization else gen_path"
   ]
  },
  {
   "cell_type": "code",
   "execution_count": 8,
   "id": "d5bc8d65-793b-4f62-b691-e41f2dda2ce1",
   "metadata": {},
   "outputs": [],
   "source": [
    "with open(match_file, 'rb') as f:\n",
    "    match_dict = pickle.load(f)"
   ]
  },
  {
   "cell_type": "code",
   "execution_count": 11,
   "id": "acdece7f-6af2-4916-85de-ad839aeb8f4c",
   "metadata": {
    "scrolled": true
   },
   "outputs": [],
   "source": [
    "if 'ligand_based' in root_path:\n",
    "    pp_info_file = '../../data/cleaned_crossdocked_data/metadata_HDBSCAN_non_filtered/test_pp_info.pkl'\n",
    "else:\n",
    "    pp_info_file = '../../data/cleaned_crossdocked_data/metadata/test_pp_info.pkl'\n",
    "# pp_info_file = '../../data/cleaned_crossdocked_data/metadata/test_pp_info.pkl'\n",
    "with open(pp_info_file, 'rb') as f:\n",
    "    pp_info = pickle.load(f)\n",
    "\n",
    "# pp_info"
   ]
  },
  {
   "cell_type": "code",
   "execution_count": 21,
   "id": "13cc22e4-ed0e-4d29-ac35-e40cb18f4ff9",
   "metadata": {},
   "outputs": [
    {
     "data": {
      "text/plain": [
       "{'pp_atom_indices': [[[10, 11, 13, 14, 15, 16],\n",
       "   [18, 19, 20, 21, 22],\n",
       "   [3],\n",
       "   [5],\n",
       "   [12],\n",
       "   [24],\n",
       "   [26],\n",
       "   [1],\n",
       "   [9],\n",
       "   [25]]],\n",
       " 'pp_positions': [tensor([[ 0.9349,  0.1075,  4.4609],\n",
       "          [ 0.8786,  0.0342, -3.3430],\n",
       "          [-3.3192, -2.6045,  0.1178],\n",
       "          [-2.9197, -0.9984,  2.2034],\n",
       "          [ 2.7342,  2.1483,  4.9056],\n",
       "          [-0.8664,  2.8646, -4.2189],\n",
       "          [ 1.1312,  1.9272, -5.8616],\n",
       "          [-0.1894, -1.7576, -0.0138],\n",
       "          [ 1.7729,  1.2491,  2.0429],\n",
       "          [-1.5090,  1.5094, -6.3701]])],\n",
       " 'pp_types': [tensor([[0., 0., 1., 0., 0., 0., 0., 0.],\n",
       "          [0., 0., 0., 0., 1., 0., 0., 0.],\n",
       "          [0., 0., 0., 0., 0., 1., 0., 0.],\n",
       "          [0., 0., 0., 0., 0., 1., 0., 0.],\n",
       "          [0., 0., 0., 0., 0., 1., 0., 0.],\n",
       "          [0., 0., 0., 0., 0., 1., 0., 0.],\n",
       "          [0., 0., 0., 0., 0., 1., 0., 0.],\n",
       "          [0., 0., 0., 0., 0., 0., 1., 0.],\n",
       "          [0., 0., 0., 0., 0., 0., 1., 0.],\n",
       "          [0., 0., 0., 0., 0., 0., 1., 0.]])],\n",
       " 'pp_index': [tensor([0, 1, 2, 3, 4, 5, 6, 7, 8, 9])],\n",
       " 'node_pp_index': [tensor([-1,  7, -1,  2, -1,  3, -1, -1, -1,  8,  0,  0,  4,  0,  0,  0,  0, -1,\n",
       "           1,  1,  1,  1,  1, -1,  5,  9,  6])]}"
      ]
     },
     "execution_count": 21,
     "metadata": {},
     "output_type": "execute_result"
    }
   ],
   "source": [
    "pp_info['4yur_A_rec_3cok_anp_lig_tt_min_0']"
   ]
  },
  {
   "cell_type": "code",
   "execution_count": 12,
   "id": "40db3d59-7d9b-4871-9c16-b4705fd12644",
   "metadata": {},
   "outputs": [
    {
     "name": "stdout",
     "output_type": "stream",
     "text": [
      "use processed_HDBSCAN_non_filtered\n",
      "use processed_HDBSCAN_non_filtered\n",
      "use processed_HDBSCAN_non_filtered\n",
      "use processed_HDBSCAN_non_filtered\n",
      "use processed_HDBSCAN_non_filtered\n"
     ]
    },
    {
     "name": "stderr",
     "output_type": "stream",
     "text": [
      "100%|██████████████████████████████████████████████████████████████████████| 15235/15235 [00:02<00:00, 7480.24it/s]\n"
     ]
    }
   ],
   "source": [
    "test_dataset = load_dataset('CombinedSparseGraphDataset', '../../data/cleaned_crossdocked_data', split='test', aromatic=aromatic)\n",
    "pp_info = center2zero(pp_info, test_dataset)"
   ]
  },
  {
   "cell_type": "code",
   "execution_count": 13,
   "id": "dacb5d0c-b9b5-4d5e-a72a-0b4a174e5ae8",
   "metadata": {},
   "outputs": [],
   "source": [
    "pp_info = dict(pp_info)"
   ]
  },
  {
   "cell_type": "code",
   "execution_count": 14,
   "id": "fbed8b5c-70f7-44c2-a2b5-6935cbb1b5b5",
   "metadata": {},
   "outputs": [
    {
     "data": {
      "text/plain": [
       "15235"
      ]
     },
     "execution_count": 14,
     "metadata": {},
     "output_type": "execute_result"
    }
   ],
   "source": [
    "len(test_dataset)"
   ]
  },
  {
   "cell_type": "code",
   "execution_count": 15,
   "id": "6e2e2727-1d79-4edf-88a2-f4628233f2a2",
   "metadata": {},
   "outputs": [
    {
     "data": {
      "text/plain": [
       "14835"
      ]
     },
     "execution_count": 15,
     "metadata": {},
     "output_type": "execute_result"
    }
   ],
   "source": [
    "lig_list = [file.split('.')[0] for file in os.listdir(gen_path)]\n",
    "len(lig_list)"
   ]
  },
  {
   "cell_type": "code",
   "execution_count": 16,
   "id": "947cef6a-fa21-4f57-985d-850f032d39dd",
   "metadata": {},
   "outputs": [],
   "source": [
    "def check_match_aromatic(pp_types, pp_positions, ref_pp_info, lig, threshold=1.5):\n",
    "    pps = pp_types\n",
    "    ref_pps = np.argmax(ref_pp_info['pp_types'].numpy(), axis=-1)\n",
    "    ref_pp_positions = ref_pp_info['pp_positions'].numpy()\n",
    "\n",
    "    match = np.zeros_like(ref_pps)\n",
    "    aro_match = False\n",
    "    for i, ref_pp in enumerate(ref_pps):\n",
    "        ref_pos = ref_pp_positions[i]\n",
    "        for j, pp in enumerate(pps):\n",
    "            if type(pp) == list:\n",
    "                for pp_ in pp:\n",
    "                    if pp_ == ref_pp:\n",
    "                        pos = pp_positions[j]\n",
    "                        dist = np.sqrt(np.sum((pos - ref_pos) ** 2))\n",
    "                        if dist < threshold:\n",
    "                            match[i] = 1\n",
    "                            if pp_ == 2:\n",
    "                                print(lig)\n",
    "                                aro_match = True\n",
    "                            continue\n",
    "                            # match[i] += 1\n",
    "            else:\n",
    "                if pp == ref_pp:\n",
    "                    pos = pp_positions[j]\n",
    "                    dist = np.sqrt(np.sum((pos - ref_pos) ** 2))\n",
    "                    if dist < threshold:\n",
    "                        match[i] = 1\n",
    "                        if pp == 2:\n",
    "                            print(lig)\n",
    "                            aro_match = True\n",
    "                        continue\n",
    "                        # match[i] += 1\n",
    "    return match, aro_match"
   ]
  },
  {
   "cell_type": "code",
   "execution_count": 17,
   "id": "2f6b866c-1cbd-4595-8083-f17f5f03e564",
   "metadata": {},
   "outputs": [],
   "source": [
    "def compute_matching_scores(generated_path, pp_info, threshold=1.5):\n",
    "    score_dict = {}\n",
    "    match_dict = {}\n",
    "    aro_match_l = []\n",
    "    for file in tqdm(os.listdir(generated_path)):\n",
    "        lig = file.split('.')[0]\n",
    "        mol_path = os.path.join(generated_path, lig+'.sdf')\n",
    "        rdmol = Chem.MolFromMolFile(mol_path, sanitize=True)\n",
    "        pbmol = next(pybel.readfile(\"sdf\", mol_path))\n",
    "        try:\n",
    "            rdmol = Chem.AddHs(rdmol)\n",
    "            ligand = Ligand(pbmol, rdmol, atom_positions=None, conformer_axis=None, filtering=False, preprocess=False)\n",
    "        except:\n",
    "            print('ligand init failed')\n",
    "            continue\n",
    "        pp_atom_indices, pp_positions, pp_types, pp_index = extract_all_pp(ligand)\n",
    "        \n",
    "        ref_pp_info = pp_info[lig]\n",
    "        if not all(k in list(ref_pp_info.keys()) for k in ['pp_types', 'pp_positions']):\n",
    "            print(ref_pp_info)\n",
    "            continue\n",
    "        if isinstance(ref_pp_info['pp_types'], list):\n",
    "            # print(ref_pp_info)\n",
    "            ref_pp_info = {k:v[-1] for k, v in ref_pp_info.items()}     # To address the iterated list issue, for now we use the last element (which is appended to the list at last). TODO: fix this in the data processing script\n",
    "        \n",
    "        match, aro_match = check_match_aromatic(pp_types, pp_positions, ref_pp_info, lig, threshold=threshold)\n",
    "        match_dict[lig] = match\n",
    "        score = np.mean(match)\n",
    "        score_dict[lig] = score\n",
    "        if aro_match:\n",
    "            aro_match_l.append(lig)\n",
    "\n",
    "    return match_dict, score_dict, aro_match_l"
   ]
  },
  {
   "cell_type": "code",
   "execution_count": 18,
   "id": "0bc76f34-e15f-47c6-8234-4d623f2d03cf",
   "metadata": {
    "scrolled": true
   },
   "outputs": [
    {
     "name": "stderr",
     "output_type": "stream",
     "text": [
      "  1%|▊                                                                        | 156/14835 [00:00<00:46, 312.61it/s]"
     ]
    },
    {
     "name": "stdout",
     "output_type": "stream",
     "text": [
      "4yur_A_rec_3cok_anp_lig_tt_min_0\n"
     ]
    },
    {
     "name": "stderr",
     "output_type": "stream",
     "text": [
      "  4%|██▊                                                                      | 571/14835 [00:01<00:45, 311.14it/s]"
     ]
    },
    {
     "name": "stdout",
     "output_type": "stream",
     "text": [
      "3nbq_B_rec_3nbq_urf_lig_tt_docked_2\n"
     ]
    },
    {
     "name": "stderr",
     "output_type": "stream",
     "text": [
      "  4%|██▉                                                                      | 604/14835 [00:01<00:45, 316.20it/s]"
     ]
    },
    {
     "name": "stdout",
     "output_type": "stream",
     "text": [
      "4gi4_A_rec_1s38_maq_lig_tt_min_0\n"
     ]
    },
    {
     "name": "stderr",
     "output_type": "stream",
     "text": [
      "  5%|███▊                                                                     | 765/14835 [00:03<01:10, 200.13it/s]"
     ]
    },
    {
     "name": "stdout",
     "output_type": "stream",
     "text": [
      "3p1c_B_rec_3p1f_3pf_lig_tt_min_0\n"
     ]
    },
    {
     "name": "stderr",
     "output_type": "stream",
     "text": [
      "  6%|████                                                                     | 826/14835 [00:03<01:00, 233.46it/s][20:14:04] Explicit valence for atom # 3 N, 4, is greater than permitted\n",
      "  6%|████▎                                                                    | 889/14835 [00:03<00:52, 265.16it/s]"
     ]
    },
    {
     "name": "stdout",
     "output_type": "stream",
     "text": [
      "ligand init failed\n"
     ]
    },
    {
     "name": "stderr",
     "output_type": "stream",
     "text": [
      "  7%|█████                                                                   | 1045/14835 [00:04<00:45, 300.98it/s]"
     ]
    },
    {
     "name": "stdout",
     "output_type": "stream",
     "text": [
      "1pw7_A_rec_1oty_6mp_lig_tt_min_0\n"
     ]
    },
    {
     "name": "stderr",
     "output_type": "stream",
     "text": [
      "  8%|█████▌                                                                  | 1152/14835 [00:04<00:40, 334.00it/s]"
     ]
    },
    {
     "name": "stdout",
     "output_type": "stream",
     "text": [
      "5swg_A_rec_5swt_71a_lig_tt_min_0\n",
      "4np3_A_rec_4np3_2l2_lig_tt_min_0\n"
     ]
    },
    {
     "name": "stderr",
     "output_type": "stream",
     "text": [
      "  8%|█████▉                                                                  | 1225/14835 [00:04<00:39, 340.72it/s][20:14:05] atom 12 has specified valence (1) smaller than the drawn valence 2.\n",
      "==============================\n",
      "*** Open Babel Warning  in ReadMolecule\n",
      "  WARNING: Problem interpreting the valence field of an atom\n",
      "The valence field specifies a valence 1 that is\n",
      "less than the observed explicit valence 2.\n",
      "\n",
      "  9%|██████▊                                                                 | 1397/14835 [00:05<00:42, 315.85it/s][20:14:06] Explicit valence for atom # 3 N, 4, is greater than permitted\n",
      " 10%|███████▏                                                                | 1469/14835 [00:05<00:40, 327.91it/s]"
     ]
    },
    {
     "name": "stdout",
     "output_type": "stream",
     "text": [
      "ligand init failed\n",
      "4q4s_A_rec_1p0b_pq0_lig_tt_min_0\n"
     ]
    },
    {
     "name": "stderr",
     "output_type": "stream",
     "text": [
      " 11%|███████▌                                                                | 1567/14835 [00:05<00:41, 319.54it/s]"
     ]
    },
    {
     "name": "stdout",
     "output_type": "stream",
     "text": [
      "4np3_A_rec_4np2_2l1_lig_tt_min_0\n"
     ]
    },
    {
     "name": "stderr",
     "output_type": "stream",
     "text": [
      " 11%|███████▉                                                                | 1638/14835 [00:06<00:39, 336.68it/s][20:14:06] Explicit valence for atom # 12 N, 4, is greater than permitted\n",
      " 11%|████████▎                                                               | 1706/14835 [00:06<00:39, 336.07it/s]"
     ]
    },
    {
     "name": "stdout",
     "output_type": "stream",
     "text": [
      "ligand init failed\n"
     ]
    },
    {
     "name": "stderr",
     "output_type": "stream",
     "text": [
      " 12%|████████▊                                                               | 1810/14835 [00:06<00:38, 334.11it/s][20:14:07] Explicit valence for atom # 3 N, 4, is greater than permitted\n",
      " 12%|████████▉                                                               | 1846/14835 [00:06<00:38, 341.37it/s][20:14:07] atom 9 has specified valence (1) smaller than the drawn valence 2.\n",
      "[20:14:07] atom 10 has specified valence (4) smaller than the drawn valence 5.\n",
      "==============================\n",
      "*** Open Babel Warning  in ReadMolecule\n",
      "  WARNING: Problem interpreting the valence field of an atom\n",
      "The valence field specifies a valence 1 that is\n",
      "less than the observed explicit valence 2.\n",
      "\n",
      "==============================\n",
      "*** Open Babel Warning  in ReadMolecule\n",
      "  WARNING: Problem interpreting the valence field of an atom\n",
      "The valence field specifies a valence 1 that is\n",
      "less than the observed explicit valence 2.\n",
      "WARNING: Problem interpreting the valence field of an atom\n",
      "The valence field specifies a valence 4 that is\n",
      "less than the observed explicit valence 5.\n",
      "\n",
      " 13%|█████████▏                                                              | 1883/14835 [00:06<00:37, 348.91it/s]"
     ]
    },
    {
     "name": "stdout",
     "output_type": "stream",
     "text": [
      "ligand init failed\n",
      "5eyc_A_rec_3i5n_b2d_lig_tt_docked_0\n",
      "5bzf_A_rec_4np2_2l1_lig_tt_min_0\n"
     ]
    },
    {
     "name": "stderr",
     "output_type": "stream",
     "text": [
      " 13%|█████████▌                                                              | 1960/14835 [00:07<00:35, 358.39it/s][20:14:07] Explicit valence for atom # 20 N, 4, is greater than permitted\n",
      " 14%|█████████▉                                                              | 2035/14835 [00:07<00:35, 356.47it/s]"
     ]
    },
    {
     "name": "stdout",
     "output_type": "stream",
     "text": [
      "4gg9_A_rec_1s38_maq_lig_tt_min_0\n",
      "ligand init failed\n"
     ]
    },
    {
     "name": "stderr",
     "output_type": "stream",
     "text": [
      " 14%|██████████▎                                                             | 2112/14835 [00:08<01:36, 131.46it/s]"
     ]
    },
    {
     "name": "stdout",
     "output_type": "stream",
     "text": [
      "5lpq_A_rec_1s38_maq_lig_tt_min_0\n",
      "3euf_A_rec_3nbq_urf_lig_tt_min_0\n"
     ]
    },
    {
     "name": "stderr",
     "output_type": "stream",
     "text": [
      " 16%|███████████▋                                                            | 2399/14835 [00:09<00:38, 323.87it/s]"
     ]
    },
    {
     "name": "stdout",
     "output_type": "stream",
     "text": [
      "2vce_A_rec_2vce_tc7_lig_tt_docked_0\n"
     ]
    },
    {
     "name": "stderr",
     "output_type": "stream",
     "text": [
      " 18%|████████████▊                                                           | 2641/14835 [00:09<00:38, 314.32it/s]"
     ]
    },
    {
     "name": "stdout",
     "output_type": "stream",
     "text": [
      "4xud_A_rec_5lsa_dnc_lig_tt_docked_2\n"
     ]
    },
    {
     "name": "stderr",
     "output_type": "stream",
     "text": [
      " 18%|█████████████▏                                                          | 2710/14835 [00:10<00:39, 304.49it/s]"
     ]
    },
    {
     "name": "stdout",
     "output_type": "stream",
     "text": [
      "3nvw_C_rec_3nvw_gun_lig_tt_min_0\n"
     ]
    },
    {
     "name": "stderr",
     "output_type": "stream",
     "text": [
      "[20:14:11] Explicit valence for atom # 7 N, 4, is greater than permitted\n",
      " 19%|█████████████▍                                                          | 2776/14835 [00:10<00:38, 315.12it/s]"
     ]
    },
    {
     "name": "stdout",
     "output_type": "stream",
     "text": [
      "ligand init failed\n",
      "1eoc_A_rec_2buz_4nc_lig_tt_docked_4\n"
     ]
    },
    {
     "name": "stderr",
     "output_type": "stream",
     "text": [
      " 20%|██████████████▋                                                         | 3036/14835 [00:11<00:32, 363.84it/s]"
     ]
    },
    {
     "name": "stdout",
     "output_type": "stream",
     "text": [
      "4deh_A_rec_3i5n_b2d_lig_tt_docked_0\n",
      "1y5x_A_rec_4puk_2wu_lig_tt_min_0\n"
     ]
    },
    {
     "name": "stderr",
     "output_type": "stream",
     "text": [
      " 21%|███████████████▍                                                        | 3179/14835 [00:11<00:34, 337.31it/s][20:14:12] Explicit valence for atom # 17 N, 4, is greater than permitted\n",
      " 22%|███████████████▊                                                        | 3247/14835 [00:11<00:35, 325.18it/s]"
     ]
    },
    {
     "name": "stdout",
     "output_type": "stream",
     "text": [
      "ligand init failed\n",
      "5egr_A_rec_1f3e_dpz_lig_tt_min_0\n"
     ]
    },
    {
     "name": "stderr",
     "output_type": "stream",
     "text": [
      "[20:14:12] Explicit valence for atom # 3 N, 4, is greater than permitted\n",
      " 23%|████████████████▎                                                       | 3356/14835 [00:12<00:34, 337.36it/s]"
     ]
    },
    {
     "name": "stdout",
     "output_type": "stream",
     "text": [
      "ligand init failed\n",
      "5bzq_A_rec_5bzi_4wu_lig_tt_min_0\n"
     ]
    },
    {
     "name": "stderr",
     "output_type": "stream",
     "text": [
      "[20:14:12] Explicit valence for atom # 0 N, 4, is greater than permitted\n",
      " 23%|████████████████▋                                                       | 3432/14835 [00:12<00:32, 350.62it/s]"
     ]
    },
    {
     "name": "stdout",
     "output_type": "stream",
     "text": [
      "ligand init failed\n",
      "2bur_A_rec_1eoc_4nc_lig_tt_min_0\n",
      "1k4h_A_rec_1p0b_pq0_lig_tt_docked_0\n"
     ]
    },
    {
     "name": "stderr",
     "output_type": "stream",
     "text": [
      " 24%|█████████████████▏                                                      | 3542/14835 [00:12<00:31, 353.88it/s]"
     ]
    },
    {
     "name": "stdout",
     "output_type": "stream",
     "text": [
      "5egr_A_rec_1s38_maq_lig_tt_docked_0\n",
      "4nyw_A_rec_4yk0_98_lig_tt_min_0\n"
     ]
    },
    {
     "name": "stderr",
     "output_type": "stream",
     "text": [
      " 25%|█████████████████▋                                                      | 3642/14835 [00:13<01:18, 143.19it/s]"
     ]
    },
    {
     "name": "stdout",
     "output_type": "stream",
     "text": [
      "3c2y_A_rec_1s38_maq_lig_tt_min_0\n"
     ]
    },
    {
     "name": "stderr",
     "output_type": "stream",
     "text": [
      " 25%|█████████████████▊                                                      | 3680/14835 [00:13<01:02, 179.08it/s][20:14:14] Explicit valence for atom # 33 N, 4, is greater than permitted\n",
      " 26%|██████████████████▍                                                     | 3790/14835 [00:14<00:41, 267.51it/s]"
     ]
    },
    {
     "name": "stdout",
     "output_type": "stream",
     "text": [
      "ligand init failed\n"
     ]
    },
    {
     "name": "stderr",
     "output_type": "stream",
     "text": [
      " 26%|██████████████████▉                                                     | 3913/14835 [00:14<00:33, 323.52it/s]"
     ]
    },
    {
     "name": "stdout",
     "output_type": "stream",
     "text": [
      "1eob_A_rec_2buz_4nc_lig_tt_min_0\n"
     ]
    },
    {
     "name": "stderr",
     "output_type": "stream",
     "text": [
      " 27%|███████████████████▌                                                    | 4030/14835 [00:14<00:32, 336.67it/s][20:14:15] Explicit valence for atom # 12 N, 4, is greater than permitted\n",
      " 28%|███████████████████▉                                                    | 4104/14835 [00:15<00:31, 336.78it/s]"
     ]
    },
    {
     "name": "stdout",
     "output_type": "stream",
     "text": [
      "ligand init failed\n"
     ]
    },
    {
     "name": "stderr",
     "output_type": "stream",
     "text": [
      "[20:14:16] Explicit valence for atom # 7 N, 4, is greater than permitted\n",
      " 28%|████████████████████▎                                                   | 4181/14835 [00:15<00:30, 348.04it/s]"
     ]
    },
    {
     "name": "stdout",
     "output_type": "stream",
     "text": [
      "ligand init failed\n",
      "4mrg_A_rec_5bzf_4x3_lig_tt_docked_2\n"
     ]
    },
    {
     "name": "stderr",
     "output_type": "stream",
     "text": [
      " 28%|████████████████████▍                                                   | 4217/14835 [00:15<00:30, 350.33it/s][20:14:16] Explicit valence for atom # 7 N, 4, is greater than permitted\n",
      "[20:14:16] atom 22 has specified valence (2) smaller than the drawn valence 3.\n",
      "==============================\n",
      "*** Open Babel Warning  in ReadMolecule\n",
      "  WARNING: Problem interpreting the valence field of an atom\n",
      "The valence field specifies a valence 2 that is\n",
      "less than the observed explicit valence 3.\n",
      "\n",
      " 29%|████████████████████▊                                                   | 4298/14835 [00:15<00:28, 372.62it/s]"
     ]
    },
    {
     "name": "stdout",
     "output_type": "stream",
     "text": [
      "ligand init failed\n",
      "4xuc_A_rec_5lsa_dnc_lig_tt_min_0\n"
     ]
    },
    {
     "name": "stderr",
     "output_type": "stream",
     "text": [
      " 30%|█████████████████████▍                                                  | 4411/14835 [00:15<00:28, 360.30it/s][20:14:16] atom 23 has specified valence (4) smaller than the drawn valence 5.\n",
      "[20:14:16] atom 24 has specified valence (1) smaller than the drawn valence 2.\n",
      "==============================\n",
      "*** Open Babel Warning  in ReadMolecule\n",
      "  WARNING: Problem interpreting the valence field of an atom\n",
      "The valence field specifies a valence 4 that is\n",
      "less than the observed explicit valence 5.\n",
      "\n",
      "==============================\n",
      "*** Open Babel Warning  in ReadMolecule\n",
      "  WARNING: Problem interpreting the valence field of an atom\n",
      "The valence field specifies a valence 4 that is\n",
      "less than the observed explicit valence 5.\n",
      "WARNING: Problem interpreting the valence field of an atom\n",
      "The valence field specifies a valence 1 that is\n",
      "less than the observed explicit valence 2.\n",
      "\n",
      " 30%|█████████████████████▊                                                  | 4486/14835 [00:16<00:28, 361.47it/s]"
     ]
    },
    {
     "name": "stdout",
     "output_type": "stream",
     "text": [
      "1kwc_B_rec_1eir_bpy_lig_tt_min_0\n",
      "2vce_A_rec_2vce_tc7_lig_tt_min_0\n"
     ]
    },
    {
     "name": "stderr",
     "output_type": "stream",
     "text": [
      " 30%|█████████████████████▉                                                  | 4523/14835 [00:16<00:29, 348.66it/s][20:14:17] Explicit valence for atom # 2 N, 4, is greater than permitted\n",
      " 31%|██████████████████████▎                                                 | 4595/14835 [00:16<00:29, 350.75it/s]"
     ]
    },
    {
     "name": "stdout",
     "output_type": "stream",
     "text": [
      "ligand init failed\n"
     ]
    },
    {
     "name": "stderr",
     "output_type": "stream",
     "text": [
      "[20:14:17] atom 0 has specified valence (1) smaller than the drawn valence 2.\n",
      "[20:14:17] atom 3 has specified valence (4) smaller than the drawn valence 5.\n",
      "==============================\n",
      "*** Open Babel Warning  in ReadMolecule\n",
      "  WARNING: Problem interpreting the valence field of an atom\n",
      "The valence field specifies a valence 1 that is\n",
      "less than the observed explicit valence 2.\n",
      "\n",
      "==============================\n",
      "*** Open Babel Warning  in ReadMolecule\n",
      "  WARNING: Problem interpreting the valence field of an atom\n",
      "The valence field specifies a valence 1 that is\n",
      "less than the observed explicit valence 2.\n",
      "WARNING: Problem interpreting the valence field of an atom\n",
      "The valence field specifies a valence 4 that is\n",
      "less than the observed explicit valence 5.\n",
      "\n",
      " 32%|██████████████████████▊                                                 | 4705/14835 [00:16<00:29, 348.45it/s]"
     ]
    },
    {
     "name": "stdout",
     "output_type": "stream",
     "text": [
      "5mme_A_rec_4nr4_2lk_lig_tt_min_0\n"
     ]
    },
    {
     "name": "stderr",
     "output_type": "stream",
     "text": [
      " 32%|███████████████████████                                                 | 4742/14835 [00:16<00:28, 353.59it/s][20:14:17] Explicit valence for atom # 11 N, 4, is greater than permitted\n",
      " 32%|███████████████████████▏                                                | 4778/14835 [00:17<00:28, 353.73it/s]"
     ]
    },
    {
     "name": "stdout",
     "output_type": "stream",
     "text": [
      "5eob_A_rec_4ap7_f47_lig_tt_docked_0\n",
      "1y5v_A_rec_1f3e_dpz_lig_tt_min_0\n",
      "ligand init failed\n"
     ]
    },
    {
     "name": "stderr",
     "output_type": "stream",
     "text": [
      " 33%|███████████████████████▋                                                | 4892/14835 [00:17<00:27, 362.90it/s]"
     ]
    },
    {
     "name": "stdout",
     "output_type": "stream",
     "text": [
      "5bzc_A_rec_4mre_2c9_lig_tt_min_0\n",
      "4q4o_A_rec_1enu_apz_lig_tt_min_0\n"
     ]
    },
    {
     "name": "stderr",
     "output_type": "stream",
     "text": [
      " 34%|████████████████████████▏                                               | 4971/14835 [00:17<00:26, 377.02it/s][20:14:18] atom 23 has specified valence (4) smaller than the drawn valence 5.\n",
      "[20:14:18] atom 24 has specified valence (1) smaller than the drawn valence 2.\n",
      "==============================\n",
      "*** Open Babel Warning  in ReadMolecule\n",
      "  WARNING: Problem interpreting the valence field of an atom\n",
      "The valence field specifies a valence 4 that is\n",
      "less than the observed explicit valence 5.\n",
      "\n",
      "==============================\n",
      "*** Open Babel Warning  in ReadMolecule\n",
      "  WARNING: Problem interpreting the valence field of an atom\n",
      "The valence field specifies a valence 4 that is\n",
      "less than the observed explicit valence 5.\n",
      "WARNING: Problem interpreting the valence field of an atom\n",
      "The valence field specifies a valence 1 that is\n",
      "less than the observed explicit valence 2.\n",
      "\n",
      " 34%|████████████████████████▎                                               | 5010/14835 [00:17<00:25, 380.23it/s]"
     ]
    },
    {
     "name": "stdout",
     "output_type": "stream",
     "text": [
      "1eoc_A_rec_1eoc_4nc_lig_tt_min_0\n",
      "5bzj_A_rec_4np2_2l1_lig_tt_docked_10\n"
     ]
    },
    {
     "name": "stderr",
     "output_type": "stream",
     "text": [
      " 34%|████████████████████████▋                                               | 5089/14835 [00:18<01:30, 107.79it/s][20:14:19] atom 24 has specified valence (1) smaller than the drawn valence 2.\n",
      "==============================\n",
      "*** Open Babel Warning  in ReadMolecule\n",
      "  WARNING: Problem interpreting the valence field of an atom\n",
      "The valence field specifies a valence 1 that is\n",
      "less than the observed explicit valence 2.\n",
      "\n",
      " 36%|█████████████████████████▌                                              | 5274/14835 [00:19<00:38, 249.30it/s][20:14:20] Explicit valence for atom # 8 N, 4, is greater than permitted\n",
      " 36%|█████████████████████████▉                                              | 5349/14835 [00:19<00:32, 294.53it/s]"
     ]
    },
    {
     "name": "stdout",
     "output_type": "stream",
     "text": [
      "ligand init failed\n"
     ]
    },
    {
     "name": "stderr",
     "output_type": "stream",
     "text": [
      "[20:14:20] atom 23 has specified valence (4) smaller than the drawn valence 5.\n",
      "[20:14:20] atom 24 has specified valence (1) smaller than the drawn valence 2.\n",
      "[20:14:20] Explicit valence for atom # 22 N, 4, is greater than permitted\n",
      " 36%|██████████████████████████▏                                             | 5394/14835 [00:19<00:28, 331.05it/s]==============================\n",
      "*** Open Babel Warning  in ReadMolecule\n",
      "  WARNING: Problem interpreting the valence field of an atom\n",
      "The valence field specifies a valence 4 that is\n",
      "less than the observed explicit valence 5.\n",
      "\n",
      "==============================\n",
      "*** Open Babel Warning  in ReadMolecule\n",
      "  WARNING: Problem interpreting the valence field of an atom\n",
      "The valence field specifies a valence 4 that is\n",
      "less than the observed explicit valence 5.\n",
      "WARNING: Problem interpreting the valence field of an atom\n",
      "The valence field specifies a valence 1 that is\n",
      "less than the observed explicit valence 2.\n",
      "\n",
      " 37%|██████████████████████████▎                                             | 5432/14835 [00:19<00:28, 334.88it/s]"
     ]
    },
    {
     "name": "stdout",
     "output_type": "stream",
     "text": [
      "ligand init failed\n",
      "5mpz_A_rec_5mqg_f31_lig_tt_docked_3\n"
     ]
    },
    {
     "name": "stderr",
     "output_type": "stream",
     "text": [
      " 38%|███████████████████████████▋                                            | 5708/14835 [00:20<00:28, 322.43it/s]"
     ]
    },
    {
     "name": "stdout",
     "output_type": "stream",
     "text": [
      "4q4s_A_rec_4gi4_0ex_lig_tt_min_0\n",
      "4k8a_B_rec_4kab_4ka_lig_tt_min_0\n",
      "5bze_A_rec_5bzg_4x6_lig_tt_min_0\n"
     ]
    },
    {
     "name": "stderr",
     "output_type": "stream",
     "text": [
      " 39%|████████████████████████████▏                                           | 5819/14835 [00:20<00:27, 325.78it/s]"
     ]
    },
    {
     "name": "stdout",
     "output_type": "stream",
     "text": [
      "3zxz_A_rec_3cd8_l5g_lig_tt_docked_0\n"
     ]
    },
    {
     "name": "stderr",
     "output_type": "stream",
     "text": [
      " 42%|██████████████████████████████▏                                         | 6216/14835 [00:22<00:28, 304.89it/s][20:14:22] Explicit valence for atom # 12 N, 4, is greater than permitted\n",
      " 42%|██████████████████████████████▌                                         | 6285/14835 [00:22<00:26, 319.58it/s]"
     ]
    },
    {
     "name": "stdout",
     "output_type": "stream",
     "text": [
      "ligand init failed\n"
     ]
    },
    {
     "name": "stderr",
     "output_type": "stream",
     "text": [
      " 43%|███████████████████████████████▏                                        | 6421/14835 [00:22<00:25, 331.72it/s][20:14:23] atom 0 has specified valence (4) smaller than the drawn valence 5.\n",
      "[20:14:23] atom 2 has specified valence (1) smaller than the drawn valence 2.\n",
      "==============================\n",
      "*** Open Babel Warning  in ReadMolecule\n",
      "  WARNING: Problem interpreting the valence field of an atom\n",
      "The valence field specifies a valence 4 that is\n",
      "less than the observed explicit valence 5.\n",
      "\n",
      "==============================\n",
      "*** Open Babel Warning  in ReadMolecule\n",
      "  WARNING: Problem interpreting the valence field of an atom\n",
      "The valence field specifies a valence 4 that is\n",
      "less than the observed explicit valence 5.\n",
      "WARNING: Problem interpreting the valence field of an atom\n",
      "The valence field specifies a valence 1 that is\n",
      "less than the observed explicit valence 2.\n",
      "\n",
      " 44%|███████████████████████████████▎                                        | 6459/14835 [00:22<00:24, 339.91it/s]"
     ]
    },
    {
     "name": "stdout",
     "output_type": "stream",
     "text": [
      "4q4o_A_rec_1f3e_dpz_lig_tt_min_0\n"
     ]
    },
    {
     "name": "stderr",
     "output_type": "stream",
     "text": [
      " 44%|███████████████████████████████▊                                        | 6563/14835 [00:23<00:25, 330.45it/s]"
     ]
    },
    {
     "name": "stdout",
     "output_type": "stream",
     "text": [
      "4q8w_A_rec_1f3e_dpz_lig_tt_min_0\n",
      "5jsw_A_rec_1enu_apz_lig_tt_min_0\n"
     ]
    },
    {
     "name": "stderr",
     "output_type": "stream",
     "text": [
      " 46%|█████████████████████████████████▎                                      | 6854/14835 [00:24<00:31, 252.72it/s][20:14:25] Explicit valence for atom # 2 N, 4, is greater than permitted\n",
      " 46%|█████████████████████████████████▍                                      | 6890/14835 [00:25<00:28, 276.15it/s]"
     ]
    },
    {
     "name": "stdout",
     "output_type": "stream",
     "text": [
      "3ns1_L_rec_3ns1_pm6_lig_tt_min_0\n",
      "ligand init failed\n"
     ]
    },
    {
     "name": "stderr",
     "output_type": "stream",
     "text": [
      " 47%|█████████████████████████████████▉                                      | 6997/14835 [00:25<00:25, 313.48it/s]"
     ]
    },
    {
     "name": "stdout",
     "output_type": "stream",
     "text": [
      "4mrg_A_rec_5bzg_4x6_lig_tt_min_0\n"
     ]
    },
    {
     "name": "stderr",
     "output_type": "stream",
     "text": [
      " 48%|██████████████████████████████████▌                                     | 7114/14835 [00:25<00:21, 354.46it/s]"
     ]
    },
    {
     "name": "stdout",
     "output_type": "stream",
     "text": [
      "5i86_B_rec_4yk0_98_lig_tt_min_0\n",
      "4gh1_A_rec_1f3e_dpz_lig_tt_min_0\n",
      "ligand init failed\n"
     ]
    },
    {
     "name": "stderr",
     "output_type": "stream",
     "text": [
      "[20:14:26] Explicit valence for atom # 2 N, 4, is greater than permitted\n",
      " 49%|███████████████████████████████████                                     | 7230/14835 [00:26<00:20, 367.99it/s][20:14:26] Explicit valence for atom # 13 N, 4, is greater than permitted\n",
      " 49%|███████████████████████████████████▍                                    | 7305/14835 [00:26<00:21, 355.37it/s]"
     ]
    },
    {
     "name": "stdout",
     "output_type": "stream",
     "text": [
      "3sr6_C_rec_3ns1_pm6_lig_tt_min_0\n",
      "ligand init failed\n"
     ]
    },
    {
     "name": "stderr",
     "output_type": "stream",
     "text": [
      " 51%|████████████████████████████████████▍                                   | 7517/14835 [00:26<00:23, 316.39it/s]"
     ]
    },
    {
     "name": "stdout",
     "output_type": "stream",
     "text": [
      "4q8u_A_rec_1f3e_dpz_lig_tt_min_0\n"
     ]
    },
    {
     "name": "stderr",
     "output_type": "stream",
     "text": [
      " 52%|█████████████████████████████████████▍                                  | 7708/14835 [00:27<00:19, 363.24it/s][20:14:28] Explicit valence for atom # 4 N, 4, is greater than permitted\n",
      " 52%|█████████████████████████████████████▊                                  | 7781/14835 [00:27<00:20, 345.31it/s]"
     ]
    },
    {
     "name": "stdout",
     "output_type": "stream",
     "text": [
      "ligand init failed\n"
     ]
    },
    {
     "name": "stderr",
     "output_type": "stream",
     "text": [
      " 53%|██████████████████████████████████████▎                                 | 7884/14835 [00:27<00:23, 301.82it/s]"
     ]
    },
    {
     "name": "stdout",
     "output_type": "stream",
     "text": [
      "2qzr_A_rec_1s38_maq_lig_tt_min_0\n"
     ]
    },
    {
     "name": "stderr",
     "output_type": "stream",
     "text": [
      " 53%|██████████████████████████████████████▍                                 | 7921/14835 [00:28<00:21, 317.89it/s][20:14:28] Explicit valence for atom # 16 N, 4, is greater than permitted\n",
      " 54%|██████████████████████████████████████▊                                 | 7997/14835 [00:28<00:19, 345.68it/s]"
     ]
    },
    {
     "name": "stdout",
     "output_type": "stream",
     "text": [
      "ligand init failed\n"
     ]
    },
    {
     "name": "stderr",
     "output_type": "stream",
     "text": [
      " 55%|███████████████████████████████████████▉                                | 8217/14835 [00:28<00:21, 311.32it/s]"
     ]
    },
    {
     "name": "stdout",
     "output_type": "stream",
     "text": [
      "4q4p_A_rec_1f3e_dpz_lig_tt_min_0\n"
     ]
    },
    {
     "name": "stderr",
     "output_type": "stream",
     "text": [
      " 56%|████████████████████████████████████████▎                               | 8317/14835 [00:30<00:50, 128.04it/s]"
     ]
    },
    {
     "name": "stdout",
     "output_type": "stream",
     "text": [
      "4gi4_A_rec_1f3e_dpz_lig_tt_min_0\n",
      "4rl2_B_rec_4eyf_pnk_lig_tt_docked_0\n",
      "5eob_A_rec_3i5n_b2d_lig_tt_docked_0\n"
     ]
    },
    {
     "name": "stderr",
     "output_type": "stream",
     "text": [
      " 57%|████████████████████████████████████████▉                               | 8440/14835 [00:30<00:29, 219.66it/s]"
     ]
    },
    {
     "name": "stdout",
     "output_type": "stream",
     "text": [
      "2buq_A_rec_2buz_4nc_lig_tt_min_0\n",
      "4ts8_A_rec_4yk0_98_lig_tt_min_0\n"
     ]
    },
    {
     "name": "stderr",
     "output_type": "stream",
     "text": [
      " 58%|█████████████████████████████████████████▉                              | 8652/14835 [00:31<00:18, 329.75it/s][20:14:32] atom 0 has specified valence (1) smaller than the drawn valence 2.\n",
      "[20:14:32] atom 4 has specified valence (4) smaller than the drawn valence 5.\n",
      "==============================\n",
      "*** Open Babel Warning  in ReadMolecule\n",
      "  WARNING: Problem interpreting the valence field of an atom\n",
      "The valence field specifies a valence 1 that is\n",
      "less than the observed explicit valence 2.\n",
      "\n",
      "==============================\n",
      "*** Open Babel Warning  in ReadMolecule\n",
      "  WARNING: Problem interpreting the valence field of an atom\n",
      "The valence field specifies a valence 1 that is\n",
      "less than the observed explicit valence 2.\n",
      "WARNING: Problem interpreting the valence field of an atom\n",
      "The valence field specifies a valence 4 that is\n",
      "less than the observed explicit valence 5.\n",
      "\n",
      " 59%|██████████████████████████████████████████▏                             | 8687/14835 [00:31<00:18, 327.90it/s]"
     ]
    },
    {
     "name": "stdout",
     "output_type": "stream",
     "text": [
      "1ozm_A_rec_1f3e_dpz_lig_tt_docked_1\n"
     ]
    },
    {
     "name": "stderr",
     "output_type": "stream",
     "text": [
      " 59%|██████████████████████████████████████████▍                             | 8753/14835 [00:31<00:19, 306.33it/s]"
     ]
    },
    {
     "name": "stdout",
     "output_type": "stream",
     "text": [
      "2wgj_A_rec_3ccn_lkg_lig_tt_docked_0\n",
      "4mrf_A_rec_4mre_2c9_lig_tt_min_0\n"
     ]
    },
    {
     "name": "stderr",
     "output_type": "stream",
     "text": [
      " 59%|██████████████████████████████████████████▋                             | 8787/14835 [00:31<00:19, 315.08it/s][20:14:32] Explicit valence for atom # 12 N, 4, is greater than permitted\n",
      " 60%|██████████████████████████████████████████▉                             | 8853/14835 [00:32<00:19, 312.54it/s]"
     ]
    },
    {
     "name": "stdout",
     "output_type": "stream",
     "text": [
      "ligand init failed\n"
     ]
    },
    {
     "name": "stderr",
     "output_type": "stream",
     "text": [
      " 61%|████████████████████████████████████████████                            | 9087/14835 [00:32<00:17, 336.75it/s]"
     ]
    },
    {
     "name": "stdout",
     "output_type": "stream",
     "text": [
      "1q2r_A_rec_1enu_apz_lig_tt_min_0\n"
     ]
    },
    {
     "name": "stderr",
     "output_type": "stream",
     "text": [
      " 63%|█████████████████████████████████████████████▍                          | 9362/14835 [00:33<00:15, 351.71it/s]"
     ]
    },
    {
     "name": "stdout",
     "output_type": "stream",
     "text": [
      "5lyw_A_rec_5lyw_7bh_lig_tt_min_0\n",
      "1s38_A_rec_1q2r_9dg_lig_tt_min_0\n"
     ]
    },
    {
     "name": "stderr",
     "output_type": "stream",
     "text": [
      " 64%|█████████████████████████████████████████████▊                          | 9433/14835 [00:33<00:15, 337.80it/s]"
     ]
    },
    {
     "name": "stdout",
     "output_type": "stream",
     "text": [
      "1eoc_A_rec_2buz_4nc_lig_tt_min_0\n"
     ]
    },
    {
     "name": "stderr",
     "output_type": "stream",
     "text": [
      " 65%|██████████████████████████████████████████████▍                         | 9570/14835 [00:34<00:16, 326.31it/s][20:14:35] Explicit valence for atom # 6 N, 4, is greater than permitted\n",
      " 65%|██████████████████████████████████████████████▌                         | 9604/14835 [00:34<00:16, 325.41it/s][20:14:35] Explicit valence for atom # 0 N, 4, is greater than permitted\n",
      " 65%|██████████████████████████████████████████████▊                         | 9641/14835 [00:34<00:15, 336.66it/s]"
     ]
    },
    {
     "name": "stdout",
     "output_type": "stream",
     "text": [
      "2bur_A_rec_2buz_4nc_lig_tt_min_0\n",
      "ligand init failed\n",
      "ligand init failed\n"
     ]
    },
    {
     "name": "stderr",
     "output_type": "stream",
     "text": [
      " 66%|███████████████████████████████████████████████▌                        | 9795/14835 [00:34<00:13, 362.09it/s]"
     ]
    },
    {
     "name": "stdout",
     "output_type": "stream",
     "text": [
      "3eue_A_rec_3nbq_urf_lig_tt_min_0\n",
      "5bzf_A_rec_5bzg_4x6_lig_tt_min_0\n",
      "5bzg_A_rec_5bzg_4x6_lig_tt_min_0\n",
      "5i02_A_rec_1f3e_dpz_lig_tt_min_0\n"
     ]
    },
    {
     "name": "stderr",
     "output_type": "stream",
     "text": [
      " 67%|████████████████████████████████████████████████▏                       | 9937/14835 [00:36<00:31, 155.80it/s][20:14:37] Explicit valence for atom # 0 N, 4, is greater than permitted\n",
      " 67%|████████████████████████████████████████████████▍                       | 9975/14835 [00:36<00:25, 190.87it/s]"
     ]
    },
    {
     "name": "stdout",
     "output_type": "stream",
     "text": [
      "4gg9_A_rec_1q2r_9dg_lig_tt_min_0\n",
      "4q8t_A_rec_1s39_aqo_lig_tt_min_0\n",
      "ligand init failed\n"
     ]
    },
    {
     "name": "stderr",
     "output_type": "stream",
     "text": [
      " 68%|████████████████████████████████████████████████▎                      | 10090/14835 [00:36<00:17, 275.34it/s]"
     ]
    },
    {
     "name": "stdout",
     "output_type": "stream",
     "text": [
      "3b9j_C_rec_3ns1_pm6_lig_tt_min_0\n"
     ]
    },
    {
     "name": "stderr",
     "output_type": "stream",
     "text": [
      " 69%|████████████████████████████████████████████████▊                      | 10197/14835 [00:36<00:14, 311.94it/s]"
     ]
    },
    {
     "name": "stdout",
     "output_type": "stream",
     "text": [
      "4q8v_A_rec_1q2r_9dg_lig_tt_min_0\n",
      "5bzs_A_rec_4mre_2c9_lig_tt_min_0\n"
     ]
    },
    {
     "name": "stderr",
     "output_type": "stream",
     "text": [
      " 69%|█████████████████████████████████████████████████▏                     | 10274/14835 [00:37<00:14, 325.03it/s]"
     ]
    },
    {
     "name": "stdout",
     "output_type": "stream",
     "text": [
      "5ep7_A_rec_3p1f_3pf_lig_tt_min_0\n",
      "3nbq_B_rec_3nbq_urf_lig_tt_min_0\n",
      "4eyf_A_rec_4eyf_pnk_lig_tt_min_0\n"
     ]
    },
    {
     "name": "stderr",
     "output_type": "stream",
     "text": [
      " 71%|██████████████████████████████████████████████████▎                    | 10504/14835 [00:37<00:13, 311.60it/s]"
     ]
    },
    {
     "name": "stdout",
     "output_type": "stream",
     "text": [
      "1q2r_A_rec_1f3e_dpz_lig_tt_min_0\n"
     ]
    },
    {
     "name": "stderr",
     "output_type": "stream",
     "text": [
      " 72%|███████████████████████████████████████████████████                    | 10657/14835 [00:38<00:11, 351.43it/s]"
     ]
    },
    {
     "name": "stdout",
     "output_type": "stream",
     "text": [
      "4xue_B_rec_5lsa_dnc_lig_tt_docked_10\n",
      "1oty_A_rec_1oty_6mp_lig_tt_min_0\n",
      "1efz_A_rec_1f3e_dpz_lig_tt_min_0\n",
      "5bzc_A_rec_5bzg_4x6_lig_tt_min_0\n"
     ]
    },
    {
     "name": "stderr",
     "output_type": "stream",
     "text": [
      " 72%|███████████████████████████████████████████████████▏                   | 10694/14835 [00:38<00:11, 354.96it/s][20:14:39] atom 0 has specified valence (1) smaller than the drawn valence 2.\n",
      "[20:14:39] atom 7 has specified valence (3) smaller than the drawn valence 4.\n",
      "==============================\n",
      "*** Open Babel Warning  in ReadMolecule\n",
      "  WARNING: Problem interpreting the valence field of an atom\n",
      "The valence field specifies a valence 1 that is\n",
      "less than the observed explicit valence 2.\n",
      "\n",
      "==============================\n",
      "*** Open Babel Warning  in ReadMolecule\n",
      "  WARNING: Problem interpreting the valence field of an atom\n",
      "The valence field specifies a valence 1 that is\n",
      "less than the observed explicit valence 2.\n",
      "WARNING: Problem interpreting the valence field of an atom\n",
      "The valence field specifies a valence 3 that is\n",
      "less than the observed explicit valence 4.\n",
      "\n",
      " 72%|███████████████████████████████████████████████████▎                   | 10730/14835 [00:38<00:11, 352.67it/s][20:14:39] Explicit valence for atom # 8 N, 4, is greater than permitted\n",
      " 73%|███████████████████████████████████████████████████▋                   | 10809/14835 [00:38<00:10, 373.28it/s]"
     ]
    },
    {
     "name": "stdout",
     "output_type": "stream",
     "text": [
      "1enu_A_rec_1f3e_dpz_lig_tt_min_0\n",
      "ligand init failed\n",
      "ligand init failed\n"
     ]
    },
    {
     "name": "stderr",
     "output_type": "stream",
     "text": [
      "[20:14:39] Explicit valence for atom # 31 N, 4, is greater than permitted\n",
      " 74%|████████████████████████████████████████████████████▍                  | 10961/14835 [00:39<00:10, 362.42it/s]"
     ]
    },
    {
     "name": "stdout",
     "output_type": "stream",
     "text": [
      "4ouf_B_rec_5ktu_6xb_lig_tt_docked_12\n",
      "4ffs_A_rec_4ojt_ade_lig_tt_min_0\n"
     ]
    },
    {
     "name": "stderr",
     "output_type": "stream",
     "text": [
      " 75%|████████████████████████████████████████████████████▉                  | 11072/14835 [00:39<00:10, 358.23it/s]"
     ]
    },
    {
     "name": "stdout",
     "output_type": "stream",
     "text": [
      "3ny8_A_rec_4ldo_ale_lig_tt_docked_4\n",
      "4knb_A_rec_3ccn_lkg_lig_tt_docked_0\n",
      "4mrd_A_rec_5bzg_4x6_lig_tt_min_0\n"
     ]
    },
    {
     "name": "stderr",
     "output_type": "stream",
     "text": [
      "[20:14:40] Explicit valence for atom # 16 N, 4, is greater than permitted\n",
      " 75%|█████████████████████████████████████████████████████▎                 | 11144/14835 [00:39<00:10, 357.13it/s]"
     ]
    },
    {
     "name": "stdout",
     "output_type": "stream",
     "text": [
      "1k9s_D_rec_1a69_fmb_lig_tt_min_0\n",
      "ligand init failed\n"
     ]
    },
    {
     "name": "stderr",
     "output_type": "stream",
     "text": [
      " 76%|██████████████████████████████████████████████████████                 | 11299/14835 [00:40<00:09, 373.22it/s]"
     ]
    },
    {
     "name": "stdout",
     "output_type": "stream",
     "text": [
      "3ki1_A_rec_3ki3_g9h_lig_tt_min_0\n",
      "ligand init failed\n"
     ]
    },
    {
     "name": "stderr",
     "output_type": "stream",
     "text": [
      "[20:14:40] Explicit valence for atom # 7 N, 4, is greater than permitted\n",
      " 77%|██████████████████████████████████████████████████████▊                | 11450/14835 [00:40<00:09, 356.00it/s]"
     ]
    },
    {
     "name": "stdout",
     "output_type": "stream",
     "text": [
      "5i00_A_rec_1enu_apz_lig_tt_min_0\n"
     ]
    },
    {
     "name": "stderr",
     "output_type": "stream",
     "text": [
      " 78%|███████████████████████████████████████████████████████▌               | 11598/14835 [00:41<00:19, 167.27it/s]"
     ]
    },
    {
     "name": "stdout",
     "output_type": "stream",
     "text": [
      "5bzt_A_rec_4mre_2c9_lig_tt_min_0\n",
      "5bzk_A_rec_5bzg_4x6_lig_tt_min_0\n"
     ]
    },
    {
     "name": "stderr",
     "output_type": "stream",
     "text": [
      " 80%|█████████████████████████████████████████████████████████              | 11911/14835 [00:42<00:09, 316.63it/s]"
     ]
    },
    {
     "name": "stdout",
     "output_type": "stream",
     "text": [
      "5jxq_A_rec_1p0b_pq0_lig_tt_min_0\n",
      "5bzr_A_rec_4mre_2c9_lig_tt_min_0\n",
      "4dei_A_rec_3cd8_l5g_lig_tt_docked_0\n"
     ]
    },
    {
     "name": "stderr",
     "output_type": "stream",
     "text": [
      " 81%|█████████████████████████████████████████████████████████▌             | 12020/14835 [00:42<00:08, 340.32it/s]"
     ]
    },
    {
     "name": "stdout",
     "output_type": "stream",
     "text": [
      "4fr6_A_rec_1p0b_pq0_lig_tt_min_0\n",
      "5bzl_A_rec_4mre_2c9_lig_tt_min_0\n"
     ]
    },
    {
     "name": "stderr",
     "output_type": "stream",
     "text": [
      " 81%|█████████████████████████████████████████████████████████▊             | 12090/14835 [00:43<00:08, 328.24it/s]"
     ]
    },
    {
     "name": "stdout",
     "output_type": "stream",
     "text": [
      "5bzp_A_rec_4np2_2l1_lig_tt_docked_12\n"
     ]
    },
    {
     "name": "stderr",
     "output_type": "stream",
     "text": [
      " 82%|██████████████████████████████████████████████████████████             | 12126/14835 [00:43<00:08, 334.34it/s][20:14:44] atom 26 has specified valence (1) smaller than the drawn valence 2.\n",
      "==============================\n",
      "*** Open Babel Warning  in ReadMolecule\n",
      "  WARNING: Problem interpreting the valence field of an atom\n",
      "The valence field specifies a valence 1 that is\n",
      "less than the observed explicit valence 2.\n",
      "\n",
      " 84%|███████████████████████████████████████████████████████████▌           | 12443/14835 [00:44<00:06, 346.56it/s][20:14:45] Explicit valence for atom # 8 N, 4, is greater than permitted\n",
      " 84%|███████████████████████████████████████████████████████████▉           | 12518/14835 [00:44<00:06, 356.33it/s]"
     ]
    },
    {
     "name": "stdout",
     "output_type": "stream",
     "text": [
      "ligand init failed\n"
     ]
    },
    {
     "name": "stderr",
     "output_type": "stream",
     "text": [
      " 85%|████████████████████████████████████████████████████████████▎          | 12595/14835 [00:44<00:06, 350.54it/s]"
     ]
    },
    {
     "name": "stdout",
     "output_type": "stream",
     "text": [
      "5bzj_A_rec_4mre_2c9_lig_tt_min_0\n"
     ]
    },
    {
     "name": "stderr",
     "output_type": "stream",
     "text": [
      " 87%|█████████████████████████████████████████████████████████████▌         | 12854/14835 [00:45<00:05, 342.22it/s]"
     ]
    },
    {
     "name": "stdout",
     "output_type": "stream",
     "text": [
      "4puk_A_rec_1enu_apz_lig_tt_min_0\n",
      "4yk0_D_rec_4yk0_98_lig_tt_docked_1\n"
     ]
    },
    {
     "name": "stderr",
     "output_type": "stream",
     "text": [
      " 87%|██████████████████████████████████████████████████████████████         | 12966/14835 [00:46<00:18, 102.51it/s][20:14:47] atom 0 has specified valence (1) smaller than the drawn valence 2.\n",
      "[20:14:47] atom 3 has specified valence (4) smaller than the drawn valence 5.\n",
      "==============================\n",
      "*** Open Babel Warning  in ReadMolecule\n",
      "  WARNING: Problem interpreting the valence field of an atom\n",
      "The valence field specifies a valence 1 that is\n",
      "less than the observed explicit valence 2.\n",
      "\n",
      "==============================\n",
      "*** Open Babel Warning  in ReadMolecule\n",
      "  WARNING: Problem interpreting the valence field of an atom\n",
      "The valence field specifies a valence 1 that is\n",
      "less than the observed explicit valence 2.\n",
      "WARNING: Problem interpreting the valence field of an atom\n",
      "The valence field specifies a valence 4 that is\n",
      "less than the observed explicit valence 5.\n",
      "\n",
      " 88%|██████████████████████████████████████████████████████████████▊        | 13119/14835 [00:46<00:07, 231.34it/s]"
     ]
    },
    {
     "name": "stdout",
     "output_type": "stream",
     "text": [
      "2ei0_A_rec_2ei1_d1n_lig_tt_docked_2\n",
      "1eob_A_rec_2buu_4nc_lig_tt_min_0\n"
     ]
    },
    {
     "name": "stderr",
     "output_type": "stream",
     "text": [
      " 89%|██████████████████████████████████████████████████████████████▉        | 13155/14835 [00:47<00:06, 257.13it/s][20:14:47] Explicit valence for atom # 8 N, 4, is greater than permitted\n",
      " 89%|███████████████████████████████████████████████████████████████▎       | 13229/14835 [00:47<00:05, 288.48it/s]"
     ]
    },
    {
     "name": "stdout",
     "output_type": "stream",
     "text": [
      "ligand init failed\n",
      "1oum_A_rec_1oty_6mp_lig_tt_docked_8\n"
     ]
    },
    {
     "name": "stderr",
     "output_type": "stream",
     "text": [
      " 90%|███████████████████████████████████████████████████████████████▊       | 13339/14835 [00:47<00:04, 334.65it/s]"
     ]
    },
    {
     "name": "stdout",
     "output_type": "stream",
     "text": [
      "5iu6_A_rec_1oty_6mp_lig_tt_docked_8\n",
      "3p1f_A_rec_5mqg_f31_lig_tt_docked_4\n"
     ]
    },
    {
     "name": "stderr",
     "output_type": "stream",
     "text": [
      " 90%|████████████████████████████████████████████████████████████████▏      | 13414/14835 [00:47<00:04, 349.86it/s]"
     ]
    },
    {
     "name": "stdout",
     "output_type": "stream",
     "text": [
      "1yw7_A_rec_5ji6_6kn_lig_tt_docked_1\n"
     ]
    },
    {
     "name": "stderr",
     "output_type": "stream",
     "text": [
      " 92%|█████████████████████████████████████████████████████████████████▎     | 13635/14835 [00:48<00:03, 339.31it/s]"
     ]
    },
    {
     "name": "stdout",
     "output_type": "stream",
     "text": [
      "5uad_A_rec_3zxz_krw_lig_tt_min_0\n"
     ]
    },
    {
     "name": "stderr",
     "output_type": "stream",
     "text": [
      " 92%|█████████████████████████████████████████████████████████████████▍     | 13670/14835 [00:48<00:03, 335.52it/s][20:14:49] atom 25 has specified valence (1) smaller than the drawn valence 2.\n",
      "[20:14:49] atom 29 has specified valence (4) smaller than the drawn valence 5.\n",
      "==============================\n",
      "*** Open Babel Warning  in ReadMolecule\n",
      "  WARNING: Problem interpreting the valence field of an atom\n",
      "The valence field specifies a valence 1 that is\n",
      "less than the observed explicit valence 2.\n",
      "\n",
      "==============================\n",
      "*** Open Babel Warning  in ReadMolecule\n",
      "  WARNING: Problem interpreting the valence field of an atom\n",
      "The valence field specifies a valence 1 that is\n",
      "less than the observed explicit valence 2.\n",
      "WARNING: Problem interpreting the valence field of an atom\n",
      "The valence field specifies a valence 4 that is\n",
      "less than the observed explicit valence 5.\n",
      "\n",
      " 93%|██████████████████████████████████████████████████████████████████▏    | 13830/14835 [00:48<00:02, 356.56it/s][20:14:49] Explicit valence for atom # 3 N, 4, is greater than permitted\n",
      " 94%|██████████████████████████████████████████████████████████████████▌    | 13909/14835 [00:49<00:02, 376.07it/s]"
     ]
    },
    {
     "name": "stdout",
     "output_type": "stream",
     "text": [
      "4lbu_A_rec_1f3e_dpz_lig_tt_min_0\n",
      "ligand init failed\n",
      "4q4p_A_rec_1s39_aqo_lig_tt_min_0\n",
      "3rr4_A_rec_1p0b_pq0_lig_tt_min_0\n"
     ]
    },
    {
     "name": "stderr",
     "output_type": "stream",
     "text": [
      " 94%|██████████████████████████████████████████████████████████████████▉    | 13992/14835 [00:49<00:02, 362.08it/s]"
     ]
    },
    {
     "name": "stdout",
     "output_type": "stream",
     "text": [
      "1vdv_A_rec_3nvw_gun_lig_tt_min_0\n"
     ]
    },
    {
     "name": "stderr",
     "output_type": "stream",
     "text": [
      " 96%|███████████████████████████████████████████████████████████████████▉   | 14193/14835 [00:49<00:01, 354.78it/s][20:14:50] atom 15 has specified valence (1) smaller than the drawn valence 2.\n",
      "[20:14:50] atom 19 has specified valence (4) smaller than the drawn valence 5.\n",
      "==============================\n",
      "*** Open Babel Warning  in ReadMolecule\n",
      "  WARNING: Problem interpreting the valence field of an atom\n",
      "The valence field specifies a valence 1 that is\n",
      "less than the observed explicit valence 2.\n",
      "\n",
      "==============================\n",
      "*** Open Babel Warning  in ReadMolecule\n",
      "  WARNING: Problem interpreting the valence field of an atom\n",
      "The valence field specifies a valence 1 that is\n",
      "less than the observed explicit valence 2.\n",
      "WARNING: Problem interpreting the valence field of an atom\n",
      "The valence field specifies a valence 4 that is\n",
      "less than the observed explicit valence 5.\n",
      "\n",
      " 96%|████████████████████████████████████████████████████████████████████▎  | 14272/14835 [00:50<00:01, 360.38it/s]"
     ]
    },
    {
     "name": "stdout",
     "output_type": "stream",
     "text": [
      "2vch_A_rec_2vce_tc7_lig_tt_min_0\n"
     ]
    },
    {
     "name": "stderr",
     "output_type": "stream",
     "text": [
      " 97%|████████████████████████████████████████████████████████████████████▋  | 14355/14835 [00:50<00:01, 379.56it/s]"
     ]
    },
    {
     "name": "stdout",
     "output_type": "stream",
     "text": [
      "3ki3_A_rec_3ess_18n_lig_tt_docked_3\n",
      "ligand init failed\n"
     ]
    },
    {
     "name": "stderr",
     "output_type": "stream",
     "text": [
      "[20:14:51] Explicit valence for atom # 14 N, 4, is greater than permitted\n",
      " 98%|█████████████████████████████████████████████████████████████████████▏ | 14469/14835 [00:50<00:01, 350.25it/s][20:14:51] Explicit valence for atom # 4 N, 4, is greater than permitted\n",
      " 98%|█████████████████████████████████████████████████████████████████████▌ | 14542/14835 [00:50<00:00, 356.27it/s]"
     ]
    },
    {
     "name": "stdout",
     "output_type": "stream",
     "text": [
      "ligand init failed\n"
     ]
    },
    {
     "name": "stderr",
     "output_type": "stream",
     "text": [
      " 98%|█████████████████████████████████████████████████████████████████████▊ | 14579/14835 [00:50<00:00, 358.91it/s][20:14:51] atom 0 has specified valence (4) smaller than the drawn valence 5.\n",
      "[20:14:51] atom 1 has specified valence (1) smaller than the drawn valence 2.\n",
      "==============================\n",
      "*** Open Babel Warning  in ReadMolecule\n",
      "  WARNING: Problem interpreting the valence field of an atom\n",
      "The valence field specifies a valence 4 that is\n",
      "less than the observed explicit valence 5.\n",
      "\n",
      "==============================\n",
      "*** Open Babel Warning  in ReadMolecule\n",
      "  WARNING: Problem interpreting the valence field of an atom\n",
      "The valence field specifies a valence 4 that is\n",
      "less than the observed explicit valence 5.\n",
      "WARNING: Problem interpreting the valence field of an atom\n",
      "The valence field specifies a valence 1 that is\n",
      "less than the observed explicit valence 2.\n",
      "\n",
      " 99%|█████████████████████████████████████████████████████████████████████▉ | 14617/14835 [00:51<00:00, 364.49it/s]"
     ]
    },
    {
     "name": "stdout",
     "output_type": "stream",
     "text": [
      "2buu_A_rec_1eoc_4nc_lig_tt_min_0\n"
     ]
    },
    {
     "name": "stderr",
     "output_type": "stream",
     "text": [
      " 99%|██████████████████████████████████████████████████████████████████████▏| 14654/14835 [00:52<00:01, 102.72it/s][20:14:52] atom 23 has specified valence (4) smaller than the drawn valence 5.\n",
      "[20:14:52] atom 24 has specified valence (1) smaller than the drawn valence 2.\n",
      "==============================\n",
      "*** Open Babel Warning  in ReadMolecule\n",
      "  WARNING: Problem interpreting the valence field of an atom\n",
      "The valence field specifies a valence 4 that is\n",
      "less than the observed explicit valence 5.\n",
      "\n",
      "==============================\n",
      "*** Open Babel Warning  in ReadMolecule\n",
      "  WARNING: Problem interpreting the valence field of an atom\n",
      "The valence field specifies a valence 4 that is\n",
      "less than the observed explicit valence 5.\n",
      "WARNING: Problem interpreting the valence field of an atom\n",
      "The valence field specifies a valence 1 that is\n",
      "less than the observed explicit valence 2.\n",
      "\n",
      " 99%|██████████████████████████████████████████████████████████████████████▎| 14687/14835 [00:52<00:01, 126.38it/s][20:14:53] Explicit valence for atom # 8 N, 4, is greater than permitted\n",
      "100%|██████████████████████████████████████████████████████████████████████▋| 14764/14835 [00:52<00:00, 194.65it/s]"
     ]
    },
    {
     "name": "stdout",
     "output_type": "stream",
     "text": [
      "ligand init failed\n"
     ]
    },
    {
     "name": "stderr",
     "output_type": "stream",
     "text": [
      "100%|███████████████████████████████████████████████████████████████████████| 14835/14835 [00:52<00:00, 282.05it/s]"
     ]
    },
    {
     "name": "stdout",
     "output_type": "stream",
     "text": [
      "3nvv_C_rec_3nvw_gun_lig_tt_min_0\n"
     ]
    },
    {
     "name": "stderr",
     "output_type": "stream",
     "text": [
      "\n"
     ]
    }
   ],
   "source": [
    "match_dict, score_dict, aro_match_l = compute_matching_scores(gen_path, pp_info)"
   ]
  },
  {
   "cell_type": "code",
   "execution_count": 19,
   "id": "4cf7f902-83ae-49f2-9139-5c80cdfc75b0",
   "metadata": {
    "scrolled": true
   },
   "outputs": [
    {
     "data": {
      "text/plain": [
       "['4yur_A_rec_3cok_anp_lig_tt_min_0',\n",
       " '3nbq_B_rec_3nbq_urf_lig_tt_docked_2',\n",
       " '4gi4_A_rec_1s38_maq_lig_tt_min_0',\n",
       " '3p1c_B_rec_3p1f_3pf_lig_tt_min_0',\n",
       " '1pw7_A_rec_1oty_6mp_lig_tt_min_0',\n",
       " '5swg_A_rec_5swt_71a_lig_tt_min_0',\n",
       " '4np3_A_rec_4np3_2l2_lig_tt_min_0',\n",
       " '4q4s_A_rec_1p0b_pq0_lig_tt_min_0',\n",
       " '4np3_A_rec_4np2_2l1_lig_tt_min_0',\n",
       " '5eyc_A_rec_3i5n_b2d_lig_tt_docked_0',\n",
       " '5bzf_A_rec_4np2_2l1_lig_tt_min_0',\n",
       " '4gg9_A_rec_1s38_maq_lig_tt_min_0',\n",
       " '5lpq_A_rec_1s38_maq_lig_tt_min_0',\n",
       " '3euf_A_rec_3nbq_urf_lig_tt_min_0',\n",
       " '2vce_A_rec_2vce_tc7_lig_tt_docked_0',\n",
       " '4xud_A_rec_5lsa_dnc_lig_tt_docked_2',\n",
       " '3nvw_C_rec_3nvw_gun_lig_tt_min_0',\n",
       " '1eoc_A_rec_2buz_4nc_lig_tt_docked_4',\n",
       " '4deh_A_rec_3i5n_b2d_lig_tt_docked_0',\n",
       " '1y5x_A_rec_4puk_2wu_lig_tt_min_0',\n",
       " '5egr_A_rec_1f3e_dpz_lig_tt_min_0',\n",
       " '5bzq_A_rec_5bzi_4wu_lig_tt_min_0',\n",
       " '2bur_A_rec_1eoc_4nc_lig_tt_min_0',\n",
       " '1k4h_A_rec_1p0b_pq0_lig_tt_docked_0',\n",
       " '5egr_A_rec_1s38_maq_lig_tt_docked_0',\n",
       " '4nyw_A_rec_4yk0_98_lig_tt_min_0',\n",
       " '3c2y_A_rec_1s38_maq_lig_tt_min_0',\n",
       " '1eob_A_rec_2buz_4nc_lig_tt_min_0',\n",
       " '4mrg_A_rec_5bzf_4x3_lig_tt_docked_2',\n",
       " '4xuc_A_rec_5lsa_dnc_lig_tt_min_0',\n",
       " '1kwc_B_rec_1eir_bpy_lig_tt_min_0',\n",
       " '2vce_A_rec_2vce_tc7_lig_tt_min_0',\n",
       " '5mme_A_rec_4nr4_2lk_lig_tt_min_0',\n",
       " '5eob_A_rec_4ap7_f47_lig_tt_docked_0',\n",
       " '1y5v_A_rec_1f3e_dpz_lig_tt_min_0',\n",
       " '5bzc_A_rec_4mre_2c9_lig_tt_min_0',\n",
       " '4q4o_A_rec_1enu_apz_lig_tt_min_0',\n",
       " '1eoc_A_rec_1eoc_4nc_lig_tt_min_0',\n",
       " '5bzj_A_rec_4np2_2l1_lig_tt_docked_10',\n",
       " '5mpz_A_rec_5mqg_f31_lig_tt_docked_3',\n",
       " '4q4s_A_rec_4gi4_0ex_lig_tt_min_0',\n",
       " '4k8a_B_rec_4kab_4ka_lig_tt_min_0',\n",
       " '5bze_A_rec_5bzg_4x6_lig_tt_min_0',\n",
       " '3zxz_A_rec_3cd8_l5g_lig_tt_docked_0',\n",
       " '4q4o_A_rec_1f3e_dpz_lig_tt_min_0',\n",
       " '4q8w_A_rec_1f3e_dpz_lig_tt_min_0',\n",
       " '5jsw_A_rec_1enu_apz_lig_tt_min_0',\n",
       " '3ns1_L_rec_3ns1_pm6_lig_tt_min_0',\n",
       " '4mrg_A_rec_5bzg_4x6_lig_tt_min_0',\n",
       " '5i86_B_rec_4yk0_98_lig_tt_min_0',\n",
       " '4gh1_A_rec_1f3e_dpz_lig_tt_min_0',\n",
       " '3sr6_C_rec_3ns1_pm6_lig_tt_min_0',\n",
       " '4q8u_A_rec_1f3e_dpz_lig_tt_min_0',\n",
       " '2qzr_A_rec_1s38_maq_lig_tt_min_0',\n",
       " '4q4p_A_rec_1f3e_dpz_lig_tt_min_0',\n",
       " '4gi4_A_rec_1f3e_dpz_lig_tt_min_0',\n",
       " '4rl2_B_rec_4eyf_pnk_lig_tt_docked_0',\n",
       " '5eob_A_rec_3i5n_b2d_lig_tt_docked_0',\n",
       " '2buq_A_rec_2buz_4nc_lig_tt_min_0',\n",
       " '4ts8_A_rec_4yk0_98_lig_tt_min_0',\n",
       " '1ozm_A_rec_1f3e_dpz_lig_tt_docked_1',\n",
       " '2wgj_A_rec_3ccn_lkg_lig_tt_docked_0',\n",
       " '4mrf_A_rec_4mre_2c9_lig_tt_min_0',\n",
       " '1q2r_A_rec_1enu_apz_lig_tt_min_0',\n",
       " '5lyw_A_rec_5lyw_7bh_lig_tt_min_0',\n",
       " '1s38_A_rec_1q2r_9dg_lig_tt_min_0',\n",
       " '1eoc_A_rec_2buz_4nc_lig_tt_min_0',\n",
       " '2bur_A_rec_2buz_4nc_lig_tt_min_0',\n",
       " '3eue_A_rec_3nbq_urf_lig_tt_min_0',\n",
       " '5bzf_A_rec_5bzg_4x6_lig_tt_min_0',\n",
       " '5bzg_A_rec_5bzg_4x6_lig_tt_min_0',\n",
       " '5i02_A_rec_1f3e_dpz_lig_tt_min_0',\n",
       " '4gg9_A_rec_1q2r_9dg_lig_tt_min_0',\n",
       " '4q8t_A_rec_1s39_aqo_lig_tt_min_0',\n",
       " '3b9j_C_rec_3ns1_pm6_lig_tt_min_0',\n",
       " '4q8v_A_rec_1q2r_9dg_lig_tt_min_0',\n",
       " '5bzs_A_rec_4mre_2c9_lig_tt_min_0',\n",
       " '5ep7_A_rec_3p1f_3pf_lig_tt_min_0',\n",
       " '3nbq_B_rec_3nbq_urf_lig_tt_min_0',\n",
       " '4eyf_A_rec_4eyf_pnk_lig_tt_min_0',\n",
       " '1q2r_A_rec_1f3e_dpz_lig_tt_min_0',\n",
       " '4xue_B_rec_5lsa_dnc_lig_tt_docked_10',\n",
       " '1oty_A_rec_1oty_6mp_lig_tt_min_0',\n",
       " '1efz_A_rec_1f3e_dpz_lig_tt_min_0',\n",
       " '5bzc_A_rec_5bzg_4x6_lig_tt_min_0',\n",
       " '1enu_A_rec_1f3e_dpz_lig_tt_min_0',\n",
       " '4ouf_B_rec_5ktu_6xb_lig_tt_docked_12',\n",
       " '4ffs_A_rec_4ojt_ade_lig_tt_min_0',\n",
       " '3ny8_A_rec_4ldo_ale_lig_tt_docked_4',\n",
       " '4knb_A_rec_3ccn_lkg_lig_tt_docked_0',\n",
       " '4mrd_A_rec_5bzg_4x6_lig_tt_min_0',\n",
       " '1k9s_D_rec_1a69_fmb_lig_tt_min_0',\n",
       " '3ki1_A_rec_3ki3_g9h_lig_tt_min_0',\n",
       " '5i00_A_rec_1enu_apz_lig_tt_min_0',\n",
       " '5bzt_A_rec_4mre_2c9_lig_tt_min_0',\n",
       " '5bzk_A_rec_5bzg_4x6_lig_tt_min_0',\n",
       " '5jxq_A_rec_1p0b_pq0_lig_tt_min_0',\n",
       " '5bzr_A_rec_4mre_2c9_lig_tt_min_0',\n",
       " '4dei_A_rec_3cd8_l5g_lig_tt_docked_0',\n",
       " '4fr6_A_rec_1p0b_pq0_lig_tt_min_0',\n",
       " '5bzl_A_rec_4mre_2c9_lig_tt_min_0',\n",
       " '5bzp_A_rec_4np2_2l1_lig_tt_docked_12',\n",
       " '5bzj_A_rec_4mre_2c9_lig_tt_min_0',\n",
       " '4puk_A_rec_1enu_apz_lig_tt_min_0',\n",
       " '4yk0_D_rec_4yk0_98_lig_tt_docked_1',\n",
       " '2ei0_A_rec_2ei1_d1n_lig_tt_docked_2',\n",
       " '1eob_A_rec_2buu_4nc_lig_tt_min_0',\n",
       " '1oum_A_rec_1oty_6mp_lig_tt_docked_8',\n",
       " '5iu6_A_rec_1oty_6mp_lig_tt_docked_8',\n",
       " '3p1f_A_rec_5mqg_f31_lig_tt_docked_4',\n",
       " '1yw7_A_rec_5ji6_6kn_lig_tt_docked_1',\n",
       " '5uad_A_rec_3zxz_krw_lig_tt_min_0',\n",
       " '4lbu_A_rec_1f3e_dpz_lig_tt_min_0',\n",
       " '4q4p_A_rec_1s39_aqo_lig_tt_min_0',\n",
       " '3rr4_A_rec_1p0b_pq0_lig_tt_min_0',\n",
       " '1vdv_A_rec_3nvw_gun_lig_tt_min_0',\n",
       " '2vch_A_rec_2vce_tc7_lig_tt_min_0',\n",
       " '3ki3_A_rec_3ess_18n_lig_tt_docked_3',\n",
       " '2buu_A_rec_1eoc_4nc_lig_tt_min_0',\n",
       " '3nvv_C_rec_3nvw_gun_lig_tt_min_0']"
      ]
     },
     "execution_count": 19,
     "metadata": {},
     "output_type": "execute_result"
    }
   ],
   "source": [
    "aro_match_l"
   ]
  },
  {
   "cell_type": "code",
   "execution_count": 20,
   "id": "bdfab4b9-e049-45fb-a542-6aed5d51e14c",
   "metadata": {},
   "outputs": [
    {
     "data": {
      "text/plain": [
       "120"
      ]
     },
     "execution_count": 20,
     "metadata": {},
     "output_type": "execute_result"
    }
   ],
   "source": [
    "len(aro_match_l)"
   ]
  },
  {
   "cell_type": "code",
   "execution_count": 25,
   "id": "f3e4449e-4b55-4588-ba55-092db13de3b8",
   "metadata": {},
   "outputs": [],
   "source": [
    "avg_score_lig_df = pd.read_csv(os.path.join(root_path, fn+'_avg_score_by_lig.csv'), header=0, index_col=0)\n",
    "avg_score_rec_df = pd.read_csv(os.path.join(root_path, fn+'_avg_score_by_rec.csv'), header=0, index_col=0)\n",
    "# score_by_lig"
   ]
  },
  {
   "cell_type": "code",
   "execution_count": 26,
   "id": "fdf23c93-9f7b-4739-a907-7d2d1ad9e9d0",
   "metadata": {},
   "outputs": [
    {
     "data": {
      "text/html": [
       "<div>\n",
       "<style scoped>\n",
       "    .dataframe tbody tr th:only-of-type {\n",
       "        vertical-align: middle;\n",
       "    }\n",
       "\n",
       "    .dataframe tbody tr th {\n",
       "        vertical-align: top;\n",
       "    }\n",
       "\n",
       "    .dataframe thead th {\n",
       "        text-align: right;\n",
       "    }\n",
       "</style>\n",
       "<table border=\"1\" class=\"dataframe\">\n",
       "  <thead>\n",
       "    <tr style=\"text-align: right;\">\n",
       "      <th></th>\n",
       "      <th>score</th>\n",
       "      <th>num sample</th>\n",
       "    </tr>\n",
       "  </thead>\n",
       "  <tbody>\n",
       "    <tr>\n",
       "      <th>mb3</th>\n",
       "      <td>1.000000</td>\n",
       "      <td>60</td>\n",
       "    </tr>\n",
       "    <tr>\n",
       "      <th>fa1</th>\n",
       "      <td>0.961039</td>\n",
       "      <td>11</td>\n",
       "    </tr>\n",
       "    <tr>\n",
       "      <th>ae3</th>\n",
       "      <td>0.953125</td>\n",
       "      <td>32</td>\n",
       "    </tr>\n",
       "    <tr>\n",
       "      <th>pge</th>\n",
       "      <td>0.906250</td>\n",
       "      <td>24</td>\n",
       "    </tr>\n",
       "    <tr>\n",
       "      <th>6te</th>\n",
       "      <td>0.900000</td>\n",
       "      <td>11</td>\n",
       "    </tr>\n",
       "    <tr>\n",
       "      <th>...</th>\n",
       "      <td>...</td>\n",
       "      <td>...</td>\n",
       "    </tr>\n",
       "    <tr>\n",
       "      <th>6f9</th>\n",
       "      <td>0.608392</td>\n",
       "      <td>11</td>\n",
       "    </tr>\n",
       "    <tr>\n",
       "      <th>8o4</th>\n",
       "      <td>0.607639</td>\n",
       "      <td>36</td>\n",
       "    </tr>\n",
       "    <tr>\n",
       "      <th>fyo</th>\n",
       "      <td>0.600000</td>\n",
       "      <td>12</td>\n",
       "    </tr>\n",
       "    <tr>\n",
       "      <th>tde</th>\n",
       "      <td>0.600000</td>\n",
       "      <td>10</td>\n",
       "    </tr>\n",
       "    <tr>\n",
       "      <th>noj</th>\n",
       "      <td>0.600000</td>\n",
       "      <td>10</td>\n",
       "    </tr>\n",
       "  </tbody>\n",
       "</table>\n",
       "<p>105 rows × 2 columns</p>\n",
       "</div>"
      ],
      "text/plain": [
       "        score  num sample\n",
       "mb3  1.000000          60\n",
       "fa1  0.961039          11\n",
       "ae3  0.953125          32\n",
       "pge  0.906250          24\n",
       "6te  0.900000          11\n",
       "..        ...         ...\n",
       "6f9  0.608392          11\n",
       "8o4  0.607639          36\n",
       "fyo  0.600000          12\n",
       "tde  0.600000          10\n",
       "noj  0.600000          10\n",
       "\n",
       "[105 rows x 2 columns]"
      ]
     },
     "execution_count": 26,
     "metadata": {},
     "output_type": "execute_result"
    }
   ],
   "source": [
    "filtered_lig = avg_score_lig_df[(avg_score_lig_df['score'] >= 0.6) &\n",
    "                                (avg_score_lig_df['num sample'] >= 10)]\n",
    "filtered_lig"
   ]
  },
  {
   "cell_type": "code",
   "execution_count": 28,
   "id": "7ff6f32c-16bc-400a-a282-66266da90c57",
   "metadata": {
    "scrolled": true
   },
   "outputs": [
    {
     "data": {
      "text/html": [
       "<div>\n",
       "<style scoped>\n",
       "    .dataframe tbody tr th:only-of-type {\n",
       "        vertical-align: middle;\n",
       "    }\n",
       "\n",
       "    .dataframe tbody tr th {\n",
       "        vertical-align: top;\n",
       "    }\n",
       "\n",
       "    .dataframe thead th {\n",
       "        text-align: right;\n",
       "    }\n",
       "</style>\n",
       "<table border=\"1\" class=\"dataframe\">\n",
       "  <thead>\n",
       "    <tr style=\"text-align: right;\">\n",
       "      <th></th>\n",
       "      <th>score</th>\n",
       "      <th>num sample</th>\n",
       "    </tr>\n",
       "  </thead>\n",
       "  <tbody>\n",
       "    <tr>\n",
       "      <th>1e3k_A</th>\n",
       "      <td>0.775073</td>\n",
       "      <td>13</td>\n",
       "    </tr>\n",
       "    <tr>\n",
       "      <th>4apu_B</th>\n",
       "      <td>0.740767</td>\n",
       "      <td>10</td>\n",
       "    </tr>\n",
       "    <tr>\n",
       "      <th>5l0k_B</th>\n",
       "      <td>0.728556</td>\n",
       "      <td>13</td>\n",
       "    </tr>\n",
       "    <tr>\n",
       "      <th>5hx8_A</th>\n",
       "      <td>0.714368</td>\n",
       "      <td>18</td>\n",
       "    </tr>\n",
       "    <tr>\n",
       "      <th>5khx_A</th>\n",
       "      <td>0.714178</td>\n",
       "      <td>20</td>\n",
       "    </tr>\n",
       "    <tr>\n",
       "      <th>4e5w_A</th>\n",
       "      <td>0.692320</td>\n",
       "      <td>22</td>\n",
       "    </tr>\n",
       "    <tr>\n",
       "      <th>4e4n_A</th>\n",
       "      <td>0.680265</td>\n",
       "      <td>25</td>\n",
       "    </tr>\n",
       "    <tr>\n",
       "      <th>1d0i_C</th>\n",
       "      <td>0.676899</td>\n",
       "      <td>11</td>\n",
       "    </tr>\n",
       "    <tr>\n",
       "      <th>3kba_A</th>\n",
       "      <td>0.674499</td>\n",
       "      <td>12</td>\n",
       "    </tr>\n",
       "    <tr>\n",
       "      <th>4ivc_B</th>\n",
       "      <td>0.674471</td>\n",
       "      <td>23</td>\n",
       "    </tr>\n",
       "    <tr>\n",
       "      <th>2wu3_B</th>\n",
       "      <td>0.674008</td>\n",
       "      <td>10</td>\n",
       "    </tr>\n",
       "    <tr>\n",
       "      <th>1zuc_B</th>\n",
       "      <td>0.671714</td>\n",
       "      <td>13</td>\n",
       "    </tr>\n",
       "    <tr>\n",
       "      <th>5lia_A</th>\n",
       "      <td>0.670177</td>\n",
       "      <td>12</td>\n",
       "    </tr>\n",
       "    <tr>\n",
       "      <th>4ei4_B</th>\n",
       "      <td>0.669983</td>\n",
       "      <td>21</td>\n",
       "    </tr>\n",
       "    <tr>\n",
       "      <th>3eyg_A</th>\n",
       "      <td>0.667668</td>\n",
       "      <td>21</td>\n",
       "    </tr>\n",
       "    <tr>\n",
       "      <th>1gtz_A</th>\n",
       "      <td>0.663059</td>\n",
       "      <td>10</td>\n",
       "    </tr>\n",
       "    <tr>\n",
       "      <th>4i5c_B</th>\n",
       "      <td>0.660600</td>\n",
       "      <td>23</td>\n",
       "    </tr>\n",
       "    <tr>\n",
       "      <th>5e1e_A</th>\n",
       "      <td>0.658733</td>\n",
       "      <td>21</td>\n",
       "    </tr>\n",
       "    <tr>\n",
       "      <th>2y2v_A</th>\n",
       "      <td>0.656061</td>\n",
       "      <td>11</td>\n",
       "    </tr>\n",
       "    <tr>\n",
       "      <th>5fe2_A</th>\n",
       "      <td>0.650770</td>\n",
       "      <td>12</td>\n",
       "    </tr>\n",
       "    <tr>\n",
       "      <th>4k77_B</th>\n",
       "      <td>0.650027</td>\n",
       "      <td>21</td>\n",
       "    </tr>\n",
       "    <tr>\n",
       "      <th>5mkx_A</th>\n",
       "      <td>0.648031</td>\n",
       "      <td>14</td>\n",
       "    </tr>\n",
       "    <tr>\n",
       "      <th>4fk6_B</th>\n",
       "      <td>0.647226</td>\n",
       "      <td>24</td>\n",
       "    </tr>\n",
       "    <tr>\n",
       "      <th>4e4l_B</th>\n",
       "      <td>0.645680</td>\n",
       "      <td>21</td>\n",
       "    </tr>\n",
       "    <tr>\n",
       "      <th>4whu_A</th>\n",
       "      <td>0.638988</td>\n",
       "      <td>12</td>\n",
       "    </tr>\n",
       "    <tr>\n",
       "      <th>4ehz_B</th>\n",
       "      <td>0.636361</td>\n",
       "      <td>16</td>\n",
       "    </tr>\n",
       "    <tr>\n",
       "      <th>2whr_A</th>\n",
       "      <td>0.636190</td>\n",
       "      <td>10</td>\n",
       "    </tr>\n",
       "    <tr>\n",
       "      <th>4ivb_A</th>\n",
       "      <td>0.635370</td>\n",
       "      <td>15</td>\n",
       "    </tr>\n",
       "    <tr>\n",
       "      <th>5foq_A</th>\n",
       "      <td>0.635227</td>\n",
       "      <td>10</td>\n",
       "    </tr>\n",
       "    <tr>\n",
       "      <th>4k6z_A</th>\n",
       "      <td>0.634930</td>\n",
       "      <td>16</td>\n",
       "    </tr>\n",
       "    <tr>\n",
       "      <th>3zrb_B</th>\n",
       "      <td>0.631627</td>\n",
       "      <td>15</td>\n",
       "    </tr>\n",
       "    <tr>\n",
       "      <th>5l0b_A</th>\n",
       "      <td>0.623858</td>\n",
       "      <td>15</td>\n",
       "    </tr>\n",
       "    <tr>\n",
       "      <th>2ha5_A</th>\n",
       "      <td>0.623611</td>\n",
       "      <td>10</td>\n",
       "    </tr>\n",
       "    <tr>\n",
       "      <th>2bt4_A</th>\n",
       "      <td>0.623232</td>\n",
       "      <td>10</td>\n",
       "    </tr>\n",
       "    <tr>\n",
       "      <th>5lvr_A</th>\n",
       "      <td>0.617083</td>\n",
       "      <td>13</td>\n",
       "    </tr>\n",
       "    <tr>\n",
       "      <th>2jge_A</th>\n",
       "      <td>0.615278</td>\n",
       "      <td>13</td>\n",
       "    </tr>\n",
       "    <tr>\n",
       "      <th>2xr9_A</th>\n",
       "      <td>0.614850</td>\n",
       "      <td>13</td>\n",
       "    </tr>\n",
       "    <tr>\n",
       "      <th>5fe9_A</th>\n",
       "      <td>0.611664</td>\n",
       "      <td>12</td>\n",
       "    </tr>\n",
       "    <tr>\n",
       "      <th>4a2j_B</th>\n",
       "      <td>0.608275</td>\n",
       "      <td>13</td>\n",
       "    </tr>\n",
       "    <tr>\n",
       "      <th>2cjf_B</th>\n",
       "      <td>0.607766</td>\n",
       "      <td>11</td>\n",
       "    </tr>\n",
       "    <tr>\n",
       "      <th>2whq_B</th>\n",
       "      <td>0.606746</td>\n",
       "      <td>10</td>\n",
       "    </tr>\n",
       "    <tr>\n",
       "      <th>5fdz_A</th>\n",
       "      <td>0.602579</td>\n",
       "      <td>12</td>\n",
       "    </tr>\n",
       "    <tr>\n",
       "      <th>4ara_A</th>\n",
       "      <td>0.601461</td>\n",
       "      <td>11</td>\n",
       "    </tr>\n",
       "    <tr>\n",
       "      <th>5ehq_A</th>\n",
       "      <td>0.600878</td>\n",
       "      <td>14</td>\n",
       "    </tr>\n",
       "    <tr>\n",
       "      <th>3ny8_A</th>\n",
       "      <td>0.600233</td>\n",
       "      <td>13</td>\n",
       "    </tr>\n",
       "  </tbody>\n",
       "</table>\n",
       "</div>"
      ],
      "text/plain": [
       "           score  num sample\n",
       "1e3k_A  0.775073          13\n",
       "4apu_B  0.740767          10\n",
       "5l0k_B  0.728556          13\n",
       "5hx8_A  0.714368          18\n",
       "5khx_A  0.714178          20\n",
       "4e5w_A  0.692320          22\n",
       "4e4n_A  0.680265          25\n",
       "1d0i_C  0.676899          11\n",
       "3kba_A  0.674499          12\n",
       "4ivc_B  0.674471          23\n",
       "2wu3_B  0.674008          10\n",
       "1zuc_B  0.671714          13\n",
       "5lia_A  0.670177          12\n",
       "4ei4_B  0.669983          21\n",
       "3eyg_A  0.667668          21\n",
       "1gtz_A  0.663059          10\n",
       "4i5c_B  0.660600          23\n",
       "5e1e_A  0.658733          21\n",
       "2y2v_A  0.656061          11\n",
       "5fe2_A  0.650770          12\n",
       "4k77_B  0.650027          21\n",
       "5mkx_A  0.648031          14\n",
       "4fk6_B  0.647226          24\n",
       "4e4l_B  0.645680          21\n",
       "4whu_A  0.638988          12\n",
       "4ehz_B  0.636361          16\n",
       "2whr_A  0.636190          10\n",
       "4ivb_A  0.635370          15\n",
       "5foq_A  0.635227          10\n",
       "4k6z_A  0.634930          16\n",
       "3zrb_B  0.631627          15\n",
       "5l0b_A  0.623858          15\n",
       "2ha5_A  0.623611          10\n",
       "2bt4_A  0.623232          10\n",
       "5lvr_A  0.617083          13\n",
       "2jge_A  0.615278          13\n",
       "2xr9_A  0.614850          13\n",
       "5fe9_A  0.611664          12\n",
       "4a2j_B  0.608275          13\n",
       "2cjf_B  0.607766          11\n",
       "2whq_B  0.606746          10\n",
       "5fdz_A  0.602579          12\n",
       "4ara_A  0.601461          11\n",
       "5ehq_A  0.600878          14\n",
       "3ny8_A  0.600233          13"
      ]
     },
     "execution_count": 28,
     "metadata": {},
     "output_type": "execute_result"
    }
   ],
   "source": [
    "filtered_rec = avg_score_rec_df[(avg_score_rec_df['score'] >= 0.6) &\n",
    "                                (avg_score_rec_df['num sample'] >= 10)]\n",
    "filtered_rec"
   ]
  },
  {
   "cell_type": "code",
   "execution_count": 29,
   "id": "84d1733b-13f0-4a8e-be0e-b2acf5e46aed",
   "metadata": {
    "scrolled": true
   },
   "outputs": [
    {
     "data": {
      "text/plain": [
       "{'0ex',\n",
       " '18n',\n",
       " '2c9',\n",
       " '2l1',\n",
       " '2l2',\n",
       " '2lk',\n",
       " '2wu',\n",
       " '3pf',\n",
       " '4ka',\n",
       " '4nc',\n",
       " '4wu',\n",
       " '4x3',\n",
       " '4x6',\n",
       " '6kn',\n",
       " '6mp',\n",
       " '6xb',\n",
       " '71a',\n",
       " '7bh',\n",
       " '98_',\n",
       " '9dg',\n",
       " 'ade',\n",
       " 'ale',\n",
       " 'anp',\n",
       " 'apz',\n",
       " 'aqo',\n",
       " 'b2d',\n",
       " 'bpy',\n",
       " 'd1n',\n",
       " 'dnc',\n",
       " 'dpz',\n",
       " 'f31',\n",
       " 'f47',\n",
       " 'fmb',\n",
       " 'g9h',\n",
       " 'gun',\n",
       " 'krw',\n",
       " 'l5g',\n",
       " 'lkg',\n",
       " 'maq',\n",
       " 'pm6',\n",
       " 'pnk',\n",
       " 'pq0',\n",
       " 'tc7',\n",
       " 'urf'}"
      ]
     },
     "execution_count": 29,
     "metadata": {},
     "output_type": "execute_result"
    }
   ],
   "source": [
    "aro_match_lig = [lig[lig.rfind('rec')+9:lig.rfind('rec')+12] for lig in aro_match_l]\n",
    "aro_match_lig = set(aro_match_lig)\n",
    "aro_match_lig"
   ]
  },
  {
   "cell_type": "code",
   "execution_count": 37,
   "id": "84bd84ef-dd3d-4336-b732-96fa77fdaeed",
   "metadata": {
    "scrolled": true
   },
   "outputs": [
    {
     "data": {
      "text/plain": [
       "{'1efz_A',\n",
       " '1enu_A',\n",
       " '1eob_A',\n",
       " '1eoc_A',\n",
       " '1k4h_A',\n",
       " '1k9s_D',\n",
       " '1kwc_B',\n",
       " '1oty_A',\n",
       " '1oum_A',\n",
       " '1ozm_A',\n",
       " '1pw7_A',\n",
       " '1q2r_A',\n",
       " '1s38_A',\n",
       " '1vdv_A',\n",
       " '1y5v_A',\n",
       " '1y5x_A',\n",
       " '1yw7_A',\n",
       " '2buq_A',\n",
       " '2bur_A',\n",
       " '2buu_A',\n",
       " '2ei0_A',\n",
       " '2qzr_A',\n",
       " '2vce_A',\n",
       " '2vch_A',\n",
       " '2wgj_A',\n",
       " '3b9j_C',\n",
       " '3c2y_A',\n",
       " '3eue_A',\n",
       " '3euf_A',\n",
       " '3ki1_A',\n",
       " '3ki3_A',\n",
       " '3nbq_B',\n",
       " '3ns1_L',\n",
       " '3nvv_C',\n",
       " '3nvw_C',\n",
       " '3ny8_A',\n",
       " '3p1c_B',\n",
       " '3p1f_A',\n",
       " '3rr4_A',\n",
       " '3sr6_C',\n",
       " '3zxz_A',\n",
       " '4deh_A',\n",
       " '4dei_A',\n",
       " '4eyf_A',\n",
       " '4ffs_A',\n",
       " '4fr6_A',\n",
       " '4gg9_A',\n",
       " '4gh1_A',\n",
       " '4gi4_A',\n",
       " '4k8a_B',\n",
       " '4knb_A',\n",
       " '4lbu_A',\n",
       " '4mrd_A',\n",
       " '4mrf_A',\n",
       " '4mrg_A',\n",
       " '4np3_A',\n",
       " '4nyw_A',\n",
       " '4ouf_B',\n",
       " '4puk_A',\n",
       " '4q4o_A',\n",
       " '4q4p_A',\n",
       " '4q4s_A',\n",
       " '4q8t_A',\n",
       " '4q8u_A',\n",
       " '4q8v_A',\n",
       " '4q8w_A',\n",
       " '4rl2_B',\n",
       " '4ts8_A',\n",
       " '4xuc_A',\n",
       " '4xud_A',\n",
       " '4xue_B',\n",
       " '4yk0_D',\n",
       " '4yur_A',\n",
       " '5bzc_A',\n",
       " '5bze_A',\n",
       " '5bzf_A',\n",
       " '5bzg_A',\n",
       " '5bzj_A',\n",
       " '5bzk_A',\n",
       " '5bzl_A',\n",
       " '5bzp_A',\n",
       " '5bzq_A',\n",
       " '5bzr_A',\n",
       " '5bzs_A',\n",
       " '5bzt_A',\n",
       " '5egr_A',\n",
       " '5eob_A',\n",
       " '5ep7_A',\n",
       " '5eyc_A',\n",
       " '5i00_A',\n",
       " '5i02_A',\n",
       " '5i86_B',\n",
       " '5iu6_A',\n",
       " '5jsw_A',\n",
       " '5jxq_A',\n",
       " '5lpq_A',\n",
       " '5lyw_A',\n",
       " '5mme_A',\n",
       " '5mpz_A',\n",
       " '5swg_A',\n",
       " '5uad_A'}"
      ]
     },
     "execution_count": 37,
     "metadata": {},
     "output_type": "execute_result"
    }
   ],
   "source": [
    "aro_match_rec = set([lig[:6] for lig in aro_match_l])\n",
    "aro_match_rec"
   ]
  },
  {
   "cell_type": "code",
   "execution_count": 36,
   "id": "3ec04a0e-3a6f-4540-a9b2-ce67539e4980",
   "metadata": {},
   "outputs": [
    {
     "data": {
      "text/plain": [
       "['4nc', '18n', 'pm6', 'pq0', '6kn', '2c9', 'dpz', 'apz', '4wu']"
      ]
     },
     "execution_count": 36,
     "metadata": {},
     "output_type": "execute_result"
    }
   ],
   "source": [
    "[lig for lig in filtered_lig.index.tolist() if lig in aro_match_lig]"
   ]
  },
  {
   "cell_type": "code",
   "execution_count": 38,
   "id": "c1c5e2bb-55fc-482a-a260-905985e3c728",
   "metadata": {},
   "outputs": [
    {
     "data": {
      "text/plain": [
       "['3ny8_A']"
      ]
     },
     "execution_count": 38,
     "metadata": {},
     "output_type": "execute_result"
    }
   ],
   "source": [
    "[rec for rec in filtered_rec.index.tolist() if rec in aro_match_rec]"
   ]
  },
  {
   "cell_type": "code",
   "execution_count": null,
   "id": "ee791462-1385-44f9-8deb-0fd6803f9ac9",
   "metadata": {},
   "outputs": [],
   "source": []
  }
 ],
 "metadata": {
  "kernelspec": {
   "display_name": "pp2drug",
   "language": "python",
   "name": "pp2drug"
  },
  "language_info": {
   "codemirror_mode": {
    "name": "ipython",
    "version": 3
   },
   "file_extension": ".py",
   "mimetype": "text/x-python",
   "name": "python",
   "nbconvert_exporter": "python",
   "pygments_lexer": "ipython3",
   "version": "3.10.14"
  }
 },
 "nbformat": 4,
 "nbformat_minor": 5
}
