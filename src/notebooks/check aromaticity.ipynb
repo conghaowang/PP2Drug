{
 "cells": [
  {
   "cell_type": "code",
   "execution_count": 2,
   "id": "cd289b53-507c-4587-b7a2-8c9839893c37",
   "metadata": {},
   "outputs": [],
   "source": [
    "%load_ext autoreload\n",
    "%autoreload 2"
   ]
  },
  {
   "cell_type": "code",
   "execution_count": 3,
   "id": "55b3089f-717f-4031-a540-e6e5f9a8c59d",
   "metadata": {},
   "outputs": [],
   "source": [
    "import pickle\n",
    "import pandas as pd\n",
    "import numpy as np\n",
    "from rdkit import Chem\n",
    "from openbabel import pybel\n",
    "\n",
    "from tqdm import tqdm\n",
    "import os\n",
    "from collections import defaultdict"
   ]
  },
  {
   "cell_type": "code",
   "execution_count": 4,
   "id": "3f38854c-813d-4612-918b-862ec666e7c3",
   "metadata": {},
   "outputs": [],
   "source": [
    "import sys\n",
    "sys.path.append('../')\n",
    "sys.path.append('../data_processing/')\n",
    "sys.path.append('../evaluation/')"
   ]
  },
  {
   "cell_type": "code",
   "execution_count": 5,
   "id": "efa02ace-ea6e-426c-a5d7-01e1dbdf9a65",
   "metadata": {},
   "outputs": [],
   "source": [
    "from pharmacophore_matching import center2zero\n",
    "from script_utils import load_qm9_data, load_dataset\n",
    "from data_processing.ligand import Ligand\n",
    "from utils_eval import extract_pp, extract_all_pp, pp_match"
   ]
  },
  {
   "cell_type": "code",
   "execution_count": 6,
   "id": "ebefd180-b99c-44e5-b572-152f09da5d6e",
   "metadata": {},
   "outputs": [],
   "source": [
    "# root_path = '../lightning_logs/vp_bridge_egnn_CombinedSparseGraphDataset_2024-08-19_21_05_04.140916'\n",
    "root_path = '../lightning_logs/vp_bridge_egnn_CombinedSparseGraphDataset_2024-08-19_21_05_04.140916/ligand_based'\n",
    "# root_path = '../lightning_logs/vp_bridge_egnn_CombinedSparseGraphDataset_2024-08-19_13_30_50.133260'\n",
    "# root_path = '../lightning_logs/vp_bridge_egnn_CombinedSparseGraphDataset_2024-08-19_13_30_50.133260/ligand_based_old'\n",
    "\n",
    "# root_path = '../lightning_logs/vp_bridge_egnn_CombinedSparseGraphDataset_2024-10-14_13_02_07.121254/ligand_based'"
   ]
  },
  {
   "cell_type": "code",
   "execution_count": 7,
   "id": "21332a82-06c8-46e2-9e74-806683ac7a59",
   "metadata": {},
   "outputs": [
    {
     "data": {
      "text/plain": [
       "'../lightning_logs/vp_bridge_egnn_CombinedSparseGraphDataset_2024-08-19_21_05_04.140916/ligand_based/reconstructed_mols_aromatic_mode_matches.pkl'"
      ]
     },
     "execution_count": 7,
     "metadata": {},
     "output_type": "execute_result"
    }
   ],
   "source": [
    "aromatic = True\n",
    "\n",
    "# we don't use optimized mols for pp matching eval\n",
    "optimization = False\n",
    "\n",
    "fn = 'reconstructed_mols' + '_aromatic_mode' if aromatic else 'reconstructed_mols'\n",
    "match_fn = fn + '_matches.pkl'\n",
    "score_fn = fn + '_scores.csv'\n",
    "match_file = os.path.join(root_path, match_fn)\n",
    "score_file = os.path.join(root_path, score_fn)\n",
    "match_file"
   ]
  },
  {
   "cell_type": "code",
   "execution_count": 8,
   "id": "26a7e2c5-a365-45f1-b45d-467b7a5e1e1f",
   "metadata": {},
   "outputs": [],
   "source": [
    "gen_path = os.path.join(root_path, 'reconstructed_mols')\n",
    "gen_path = gen_path + '_aromatic_mode' if aromatic else gen_path\n",
    "gen_path = gen_path + '_optimized' if optimization else gen_path"
   ]
  },
  {
   "cell_type": "code",
   "execution_count": 9,
   "id": "d5bc8d65-793b-4f62-b691-e41f2dda2ce1",
   "metadata": {},
   "outputs": [],
   "source": [
    "with open(match_file, 'rb') as f:\n",
    "    match_dict = pickle.load(f)"
   ]
  },
  {
   "cell_type": "code",
   "execution_count": 10,
   "id": "acdece7f-6af2-4916-85de-ad839aeb8f4c",
   "metadata": {
    "scrolled": true
   },
   "outputs": [],
   "source": [
    "if 'ligand_based' in root_path:\n",
    "    pp_info_file = '../../data/cleaned_crossdocked_data/metadata_HDBSCAN_non_filtered/test_pp_info.pkl'\n",
    "else:\n",
    "    pp_info_file = '../../data/cleaned_crossdocked_data/metadata/test_pp_info.pkl'\n",
    "# pp_info_file = '../../data/cleaned_crossdocked_data/metadata/test_pp_info.pkl'\n",
    "with open(pp_info_file, 'rb') as f:\n",
    "    pp_info = pickle.load(f)\n",
    "\n",
    "# pp_info"
   ]
  },
  {
   "cell_type": "code",
   "execution_count": 11,
   "id": "13cc22e4-ed0e-4d29-ac35-e40cb18f4ff9",
   "metadata": {},
   "outputs": [
    {
     "data": {
      "text/plain": [
       "{'pp_atom_indices': [[[0, 1, 2, 3, 4, 5], [6], [7], [8], [12]]],\n",
       " 'pp_positions': [tensor([[ 2.0536,  4.5065, 50.1497],\n",
       "          [ 0.7475,  2.8215, 51.8759],\n",
       "          [ 0.6321,  2.3142, 49.3126],\n",
       "          [ 3.6812,  7.6494, 50.0184],\n",
       "          [ 3.1239,  8.7804, 52.3812]])],\n",
       " 'pp_types': [tensor([[0., 0., 1., 0., 0., 0., 0., 0.],\n",
       "          [0., 0., 0., 0., 0., 1., 0., 0.],\n",
       "          [0., 0., 0., 0., 0., 1., 0., 0.],\n",
       "          [0., 0., 0., 0., 0., 1., 0., 0.],\n",
       "          [0., 0., 0., 0., 0., 1., 0., 0.]])],\n",
       " 'pp_index': [tensor([0, 1, 2, 3, 4])],\n",
       " 'node_pp_index': [tensor([ 0,  0,  0,  0,  0,  0,  1,  2,  3, -1, -1, -1,  4])]}"
      ]
     },
     "execution_count": 11,
     "metadata": {},
     "output_type": "execute_result"
    }
   ],
   "source": [
    "pp_info['3ny8_A_rec_4ldo_ale_lig_tt_docked_4']"
   ]
  },
  {
   "cell_type": "code",
   "execution_count": 12,
   "id": "40db3d59-7d9b-4871-9c16-b4705fd12644",
   "metadata": {},
   "outputs": [
    {
     "name": "stdout",
     "output_type": "stream",
     "text": [
      "use processed_HDBSCAN_non_filtered\n",
      "use processed_HDBSCAN_non_filtered\n",
      "use processed_HDBSCAN_non_filtered\n",
      "use processed_HDBSCAN_non_filtered\n",
      "use processed_HDBSCAN_non_filtered\n"
     ]
    },
    {
     "name": "stderr",
     "output_type": "stream",
     "text": [
      "100%|██████████████████████████████████████████████████████████████████████| 15235/15235 [00:02<00:00, 6769.94it/s]\n"
     ]
    }
   ],
   "source": [
    "test_dataset = load_dataset('CombinedSparseGraphDataset', '../../data/cleaned_crossdocked_data', split='test', aromatic=aromatic)\n",
    "pp_info = center2zero(pp_info, test_dataset)"
   ]
  },
  {
   "cell_type": "code",
   "execution_count": 13,
   "id": "dacb5d0c-b9b5-4d5e-a72a-0b4a174e5ae8",
   "metadata": {},
   "outputs": [],
   "source": [
    "pp_info = dict(pp_info)"
   ]
  },
  {
   "cell_type": "code",
   "execution_count": 14,
   "id": "fbed8b5c-70f7-44c2-a2b5-6935cbb1b5b5",
   "metadata": {},
   "outputs": [
    {
     "data": {
      "text/plain": [
       "15235"
      ]
     },
     "execution_count": 14,
     "metadata": {},
     "output_type": "execute_result"
    }
   ],
   "source": [
    "len(test_dataset)"
   ]
  },
  {
   "cell_type": "code",
   "execution_count": 15,
   "id": "6e2e2727-1d79-4edf-88a2-f4628233f2a2",
   "metadata": {},
   "outputs": [
    {
     "data": {
      "text/plain": [
       "14835"
      ]
     },
     "execution_count": 15,
     "metadata": {},
     "output_type": "execute_result"
    }
   ],
   "source": [
    "lig_list = [file.split('.')[0] for file in os.listdir(gen_path)]\n",
    "len(lig_list)"
   ]
  },
  {
   "cell_type": "code",
   "execution_count": 16,
   "id": "d61bb87b-42b5-442e-a2eb-09adcd9de60f",
   "metadata": {
    "scrolled": true
   },
   "outputs": [
    {
     "name": "stderr",
     "output_type": "stream",
     "text": [
      "100%|████████████████████████████████████████████████████████████████████| 14835/14835 [00:00<00:00, 153407.40it/s]\n"
     ]
    }
   ],
   "source": [
    "all_aro_lig = []\n",
    "for lig in tqdm(lig_list):\n",
    "    pps = pp_info[lig]['pp_types']\n",
    "    for pps_ in pps:\n",
    "        pp_label = np.argmax(pps_.numpy(), axis=-1)\n",
    "        if 2 in pp_label:\n",
    "            # print(lig)\n",
    "            # print(pp_label)\n",
    "            all_aro_lig.append(lig)"
   ]
  },
  {
   "cell_type": "code",
   "execution_count": 17,
   "id": "6ac81045-5546-49c8-93a3-6a8624223219",
   "metadata": {
    "scrolled": true
   },
   "outputs": [],
   "source": [
    "# all_aro_lig"
   ]
  },
  {
   "cell_type": "code",
   "execution_count": 18,
   "id": "bb9ae022-5dc3-45b2-b7c7-654aafdf397e",
   "metadata": {},
   "outputs": [
    {
     "data": {
      "text/plain": [
       "12760"
      ]
     },
     "execution_count": 18,
     "metadata": {},
     "output_type": "execute_result"
    }
   ],
   "source": [
    "len(all_aro_lig)"
   ]
  },
  {
   "cell_type": "code",
   "execution_count": 19,
   "id": "947cef6a-fa21-4f57-985d-850f032d39dd",
   "metadata": {},
   "outputs": [],
   "source": [
    "def check_match(pp_types, pp_positions, pp_atom_indices, ref_pp_info, lig, typ=2, threshold=1.5):\n",
    "    pps = pp_types\n",
    "    ref_pps = np.argmax(ref_pp_info['pp_types'].numpy(), axis=-1)\n",
    "    ref_pp_positions = ref_pp_info['pp_positions'].numpy()\n",
    "\n",
    "    match = np.zeros_like(ref_pps)\n",
    "    aro_match = False\n",
    "    num_atom = 0\n",
    "    for i, ref_pp in enumerate(ref_pps):\n",
    "        ref_pos = ref_pp_positions[i]\n",
    "        for j, pp in enumerate(pps):\n",
    "            if type(pp) == list:\n",
    "                for pp_ in pp:\n",
    "                    if pp_ == ref_pp:\n",
    "                        pos = pp_positions[j]\n",
    "                        dist = np.sqrt(np.sum((pos - ref_pos) ** 2))\n",
    "                        if dist < threshold:\n",
    "                            match[i] = 1\n",
    "                            if pp_ == typ:\n",
    "                                # print(lig, num_atom)\n",
    "                                aro_match = True\n",
    "                                num_atom = len(pp_atom_indices[j])\n",
    "                            continue\n",
    "                            # match[i] += 1\n",
    "            else:\n",
    "                if pp == ref_pp:\n",
    "                    pos = pp_positions[j]\n",
    "                    dist = np.sqrt(np.sum((pos - ref_pos) ** 2))\n",
    "                    if dist < threshold:\n",
    "                        match[i] = 1\n",
    "                        if pp == typ:\n",
    "                            # print(lig, num_atom)\n",
    "                            aro_match = True\n",
    "                            num_atom = len(pp_atom_indices[j])\n",
    "                        continue\n",
    "                        # match[i] += 1\n",
    "    return match, aro_match, num_atom"
   ]
  },
  {
   "cell_type": "code",
   "execution_count": 20,
   "id": "2f6b866c-1cbd-4595-8083-f17f5f03e564",
   "metadata": {},
   "outputs": [],
   "source": [
    "def compute_matching_scores(generated_path, pp_info, typ=2, threshold=1.5):\n",
    "    score_dict = {}\n",
    "    match_dict = {}\n",
    "    aro_match_l = []\n",
    "    for file in tqdm(os.listdir(generated_path)):\n",
    "        lig = file.split('.')[0]\n",
    "        mol_path = os.path.join(generated_path, lig+'.sdf')\n",
    "        rdmol = Chem.MolFromMolFile(mol_path, sanitize=True)\n",
    "        pbmol = next(pybel.readfile(\"sdf\", mol_path))\n",
    "        try:\n",
    "            rdmol = Chem.AddHs(rdmol)\n",
    "            ligand = Ligand(pbmol, rdmol, atom_positions=None, conformer_axis=None, filtering=False, preprocess=False)\n",
    "        except:\n",
    "            print('ligand init failed')\n",
    "            continue\n",
    "        pp_atom_indices, pp_positions, pp_types, pp_index = extract_all_pp(ligand)\n",
    "        # print(pp_atom_indices, pp_types)\n",
    "        \n",
    "        ref_pp_info = pp_info[lig]\n",
    "        if not all(k in list(ref_pp_info.keys()) for k in ['pp_types', 'pp_positions']):\n",
    "            print(ref_pp_info)\n",
    "            continue\n",
    "        if isinstance(ref_pp_info['pp_types'], list):\n",
    "            # print(ref_pp_info)\n",
    "            ref_pp_info = {k:v[-1] for k, v in ref_pp_info.items()}     # To address the iterated list issue, for now we use the last element (which is appended to the list at last). TODO: fix this in the data processing script\n",
    "        \n",
    "        match, aro_match, num_atom = check_match(pp_types, pp_positions, pp_atom_indices, ref_pp_info, lig, typ=typ, threshold=threshold)\n",
    "        match_dict[lig] = match\n",
    "        score = np.mean(match)\n",
    "        score_dict[lig] = score\n",
    "        if aro_match:\n",
    "            aro_match_l.append((lig, num_atom))\n",
    "            print(lig, num_atom)\n",
    "\n",
    "    return match_dict, score_dict, aro_match_l"
   ]
  },
  {
   "cell_type": "code",
   "execution_count": 21,
   "id": "0bc76f34-e15f-47c6-8234-4d623f2d03cf",
   "metadata": {
    "scrolled": true
   },
   "outputs": [
    {
     "name": "stderr",
     "output_type": "stream",
     "text": [
      "  1%|▋                                                                        | 138/14835 [00:00<01:05, 223.52it/s]"
     ]
    },
    {
     "name": "stdout",
     "output_type": "stream",
     "text": [
      "4yur_A_rec_3cok_anp_lig_tt_min_0 5\n"
     ]
    },
    {
     "name": "stderr",
     "output_type": "stream",
     "text": [
      "  4%|██▋                                                                      | 556/14835 [00:02<01:02, 228.18it/s]"
     ]
    },
    {
     "name": "stdout",
     "output_type": "stream",
     "text": [
      "3nbq_B_rec_3nbq_urf_lig_tt_docked_2 6\n"
     ]
    },
    {
     "name": "stderr",
     "output_type": "stream",
     "text": [
      "  4%|███                                                                      | 632/14835 [00:02<00:58, 244.26it/s]"
     ]
    },
    {
     "name": "stdout",
     "output_type": "stream",
     "text": [
      "4gi4_A_rec_1s38_maq_lig_tt_min_0 4\n"
     ]
    },
    {
     "name": "stderr",
     "output_type": "stream",
     "text": [
      "  5%|███▊                                                                     | 779/14835 [00:03<00:59, 237.36it/s]"
     ]
    },
    {
     "name": "stdout",
     "output_type": "stream",
     "text": [
      "3p1c_B_rec_3p1f_3pf_lig_tt_min_0 6\n"
     ]
    },
    {
     "name": "stderr",
     "output_type": "stream",
     "text": [
      "  6%|████                                                                     | 826/14835 [00:03<01:01, 227.55it/s][21:40:46] Explicit valence for atom # 3 N, 4, is greater than permitted\n",
      "  6%|████▏                                                                    | 851/14835 [00:03<01:00, 231.66it/s]"
     ]
    },
    {
     "name": "stdout",
     "output_type": "stream",
     "text": [
      "ligand init failed\n"
     ]
    },
    {
     "name": "stderr",
     "output_type": "stream",
     "text": [
      "  7%|████▉                                                                   | 1026/14835 [00:05<01:11, 193.55it/s]"
     ]
    },
    {
     "name": "stdout",
     "output_type": "stream",
     "text": [
      "1pw7_A_rec_1oty_6mp_lig_tt_min_0 7\n"
     ]
    },
    {
     "name": "stderr",
     "output_type": "stream",
     "text": [
      "  8%|█████▌                                                                  | 1147/14835 [00:05<01:01, 223.13it/s]"
     ]
    },
    {
     "name": "stdout",
     "output_type": "stream",
     "text": [
      "5swg_A_rec_5swt_71a_lig_tt_min_0 6\n",
      "4np3_A_rec_4np3_2l2_lig_tt_min_0 4\n"
     ]
    },
    {
     "name": "stderr",
     "output_type": "stream",
     "text": [
      "  8%|██████                                                                  | 1238/14835 [00:06<01:06, 204.35it/s][21:40:48] atom 12 has specified valence (1) smaller than the drawn valence 2.\n",
      "==============================\n",
      "*** Open Babel Warning  in ReadMolecule\n",
      "  WARNING: Problem interpreting the valence field of an atom\n",
      "The valence field specifies a valence 1 that is\n",
      "less than the observed explicit valence 2.\n",
      "\n",
      " 10%|██████▊                                                                 | 1416/14835 [00:06<01:01, 217.55it/s][21:40:49] Explicit valence for atom # 3 N, 4, is greater than permitted\n",
      " 10%|███████                                                                 | 1464/14835 [00:07<01:00, 222.83it/s]"
     ]
    },
    {
     "name": "stdout",
     "output_type": "stream",
     "text": [
      "ligand init failed\n",
      "4q4s_A_rec_1p0b_pq0_lig_tt_min_0 7\n"
     ]
    },
    {
     "name": "stderr",
     "output_type": "stream",
     "text": [
      " 10%|███████▌                                                                | 1557/14835 [00:07<01:02, 212.67it/s]"
     ]
    },
    {
     "name": "stdout",
     "output_type": "stream",
     "text": [
      "4np3_A_rec_4np2_2l1_lig_tt_min_0 4\n"
     ]
    },
    {
     "name": "stderr",
     "output_type": "stream",
     "text": [
      " 11%|███████▉                                                                | 1630/14835 [00:07<00:57, 230.77it/s][21:40:50] Explicit valence for atom # 12 N, 4, is greater than permitted\n",
      " 11%|████████▏                                                               | 1681/14835 [00:08<00:55, 237.56it/s]"
     ]
    },
    {
     "name": "stdout",
     "output_type": "stream",
     "text": [
      "ligand init failed\n"
     ]
    },
    {
     "name": "stderr",
     "output_type": "stream",
     "text": [
      " 12%|████████▊                                                               | 1819/14835 [00:09<01:20, 161.12it/s][21:40:51] Explicit valence for atom # 3 N, 4, is greater than permitted\n",
      " 12%|████████▉                                                               | 1839/14835 [00:09<01:18, 165.95it/s][21:40:51] atom 9 has specified valence (1) smaller than the drawn valence 2.\n",
      "[21:40:51] atom 10 has specified valence (4) smaller than the drawn valence 5.\n",
      "==============================\n",
      "*** Open Babel Warning  in ReadMolecule\n",
      "  WARNING: Problem interpreting the valence field of an atom\n",
      "The valence field specifies a valence 1 that is\n",
      "less than the observed explicit valence 2.\n",
      "\n",
      "==============================\n",
      "*** Open Babel Warning  in ReadMolecule\n",
      "  WARNING: Problem interpreting the valence field of an atom\n",
      "The valence field specifies a valence 1 that is\n",
      "less than the observed explicit valence 2.\n",
      "WARNING: Problem interpreting the valence field of an atom\n",
      "The valence field specifies a valence 4 that is\n",
      "less than the observed explicit valence 5.\n",
      "\n",
      " 13%|█████████                                                               | 1879/14835 [00:09<01:15, 171.07it/s]"
     ]
    },
    {
     "name": "stdout",
     "output_type": "stream",
     "text": [
      "ligand init failed\n",
      "5eyc_A_rec_3i5n_b2d_lig_tt_docked_0 5\n",
      "5bzf_A_rec_4np2_2l1_lig_tt_min_0 4\n"
     ]
    },
    {
     "name": "stderr",
     "output_type": "stream",
     "text": [
      " 13%|█████████▋                                                              | 1988/14835 [00:10<01:04, 198.93it/s][21:40:52] Explicit valence for atom # 20 N, 4, is greater than permitted\n",
      " 14%|█████████▊                                                              | 2010/14835 [00:10<01:04, 198.13it/s]"
     ]
    },
    {
     "name": "stdout",
     "output_type": "stream",
     "text": [
      "4gg9_A_rec_1s38_maq_lig_tt_min_0 4\n",
      "ligand init failed\n"
     ]
    },
    {
     "name": "stderr",
     "output_type": "stream",
     "text": [
      " 14%|██████████▏                                                             | 2098/14835 [00:10<01:01, 208.05it/s]"
     ]
    },
    {
     "name": "stdout",
     "output_type": "stream",
     "text": [
      "5lpq_A_rec_1s38_maq_lig_tt_min_0 4\n",
      "3euf_A_rec_3nbq_urf_lig_tt_min_0 6\n"
     ]
    },
    {
     "name": "stderr",
     "output_type": "stream",
     "text": [
      " 16%|███████████▌                                                            | 2391/14835 [00:11<00:57, 214.78it/s]"
     ]
    },
    {
     "name": "stdout",
     "output_type": "stream",
     "text": [
      "2vce_A_rec_2vce_tc7_lig_tt_docked_0 6\n"
     ]
    },
    {
     "name": "stderr",
     "output_type": "stream",
     "text": [
      " 18%|████████████▋                                                           | 2605/14835 [00:12<00:54, 225.08it/s]"
     ]
    },
    {
     "name": "stdout",
     "output_type": "stream",
     "text": [
      "4xud_A_rec_5lsa_dnc_lig_tt_docked_2 6\n"
     ]
    },
    {
     "name": "stderr",
     "output_type": "stream",
     "text": [
      " 18%|█████████████                                                           | 2681/14835 [00:13<00:51, 234.18it/s]"
     ]
    },
    {
     "name": "stdout",
     "output_type": "stream",
     "text": [
      "3nvw_C_rec_3nvw_gun_lig_tt_min_0 7\n"
     ]
    },
    {
     "name": "stderr",
     "output_type": "stream",
     "text": [
      " 18%|█████████████▏                                                          | 2705/14835 [00:13<01:54, 105.90it/s][21:40:56] Explicit valence for atom # 7 N, 4, is greater than permitted\n",
      " 19%|█████████████▎                                                          | 2752/14835 [00:13<01:24, 143.07it/s]"
     ]
    },
    {
     "name": "stdout",
     "output_type": "stream",
     "text": [
      "ligand init failed\n"
     ]
    },
    {
     "name": "stderr",
     "output_type": "stream",
     "text": [
      " 19%|█████████████▋                                                          | 2815/14835 [00:14<01:08, 174.52it/s]"
     ]
    },
    {
     "name": "stdout",
     "output_type": "stream",
     "text": [
      "1eoc_A_rec_2buz_4nc_lig_tt_docked_4 6\n"
     ]
    },
    {
     "name": "stderr",
     "output_type": "stream",
     "text": [
      " 20%|██████████████▋                                                         | 3031/14835 [00:15<00:55, 212.85it/s]"
     ]
    },
    {
     "name": "stdout",
     "output_type": "stream",
     "text": [
      "4deh_A_rec_3i5n_b2d_lig_tt_docked_0 4\n",
      "1y5x_A_rec_4puk_2wu_lig_tt_min_0 6\n"
     ]
    },
    {
     "name": "stderr",
     "output_type": "stream",
     "text": [
      " 21%|███████████████▍                                                        | 3188/14835 [00:16<00:55, 211.43it/s][21:40:58] Explicit valence for atom # 17 N, 4, is greater than permitted\n",
      " 22%|███████████████▋                                                        | 3234/14835 [00:16<00:53, 216.37it/s]"
     ]
    },
    {
     "name": "stdout",
     "output_type": "stream",
     "text": [
      "ligand init failed\n",
      "5egr_A_rec_1f3e_dpz_lig_tt_min_0 8\n"
     ]
    },
    {
     "name": "stderr",
     "output_type": "stream",
     "text": [
      " 22%|███████████████▊                                                        | 3256/14835 [00:16<00:55, 208.17it/s][21:40:58] Explicit valence for atom # 3 N, 4, is greater than permitted\n",
      " 22%|████████████████▏                                                       | 3325/14835 [00:16<00:52, 218.63it/s]"
     ]
    },
    {
     "name": "stdout",
     "output_type": "stream",
     "text": [
      "ligand init failed\n"
     ]
    },
    {
     "name": "stderr",
     "output_type": "stream",
     "text": [
      " 23%|████████████████▎                                                       | 3351/14835 [00:16<00:49, 230.39it/s][21:40:59] Explicit valence for atom # 0 N, 4, is greater than permitted\n",
      " 23%|████████████████▍                                                       | 3375/14835 [00:16<00:50, 227.80it/s]"
     ]
    },
    {
     "name": "stdout",
     "output_type": "stream",
     "text": [
      "5bzq_A_rec_5bzi_4wu_lig_tt_min_0 7\n",
      "ligand init failed\n"
     ]
    },
    {
     "name": "stderr",
     "output_type": "stream",
     "text": [
      " 23%|████████████████▋                                                       | 3446/14835 [00:17<00:50, 227.69it/s]"
     ]
    },
    {
     "name": "stdout",
     "output_type": "stream",
     "text": [
      "2bur_A_rec_1eoc_4nc_lig_tt_min_0 6\n",
      "1k4h_A_rec_1p0b_pq0_lig_tt_docked_0 6\n"
     ]
    },
    {
     "name": "stderr",
     "output_type": "stream",
     "text": [
      " 24%|█████████████████▏                                                      | 3545/14835 [00:18<01:26, 129.89it/s]"
     ]
    },
    {
     "name": "stdout",
     "output_type": "stream",
     "text": [
      "5egr_A_rec_1s38_maq_lig_tt_docked_0 4\n",
      "4nyw_A_rec_4yk0_98_lig_tt_min_0 4\n"
     ]
    },
    {
     "name": "stderr",
     "output_type": "stream",
     "text": [
      " 24%|█████████████████▌                                                      | 3614/14835 [00:18<01:04, 174.19it/s]"
     ]
    },
    {
     "name": "stdout",
     "output_type": "stream",
     "text": [
      "3c2y_A_rec_1s38_maq_lig_tt_min_0 4\n"
     ]
    },
    {
     "name": "stderr",
     "output_type": "stream",
     "text": [
      " 25%|█████████████████▉                                                      | 3706/14835 [00:18<00:53, 208.00it/s][21:41:01] Explicit valence for atom # 33 N, 4, is greater than permitted\n",
      " 25%|██████████████████▏                                                     | 3754/14835 [00:19<00:50, 219.26it/s]"
     ]
    },
    {
     "name": "stdout",
     "output_type": "stream",
     "text": [
      "ligand init failed\n"
     ]
    },
    {
     "name": "stderr",
     "output_type": "stream",
     "text": [
      " 26%|███████████████████                                                     | 3925/14835 [00:19<00:49, 221.24it/s]"
     ]
    },
    {
     "name": "stdout",
     "output_type": "stream",
     "text": [
      "1eob_A_rec_2buz_4nc_lig_tt_min_0 6\n"
     ]
    },
    {
     "name": "stderr",
     "output_type": "stream",
     "text": [
      " 27%|███████████████████▌                                                    | 4043/14835 [00:20<00:51, 210.85it/s][21:41:02] Explicit valence for atom # 12 N, 4, is greater than permitted\n",
      " 28%|███████████████████▊                                                    | 4090/14835 [00:20<00:50, 214.49it/s]"
     ]
    },
    {
     "name": "stdout",
     "output_type": "stream",
     "text": [
      "ligand init failed\n"
     ]
    },
    {
     "name": "stderr",
     "output_type": "stream",
     "text": [
      " 28%|███████████████████▉                                                    | 4112/14835 [00:20<00:49, 215.63it/s][21:41:02] Explicit valence for atom # 7 N, 4, is greater than permitted\n",
      " 28%|████████████████████▏                                                   | 4163/14835 [00:20<00:46, 228.50it/s]"
     ]
    },
    {
     "name": "stdout",
     "output_type": "stream",
     "text": [
      "ligand init failed\n",
      "4mrg_A_rec_5bzf_4x3_lig_tt_docked_2 6\n"
     ]
    },
    {
     "name": "stderr",
     "output_type": "stream",
     "text": [
      " 28%|████████████████████▍                                                   | 4209/14835 [00:21<00:48, 220.09it/s][21:41:03] Explicit valence for atom # 7 N, 4, is greater than permitted\n",
      " 29%|████████████████████▌                                                   | 4233/14835 [00:21<00:47, 225.37it/s][21:41:03] atom 22 has specified valence (2) smaller than the drawn valence 3.\n",
      "==============================\n",
      "*** Open Babel Warning  in ReadMolecule\n",
      "  WARNING: Problem interpreting the valence field of an atom\n",
      "The valence field specifies a valence 2 that is\n",
      "less than the observed explicit valence 3.\n",
      "\n",
      " 29%|████████████████████▊                                                   | 4284/14835 [00:21<00:44, 235.28it/s]"
     ]
    },
    {
     "name": "stdout",
     "output_type": "stream",
     "text": [
      "ligand init failed\n"
     ]
    },
    {
     "name": "stderr",
     "output_type": "stream",
     "text": [
      " 29%|█████████████████████                                                   | 4335/14835 [00:21<00:47, 223.00it/s]"
     ]
    },
    {
     "name": "stdout",
     "output_type": "stream",
     "text": [
      "4xuc_A_rec_5lsa_dnc_lig_tt_min_0 6\n"
     ]
    },
    {
     "name": "stderr",
     "output_type": "stream",
     "text": [
      " 30%|█████████████████████▌                                                  | 4430/14835 [00:22<00:45, 227.96it/s][21:41:04] atom 23 has specified valence (4) smaller than the drawn valence 5.\n",
      "[21:41:04] atom 24 has specified valence (1) smaller than the drawn valence 2.\n",
      "==============================\n",
      "*** Open Babel Warning  in ReadMolecule\n",
      "  WARNING: Problem interpreting the valence field of an atom\n",
      "The valence field specifies a valence 4 that is\n",
      "less than the observed explicit valence 5.\n",
      "\n",
      "==============================\n",
      "*** Open Babel Warning  in ReadMolecule\n",
      "  WARNING: Problem interpreting the valence field of an atom\n",
      "The valence field specifies a valence 4 that is\n",
      "less than the observed explicit valence 5.\n",
      "WARNING: Problem interpreting the valence field of an atom\n",
      "The valence field specifies a valence 1 that is\n",
      "less than the observed explicit valence 2.\n",
      "\n",
      " 30%|█████████████████████▌                                                  | 4454/14835 [00:22<00:45, 229.63it/s]"
     ]
    },
    {
     "name": "stdout",
     "output_type": "stream",
     "text": [
      "1kwc_B_rec_1eir_bpy_lig_tt_min_0 6\n"
     ]
    },
    {
     "name": "stderr",
     "output_type": "stream",
     "text": [
      " 30%|█████████████████████▉                                                  | 4521/14835 [00:22<01:18, 131.41it/s]"
     ]
    },
    {
     "name": "stdout",
     "output_type": "stream",
     "text": [
      "2vce_A_rec_2vce_tc7_lig_tt_min_0 6\n"
     ]
    },
    {
     "name": "stderr",
     "output_type": "stream",
     "text": [
      " 31%|██████████████████████                                                  | 4542/14835 [00:23<01:10, 146.48it/s][21:41:05] Explicit valence for atom # 2 N, 4, is greater than permitted\n",
      " 31%|██████████████████████▎                                                 | 4588/14835 [00:23<00:57, 177.65it/s]"
     ]
    },
    {
     "name": "stdout",
     "output_type": "stream",
     "text": [
      "ligand init failed\n"
     ]
    },
    {
     "name": "stderr",
     "output_type": "stream",
     "text": [
      " 31%|██████████████████████▎                                                 | 4609/14835 [00:23<00:58, 174.24it/s][21:41:05] atom 0 has specified valence (1) smaller than the drawn valence 2.\n",
      "[21:41:05] atom 3 has specified valence (4) smaller than the drawn valence 5.\n",
      "==============================\n",
      "*** Open Babel Warning  in ReadMolecule\n",
      "  WARNING: Problem interpreting the valence field of an atom\n",
      "The valence field specifies a valence 1 that is\n",
      "less than the observed explicit valence 2.\n",
      "\n",
      "==============================\n",
      "*** Open Babel Warning  in ReadMolecule\n",
      "  WARNING: Problem interpreting the valence field of an atom\n",
      "The valence field specifies a valence 1 that is\n",
      "less than the observed explicit valence 2.\n",
      "WARNING: Problem interpreting the valence field of an atom\n",
      "The valence field specifies a valence 4 that is\n",
      "less than the observed explicit valence 5.\n",
      "\n",
      " 31%|██████████████████████▋                                                 | 4672/14835 [00:23<00:52, 193.08it/s]"
     ]
    },
    {
     "name": "stdout",
     "output_type": "stream",
     "text": [
      "5mme_A_rec_4nr4_2lk_lig_tt_min_0 5\n"
     ]
    },
    {
     "name": "stderr",
     "output_type": "stream",
     "text": [
      " 32%|██████████████████████▉                                                 | 4736/14835 [00:23<00:50, 200.41it/s][21:41:06] Explicit valence for atom # 11 N, 4, is greater than permitted\n",
      " 32%|███████████████████████▏                                                | 4781/14835 [00:24<00:47, 209.69it/s]"
     ]
    },
    {
     "name": "stdout",
     "output_type": "stream",
     "text": [
      "5eob_A_rec_4ap7_f47_lig_tt_docked_0 4\n",
      "1y5v_A_rec_1f3e_dpz_lig_tt_min_0 8\n",
      "ligand init failed\n"
     ]
    },
    {
     "name": "stderr",
     "output_type": "stream",
     "text": [
      " 33%|███████████████████████▋                                                | 4877/14835 [00:24<00:43, 227.00it/s]"
     ]
    },
    {
     "name": "stdout",
     "output_type": "stream",
     "text": [
      "5bzc_A_rec_4mre_2c9_lig_tt_min_0 7\n",
      "4q4o_A_rec_1enu_apz_lig_tt_min_0 7\n"
     ]
    },
    {
     "name": "stderr",
     "output_type": "stream",
     "text": [
      " 34%|████████████████████████▏                                               | 4973/14835 [00:25<00:42, 230.87it/s]"
     ]
    },
    {
     "name": "stdout",
     "output_type": "stream",
     "text": [
      "1eoc_A_rec_1eoc_4nc_lig_tt_min_0 6\n"
     ]
    },
    {
     "name": "stderr",
     "output_type": "stream",
     "text": [
      "[21:41:07] atom 23 has specified valence (4) smaller than the drawn valence 5.\n",
      "[21:41:07] atom 24 has specified valence (1) smaller than the drawn valence 2.\n",
      "==============================\n",
      "*** Open Babel Warning  in ReadMolecule\n",
      "  WARNING: Problem interpreting the valence field of an atom\n",
      "The valence field specifies a valence 4 that is\n",
      "less than the observed explicit valence 5.\n",
      "\n",
      "==============================\n",
      "*** Open Babel Warning  in ReadMolecule\n",
      "  WARNING: Problem interpreting the valence field of an atom\n",
      "The valence field specifies a valence 4 that is\n",
      "less than the observed explicit valence 5.\n",
      "WARNING: Problem interpreting the valence field of an atom\n",
      "The valence field specifies a valence 1 that is\n",
      "less than the observed explicit valence 2.\n",
      "\n",
      " 34%|████████████████████████▍                                               | 5048/14835 [00:25<00:40, 240.51it/s]"
     ]
    },
    {
     "name": "stdout",
     "output_type": "stream",
     "text": [
      "5bzj_A_rec_4np2_2l1_lig_tt_docked_10 4\n"
     ]
    },
    {
     "name": "stderr",
     "output_type": "stream",
     "text": [
      " 34%|████████████████████████▊                                               | 5100/14835 [00:25<00:42, 230.78it/s][21:41:07] atom 24 has specified valence (1) smaller than the drawn valence 2.\n",
      "==============================\n",
      "*** Open Babel Warning  in ReadMolecule\n",
      "  WARNING: Problem interpreting the valence field of an atom\n",
      "The valence field specifies a valence 1 that is\n",
      "less than the observed explicit valence 2.\n",
      "\n",
      " 36%|█████████████████████████▌                                              | 5278/14835 [00:26<00:41, 232.96it/s][21:41:08] Explicit valence for atom # 8 N, 4, is greater than permitted\n",
      " 36%|█████████████████████████▊                                              | 5325/14835 [00:26<00:42, 222.44it/s]"
     ]
    },
    {
     "name": "stdout",
     "output_type": "stream",
     "text": [
      "ligand init failed\n"
     ]
    },
    {
     "name": "stderr",
     "output_type": "stream",
     "text": [
      " 36%|██████████████████████████                                              | 5372/14835 [00:27<01:31, 103.47it/s][21:41:09] atom 23 has specified valence (4) smaller than the drawn valence 5.\n",
      "[21:41:09] atom 24 has specified valence (1) smaller than the drawn valence 2.\n",
      "[21:41:09] Explicit valence for atom # 22 N, 4, is greater than permitted\n",
      "==============================\n",
      "*** Open Babel Warning  in ReadMolecule\n",
      "  WARNING: Problem interpreting the valence field of an atom\n",
      "The valence field specifies a valence 4 that is\n",
      "less than the observed explicit valence 5.\n",
      "\n",
      "==============================\n",
      "*** Open Babel Warning  in ReadMolecule\n",
      "  WARNING: Problem interpreting the valence field of an atom\n",
      "The valence field specifies a valence 4 that is\n",
      "less than the observed explicit valence 5.\n",
      "WARNING: Problem interpreting the valence field of an atom\n",
      "The valence field specifies a valence 1 that is\n",
      "less than the observed explicit valence 2.\n",
      "\n",
      " 37%|██████████████████████████▎                                             | 5419/14835 [00:27<01:05, 143.42it/s]"
     ]
    },
    {
     "name": "stdout",
     "output_type": "stream",
     "text": [
      "ligand init failed\n",
      "5mpz_A_rec_5mqg_f31_lig_tt_docked_3 6\n"
     ]
    },
    {
     "name": "stderr",
     "output_type": "stream",
     "text": [
      " 38%|███████████████████████████▋                                            | 5697/14835 [00:28<00:40, 225.60it/s]"
     ]
    },
    {
     "name": "stdout",
     "output_type": "stream",
     "text": [
      "4q4s_A_rec_4gi4_0ex_lig_tt_min_0 4\n",
      "4k8a_B_rec_4kab_4ka_lig_tt_min_0 7\n",
      "5bze_A_rec_5bzg_4x6_lig_tt_min_0 7\n"
     ]
    },
    {
     "name": "stderr",
     "output_type": "stream",
     "text": [
      " 39%|████████████████████████████▏                                           | 5819/14835 [00:29<00:40, 222.05it/s]"
     ]
    },
    {
     "name": "stdout",
     "output_type": "stream",
     "text": [
      "3zxz_A_rec_3cd8_l5g_lig_tt_docked_0 4\n"
     ]
    },
    {
     "name": "stderr",
     "output_type": "stream",
     "text": [
      " 42%|██████████████████████████████▏                                         | 6215/14835 [00:30<00:38, 224.87it/s][21:41:13] Explicit valence for atom # 12 N, 4, is greater than permitted\n",
      " 42%|██████████████████████████████▍                                         | 6262/14835 [00:31<00:39, 217.76it/s]"
     ]
    },
    {
     "name": "stdout",
     "output_type": "stream",
     "text": [
      "ligand init failed\n"
     ]
    },
    {
     "name": "stderr",
     "output_type": "stream",
     "text": [
      " 43%|███████████████████████████████▏                                        | 6437/14835 [00:32<00:45, 183.98it/s]"
     ]
    },
    {
     "name": "stdout",
     "output_type": "stream",
     "text": [
      "4q4o_A_rec_1f3e_dpz_lig_tt_min_0 8\n"
     ]
    },
    {
     "name": "stderr",
     "output_type": "stream",
     "text": [
      "[21:41:14] atom 0 has specified valence (4) smaller than the drawn valence 5.\n",
      "[21:41:14] atom 2 has specified valence (1) smaller than the drawn valence 2.\n",
      "==============================\n",
      "*** Open Babel Warning  in ReadMolecule\n",
      "  WARNING: Problem interpreting the valence field of an atom\n",
      "The valence field specifies a valence 4 that is\n",
      "less than the observed explicit valence 5.\n",
      "\n",
      "==============================\n",
      "*** Open Babel Warning  in ReadMolecule\n",
      "  WARNING: Problem interpreting the valence field of an atom\n",
      "The valence field specifies a valence 4 that is\n",
      "less than the observed explicit valence 5.\n",
      "WARNING: Problem interpreting the valence field of an atom\n",
      "The valence field specifies a valence 1 that is\n",
      "less than the observed explicit valence 2.\n",
      "\n",
      " 44%|███████████████████████████████▋                                        | 6531/14835 [00:32<00:40, 203.43it/s]"
     ]
    },
    {
     "name": "stdout",
     "output_type": "stream",
     "text": [
      "4q8w_A_rec_1f3e_dpz_lig_tt_min_0 8\n",
      "5jsw_A_rec_1enu_apz_lig_tt_min_0 7\n"
     ]
    },
    {
     "name": "stderr",
     "output_type": "stream",
     "text": [
      " 46%|█████████████████████████████████▎                                      | 6867/14835 [00:34<00:37, 214.36it/s][21:41:16] Explicit valence for atom # 2 N, 4, is greater than permitted\n"
     ]
    },
    {
     "name": "stdout",
     "output_type": "stream",
     "text": [
      "3ns1_L_rec_3ns1_pm6_lig_tt_min_0 7\n",
      "ligand init failed\n"
     ]
    },
    {
     "name": "stderr",
     "output_type": "stream",
     "text": [
      " 47%|█████████████████████████████████▊                                      | 6960/14835 [00:34<00:36, 216.45it/s]"
     ]
    },
    {
     "name": "stdout",
     "output_type": "stream",
     "text": [
      "4mrg_A_rec_5bzg_4x6_lig_tt_min_0 7\n"
     ]
    },
    {
     "name": "stderr",
     "output_type": "stream",
     "text": [
      " 48%|██████████████████████████████████▎                                     | 7075/14835 [00:35<00:34, 224.59it/s]"
     ]
    },
    {
     "name": "stdout",
     "output_type": "stream",
     "text": [
      "5i86_B_rec_4yk0_98_lig_tt_min_0 4\n",
      "4gh1_A_rec_1f3e_dpz_lig_tt_min_0 8\n"
     ]
    },
    {
     "name": "stderr",
     "output_type": "stream",
     "text": [
      " 48%|██████████████████████████████████▍                                     | 7098/14835 [00:35<00:34, 225.29it/s][21:41:17] Explicit valence for atom # 2 N, 4, is greater than permitted\n",
      " 48%|██████████████████████████████████▊                                     | 7171/14835 [00:35<00:33, 229.04it/s]"
     ]
    },
    {
     "name": "stdout",
     "output_type": "stream",
     "text": [
      "ligand init failed\n"
     ]
    },
    {
     "name": "stderr",
     "output_type": "stream",
     "text": [
      " 49%|███████████████████████████████████▏                                    | 7242/14835 [00:36<00:33, 228.74it/s][21:41:18] Explicit valence for atom # 13 N, 4, is greater than permitted\n",
      " 49%|███████████████████████████████████▎                                    | 7265/14835 [00:36<00:33, 225.76it/s]"
     ]
    },
    {
     "name": "stdout",
     "output_type": "stream",
     "text": [
      "3sr6_C_rec_3ns1_pm6_lig_tt_min_0 7\n",
      "ligand init failed\n"
     ]
    },
    {
     "name": "stderr",
     "output_type": "stream",
     "text": [
      " 51%|████████████████████████████████████▍                                   | 7510/14835 [00:37<00:34, 211.93it/s]"
     ]
    },
    {
     "name": "stdout",
     "output_type": "stream",
     "text": [
      "4q8u_A_rec_1f3e_dpz_lig_tt_min_0 8\n"
     ]
    },
    {
     "name": "stderr",
     "output_type": "stream",
     "text": [
      " 52%|█████████████████████████████████████▌                                  | 7727/14835 [00:38<00:29, 237.35it/s][21:41:20] Explicit valence for atom # 4 N, 4, is greater than permitted\n",
      " 52%|█████████████████████████████████████▋                                  | 7775/14835 [00:38<00:30, 230.50it/s]"
     ]
    },
    {
     "name": "stdout",
     "output_type": "stream",
     "text": [
      "ligand init failed\n"
     ]
    },
    {
     "name": "stderr",
     "output_type": "stream",
     "text": [
      " 53%|██████████████████████████████████████▎                                 | 7888/14835 [00:39<00:34, 202.78it/s]"
     ]
    },
    {
     "name": "stdout",
     "output_type": "stream",
     "text": [
      "2qzr_A_rec_1s38_maq_lig_tt_min_0 4\n"
     ]
    },
    {
     "name": "stderr",
     "output_type": "stream",
     "text": [
      " 53%|██████████████████████████████████████▌                                 | 7934/14835 [00:39<00:31, 215.84it/s][21:41:21] Explicit valence for atom # 16 N, 4, is greater than permitted\n",
      " 54%|██████████████████████████████████████▋                                 | 7984/14835 [00:39<00:30, 227.07it/s]"
     ]
    },
    {
     "name": "stdout",
     "output_type": "stream",
     "text": [
      "ligand init failed\n"
     ]
    },
    {
     "name": "stderr",
     "output_type": "stream",
     "text": [
      " 55%|███████████████████████████████████████▊                                | 8212/14835 [00:40<00:31, 208.78it/s]"
     ]
    },
    {
     "name": "stdout",
     "output_type": "stream",
     "text": [
      "4q4p_A_rec_1f3e_dpz_lig_tt_min_0 8\n"
     ]
    },
    {
     "name": "stderr",
     "output_type": "stream",
     "text": [
      " 56%|████████████████████████████████████████▏                               | 8283/14835 [00:41<00:29, 225.09it/s]"
     ]
    },
    {
     "name": "stdout",
     "output_type": "stream",
     "text": [
      "4gi4_A_rec_1f3e_dpz_lig_tt_min_0 8\n",
      "4rl2_B_rec_4eyf_pnk_lig_tt_docked_0 5\n"
     ]
    },
    {
     "name": "stderr",
     "output_type": "stream",
     "text": [
      " 56%|████████████████████████████████████████▋                               | 8375/14835 [00:42<00:41, 155.76it/s]"
     ]
    },
    {
     "name": "stdout",
     "output_type": "stream",
     "text": [
      "5eob_A_rec_3i5n_b2d_lig_tt_docked_0 4\n"
     ]
    },
    {
     "name": "stderr",
     "output_type": "stream",
     "text": [
      " 57%|████████████████████████████████████████▉                               | 8445/14835 [00:42<00:32, 193.86it/s]"
     ]
    },
    {
     "name": "stdout",
     "output_type": "stream",
     "text": [
      "2buq_A_rec_2buz_4nc_lig_tt_min_0 6\n",
      "4ts8_A_rec_4yk0_98_lig_tt_min_0 4\n"
     ]
    },
    {
     "name": "stderr",
     "output_type": "stream",
     "text": [
      " 58%|█████████████████████████████████████████▉                              | 8633/14835 [00:43<00:28, 217.53it/s][21:41:25] atom 0 has specified valence (1) smaller than the drawn valence 2.\n",
      "[21:41:25] atom 4 has specified valence (4) smaller than the drawn valence 5.\n",
      "==============================\n",
      "*** Open Babel Warning  in ReadMolecule\n",
      "  WARNING: Problem interpreting the valence field of an atom\n",
      "The valence field specifies a valence 1 that is\n",
      "less than the observed explicit valence 2.\n",
      "\n",
      "==============================\n",
      "*** Open Babel Warning  in ReadMolecule\n",
      "  WARNING: Problem interpreting the valence field of an atom\n",
      "The valence field specifies a valence 1 that is\n",
      "less than the observed explicit valence 2.\n",
      "WARNING: Problem interpreting the valence field of an atom\n",
      "The valence field specifies a valence 4 that is\n",
      "less than the observed explicit valence 5.\n",
      "\n",
      " 58%|██████████████████████████████████████████                              | 8657/14835 [00:43<00:27, 222.22it/s]"
     ]
    },
    {
     "name": "stdout",
     "output_type": "stream",
     "text": [
      "1ozm_A_rec_1f3e_dpz_lig_tt_docked_1 8\n"
     ]
    },
    {
     "name": "stderr",
     "output_type": "stream",
     "text": [
      " 59%|██████████████████████████████████████████▍                             | 8747/14835 [00:43<00:28, 210.41it/s]"
     ]
    },
    {
     "name": "stdout",
     "output_type": "stream",
     "text": [
      "2wgj_A_rec_3ccn_lkg_lig_tt_docked_0 4\n",
      "4mrf_A_rec_4mre_2c9_lig_tt_min_0 6\n"
     ]
    },
    {
     "name": "stderr",
     "output_type": "stream",
     "text": [
      " 59%|██████████████████████████████████████████▋                             | 8795/14835 [00:43<00:27, 220.34it/s][21:41:26] Explicit valence for atom # 12 N, 4, is greater than permitted\n",
      " 60%|██████████████████████████████████████████▉                             | 8841/14835 [00:44<00:27, 219.11it/s]"
     ]
    },
    {
     "name": "stdout",
     "output_type": "stream",
     "text": [
      "ligand init failed\n"
     ]
    },
    {
     "name": "stderr",
     "output_type": "stream",
     "text": [
      " 61%|███████████████████████████████████████████▉                            | 9054/14835 [00:45<00:26, 216.34it/s]"
     ]
    },
    {
     "name": "stdout",
     "output_type": "stream",
     "text": [
      "1q2r_A_rec_1enu_apz_lig_tt_min_0 7\n"
     ]
    },
    {
     "name": "stderr",
     "output_type": "stream",
     "text": [
      " 63%|█████████████████████████████████████████████▎                          | 9339/14835 [00:46<00:28, 193.40it/s]"
     ]
    },
    {
     "name": "stdout",
     "output_type": "stream",
     "text": [
      "5lyw_A_rec_5lyw_7bh_lig_tt_min_0 4\n",
      "1s38_A_rec_1q2r_9dg_lig_tt_min_0 8\n"
     ]
    },
    {
     "name": "stderr",
     "output_type": "stream",
     "text": [
      " 64%|█████████████████████████████████████████████▊                          | 9440/14835 [00:47<00:23, 227.94it/s]"
     ]
    },
    {
     "name": "stdout",
     "output_type": "stream",
     "text": [
      "1eoc_A_rec_2buz_4nc_lig_tt_min_0 6\n"
     ]
    },
    {
     "name": "stderr",
     "output_type": "stream",
     "text": [
      " 65%|██████████████████████████████████████████████▌                         | 9583/14835 [00:47<00:23, 219.60it/s][21:41:30] Explicit valence for atom # 6 N, 4, is greater than permitted\n",
      " 65%|██████████████████████████████████████████████▌                         | 9606/14835 [00:48<00:23, 220.01it/s]"
     ]
    },
    {
     "name": "stdout",
     "output_type": "stream",
     "text": [
      "2bur_A_rec_2buz_4nc_lig_tt_min_0 6\n",
      "ligand init failed\n",
      "ligand init failed\n"
     ]
    },
    {
     "name": "stderr",
     "output_type": "stream",
     "text": [
      "[21:41:30] Explicit valence for atom # 0 N, 4, is greater than permitted\n",
      " 66%|███████████████████████████████████████████████▎                        | 9759/14835 [00:48<00:21, 237.50it/s]"
     ]
    },
    {
     "name": "stdout",
     "output_type": "stream",
     "text": [
      "3eue_A_rec_3nbq_urf_lig_tt_min_0 6\n",
      "5bzf_A_rec_5bzg_4x6_lig_tt_min_0 7\n",
      "5bzg_A_rec_5bzg_4x6_lig_tt_min_0 7\n"
     ]
    },
    {
     "name": "stderr",
     "output_type": "stream",
     "text": [
      " 66%|███████████████████████████████████████████████▋                        | 9831/14835 [00:49<00:22, 225.62it/s]"
     ]
    },
    {
     "name": "stdout",
     "output_type": "stream",
     "text": [
      "5i02_A_rec_1f3e_dpz_lig_tt_min_0 8\n"
     ]
    },
    {
     "name": "stderr",
     "output_type": "stream",
     "text": [
      " 67%|████████████████████████████████████████████████▎                       | 9953/14835 [00:49<00:21, 221.98it/s]"
     ]
    },
    {
     "name": "stdout",
     "output_type": "stream",
     "text": [
      "4gg9_A_rec_1q2r_9dg_lig_tt_min_0 8\n",
      "4q8t_A_rec_1s39_aqo_lig_tt_min_0 8\n"
     ]
    },
    {
     "name": "stderr",
     "output_type": "stream",
     "text": [
      "[21:41:31] Explicit valence for atom # 0 N, 4, is greater than permitted\n",
      " 67%|███████████████████████████████████████████████▊                       | 10002/14835 [00:49<00:20, 231.27it/s]"
     ]
    },
    {
     "name": "stdout",
     "output_type": "stream",
     "text": [
      "ligand init failed\n"
     ]
    },
    {
     "name": "stderr",
     "output_type": "stream",
     "text": [
      " 68%|████████████████████████████████████████████████▏                      | 10079/14835 [00:50<00:19, 240.82it/s]"
     ]
    },
    {
     "name": "stdout",
     "output_type": "stream",
     "text": [
      "3b9j_C_rec_3ns1_pm6_lig_tt_min_0 7\n"
     ]
    },
    {
     "name": "stderr",
     "output_type": "stream",
     "text": [
      " 69%|████████████████████████████████████████████████▋                      | 10178/14835 [00:50<00:19, 234.07it/s]"
     ]
    },
    {
     "name": "stdout",
     "output_type": "stream",
     "text": [
      "4q8v_A_rec_1q2r_9dg_lig_tt_min_0 8\n",
      "5bzs_A_rec_4mre_2c9_lig_tt_min_0 7\n"
     ]
    },
    {
     "name": "stderr",
     "output_type": "stream",
     "text": [
      " 69%|█████████████████████████████████████████████████                      | 10255/14835 [00:50<00:19, 238.41it/s]"
     ]
    },
    {
     "name": "stdout",
     "output_type": "stream",
     "text": [
      "5ep7_A_rec_3p1f_3pf_lig_tt_min_0 6\n",
      "3nbq_B_rec_3nbq_urf_lig_tt_min_0 6\n",
      "4eyf_A_rec_4eyf_pnk_lig_tt_min_0 4\n"
     ]
    },
    {
     "name": "stderr",
     "output_type": "stream",
     "text": [
      " 71%|██████████████████████████████████████████████████▎                    | 10504/14835 [00:52<00:20, 209.52it/s]"
     ]
    },
    {
     "name": "stdout",
     "output_type": "stream",
     "text": [
      "1q2r_A_rec_1f3e_dpz_lig_tt_min_0 8\n"
     ]
    },
    {
     "name": "stderr",
     "output_type": "stream",
     "text": [
      " 72%|██████████████████████████████████████████████████▊                    | 10627/14835 [00:52<00:18, 223.57it/s]"
     ]
    },
    {
     "name": "stdout",
     "output_type": "stream",
     "text": [
      "4xue_B_rec_5lsa_dnc_lig_tt_docked_10 6\n",
      "1oty_A_rec_1oty_6mp_lig_tt_min_0 7\n",
      "1efz_A_rec_1f3e_dpz_lig_tt_min_0 8\n",
      "5bzc_A_rec_5bzg_4x6_lig_tt_min_0 7\n"
     ]
    },
    {
     "name": "stderr",
     "output_type": "stream",
     "text": [
      " 72%|███████████████████████████████████████████████████▏                   | 10699/14835 [00:53<00:17, 231.87it/s][21:41:35] atom 0 has specified valence (1) smaller than the drawn valence 2.\n",
      "[21:41:35] atom 7 has specified valence (3) smaller than the drawn valence 4.\n",
      "==============================\n",
      "*** Open Babel Warning  in ReadMolecule\n",
      "  WARNING: Problem interpreting the valence field of an atom\n",
      "The valence field specifies a valence 1 that is\n",
      "less than the observed explicit valence 2.\n",
      "\n",
      "==============================\n",
      "*** Open Babel Warning  in ReadMolecule\n",
      "  WARNING: Problem interpreting the valence field of an atom\n",
      "The valence field specifies a valence 1 that is\n",
      "less than the observed explicit valence 2.\n",
      "WARNING: Problem interpreting the valence field of an atom\n",
      "The valence field specifies a valence 3 that is\n",
      "less than the observed explicit valence 4.\n",
      "\n",
      " 72%|███████████████████████████████████████████████████▍                   | 10746/14835 [00:53<00:18, 221.20it/s][21:41:35] Explicit valence for atom # 8 N, 4, is greater than permitted\n",
      " 73%|███████████████████████████████████████████████████▋                   | 10797/14835 [00:53<00:17, 236.83it/s]"
     ]
    },
    {
     "name": "stdout",
     "output_type": "stream",
     "text": [
      "1enu_A_rec_1f3e_dpz_lig_tt_min_0 8\n",
      "ligand init failed\n"
     ]
    },
    {
     "name": "stderr",
     "output_type": "stream",
     "text": [
      "[21:41:35] Explicit valence for atom # 31 N, 4, is greater than permitted\n",
      " 73%|███████████████████████████████████████████████████▉                   | 10849/14835 [00:53<00:17, 230.36it/s]"
     ]
    },
    {
     "name": "stdout",
     "output_type": "stream",
     "text": [
      "ligand init failed\n"
     ]
    },
    {
     "name": "stderr",
     "output_type": "stream",
     "text": [
      " 74%|████████████████████████████████████████████████████▍                  | 10946/14835 [00:54<00:17, 228.42it/s]"
     ]
    },
    {
     "name": "stdout",
     "output_type": "stream",
     "text": [
      "4ouf_B_rec_5ktu_6xb_lig_tt_docked_12 4\n",
      "4ffs_A_rec_4ojt_ade_lig_tt_min_0 7\n"
     ]
    },
    {
     "name": "stderr",
     "output_type": "stream",
     "text": [
      " 74%|████████████████████████████████████████████████████▊                  | 11045/14835 [00:54<00:16, 229.21it/s]"
     ]
    },
    {
     "name": "stdout",
     "output_type": "stream",
     "text": [
      "3ny8_A_rec_4ldo_ale_lig_tt_docked_4 7\n",
      "4knb_A_rec_3ccn_lkg_lig_tt_docked_0 4\n",
      "4mrd_A_rec_5bzg_4x6_lig_tt_min_0 7\n"
     ]
    },
    {
     "name": "stderr",
     "output_type": "stream",
     "text": [
      " 75%|█████████████████████████████████████████████████████                  | 11094/14835 [00:54<00:16, 232.09it/s][21:41:37] Explicit valence for atom # 16 N, 4, is greater than permitted\n",
      " 75%|█████████████████████████████████████████████████████▏                 | 11118/14835 [00:55<00:16, 226.01it/s]"
     ]
    },
    {
     "name": "stdout",
     "output_type": "stream",
     "text": [
      "1k9s_D_rec_1a69_fmb_lig_tt_min_0 6\n",
      "ligand init failed\n"
     ]
    },
    {
     "name": "stderr",
     "output_type": "stream",
     "text": [
      " 76%|█████████████████████████████████████████████████████▉                 | 11280/14835 [00:56<00:29, 120.89it/s]"
     ]
    },
    {
     "name": "stdout",
     "output_type": "stream",
     "text": [
      "3ki1_A_rec_3ki3_g9h_lig_tt_min_0 4\n"
     ]
    },
    {
     "name": "stderr",
     "output_type": "stream",
     "text": [
      " 76%|██████████████████████████████████████████████████████                 | 11305/14835 [00:56<00:24, 144.22it/s][21:41:38] Explicit valence for atom # 7 N, 4, is greater than permitted\n",
      " 76%|██████████████████████████████████████████████████████▏                | 11326/14835 [00:56<00:22, 154.04it/s]"
     ]
    },
    {
     "name": "stdout",
     "output_type": "stream",
     "text": [
      "ligand init failed\n"
     ]
    },
    {
     "name": "stderr",
     "output_type": "stream",
     "text": [
      " 77%|██████████████████████████████████████████████████████▋                | 11419/14835 [00:56<00:16, 206.11it/s]"
     ]
    },
    {
     "name": "stdout",
     "output_type": "stream",
     "text": [
      "5i00_A_rec_1enu_apz_lig_tt_min_0 6\n"
     ]
    },
    {
     "name": "stderr",
     "output_type": "stream",
     "text": [
      " 78%|███████████████████████████████████████████████████████▍               | 11587/14835 [00:57<00:13, 236.13it/s]"
     ]
    },
    {
     "name": "stdout",
     "output_type": "stream",
     "text": [
      "5bzt_A_rec_4mre_2c9_lig_tt_min_0 7\n",
      "5bzk_A_rec_5bzg_4x6_lig_tt_min_0 7\n"
     ]
    },
    {
     "name": "stderr",
     "output_type": "stream",
     "text": [
      " 80%|████████████████████████████████████████████████████████▉              | 11895/14835 [00:58<00:13, 212.52it/s]"
     ]
    },
    {
     "name": "stdout",
     "output_type": "stream",
     "text": [
      "5jxq_A_rec_1p0b_pq0_lig_tt_min_0 6\n",
      "5bzr_A_rec_4mre_2c9_lig_tt_min_0 7\n",
      "4dei_A_rec_3cd8_l5g_lig_tt_docked_0 5\n"
     ]
    },
    {
     "name": "stderr",
     "output_type": "stream",
     "text": [
      " 81%|█████████████████████████████████████████████████████████▎             | 11988/14835 [00:59<00:12, 222.16it/s]"
     ]
    },
    {
     "name": "stdout",
     "output_type": "stream",
     "text": [
      "4fr6_A_rec_1p0b_pq0_lig_tt_min_0 7\n",
      "5bzl_A_rec_4mre_2c9_lig_tt_min_0 7\n"
     ]
    },
    {
     "name": "stderr",
     "output_type": "stream",
     "text": [
      " 81%|█████████████████████████████████████████████████████████▊             | 12081/14835 [00:59<00:12, 215.72it/s]"
     ]
    },
    {
     "name": "stdout",
     "output_type": "stream",
     "text": [
      "5bzp_A_rec_4np2_2l1_lig_tt_docked_12 4\n"
     ]
    },
    {
     "name": "stderr",
     "output_type": "stream",
     "text": [
      " 82%|██████████████████████████████████████████████████████████▉             | 12148/14835 [01:00<00:26, 99.95it/s][21:41:42] atom 26 has specified valence (1) smaller than the drawn valence 2.\n",
      "==============================\n",
      "*** Open Babel Warning  in ReadMolecule\n",
      "  WARNING: Problem interpreting the valence field of an atom\n",
      "The valence field specifies a valence 1 that is\n",
      "less than the observed explicit valence 2.\n",
      "\n",
      " 84%|███████████████████████████████████████████████████████████▌           | 12444/14835 [01:02<00:11, 207.92it/s][21:41:44] Explicit valence for atom # 8 N, 4, is greater than permitted\n",
      " 84%|███████████████████████████████████████████████████████████▊           | 12491/14835 [01:02<00:10, 217.43it/s]"
     ]
    },
    {
     "name": "stdout",
     "output_type": "stream",
     "text": [
      "ligand init failed\n"
     ]
    },
    {
     "name": "stderr",
     "output_type": "stream",
     "text": [
      " 85%|████████████████████████████████████████████████████████████▏          | 12585/14835 [01:02<00:09, 226.88it/s]"
     ]
    },
    {
     "name": "stdout",
     "output_type": "stream",
     "text": [
      "5bzj_A_rec_4mre_2c9_lig_tt_min_0 7\n"
     ]
    },
    {
     "name": "stderr",
     "output_type": "stream",
     "text": [
      " 86%|█████████████████████████████████████████████████████████████▎         | 12820/14835 [01:03<00:09, 219.59it/s]"
     ]
    },
    {
     "name": "stdout",
     "output_type": "stream",
     "text": [
      "4puk_A_rec_1enu_apz_lig_tt_min_0 7\n",
      "4yk0_D_rec_4yk0_98_lig_tt_docked_1 4\n"
     ]
    },
    {
     "name": "stderr",
     "output_type": "stream",
     "text": [
      " 88%|██████████████████████████████████████████████████████████████▏        | 12981/14835 [01:04<00:15, 116.53it/s][21:41:47] atom 0 has specified valence (1) smaller than the drawn valence 2.\n",
      "[21:41:47] atom 3 has specified valence (4) smaller than the drawn valence 5.\n",
      "==============================\n",
      "*** Open Babel Warning  in ReadMolecule\n",
      "  WARNING: Problem interpreting the valence field of an atom\n",
      "The valence field specifies a valence 1 that is\n",
      "less than the observed explicit valence 2.\n",
      "\n",
      "==============================\n",
      "*** Open Babel Warning  in ReadMolecule\n",
      "  WARNING: Problem interpreting the valence field of an atom\n",
      "The valence field specifies a valence 1 that is\n",
      "less than the observed explicit valence 2.\n",
      "WARNING: Problem interpreting the valence field of an atom\n",
      "The valence field specifies a valence 4 that is\n",
      "less than the observed explicit valence 5.\n",
      "\n",
      " 88%|██████████████████████████████████████████████████████████████▋        | 13098/14835 [01:05<00:08, 196.22it/s]"
     ]
    },
    {
     "name": "stdout",
     "output_type": "stream",
     "text": [
      "2ei0_A_rec_2ei1_d1n_lig_tt_docked_2 7\n"
     ]
    },
    {
     "name": "stderr",
     "output_type": "stream",
     "text": [
      " 89%|███████████████████████████████████████████████████████████████        | 13167/14835 [01:05<00:07, 212.48it/s][21:41:47] Explicit valence for atom # 8 N, 4, is greater than permitted\n",
      " 89%|███████████████████████████████████████████████████████████████▏       | 13190/14835 [01:05<00:07, 214.08it/s]"
     ]
    },
    {
     "name": "stdout",
     "output_type": "stream",
     "text": [
      "1eob_A_rec_2buu_4nc_lig_tt_min_0 6\n",
      "ligand init failed\n",
      "1oum_A_rec_1oty_6mp_lig_tt_docked_8 7\n"
     ]
    },
    {
     "name": "stderr",
     "output_type": "stream",
     "text": [
      " 90%|███████████████████████████████████████████████████████████████▊       | 13321/14835 [01:06<00:07, 209.97it/s]"
     ]
    },
    {
     "name": "stdout",
     "output_type": "stream",
     "text": [
      "5iu6_A_rec_1oty_6mp_lig_tt_docked_8 7\n"
     ]
    },
    {
     "name": "stderr",
     "output_type": "stream",
     "text": [
      " 90%|███████████████████████████████████████████████████████████████▉       | 13367/14835 [01:06<00:06, 219.29it/s]"
     ]
    },
    {
     "name": "stdout",
     "output_type": "stream",
     "text": [
      "3p1f_A_rec_5mqg_f31_lig_tt_docked_4 7\n",
      "1yw7_A_rec_5ji6_6kn_lig_tt_docked_1 4\n"
     ]
    },
    {
     "name": "stderr",
     "output_type": "stream",
     "text": [
      " 92%|█████████████████████████████████████████████████████████████████▏     | 13617/14835 [01:07<00:05, 239.64it/s]"
     ]
    },
    {
     "name": "stdout",
     "output_type": "stream",
     "text": [
      "5uad_A_rec_3zxz_krw_lig_tt_min_0 4\n"
     ]
    },
    {
     "name": "stderr",
     "output_type": "stream",
     "text": [
      " 92%|█████████████████████████████████████████████████████████████████▌     | 13698/14835 [01:07<00:04, 251.86it/s][21:41:50] atom 25 has specified valence (1) smaller than the drawn valence 2.\n",
      "[21:41:50] atom 29 has specified valence (4) smaller than the drawn valence 5.\n",
      "==============================\n",
      "*** Open Babel Warning  in ReadMolecule\n",
      "  WARNING: Problem interpreting the valence field of an atom\n",
      "The valence field specifies a valence 1 that is\n",
      "less than the observed explicit valence 2.\n",
      "\n",
      "==============================\n",
      "*** Open Babel Warning  in ReadMolecule\n",
      "  WARNING: Problem interpreting the valence field of an atom\n",
      "The valence field specifies a valence 1 that is\n",
      "less than the observed explicit valence 2.\n",
      "WARNING: Problem interpreting the valence field of an atom\n",
      "The valence field specifies a valence 4 that is\n",
      "less than the observed explicit valence 5.\n",
      "\n",
      " 93%|██████████████████████████████████████████████████████████████████▏    | 13828/14835 [01:08<00:04, 240.48it/s][21:41:50] Explicit valence for atom # 3 N, 4, is greater than permitted\n",
      " 94%|██████████████████████████████████████████████████████████████████▍    | 13884/14835 [01:08<00:03, 256.70it/s]"
     ]
    },
    {
     "name": "stdout",
     "output_type": "stream",
     "text": [
      "4lbu_A_rec_1f3e_dpz_lig_tt_min_0 8\n",
      "ligand init failed\n",
      "4q4p_A_rec_1s39_aqo_lig_tt_min_0 8\n"
     ]
    },
    {
     "name": "stderr",
     "output_type": "stream",
     "text": [
      " 94%|██████████████████████████████████████████████████████████████████▊    | 13960/14835 [01:09<00:03, 244.00it/s]"
     ]
    },
    {
     "name": "stdout",
     "output_type": "stream",
     "text": [
      "3rr4_A_rec_1p0b_pq0_lig_tt_min_0 6\n",
      "1vdv_A_rec_3nvw_gun_lig_tt_min_0 7\n"
     ]
    },
    {
     "name": "stderr",
     "output_type": "stream",
     "text": [
      " 96%|███████████████████████████████████████████████████████████████████▊   | 14181/14835 [01:10<00:03, 208.21it/s][21:41:52] atom 15 has specified valence (1) smaller than the drawn valence 2.\n",
      "[21:41:52] atom 19 has specified valence (4) smaller than the drawn valence 5.\n",
      "==============================\n",
      "*** Open Babel Warning  in ReadMolecule\n",
      "  WARNING: Problem interpreting the valence field of an atom\n",
      "The valence field specifies a valence 1 that is\n",
      "less than the observed explicit valence 2.\n",
      "\n",
      "==============================\n",
      "*** Open Babel Warning  in ReadMolecule\n",
      "  WARNING: Problem interpreting the valence field of an atom\n",
      "The valence field specifies a valence 1 that is\n",
      "less than the observed explicit valence 2.\n",
      "WARNING: Problem interpreting the valence field of an atom\n",
      "The valence field specifies a valence 4 that is\n",
      "less than the observed explicit valence 5.\n",
      "\n",
      " 96%|████████████████████████████████████████████████████████████████████   | 14231/14835 [01:10<00:02, 225.48it/s]"
     ]
    },
    {
     "name": "stdout",
     "output_type": "stream",
     "text": [
      "2vch_A_rec_2vce_tc7_lig_tt_min_0 6\n"
     ]
    },
    {
     "name": "stderr",
     "output_type": "stream",
     "text": [
      " 97%|████████████████████████████████████████████████████████████████████▋  | 14355/14835 [01:11<00:02, 231.22it/s]"
     ]
    },
    {
     "name": "stdout",
     "output_type": "stream",
     "text": [
      "3ki3_A_rec_3ess_18n_lig_tt_docked_3 8\n"
     ]
    },
    {
     "name": "stderr",
     "output_type": "stream",
     "text": [
      " 97%|████████████████████████████████████████████████████████████████████▊  | 14379/14835 [01:11<00:02, 223.71it/s][21:41:53] Explicit valence for atom # 14 N, 4, is greater than permitted\n",
      " 97%|█████████████████████████████████████████████████████████████████████  | 14425/14835 [01:11<00:01, 219.02it/s]"
     ]
    },
    {
     "name": "stdout",
     "output_type": "stream",
     "text": [
      "ligand init failed\n"
     ]
    },
    {
     "name": "stderr",
     "output_type": "stream",
     "text": [
      " 98%|█████████████████████████████████████████████████████████████████████▎ | 14495/14835 [01:11<00:01, 217.58it/s][21:41:54] Explicit valence for atom # 4 N, 4, is greater than permitted\n",
      " 98%|█████████████████████████████████████████████████████████████████████▌ | 14539/14835 [01:12<00:01, 212.96it/s]"
     ]
    },
    {
     "name": "stdout",
     "output_type": "stream",
     "text": [
      "ligand init failed\n"
     ]
    },
    {
     "name": "stderr",
     "output_type": "stream",
     "text": [
      " 98%|█████████████████████████████████████████████████████████████████████▊ | 14583/14835 [01:12<00:01, 212.41it/s][21:41:54] atom 0 has specified valence (4) smaller than the drawn valence 5.\n",
      "[21:41:54] atom 1 has specified valence (1) smaller than the drawn valence 2.\n",
      "==============================\n",
      "*** Open Babel Warning  in ReadMolecule\n",
      "  WARNING: Problem interpreting the valence field of an atom\n",
      "The valence field specifies a valence 4 that is\n",
      "less than the observed explicit valence 5.\n",
      "\n",
      "==============================\n",
      "*** Open Babel Warning  in ReadMolecule\n",
      "  WARNING: Problem interpreting the valence field of an atom\n",
      "The valence field specifies a valence 4 that is\n",
      "less than the observed explicit valence 5.\n",
      "WARNING: Problem interpreting the valence field of an atom\n",
      "The valence field specifies a valence 1 that is\n",
      "less than the observed explicit valence 2.\n",
      "\n",
      " 99%|██████████████████████████████████████████████████████████████████████ | 14631/14835 [01:12<00:00, 207.61it/s]"
     ]
    },
    {
     "name": "stdout",
     "output_type": "stream",
     "text": [
      "2buu_A_rec_1eoc_4nc_lig_tt_min_0 6\n"
     ]
    },
    {
     "name": "stderr",
     "output_type": "stream",
     "text": [
      " 99%|██████████████████████████████████████████████████████████████████████ | 14652/14835 [01:12<00:00, 204.74it/s][21:41:54] atom 23 has specified valence (4) smaller than the drawn valence 5.\n",
      "[21:41:54] atom 24 has specified valence (1) smaller than the drawn valence 2.\n",
      "==============================\n",
      "*** Open Babel Warning  in ReadMolecule\n",
      "  WARNING: Problem interpreting the valence field of an atom\n",
      "The valence field specifies a valence 4 that is\n",
      "less than the observed explicit valence 5.\n",
      "\n",
      "==============================\n",
      "*** Open Babel Warning  in ReadMolecule\n",
      "  WARNING: Problem interpreting the valence field of an atom\n",
      "The valence field specifies a valence 4 that is\n",
      "less than the observed explicit valence 5.\n",
      "WARNING: Problem interpreting the valence field of an atom\n",
      "The valence field specifies a valence 1 that is\n",
      "less than the observed explicit valence 2.\n",
      "\n",
      " 99%|██████████████████████████████████████████████████████████████████████▎| 14696/14835 [01:12<00:00, 208.82it/s][21:41:55] Explicit valence for atom # 8 N, 4, is greater than permitted\n",
      " 99%|██████████████████████████████████████████████████████████████████████▌| 14745/14835 [01:13<00:00, 221.20it/s]"
     ]
    },
    {
     "name": "stdout",
     "output_type": "stream",
     "text": [
      "ligand init failed\n"
     ]
    },
    {
     "name": "stderr",
     "output_type": "stream",
     "text": [
      "100%|███████████████████████████████████████████████████████████████████████| 14835/14835 [01:13<00:00, 201.96it/s]"
     ]
    },
    {
     "name": "stdout",
     "output_type": "stream",
     "text": [
      "3nvv_C_rec_3nvw_gun_lig_tt_min_0 7\n"
     ]
    },
    {
     "name": "stderr",
     "output_type": "stream",
     "text": [
      "\n"
     ]
    }
   ],
   "source": [
    "match_dict, score_dict, aro_match_l = compute_matching_scores(gen_path, pp_info, typ=2)"
   ]
  },
  {
   "cell_type": "code",
   "execution_count": 44,
   "id": "4cf7f902-83ae-49f2-9139-5c80cdfc75b0",
   "metadata": {},
   "outputs": [
    {
     "data": {
      "text/plain": [
       "[('4yur_A_rec_3cok_anp_lig_tt_min_0', 5),\n",
       " ('3nbq_B_rec_3nbq_urf_lig_tt_docked_2', 6),\n",
       " ('4gi4_A_rec_1s38_maq_lig_tt_min_0', 4),\n",
       " ('3p1c_B_rec_3p1f_3pf_lig_tt_min_0', 6),\n",
       " ('1pw7_A_rec_1oty_6mp_lig_tt_min_0', 7),\n",
       " ('5swg_A_rec_5swt_71a_lig_tt_min_0', 6),\n",
       " ('4np3_A_rec_4np3_2l2_lig_tt_min_0', 4),\n",
       " ('4q4s_A_rec_1p0b_pq0_lig_tt_min_0', 7),\n",
       " ('4np3_A_rec_4np2_2l1_lig_tt_min_0', 4),\n",
       " ('5eyc_A_rec_3i5n_b2d_lig_tt_docked_0', 5),\n",
       " ('5bzf_A_rec_4np2_2l1_lig_tt_min_0', 4),\n",
       " ('4gg9_A_rec_1s38_maq_lig_tt_min_0', 4),\n",
       " ('5lpq_A_rec_1s38_maq_lig_tt_min_0', 4),\n",
       " ('3euf_A_rec_3nbq_urf_lig_tt_min_0', 6),\n",
       " ('2vce_A_rec_2vce_tc7_lig_tt_docked_0', 6),\n",
       " ('4xud_A_rec_5lsa_dnc_lig_tt_docked_2', 6),\n",
       " ('3nvw_C_rec_3nvw_gun_lig_tt_min_0', 7),\n",
       " ('1eoc_A_rec_2buz_4nc_lig_tt_docked_4', 6),\n",
       " ('4deh_A_rec_3i5n_b2d_lig_tt_docked_0', 4),\n",
       " ('1y5x_A_rec_4puk_2wu_lig_tt_min_0', 6),\n",
       " ('5egr_A_rec_1f3e_dpz_lig_tt_min_0', 8),\n",
       " ('5bzq_A_rec_5bzi_4wu_lig_tt_min_0', 7),\n",
       " ('2bur_A_rec_1eoc_4nc_lig_tt_min_0', 6),\n",
       " ('1k4h_A_rec_1p0b_pq0_lig_tt_docked_0', 6),\n",
       " ('5egr_A_rec_1s38_maq_lig_tt_docked_0', 4),\n",
       " ('4nyw_A_rec_4yk0_98_lig_tt_min_0', 4),\n",
       " ('3c2y_A_rec_1s38_maq_lig_tt_min_0', 4),\n",
       " ('1eob_A_rec_2buz_4nc_lig_tt_min_0', 6),\n",
       " ('4mrg_A_rec_5bzf_4x3_lig_tt_docked_2', 6),\n",
       " ('4xuc_A_rec_5lsa_dnc_lig_tt_min_0', 6),\n",
       " ('1kwc_B_rec_1eir_bpy_lig_tt_min_0', 6),\n",
       " ('2vce_A_rec_2vce_tc7_lig_tt_min_0', 6),\n",
       " ('5mme_A_rec_4nr4_2lk_lig_tt_min_0', 5),\n",
       " ('5eob_A_rec_4ap7_f47_lig_tt_docked_0', 4),\n",
       " ('1y5v_A_rec_1f3e_dpz_lig_tt_min_0', 8),\n",
       " ('5bzc_A_rec_4mre_2c9_lig_tt_min_0', 7),\n",
       " ('4q4o_A_rec_1enu_apz_lig_tt_min_0', 7),\n",
       " ('1eoc_A_rec_1eoc_4nc_lig_tt_min_0', 6),\n",
       " ('5bzj_A_rec_4np2_2l1_lig_tt_docked_10', 4),\n",
       " ('5mpz_A_rec_5mqg_f31_lig_tt_docked_3', 6),\n",
       " ('4q4s_A_rec_4gi4_0ex_lig_tt_min_0', 4),\n",
       " ('4k8a_B_rec_4kab_4ka_lig_tt_min_0', 7),\n",
       " ('5bze_A_rec_5bzg_4x6_lig_tt_min_0', 7),\n",
       " ('3zxz_A_rec_3cd8_l5g_lig_tt_docked_0', 4),\n",
       " ('4q4o_A_rec_1f3e_dpz_lig_tt_min_0', 8),\n",
       " ('4q8w_A_rec_1f3e_dpz_lig_tt_min_0', 8),\n",
       " ('5jsw_A_rec_1enu_apz_lig_tt_min_0', 7),\n",
       " ('3ns1_L_rec_3ns1_pm6_lig_tt_min_0', 7),\n",
       " ('4mrg_A_rec_5bzg_4x6_lig_tt_min_0', 7),\n",
       " ('5i86_B_rec_4yk0_98_lig_tt_min_0', 4),\n",
       " ('4gh1_A_rec_1f3e_dpz_lig_tt_min_0', 8),\n",
       " ('3sr6_C_rec_3ns1_pm6_lig_tt_min_0', 7),\n",
       " ('4q8u_A_rec_1f3e_dpz_lig_tt_min_0', 8),\n",
       " ('2qzr_A_rec_1s38_maq_lig_tt_min_0', 4),\n",
       " ('4q4p_A_rec_1f3e_dpz_lig_tt_min_0', 8),\n",
       " ('4gi4_A_rec_1f3e_dpz_lig_tt_min_0', 8),\n",
       " ('4rl2_B_rec_4eyf_pnk_lig_tt_docked_0', 5),\n",
       " ('5eob_A_rec_3i5n_b2d_lig_tt_docked_0', 4),\n",
       " ('2buq_A_rec_2buz_4nc_lig_tt_min_0', 6),\n",
       " ('4ts8_A_rec_4yk0_98_lig_tt_min_0', 4),\n",
       " ('1ozm_A_rec_1f3e_dpz_lig_tt_docked_1', 8),\n",
       " ('2wgj_A_rec_3ccn_lkg_lig_tt_docked_0', 4),\n",
       " ('4mrf_A_rec_4mre_2c9_lig_tt_min_0', 6),\n",
       " ('1q2r_A_rec_1enu_apz_lig_tt_min_0', 7),\n",
       " ('5lyw_A_rec_5lyw_7bh_lig_tt_min_0', 4),\n",
       " ('1s38_A_rec_1q2r_9dg_lig_tt_min_0', 8),\n",
       " ('1eoc_A_rec_2buz_4nc_lig_tt_min_0', 6),\n",
       " ('2bur_A_rec_2buz_4nc_lig_tt_min_0', 6),\n",
       " ('3eue_A_rec_3nbq_urf_lig_tt_min_0', 6),\n",
       " ('5bzf_A_rec_5bzg_4x6_lig_tt_min_0', 7),\n",
       " ('5bzg_A_rec_5bzg_4x6_lig_tt_min_0', 7),\n",
       " ('5i02_A_rec_1f3e_dpz_lig_tt_min_0', 8),\n",
       " ('4gg9_A_rec_1q2r_9dg_lig_tt_min_0', 8),\n",
       " ('4q8t_A_rec_1s39_aqo_lig_tt_min_0', 8),\n",
       " ('3b9j_C_rec_3ns1_pm6_lig_tt_min_0', 7),\n",
       " ('4q8v_A_rec_1q2r_9dg_lig_tt_min_0', 8),\n",
       " ('5bzs_A_rec_4mre_2c9_lig_tt_min_0', 7),\n",
       " ('5ep7_A_rec_3p1f_3pf_lig_tt_min_0', 6),\n",
       " ('3nbq_B_rec_3nbq_urf_lig_tt_min_0', 6),\n",
       " ('4eyf_A_rec_4eyf_pnk_lig_tt_min_0', 4),\n",
       " ('1q2r_A_rec_1f3e_dpz_lig_tt_min_0', 8),\n",
       " ('4xue_B_rec_5lsa_dnc_lig_tt_docked_10', 6),\n",
       " ('1oty_A_rec_1oty_6mp_lig_tt_min_0', 7),\n",
       " ('1efz_A_rec_1f3e_dpz_lig_tt_min_0', 8),\n",
       " ('5bzc_A_rec_5bzg_4x6_lig_tt_min_0', 7),\n",
       " ('1enu_A_rec_1f3e_dpz_lig_tt_min_0', 8),\n",
       " ('4ouf_B_rec_5ktu_6xb_lig_tt_docked_12', 4),\n",
       " ('4ffs_A_rec_4ojt_ade_lig_tt_min_0', 7),\n",
       " ('3ny8_A_rec_4ldo_ale_lig_tt_docked_4', 7),\n",
       " ('4knb_A_rec_3ccn_lkg_lig_tt_docked_0', 4),\n",
       " ('4mrd_A_rec_5bzg_4x6_lig_tt_min_0', 7),\n",
       " ('1k9s_D_rec_1a69_fmb_lig_tt_min_0', 6),\n",
       " ('3ki1_A_rec_3ki3_g9h_lig_tt_min_0', 4),\n",
       " ('5i00_A_rec_1enu_apz_lig_tt_min_0', 6),\n",
       " ('5bzt_A_rec_4mre_2c9_lig_tt_min_0', 7),\n",
       " ('5bzk_A_rec_5bzg_4x6_lig_tt_min_0', 7),\n",
       " ('5jxq_A_rec_1p0b_pq0_lig_tt_min_0', 6),\n",
       " ('5bzr_A_rec_4mre_2c9_lig_tt_min_0', 7),\n",
       " ('4dei_A_rec_3cd8_l5g_lig_tt_docked_0', 5),\n",
       " ('4fr6_A_rec_1p0b_pq0_lig_tt_min_0', 7),\n",
       " ('5bzl_A_rec_4mre_2c9_lig_tt_min_0', 7),\n",
       " ('5bzp_A_rec_4np2_2l1_lig_tt_docked_12', 4),\n",
       " ('5bzj_A_rec_4mre_2c9_lig_tt_min_0', 7),\n",
       " ('4puk_A_rec_1enu_apz_lig_tt_min_0', 7),\n",
       " ('4yk0_D_rec_4yk0_98_lig_tt_docked_1', 4),\n",
       " ('2ei0_A_rec_2ei1_d1n_lig_tt_docked_2', 7),\n",
       " ('1eob_A_rec_2buu_4nc_lig_tt_min_0', 6),\n",
       " ('1oum_A_rec_1oty_6mp_lig_tt_docked_8', 7),\n",
       " ('5iu6_A_rec_1oty_6mp_lig_tt_docked_8', 7),\n",
       " ('3p1f_A_rec_5mqg_f31_lig_tt_docked_4', 7),\n",
       " ('1yw7_A_rec_5ji6_6kn_lig_tt_docked_1', 4),\n",
       " ('5uad_A_rec_3zxz_krw_lig_tt_min_0', 4),\n",
       " ('4lbu_A_rec_1f3e_dpz_lig_tt_min_0', 8),\n",
       " ('4q4p_A_rec_1s39_aqo_lig_tt_min_0', 8),\n",
       " ('3rr4_A_rec_1p0b_pq0_lig_tt_min_0', 6),\n",
       " ('1vdv_A_rec_3nvw_gun_lig_tt_min_0', 7),\n",
       " ('2vch_A_rec_2vce_tc7_lig_tt_min_0', 6),\n",
       " ('3ki3_A_rec_3ess_18n_lig_tt_docked_3', 8),\n",
       " ('2buu_A_rec_1eoc_4nc_lig_tt_min_0', 6),\n",
       " ('3nvv_C_rec_3nvw_gun_lig_tt_min_0', 7)]"
      ]
     },
     "execution_count": 44,
     "metadata": {},
     "output_type": "execute_result"
    }
   ],
   "source": [
    "aro_match_l"
   ]
  },
  {
   "cell_type": "code",
   "execution_count": 45,
   "id": "bdfab4b9-e049-45fb-a542-6aed5d51e14c",
   "metadata": {},
   "outputs": [
    {
     "data": {
      "text/plain": [
       "120"
      ]
     },
     "execution_count": 45,
     "metadata": {},
     "output_type": "execute_result"
    }
   ],
   "source": [
    "len(aro_match_l)"
   ]
  },
  {
   "cell_type": "code",
   "execution_count": 46,
   "id": "f3e4449e-4b55-4588-ba55-092db13de3b8",
   "metadata": {},
   "outputs": [],
   "source": [
    "avg_score_lig_df = pd.read_csv(os.path.join(root_path, fn+'_avg_score_by_lig.csv'), header=0, index_col=0)\n",
    "avg_score_rec_df = pd.read_csv(os.path.join(root_path, fn+'_avg_score_by_rec.csv'), header=0, index_col=0)\n",
    "# score_by_lig"
   ]
  },
  {
   "cell_type": "code",
   "execution_count": 47,
   "id": "fdf23c93-9f7b-4739-a907-7d2d1ad9e9d0",
   "metadata": {},
   "outputs": [
    {
     "data": {
      "text/html": [
       "<div>\n",
       "<style scoped>\n",
       "    .dataframe tbody tr th:only-of-type {\n",
       "        vertical-align: middle;\n",
       "    }\n",
       "\n",
       "    .dataframe tbody tr th {\n",
       "        vertical-align: top;\n",
       "    }\n",
       "\n",
       "    .dataframe thead th {\n",
       "        text-align: right;\n",
       "    }\n",
       "</style>\n",
       "<table border=\"1\" class=\"dataframe\">\n",
       "  <thead>\n",
       "    <tr style=\"text-align: right;\">\n",
       "      <th></th>\n",
       "      <th>score</th>\n",
       "      <th>num sample</th>\n",
       "    </tr>\n",
       "  </thead>\n",
       "  <tbody>\n",
       "    <tr>\n",
       "      <th>mb3</th>\n",
       "      <td>1.000000</td>\n",
       "      <td>60</td>\n",
       "    </tr>\n",
       "    <tr>\n",
       "      <th>fa1</th>\n",
       "      <td>0.961039</td>\n",
       "      <td>11</td>\n",
       "    </tr>\n",
       "    <tr>\n",
       "      <th>ae3</th>\n",
       "      <td>0.953125</td>\n",
       "      <td>32</td>\n",
       "    </tr>\n",
       "    <tr>\n",
       "      <th>pge</th>\n",
       "      <td>0.906250</td>\n",
       "      <td>24</td>\n",
       "    </tr>\n",
       "    <tr>\n",
       "      <th>6te</th>\n",
       "      <td>0.900000</td>\n",
       "      <td>11</td>\n",
       "    </tr>\n",
       "    <tr>\n",
       "      <th>...</th>\n",
       "      <td>...</td>\n",
       "      <td>...</td>\n",
       "    </tr>\n",
       "    <tr>\n",
       "      <th>2ck</th>\n",
       "      <td>0.505376</td>\n",
       "      <td>31</td>\n",
       "    </tr>\n",
       "    <tr>\n",
       "      <th>dqu</th>\n",
       "      <td>0.502778</td>\n",
       "      <td>90</td>\n",
       "    </tr>\n",
       "    <tr>\n",
       "      <th>5wv</th>\n",
       "      <td>0.500000</td>\n",
       "      <td>18</td>\n",
       "    </tr>\n",
       "    <tr>\n",
       "      <th>30x</th>\n",
       "      <td>0.500000</td>\n",
       "      <td>11</td>\n",
       "    </tr>\n",
       "    <tr>\n",
       "      <th>6xb</th>\n",
       "      <td>0.500000</td>\n",
       "      <td>48</td>\n",
       "    </tr>\n",
       "  </tbody>\n",
       "</table>\n",
       "<p>166 rows × 2 columns</p>\n",
       "</div>"
      ],
      "text/plain": [
       "        score  num sample\n",
       "mb3  1.000000          60\n",
       "fa1  0.961039          11\n",
       "ae3  0.953125          32\n",
       "pge  0.906250          24\n",
       "6te  0.900000          11\n",
       "..        ...         ...\n",
       "2ck  0.505376          31\n",
       "dqu  0.502778          90\n",
       "5wv  0.500000          18\n",
       "30x  0.500000          11\n",
       "6xb  0.500000          48\n",
       "\n",
       "[166 rows x 2 columns]"
      ]
     },
     "execution_count": 47,
     "metadata": {},
     "output_type": "execute_result"
    }
   ],
   "source": [
    "filtered_lig = avg_score_lig_df[(avg_score_lig_df['score'] >= 0.5) &\n",
    "                                (avg_score_lig_df['num sample'] >= 10)]\n",
    "filtered_lig"
   ]
  },
  {
   "cell_type": "code",
   "execution_count": 48,
   "id": "7ff6f32c-16bc-400a-a282-66266da90c57",
   "metadata": {
    "scrolled": true
   },
   "outputs": [
    {
     "data": {
      "text/html": [
       "<div>\n",
       "<style scoped>\n",
       "    .dataframe tbody tr th:only-of-type {\n",
       "        vertical-align: middle;\n",
       "    }\n",
       "\n",
       "    .dataframe tbody tr th {\n",
       "        vertical-align: top;\n",
       "    }\n",
       "\n",
       "    .dataframe thead th {\n",
       "        text-align: right;\n",
       "    }\n",
       "</style>\n",
       "<table border=\"1\" class=\"dataframe\">\n",
       "  <thead>\n",
       "    <tr style=\"text-align: right;\">\n",
       "      <th></th>\n",
       "      <th>score</th>\n",
       "      <th>num sample</th>\n",
       "    </tr>\n",
       "  </thead>\n",
       "  <tbody>\n",
       "    <tr>\n",
       "      <th>1e3k_A</th>\n",
       "      <td>0.775073</td>\n",
       "      <td>13</td>\n",
       "    </tr>\n",
       "    <tr>\n",
       "      <th>4apu_B</th>\n",
       "      <td>0.740767</td>\n",
       "      <td>10</td>\n",
       "    </tr>\n",
       "    <tr>\n",
       "      <th>5l0k_B</th>\n",
       "      <td>0.728556</td>\n",
       "      <td>13</td>\n",
       "    </tr>\n",
       "    <tr>\n",
       "      <th>5hx8_A</th>\n",
       "      <td>0.714368</td>\n",
       "      <td>18</td>\n",
       "    </tr>\n",
       "    <tr>\n",
       "      <th>5khx_A</th>\n",
       "      <td>0.714178</td>\n",
       "      <td>20</td>\n",
       "    </tr>\n",
       "    <tr>\n",
       "      <th>...</th>\n",
       "      <td>...</td>\n",
       "      <td>...</td>\n",
       "    </tr>\n",
       "    <tr>\n",
       "      <th>1vdv_A</th>\n",
       "      <td>0.504219</td>\n",
       "      <td>38</td>\n",
       "    </tr>\n",
       "    <tr>\n",
       "      <th>1mdl_A</th>\n",
       "      <td>0.504167</td>\n",
       "      <td>10</td>\n",
       "    </tr>\n",
       "    <tr>\n",
       "      <th>4q4m_A</th>\n",
       "      <td>0.500463</td>\n",
       "      <td>12</td>\n",
       "    </tr>\n",
       "    <tr>\n",
       "      <th>5ep7_A</th>\n",
       "      <td>0.500397</td>\n",
       "      <td>13</td>\n",
       "    </tr>\n",
       "    <tr>\n",
       "      <th>1fm6_U</th>\n",
       "      <td>0.500119</td>\n",
       "      <td>38</td>\n",
       "    </tr>\n",
       "  </tbody>\n",
       "</table>\n",
       "<p>162 rows × 2 columns</p>\n",
       "</div>"
      ],
      "text/plain": [
       "           score  num sample\n",
       "1e3k_A  0.775073          13\n",
       "4apu_B  0.740767          10\n",
       "5l0k_B  0.728556          13\n",
       "5hx8_A  0.714368          18\n",
       "5khx_A  0.714178          20\n",
       "...          ...         ...\n",
       "1vdv_A  0.504219          38\n",
       "1mdl_A  0.504167          10\n",
       "4q4m_A  0.500463          12\n",
       "5ep7_A  0.500397          13\n",
       "1fm6_U  0.500119          38\n",
       "\n",
       "[162 rows x 2 columns]"
      ]
     },
     "execution_count": 48,
     "metadata": {},
     "output_type": "execute_result"
    }
   ],
   "source": [
    "filtered_rec = avg_score_rec_df[(avg_score_rec_df['score'] >= 0.5) &\n",
    "                                (avg_score_rec_df['num sample'] >= 10)]\n",
    "filtered_rec"
   ]
  },
  {
   "cell_type": "code",
   "execution_count": 51,
   "id": "84d1733b-13f0-4a8e-be0e-b2acf5e46aed",
   "metadata": {
    "scrolled": true
   },
   "outputs": [
    {
     "data": {
      "text/plain": [
       "{'0ex',\n",
       " '18n',\n",
       " '2c9',\n",
       " '2l1',\n",
       " '2l2',\n",
       " '2lk',\n",
       " '2wu',\n",
       " '3pf',\n",
       " '4ka',\n",
       " '4nc',\n",
       " '4wu',\n",
       " '4x3',\n",
       " '4x6',\n",
       " '6kn',\n",
       " '6mp',\n",
       " '6xb',\n",
       " '71a',\n",
       " '7bh',\n",
       " '98_',\n",
       " '9dg',\n",
       " 'ade',\n",
       " 'ale',\n",
       " 'anp',\n",
       " 'apz',\n",
       " 'aqo',\n",
       " 'b2d',\n",
       " 'bpy',\n",
       " 'd1n',\n",
       " 'dnc',\n",
       " 'dpz',\n",
       " 'f31',\n",
       " 'f47',\n",
       " 'fmb',\n",
       " 'g9h',\n",
       " 'gun',\n",
       " 'krw',\n",
       " 'l5g',\n",
       " 'lkg',\n",
       " 'maq',\n",
       " 'pm6',\n",
       " 'pnk',\n",
       " 'pq0',\n",
       " 'tc7',\n",
       " 'urf'}"
      ]
     },
     "execution_count": 51,
     "metadata": {},
     "output_type": "execute_result"
    }
   ],
   "source": [
    "aro_match_lig = [lig[0][lig[0].rfind('rec')+9:lig[0].rfind('rec')+12] for lig in aro_match_l]\n",
    "aro_match_lig = set(aro_match_lig)\n",
    "aro_match_lig"
   ]
  },
  {
   "cell_type": "code",
   "execution_count": 52,
   "id": "84bd84ef-dd3d-4336-b732-96fa77fdaeed",
   "metadata": {
    "scrolled": true
   },
   "outputs": [
    {
     "data": {
      "text/plain": [
       "{'1efz_A',\n",
       " '1enu_A',\n",
       " '1eob_A',\n",
       " '1eoc_A',\n",
       " '1k4h_A',\n",
       " '1k9s_D',\n",
       " '1kwc_B',\n",
       " '1oty_A',\n",
       " '1oum_A',\n",
       " '1ozm_A',\n",
       " '1pw7_A',\n",
       " '1q2r_A',\n",
       " '1s38_A',\n",
       " '1vdv_A',\n",
       " '1y5v_A',\n",
       " '1y5x_A',\n",
       " '1yw7_A',\n",
       " '2buq_A',\n",
       " '2bur_A',\n",
       " '2buu_A',\n",
       " '2ei0_A',\n",
       " '2qzr_A',\n",
       " '2vce_A',\n",
       " '2vch_A',\n",
       " '2wgj_A',\n",
       " '3b9j_C',\n",
       " '3c2y_A',\n",
       " '3eue_A',\n",
       " '3euf_A',\n",
       " '3ki1_A',\n",
       " '3ki3_A',\n",
       " '3nbq_B',\n",
       " '3ns1_L',\n",
       " '3nvv_C',\n",
       " '3nvw_C',\n",
       " '3ny8_A',\n",
       " '3p1c_B',\n",
       " '3p1f_A',\n",
       " '3rr4_A',\n",
       " '3sr6_C',\n",
       " '3zxz_A',\n",
       " '4deh_A',\n",
       " '4dei_A',\n",
       " '4eyf_A',\n",
       " '4ffs_A',\n",
       " '4fr6_A',\n",
       " '4gg9_A',\n",
       " '4gh1_A',\n",
       " '4gi4_A',\n",
       " '4k8a_B',\n",
       " '4knb_A',\n",
       " '4lbu_A',\n",
       " '4mrd_A',\n",
       " '4mrf_A',\n",
       " '4mrg_A',\n",
       " '4np3_A',\n",
       " '4nyw_A',\n",
       " '4ouf_B',\n",
       " '4puk_A',\n",
       " '4q4o_A',\n",
       " '4q4p_A',\n",
       " '4q4s_A',\n",
       " '4q8t_A',\n",
       " '4q8u_A',\n",
       " '4q8v_A',\n",
       " '4q8w_A',\n",
       " '4rl2_B',\n",
       " '4ts8_A',\n",
       " '4xuc_A',\n",
       " '4xud_A',\n",
       " '4xue_B',\n",
       " '4yk0_D',\n",
       " '4yur_A',\n",
       " '5bzc_A',\n",
       " '5bze_A',\n",
       " '5bzf_A',\n",
       " '5bzg_A',\n",
       " '5bzj_A',\n",
       " '5bzk_A',\n",
       " '5bzl_A',\n",
       " '5bzp_A',\n",
       " '5bzq_A',\n",
       " '5bzr_A',\n",
       " '5bzs_A',\n",
       " '5bzt_A',\n",
       " '5egr_A',\n",
       " '5eob_A',\n",
       " '5ep7_A',\n",
       " '5eyc_A',\n",
       " '5i00_A',\n",
       " '5i02_A',\n",
       " '5i86_B',\n",
       " '5iu6_A',\n",
       " '5jsw_A',\n",
       " '5jxq_A',\n",
       " '5lpq_A',\n",
       " '5lyw_A',\n",
       " '5mme_A',\n",
       " '5mpz_A',\n",
       " '5swg_A',\n",
       " '5uad_A'}"
      ]
     },
     "execution_count": 52,
     "metadata": {},
     "output_type": "execute_result"
    }
   ],
   "source": [
    "aro_match_rec = set([lig[0][:6] for lig in aro_match_l])\n",
    "aro_match_rec"
   ]
  },
  {
   "cell_type": "code",
   "execution_count": 53,
   "id": "3ec04a0e-3a6f-4540-a9b2-ce67539e4980",
   "metadata": {},
   "outputs": [
    {
     "data": {
      "text/plain": [
       "['4nc',\n",
       " '18n',\n",
       " 'pm6',\n",
       " 'pq0',\n",
       " '6kn',\n",
       " '2c9',\n",
       " 'dpz',\n",
       " 'apz',\n",
       " '4wu',\n",
       " 'f31',\n",
       " 'ale',\n",
       " '6mp',\n",
       " '98_',\n",
       " '9dg',\n",
       " '6xb']"
      ]
     },
     "execution_count": 53,
     "metadata": {},
     "output_type": "execute_result"
    }
   ],
   "source": [
    "[lig for lig in filtered_lig.index.tolist() if lig in aro_match_lig]"
   ]
  },
  {
   "cell_type": "code",
   "execution_count": 54,
   "id": "c1c5e2bb-55fc-482a-a260-905985e3c728",
   "metadata": {},
   "outputs": [
    {
     "data": {
      "text/plain": [
       "['3ny8_A',\n",
       " '5bzf_A',\n",
       " '5bzg_A',\n",
       " '2buq_A',\n",
       " '5bze_A',\n",
       " '4mrg_A',\n",
       " '5bzr_A',\n",
       " '4mrf_A',\n",
       " '3p1f_A',\n",
       " '2buu_A',\n",
       " '1oty_A',\n",
       " '5bzq_A',\n",
       " '5bzc_A',\n",
       " '5mpz_A',\n",
       " '3p1c_B',\n",
       " '4np3_A',\n",
       " '4ts8_A',\n",
       " '1q2r_A',\n",
       " '5i86_B',\n",
       " '4ouf_B',\n",
       " '5bzk_A',\n",
       " '4ffs_A',\n",
       " '1vdv_A',\n",
       " '5ep7_A']"
      ]
     },
     "execution_count": 54,
     "metadata": {},
     "output_type": "execute_result"
    }
   ],
   "source": [
    "[rec for rec in filtered_rec.index.tolist() if rec in aro_match_rec]"
   ]
  },
  {
   "cell_type": "code",
   "execution_count": 22,
   "id": "ee791462-1385-44f9-8deb-0fd6803f9ac9",
   "metadata": {},
   "outputs": [
    {
     "name": "stdout",
     "output_type": "stream",
     "text": [
      "('3nbq_B_rec_3nbq_urf_lig_tt_docked_2', 6)\n",
      "('3p1c_B_rec_3p1f_3pf_lig_tt_min_0', 6)\n",
      "('5swg_A_rec_5swt_71a_lig_tt_min_0', 6)\n",
      "('3euf_A_rec_3nbq_urf_lig_tt_min_0', 6)\n",
      "('2vce_A_rec_2vce_tc7_lig_tt_docked_0', 6)\n",
      "('4xud_A_rec_5lsa_dnc_lig_tt_docked_2', 6)\n",
      "('1eoc_A_rec_2buz_4nc_lig_tt_docked_4', 6)\n",
      "('1y5x_A_rec_4puk_2wu_lig_tt_min_0', 6)\n",
      "('2bur_A_rec_1eoc_4nc_lig_tt_min_0', 6)\n",
      "('1k4h_A_rec_1p0b_pq0_lig_tt_docked_0', 6)\n",
      "('1eob_A_rec_2buz_4nc_lig_tt_min_0', 6)\n",
      "('4mrg_A_rec_5bzf_4x3_lig_tt_docked_2', 6)\n",
      "('4xuc_A_rec_5lsa_dnc_lig_tt_min_0', 6)\n",
      "('1kwc_B_rec_1eir_bpy_lig_tt_min_0', 6)\n",
      "('2vce_A_rec_2vce_tc7_lig_tt_min_0', 6)\n",
      "('1eoc_A_rec_1eoc_4nc_lig_tt_min_0', 6)\n",
      "('5mpz_A_rec_5mqg_f31_lig_tt_docked_3', 6)\n",
      "('2buq_A_rec_2buz_4nc_lig_tt_min_0', 6)\n",
      "('4mrf_A_rec_4mre_2c9_lig_tt_min_0', 6)\n",
      "('1eoc_A_rec_2buz_4nc_lig_tt_min_0', 6)\n",
      "('2bur_A_rec_2buz_4nc_lig_tt_min_0', 6)\n",
      "('3eue_A_rec_3nbq_urf_lig_tt_min_0', 6)\n",
      "('5ep7_A_rec_3p1f_3pf_lig_tt_min_0', 6)\n",
      "('3nbq_B_rec_3nbq_urf_lig_tt_min_0', 6)\n",
      "('4xue_B_rec_5lsa_dnc_lig_tt_docked_10', 6)\n",
      "('1k9s_D_rec_1a69_fmb_lig_tt_min_0', 6)\n",
      "('5i00_A_rec_1enu_apz_lig_tt_min_0', 6)\n",
      "('5jxq_A_rec_1p0b_pq0_lig_tt_min_0', 6)\n",
      "('1eob_A_rec_2buu_4nc_lig_tt_min_0', 6)\n",
      "('3rr4_A_rec_1p0b_pq0_lig_tt_min_0', 6)\n",
      "('2vch_A_rec_2vce_tc7_lig_tt_min_0', 6)\n",
      "('2buu_A_rec_1eoc_4nc_lig_tt_min_0', 6)\n"
     ]
    }
   ],
   "source": [
    "for lig in aro_match_l:\n",
    "    if lig[1] == 6:\n",
    "        print(lig)\n",
    "    # if lig.startswith('1k4h_A'):\n",
    "    #     print(lig)\n",
    "\n",
    "    # if 'ale' in lig:\n",
    "    #     print(lig)"
   ]
  },
  {
   "cell_type": "code",
   "execution_count": null,
   "id": "f2b06b2c-eb1a-49bb-bac8-14081d593cdc",
   "metadata": {},
   "outputs": [],
   "source": []
  },
  {
   "cell_type": "code",
   "execution_count": null,
   "id": "971516cf-012e-43ba-994a-4ac44e96f693",
   "metadata": {},
   "outputs": [],
   "source": []
  }
 ],
 "metadata": {
  "kernelspec": {
   "display_name": "pp2drug",
   "language": "python",
   "name": "pp2drug"
  },
  "language_info": {
   "codemirror_mode": {
    "name": "ipython",
    "version": 3
   },
   "file_extension": ".py",
   "mimetype": "text/x-python",
   "name": "python",
   "nbconvert_exporter": "python",
   "pygments_lexer": "ipython3",
   "version": "3.10.14"
  }
 },
 "nbformat": 4,
 "nbformat_minor": 5
}
