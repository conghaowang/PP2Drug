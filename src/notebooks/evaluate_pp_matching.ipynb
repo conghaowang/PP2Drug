{
 "cells": [
  {
   "cell_type": "code",
   "execution_count": 1,
   "id": "d72c9a28-b279-4c90-b402-626213c3abf0",
   "metadata": {},
   "outputs": [],
   "source": [
    "import pickle"
   ]
  },
  {
   "cell_type": "code",
   "execution_count": 2,
   "id": "45cb8b45-ea6c-4c46-8198-5c69e9275183",
   "metadata": {},
   "outputs": [],
   "source": [
    "with open('../lightning_logs/vp_bridge_egnn_CombinedSparseGraphDataset_2024-05-30_23_27_53.688104/reconstructed_mols_matches.pkl', 'rb') as f:\n",
    "    matches = pickle.load(f)"
   ]
  },
  {
   "cell_type": "code",
   "execution_count": 3,
   "id": "aa4bb99a-705e-4278-8245-1a308edcc399",
   "metadata": {},
   "outputs": [
    {
     "data": {
      "text/plain": [
       "{}"
      ]
     },
     "execution_count": 3,
     "metadata": {},
     "output_type": "execute_result"
    }
   ],
   "source": [
    "matches"
   ]
  },
  {
   "cell_type": "code",
   "execution_count": null,
   "id": "4019bb38-6689-4d44-bb79-048e89cb9d30",
   "metadata": {},
   "outputs": [],
   "source": []
  }
 ],
 "metadata": {
  "kernelspec": {
   "display_name": "pp2drug",
   "language": "python",
   "name": "pp2drug"
  },
  "language_info": {
   "codemirror_mode": {
    "name": "ipython",
    "version": 3
   },
   "file_extension": ".py",
   "mimetype": "text/x-python",
   "name": "python",
   "nbconvert_exporter": "python",
   "pygments_lexer": "ipython3",
   "version": "3.10.14"
  }
 },
 "nbformat": 4,
 "nbformat_minor": 5
}
