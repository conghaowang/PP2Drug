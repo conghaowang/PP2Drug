{
 "cells": [
  {
   "cell_type": "code",
   "execution_count": 1,
   "id": "360d7865-b470-4323-9a8e-ddba8dd3bda6",
   "metadata": {},
   "outputs": [],
   "source": [
    "%load_ext autoreload\n",
    "%autoreload 2"
   ]
  },
  {
   "cell_type": "code",
   "execution_count": 2,
   "id": "fab59fbe-9edf-4169-aef0-96ee37038b38",
   "metadata": {},
   "outputs": [],
   "source": [
    "import sys\n",
    "sys.path.append('..')\n",
    "sys.path.append('../data_processing/')\n",
    "sys.path.append('../evaluation/')"
   ]
  },
  {
   "cell_type": "code",
   "execution_count": 3,
   "id": "a5ebc7ba-f1e1-4132-af61-821fefa40e50",
   "metadata": {},
   "outputs": [],
   "source": [
    "import pickle\n",
    "import os\n",
    "import numpy as np\n",
    "from torch_geometric.loader import DataLoader\n",
    "import torch\n",
    "import torch.nn.functional as F\n",
    "from omegaconf import OmegaConf\n",
    "from rdkit import Chem\n",
    "from rdkit.Chem.rdForceFieldHelpers import UFFOptimizeMolecule\n",
    "from tqdm import tqdm\n",
    "import plotly.graph_objects as go\n",
    "from plotly.subplots import make_subplots\n",
    "import matplotlib\n",
    "import matplotlib.pylab as plt\n",
    "%matplotlib inline"
   ]
  },
  {
   "cell_type": "code",
   "execution_count": 5,
   "id": "d0a4aaa7-ebfd-4cd4-974b-cd11051d720a",
   "metadata": {},
   "outputs": [],
   "source": [
    "from data_processing.paired_data import PharmacophoreDataset, CombinedGraphDataset, CombinedSparseGraphDataset\n",
    "from data_processing.reconstruction import get_atomic_number_from_index, is_aromatic_from_index, reconstruct_from_generated\n",
    "from model.pp_bridge import PPBridge\n",
    "from model.pp_bridge_sampler import PPBridgeSampler\n",
    "from model.utils.utils_diffusion import center2zero_combined_graph, center2zero_with_mask, center2zero\n",
    "from script_utils import load_data\n",
    "from evaluation.utils_eval import build_pdb_dict"
   ]
  },
  {
   "cell_type": "code",
   "execution_count": 6,
   "id": "fc96fcf2-573b-4156-8b4c-8fb7519278db",
   "metadata": {},
   "outputs": [],
   "source": [
    "raw_data_root = '/home/conghao001/pharmacophore2drug/PP2Drug/data/cleaned_crossdocked_data'\n",
    "split = 'test'\n",
    "batch_size = 1000\n",
    "num_workers = 0"
   ]
  },
  {
   "cell_type": "code",
   "execution_count": 7,
   "id": "e301ba30-d751-488c-901a-35f8acb25cb2",
   "metadata": {},
   "outputs": [],
   "source": [
    "pdb_dict, pdb_rev_dict = build_pdb_dict(raw_data_root)"
   ]
  },
  {
   "cell_type": "code",
   "execution_count": 8,
   "id": "7361e253-a6a5-43c7-9a26-05ea8e5ef526",
   "metadata": {},
   "outputs": [],
   "source": [
    "dataset, dataloader = load_data('CombinedSparseGraphDataset', raw_data_root, split='test', batch_size=batch_size, aromatic=False)"
   ]
  },
  {
   "cell_type": "code",
   "execution_count": 9,
   "id": "43f79a3e-2ba8-42f3-9130-e2e6b8fc70ca",
   "metadata": {},
   "outputs": [],
   "source": [
    "# class OldDataset(CombinedSparseGraphDataset):\n",
    "#     def __init__(self, root, split='train', transform=None, pre_transform=None, pre_filter=None, aromatic=False):\n",
    "#         super(OldDataset, self).__init__(root, split, transform, pre_transform, pre_filter, aromatic=aromatic)\n",
    "#         self.load(self.processed_paths[0])\n",
    "\n",
    "#     @property\n",
    "#     def processed_dir(self):\n",
    "#         # Customize the processed directory name here\n",
    "#         return os.path.join(self.root, 'processed_CoM_xT_with_noise_std0.01')"
   ]
  },
  {
   "cell_type": "code",
   "execution_count": 10,
   "id": "eff438ad-9d7a-4ea9-bf7e-9660fb45293b",
   "metadata": {},
   "outputs": [],
   "source": [
    "# dataset = OldDataset(raw_data_root, split=split, aromatic=True)\n",
    "# dataloader = DataLoader(dataset, batch_size=batch_size, shuffle=False, num_workers=0)"
   ]
  },
  {
   "cell_type": "code",
   "execution_count": 11,
   "id": "5e8ea903-b7c0-4317-8494-e93341367ea7",
   "metadata": {},
   "outputs": [
    {
     "data": {
      "text/plain": [
       "torch.Size([47288, 3])"
      ]
     },
     "execution_count": 11,
     "metadata": {},
     "output_type": "execute_result"
    }
   ],
   "source": [
    "one = next(iter(dataloader))\n",
    "one.pos.size()"
   ]
  },
  {
   "cell_type": "code",
   "execution_count": 10,
   "id": "1bcd82c2-5d69-4187-8d3b-15b836be1e9c",
   "metadata": {},
   "outputs": [
    {
     "data": {
      "text/plain": [
       "torch.Size([47288])"
      ]
     },
     "execution_count": 10,
     "metadata": {},
     "output_type": "execute_result"
    }
   ],
   "source": [
    "batch = one.batch\n",
    "batch.size()"
   ]
  },
  {
   "cell_type": "code",
   "execution_count": 11,
   "id": "f7b1b864-ed7b-4e63-bd30-9306f268046e",
   "metadata": {},
   "outputs": [],
   "source": [
    "root = '../../src/lightning_logs/vp_bridge_egnn_CombinedSparseGraphDataset_2024-05-31_14_11_45.077216'\n",
    "filename = 'generation_res.pkl'"
   ]
  },
  {
   "cell_type": "code",
   "execution_count": 12,
   "id": "dacd225b-4d44-48b3-89fe-9f4cfc5cca23",
   "metadata": {},
   "outputs": [],
   "source": [
    "with open(os.path.join(root, filename), 'rb') as f:\n",
    "    res = pickle.load(f)"
   ]
  },
  {
   "cell_type": "code",
   "execution_count": 13,
   "id": "f5d96b61-2bc9-4a15-8bee-5a186136aa3e",
   "metadata": {},
   "outputs": [
    {
     "data": {
      "text/plain": [
       "dict_keys(['x', 'x_traj', 'h', 'h_traj', 'nfe'])"
      ]
     },
     "execution_count": 13,
     "metadata": {},
     "output_type": "execute_result"
    }
   ],
   "source": [
    "res.keys()"
   ]
  },
  {
   "cell_type": "code",
   "execution_count": 14,
   "id": "3cef0976-3f29-4bf1-9b40-4246b7232935",
   "metadata": {},
   "outputs": [
    {
     "data": {
      "text/plain": [
       "15"
      ]
     },
     "execution_count": 14,
     "metadata": {},
     "output_type": "execute_result"
    }
   ],
   "source": [
    "all_x_traj = res['x_traj']\n",
    "len(all_x_traj)"
   ]
  },
  {
   "cell_type": "code",
   "execution_count": 15,
   "id": "fec7501a-585c-473d-a477-7861724dee85",
   "metadata": {},
   "outputs": [
    {
     "data": {
      "text/plain": [
       "1001"
      ]
     },
     "execution_count": 15,
     "metadata": {},
     "output_type": "execute_result"
    }
   ],
   "source": [
    "# 1001 steps in each batch\n",
    "x_traj = all_x_traj[0]\n",
    "len(x_traj)"
   ]
  },
  {
   "cell_type": "code",
   "execution_count": 16,
   "id": "55ddb47f-44ed-4a21-bade-51286c3a36bb",
   "metadata": {},
   "outputs": [
    {
     "data": {
      "text/plain": [
       "torch.Size([106946, 3])"
      ]
     },
     "execution_count": 16,
     "metadata": {},
     "output_type": "execute_result"
    }
   ],
   "source": [
    "# integrated graph containing 2000 individual graphs at first step\n",
    "x_traj[0].size()"
   ]
  },
  {
   "cell_type": "code",
   "execution_count": 17,
   "id": "4d88aeb4-91f0-4f30-a621-d7ad6cb7596c",
   "metadata": {},
   "outputs": [
    {
     "data": {
      "text/plain": [
       "tensor(26)"
      ]
     },
     "execution_count": 17,
     "metadata": {},
     "output_type": "execute_result"
    }
   ],
   "source": [
    "idx = 50\n",
    "batch_idx = batch==idx\n",
    "batch_idx.sum()"
   ]
  },
  {
   "cell_type": "code",
   "execution_count": 18,
   "id": "5e65e855-632f-4e57-9997-ae51ca0682a2",
   "metadata": {},
   "outputs": [
    {
     "data": {
      "text/plain": [
       "tensor([False, False, False,  ..., False, False, False])"
      ]
     },
     "execution_count": 18,
     "metadata": {},
     "output_type": "execute_result"
    }
   ],
   "source": [
    "batch_idx"
   ]
  },
  {
   "cell_type": "code",
   "execution_count": 19,
   "id": "ddd20c7d-6bd1-444c-a628-020e969efc81",
   "metadata": {},
   "outputs": [
    {
     "data": {
      "text/plain": [
       "tensor([ True,  True,  True,  True,  True,  True,  True,  True,  True,  True,\n",
       "         True,  True,  True, False, False, False, False, False, False, False,\n",
       "        False, False, False, False, False, False])"
      ]
     },
     "execution_count": 19,
     "metadata": {},
     "output_type": "execute_result"
    }
   ],
   "source": [
    "Gt_mask_i = one.Gt_mask[batch_idx]\n",
    "Gt_mask_i"
   ]
  },
  {
   "cell_type": "code",
   "execution_count": 20,
   "id": "f10c419d-581f-46f2-b15e-c60203ce7af5",
   "metadata": {},
   "outputs": [
    {
     "name": "stderr",
     "output_type": "stream",
     "text": [
      "  0%|                                                                                                                                                                   | 0/1001 [00:00<?, ?it/s]\n"
     ]
    },
    {
     "ename": "IndexError",
     "evalue": "The shape of the mask [47288] at index 0 does not match the shape of the indexed tensor [106946, 3] at index 0",
     "output_type": "error",
     "traceback": [
      "\u001b[0;31m---------------------------------------------------------------------------\u001b[0m",
      "\u001b[0;31mIndexError\u001b[0m                                Traceback (most recent call last)",
      "Cell \u001b[0;32mIn[20], line 3\u001b[0m\n\u001b[1;32m      1\u001b[0m x_traj_i \u001b[38;5;241m=\u001b[39m []\n\u001b[1;32m      2\u001b[0m \u001b[38;5;28;01mfor\u001b[39;00m x_traj_t \u001b[38;5;129;01min\u001b[39;00m tqdm(x_traj):\n\u001b[0;32m----> 3\u001b[0m     x_t_i \u001b[38;5;241m=\u001b[39m \u001b[43mx_traj_t\u001b[49m\u001b[43m[\u001b[49m\u001b[43mbatch_idx\u001b[49m\u001b[43m]\u001b[49m[Gt_mask_i]\n\u001b[1;32m      4\u001b[0m     x_traj_i\u001b[38;5;241m.\u001b[39mappend(x_t_i)\n",
      "\u001b[0;31mIndexError\u001b[0m: The shape of the mask [47288] at index 0 does not match the shape of the indexed tensor [106946, 3] at index 0"
     ]
    }
   ],
   "source": [
    "x_traj_i = []\n",
    "for x_traj_t in tqdm(x_traj):\n",
    "    x_t_i = x_traj_t[batch_idx][Gt_mask_i]\n",
    "    x_traj_i.append(x_t_i)"
   ]
  },
  {
   "cell_type": "code",
   "execution_count": null,
   "id": "faa07c6a-a79a-41c8-acc9-fd4a9b7d143b",
   "metadata": {},
   "outputs": [],
   "source": [
    "x_i_arr = x_traj_i[-1].numpy()\n",
    "x_i_arr"
   ]
  },
  {
   "cell_type": "code",
   "execution_count": null,
   "id": "e8875e34-00b8-4547-a004-595455779717",
   "metadata": {},
   "outputs": [],
   "source": [
    "original_pos_i = one.pos[batch_idx][Gt_mask_i]\n",
    "original_pos_0center_i = center2zero(original_pos_i)\n",
    "original_pos_0center_i_arr = original_pos_0center_i.numpy()\n",
    "original_pos_0center_i.size()"
   ]
  },
  {
   "cell_type": "code",
   "execution_count": 34,
   "id": "9ad2e2cf-db8f-47a1-8889-2202ed2e5ed3",
   "metadata": {},
   "outputs": [
    {
     "data": {
      "text/plain": [
       "torch.Size([23, 3])"
      ]
     },
     "execution_count": 34,
     "metadata": {},
     "output_type": "execute_result"
    }
   ],
   "source": [
    "pp_pos_i = one.target_pos[batch_idx][~Gt_mask_i]\n",
    "pp_pos_0center_i = center2zero(pp_pos_i)\n",
    "pp_pos_0center_i_arr = pp_pos_0center_i.numpy()\n",
    "pp_pos_0center_i.size()"
   ]
  },
  {
   "cell_type": "code",
   "execution_count": 35,
   "id": "b29c2133-863e-4179-b696-1f79a616d46d",
   "metadata": {},
   "outputs": [
    {
     "data": {
      "application/vnd.plotly.v1+json": {
       "config": {
        "plotlyServerURL": "https://plot.ly"
       },
       "data": [
        {
         "mode": "markers",
         "scene": "scene",
         "type": "scatter3d",
         "x": [
          -2.039729118347168,
          -1.918674111366272,
          -1.8285332918167114,
          -1.2828010320663452,
          -2.9059135913848877,
          -3.005920648574829,
          -2.783566474914551,
          -2.8973228931427,
          -2.2588367462158203,
          -2.0915820598602295,
          -2.9721148014068604,
          -2.1423630714416504,
          -1.4139795303344727,
          -1.3182415962219238,
          -1.4523019790649414,
          -1.3420888185501099,
          -0.5098862648010254,
          1.4455769062042236,
          0.23717647790908813,
          -0.0714488998055458,
          -0.16637319326400757,
          0.07498723268508911,
          0.353507936000824
         ],
         "y": [
          1.2054980993270874,
          -0.28275954723358154,
          0.10286065936088562,
          0.053421344608068466,
          0.3463059663772583,
          -0.10084962099790573,
          -0.4243972897529602,
          0.9420704245567322,
          0.6902778744697571,
          0.495789110660553,
          -1.2292474508285522,
          -0.3884601593017578,
          0.7569480538368225,
          0.5515227913856506,
          0.8616480827331543,
          1.6148638725280762,
          -0.024687785655260086,
          -0.4026007056236267,
          -0.49002188444137573,
          -0.19921843707561493,
          -0.22577925026416779,
          -0.3575689196586609,
          1.7266504764556885
         ],
         "z": [
          -0.49941977858543396,
          0.3522150218486786,
          -0.0608585886657238,
          0.4142456352710724,
          -0.7413785457611084,
          2.098534107208252,
          0.4071504473686218,
          0.6026907563209534,
          1.0133284330368042,
          0.594007670879364,
          0.7908658385276794,
          0.4100002348423004,
          -0.8472641706466675,
          -0.41482535004615784,
          -0.611237108707428,
          -0.42474812269210815,
          -0.6886038780212402,
          -0.2643720805644989,
          -0.5144880414009094,
          -0.5119182467460632,
          -0.46177175641059875,
          -0.7605640292167664,
          -1.02533757686615
         ]
        },
        {
         "mode": "markers",
         "scene": "scene2",
         "type": "scatter3d",
         "x": [
          -2.5144259929656982,
          -1.2239258289337158,
          -0.6475260257720947,
          -0.579725980758667,
          -4.960025787353516,
          -4.930525779724121,
          -4.161525726318359,
          -4.163125991821289,
          -3.359825849533081,
          -3.3523261547088623,
          -6.546726226806641,
          -5.840926170349121,
          0.7499740123748779,
          1.1865739822387695,
          2.508373975753784,
          2.877974033355713,
          1.7555739879608154,
          4.239974021911621,
          5.3175740242004395,
          6.599574089050293,
          6.819173812866211,
          5.754874229431152,
          4.470973968505859
         ],
         "y": [
          1.5371084213256836,
          1.347508430480957,
          2.143308639526367,
          0.19180870056152344,
          -0.7425918579101562,
          0.5828084945678711,
          1.322408676147461,
          -1.3422913551330566,
          -0.5895919799804688,
          0.7392082214355469,
          -2.1948914527893066,
          -1.5398917198181152,
          -0.1407918930053711,
          -1.2888917922973633,
          -1.306391716003418,
          -0.22249126434326172,
          0.5616083145141602,
          -0.043992042541503906,
          -0.7652912139892578,
          -0.5453920364379883,
          0.3689088821411133,
          1.0625085830688477,
          0.8653087615966797
         ],
         "z": [
          -0.10094070434570312,
          -0.5291404724121094,
          -1.2654399871826172,
          -0.05303955078125,
          2.269960403442383,
          2.493459701538086,
          1.6866607666015625,
          1.243560791015625,
          0.48135948181152344,
          0.6958599090576172,
          3.67195987701416,
          3.0595598220825195,
          -0.3218402862548828,
          0.1873607635498047,
          -0.1599407196044922,
          -0.8745403289794922,
          -0.9883403778076172,
          -1.4172401428222656,
          -0.9078388214111328,
          -1.3898391723632812,
          -2.398038864135742,
          -2.9361400604248047,
          -2.447439193725586
         ]
        },
        {
         "mode": "markers",
         "scene": "scene3",
         "type": "scatter3d",
         "x": [
          -0.14380335807800293,
          -0.1400446891784668,
          -0.6728172302246094,
          -0.620511531829834,
          -4.216114521026611,
          -4.1815667152404785,
          -4.210402011871338,
          -4.199383735656738,
          -4.197787284851074,
          -4.198605060577393,
          -6.604900360107422,
          -0.15271568298339844,
          -0.13427972793579102,
          1.1502392292022705,
          -0.14073801040649414,
          -0.13377690315246582,
          -0.15894556045532227,
          5.488354682922363,
          5.488649845123291,
          5.479044437408447,
          5.512430667877197,
          5.498557090759277,
          5.489109516143799
         ],
         "y": [
          0.018341064453125,
          0.001514434814453125,
          2.1449899673461914,
          0.19217300415039062,
          -0.001087188720703125,
          0.0005674362182617188,
          0.008600234985351562,
          0.00252532958984375,
          0.013306617736816406,
          0.007761955261230469,
          -2.1911439895629883,
          0.03530693054199219,
          0.0034227371215820312,
          -1.2751178741455078,
          0.025224685668945312,
          0.019392967224121094,
          0.016098976135253906,
          0.16659832000732422,
          0.17002010345458984,
          0.16488170623779297,
          0.15396499633789062,
          0.17026138305664062,
          0.15239906311035156
         ],
         "z": [
          0.01969146728515625,
          0.030141830444335938,
          -1.2598400115966797,
          -0.04928398132324219,
          1.4687919616699219,
          1.4720211029052734,
          1.475545883178711,
          1.4788532257080078,
          1.4832382202148438,
          1.4853668212890625,
          3.667682647705078,
          0.028961181640625,
          0.011516571044921875,
          0.17157363891601562,
          0.007572174072265625,
          0.017129898071289062,
          0.017795562744140625,
          -1.9180774688720703,
          -1.9172801971435547,
          -1.9189834594726562,
          -1.9255619049072266,
          -1.925710678100586,
          -1.9211063385009766
         ]
        }
       ],
       "layout": {
        "autosize": true,
        "scene": {
         "aspectmode": "auto",
         "aspectratio": {
          "x": 1.28986191445703,
          "y": 0.8564983160179808,
          "z": 0.9051702402065701
         },
         "camera": {
          "center": {
           "x": 0,
           "y": 0,
           "z": 0
          },
          "eye": {
           "x": -1.289171550219574,
           "y": -2.8737933112915663,
           "z": 0.009334189752490948
          },
          "projection": {
           "type": "perspective"
          },
          "up": {
           "x": 0,
           "y": 0,
           "z": 1
          }
         },
         "domain": {
          "x": [
           0,
           0.2888888888888889
          ],
          "y": [
           0,
           1
          ]
         }
        },
        "scene2": {
         "aspectmode": "auto",
         "aspectratio": {
          "x": 1.8402214077809305,
          "y": 0.5972847812283888,
          "z": 0.9098053205198632
         },
         "camera": {
          "center": {
           "x": 0,
           "y": 0,
           "z": 0
          },
          "eye": {
           "x": 1.79306227083359,
           "y": 2.414714138996963,
           "z": 0.6490938720267297
          },
          "projection": {
           "type": "perspective"
          },
          "up": {
           "x": 0,
           "y": 0,
           "z": 1
          }
         },
         "domain": {
          "x": [
           0.35555555555555557,
           0.6444444444444445
          ],
          "y": [
           0,
           1
          ]
         }
        },
        "scene3": {
         "aspectmode": "auto",
         "aspectratio": {
          "x": 1.8225465580885067,
          "y": 0.6521903214762578,
          "z": 0.8412925033110913
         },
         "camera": {
          "center": {
           "x": 0,
           "y": 0,
           "z": 0
          },
          "eye": {
           "x": 1.484621271962187,
           "y": 1.4244317844920802,
           "z": 0.674087360930382
          },
          "projection": {
           "type": "perspective"
          },
          "up": {
           "x": 0,
           "y": 0,
           "z": 1
          }
         },
         "domain": {
          "x": [
           0.7111111111111111,
           1
          ],
          "y": [
           0,
           1
          ]
         }
        },
        "showlegend": false,
        "template": {
         "data": {
          "bar": [
           {
            "error_x": {
             "color": "#2a3f5f"
            },
            "error_y": {
             "color": "#2a3f5f"
            },
            "marker": {
             "line": {
              "color": "#E5ECF6",
              "width": 0.5
             },
             "pattern": {
              "fillmode": "overlay",
              "size": 10,
              "solidity": 0.2
             }
            },
            "type": "bar"
           }
          ],
          "barpolar": [
           {
            "marker": {
             "line": {
              "color": "#E5ECF6",
              "width": 0.5
             },
             "pattern": {
              "fillmode": "overlay",
              "size": 10,
              "solidity": 0.2
             }
            },
            "type": "barpolar"
           }
          ],
          "carpet": [
           {
            "aaxis": {
             "endlinecolor": "#2a3f5f",
             "gridcolor": "white",
             "linecolor": "white",
             "minorgridcolor": "white",
             "startlinecolor": "#2a3f5f"
            },
            "baxis": {
             "endlinecolor": "#2a3f5f",
             "gridcolor": "white",
             "linecolor": "white",
             "minorgridcolor": "white",
             "startlinecolor": "#2a3f5f"
            },
            "type": "carpet"
           }
          ],
          "choropleth": [
           {
            "colorbar": {
             "outlinewidth": 0,
             "ticks": ""
            },
            "type": "choropleth"
           }
          ],
          "contour": [
           {
            "colorbar": {
             "outlinewidth": 0,
             "ticks": ""
            },
            "colorscale": [
             [
              0,
              "#0d0887"
             ],
             [
              0.1111111111111111,
              "#46039f"
             ],
             [
              0.2222222222222222,
              "#7201a8"
             ],
             [
              0.3333333333333333,
              "#9c179e"
             ],
             [
              0.4444444444444444,
              "#bd3786"
             ],
             [
              0.5555555555555556,
              "#d8576b"
             ],
             [
              0.6666666666666666,
              "#ed7953"
             ],
             [
              0.7777777777777778,
              "#fb9f3a"
             ],
             [
              0.8888888888888888,
              "#fdca26"
             ],
             [
              1,
              "#f0f921"
             ]
            ],
            "type": "contour"
           }
          ],
          "contourcarpet": [
           {
            "colorbar": {
             "outlinewidth": 0,
             "ticks": ""
            },
            "type": "contourcarpet"
           }
          ],
          "heatmap": [
           {
            "colorbar": {
             "outlinewidth": 0,
             "ticks": ""
            },
            "colorscale": [
             [
              0,
              "#0d0887"
             ],
             [
              0.1111111111111111,
              "#46039f"
             ],
             [
              0.2222222222222222,
              "#7201a8"
             ],
             [
              0.3333333333333333,
              "#9c179e"
             ],
             [
              0.4444444444444444,
              "#bd3786"
             ],
             [
              0.5555555555555556,
              "#d8576b"
             ],
             [
              0.6666666666666666,
              "#ed7953"
             ],
             [
              0.7777777777777778,
              "#fb9f3a"
             ],
             [
              0.8888888888888888,
              "#fdca26"
             ],
             [
              1,
              "#f0f921"
             ]
            ],
            "type": "heatmap"
           }
          ],
          "heatmapgl": [
           {
            "colorbar": {
             "outlinewidth": 0,
             "ticks": ""
            },
            "colorscale": [
             [
              0,
              "#0d0887"
             ],
             [
              0.1111111111111111,
              "#46039f"
             ],
             [
              0.2222222222222222,
              "#7201a8"
             ],
             [
              0.3333333333333333,
              "#9c179e"
             ],
             [
              0.4444444444444444,
              "#bd3786"
             ],
             [
              0.5555555555555556,
              "#d8576b"
             ],
             [
              0.6666666666666666,
              "#ed7953"
             ],
             [
              0.7777777777777778,
              "#fb9f3a"
             ],
             [
              0.8888888888888888,
              "#fdca26"
             ],
             [
              1,
              "#f0f921"
             ]
            ],
            "type": "heatmapgl"
           }
          ],
          "histogram": [
           {
            "marker": {
             "pattern": {
              "fillmode": "overlay",
              "size": 10,
              "solidity": 0.2
             }
            },
            "type": "histogram"
           }
          ],
          "histogram2d": [
           {
            "colorbar": {
             "outlinewidth": 0,
             "ticks": ""
            },
            "colorscale": [
             [
              0,
              "#0d0887"
             ],
             [
              0.1111111111111111,
              "#46039f"
             ],
             [
              0.2222222222222222,
              "#7201a8"
             ],
             [
              0.3333333333333333,
              "#9c179e"
             ],
             [
              0.4444444444444444,
              "#bd3786"
             ],
             [
              0.5555555555555556,
              "#d8576b"
             ],
             [
              0.6666666666666666,
              "#ed7953"
             ],
             [
              0.7777777777777778,
              "#fb9f3a"
             ],
             [
              0.8888888888888888,
              "#fdca26"
             ],
             [
              1,
              "#f0f921"
             ]
            ],
            "type": "histogram2d"
           }
          ],
          "histogram2dcontour": [
           {
            "colorbar": {
             "outlinewidth": 0,
             "ticks": ""
            },
            "colorscale": [
             [
              0,
              "#0d0887"
             ],
             [
              0.1111111111111111,
              "#46039f"
             ],
             [
              0.2222222222222222,
              "#7201a8"
             ],
             [
              0.3333333333333333,
              "#9c179e"
             ],
             [
              0.4444444444444444,
              "#bd3786"
             ],
             [
              0.5555555555555556,
              "#d8576b"
             ],
             [
              0.6666666666666666,
              "#ed7953"
             ],
             [
              0.7777777777777778,
              "#fb9f3a"
             ],
             [
              0.8888888888888888,
              "#fdca26"
             ],
             [
              1,
              "#f0f921"
             ]
            ],
            "type": "histogram2dcontour"
           }
          ],
          "mesh3d": [
           {
            "colorbar": {
             "outlinewidth": 0,
             "ticks": ""
            },
            "type": "mesh3d"
           }
          ],
          "parcoords": [
           {
            "line": {
             "colorbar": {
              "outlinewidth": 0,
              "ticks": ""
             }
            },
            "type": "parcoords"
           }
          ],
          "pie": [
           {
            "automargin": true,
            "type": "pie"
           }
          ],
          "scatter": [
           {
            "fillpattern": {
             "fillmode": "overlay",
             "size": 10,
             "solidity": 0.2
            },
            "type": "scatter"
           }
          ],
          "scatter3d": [
           {
            "line": {
             "colorbar": {
              "outlinewidth": 0,
              "ticks": ""
             }
            },
            "marker": {
             "colorbar": {
              "outlinewidth": 0,
              "ticks": ""
             }
            },
            "type": "scatter3d"
           }
          ],
          "scattercarpet": [
           {
            "marker": {
             "colorbar": {
              "outlinewidth": 0,
              "ticks": ""
             }
            },
            "type": "scattercarpet"
           }
          ],
          "scattergeo": [
           {
            "marker": {
             "colorbar": {
              "outlinewidth": 0,
              "ticks": ""
             }
            },
            "type": "scattergeo"
           }
          ],
          "scattergl": [
           {
            "marker": {
             "colorbar": {
              "outlinewidth": 0,
              "ticks": ""
             }
            },
            "type": "scattergl"
           }
          ],
          "scattermapbox": [
           {
            "marker": {
             "colorbar": {
              "outlinewidth": 0,
              "ticks": ""
             }
            },
            "type": "scattermapbox"
           }
          ],
          "scatterpolar": [
           {
            "marker": {
             "colorbar": {
              "outlinewidth": 0,
              "ticks": ""
             }
            },
            "type": "scatterpolar"
           }
          ],
          "scatterpolargl": [
           {
            "marker": {
             "colorbar": {
              "outlinewidth": 0,
              "ticks": ""
             }
            },
            "type": "scatterpolargl"
           }
          ],
          "scatterternary": [
           {
            "marker": {
             "colorbar": {
              "outlinewidth": 0,
              "ticks": ""
             }
            },
            "type": "scatterternary"
           }
          ],
          "surface": [
           {
            "colorbar": {
             "outlinewidth": 0,
             "ticks": ""
            },
            "colorscale": [
             [
              0,
              "#0d0887"
             ],
             [
              0.1111111111111111,
              "#46039f"
             ],
             [
              0.2222222222222222,
              "#7201a8"
             ],
             [
              0.3333333333333333,
              "#9c179e"
             ],
             [
              0.4444444444444444,
              "#bd3786"
             ],
             [
              0.5555555555555556,
              "#d8576b"
             ],
             [
              0.6666666666666666,
              "#ed7953"
             ],
             [
              0.7777777777777778,
              "#fb9f3a"
             ],
             [
              0.8888888888888888,
              "#fdca26"
             ],
             [
              1,
              "#f0f921"
             ]
            ],
            "type": "surface"
           }
          ],
          "table": [
           {
            "cells": {
             "fill": {
              "color": "#EBF0F8"
             },
             "line": {
              "color": "white"
             }
            },
            "header": {
             "fill": {
              "color": "#C8D4E3"
             },
             "line": {
              "color": "white"
             }
            },
            "type": "table"
           }
          ]
         },
         "layout": {
          "annotationdefaults": {
           "arrowcolor": "#2a3f5f",
           "arrowhead": 0,
           "arrowwidth": 1
          },
          "autotypenumbers": "strict",
          "coloraxis": {
           "colorbar": {
            "outlinewidth": 0,
            "ticks": ""
           }
          },
          "colorscale": {
           "diverging": [
            [
             0,
             "#8e0152"
            ],
            [
             0.1,
             "#c51b7d"
            ],
            [
             0.2,
             "#de77ae"
            ],
            [
             0.3,
             "#f1b6da"
            ],
            [
             0.4,
             "#fde0ef"
            ],
            [
             0.5,
             "#f7f7f7"
            ],
            [
             0.6,
             "#e6f5d0"
            ],
            [
             0.7,
             "#b8e186"
            ],
            [
             0.8,
             "#7fbc41"
            ],
            [
             0.9,
             "#4d9221"
            ],
            [
             1,
             "#276419"
            ]
           ],
           "sequential": [
            [
             0,
             "#0d0887"
            ],
            [
             0.1111111111111111,
             "#46039f"
            ],
            [
             0.2222222222222222,
             "#7201a8"
            ],
            [
             0.3333333333333333,
             "#9c179e"
            ],
            [
             0.4444444444444444,
             "#bd3786"
            ],
            [
             0.5555555555555556,
             "#d8576b"
            ],
            [
             0.6666666666666666,
             "#ed7953"
            ],
            [
             0.7777777777777778,
             "#fb9f3a"
            ],
            [
             0.8888888888888888,
             "#fdca26"
            ],
            [
             1,
             "#f0f921"
            ]
           ],
           "sequentialminus": [
            [
             0,
             "#0d0887"
            ],
            [
             0.1111111111111111,
             "#46039f"
            ],
            [
             0.2222222222222222,
             "#7201a8"
            ],
            [
             0.3333333333333333,
             "#9c179e"
            ],
            [
             0.4444444444444444,
             "#bd3786"
            ],
            [
             0.5555555555555556,
             "#d8576b"
            ],
            [
             0.6666666666666666,
             "#ed7953"
            ],
            [
             0.7777777777777778,
             "#fb9f3a"
            ],
            [
             0.8888888888888888,
             "#fdca26"
            ],
            [
             1,
             "#f0f921"
            ]
           ]
          },
          "colorway": [
           "#636efa",
           "#EF553B",
           "#00cc96",
           "#ab63fa",
           "#FFA15A",
           "#19d3f3",
           "#FF6692",
           "#B6E880",
           "#FF97FF",
           "#FECB52"
          ],
          "font": {
           "color": "#2a3f5f"
          },
          "geo": {
           "bgcolor": "white",
           "lakecolor": "white",
           "landcolor": "#E5ECF6",
           "showlakes": true,
           "showland": true,
           "subunitcolor": "white"
          },
          "hoverlabel": {
           "align": "left"
          },
          "hovermode": "closest",
          "mapbox": {
           "style": "light"
          },
          "paper_bgcolor": "white",
          "plot_bgcolor": "#E5ECF6",
          "polar": {
           "angularaxis": {
            "gridcolor": "white",
            "linecolor": "white",
            "ticks": ""
           },
           "bgcolor": "#E5ECF6",
           "radialaxis": {
            "gridcolor": "white",
            "linecolor": "white",
            "ticks": ""
           }
          },
          "scene": {
           "xaxis": {
            "backgroundcolor": "#E5ECF6",
            "gridcolor": "white",
            "gridwidth": 2,
            "linecolor": "white",
            "showbackground": true,
            "ticks": "",
            "zerolinecolor": "white"
           },
           "yaxis": {
            "backgroundcolor": "#E5ECF6",
            "gridcolor": "white",
            "gridwidth": 2,
            "linecolor": "white",
            "showbackground": true,
            "ticks": "",
            "zerolinecolor": "white"
           },
           "zaxis": {
            "backgroundcolor": "#E5ECF6",
            "gridcolor": "white",
            "gridwidth": 2,
            "linecolor": "white",
            "showbackground": true,
            "ticks": "",
            "zerolinecolor": "white"
           }
          },
          "shapedefaults": {
           "line": {
            "color": "#2a3f5f"
           }
          },
          "ternary": {
           "aaxis": {
            "gridcolor": "white",
            "linecolor": "white",
            "ticks": ""
           },
           "baxis": {
            "gridcolor": "white",
            "linecolor": "white",
            "ticks": ""
           },
           "bgcolor": "#E5ECF6",
           "caxis": {
            "gridcolor": "white",
            "linecolor": "white",
            "ticks": ""
           }
          },
          "title": {
           "x": 0.05
          },
          "xaxis": {
           "automargin": true,
           "gridcolor": "white",
           "linecolor": "white",
           "ticks": "",
           "title": {
            "standoff": 15
           },
           "zerolinecolor": "white",
           "zerolinewidth": 2
          },
          "yaxis": {
           "automargin": true,
           "gridcolor": "white",
           "linecolor": "white",
           "ticks": "",
           "title": {
            "standoff": 15
           },
           "zerolinecolor": "white",
           "zerolinewidth": 2
          }
         }
        }
       }
      },
      "text/html": [
       "<div>                            <div id=\"115e3e1b-0736-4dde-9b1d-cb6552367618\" class=\"plotly-graph-div\" style=\"height:500px; width:100%;\"></div>            <script type=\"text/javascript\">                require([\"plotly\"], function(Plotly) {                    window.PLOTLYENV=window.PLOTLYENV || {};                                    if (document.getElementById(\"115e3e1b-0736-4dde-9b1d-cb6552367618\")) {                    Plotly.newPlot(                        \"115e3e1b-0736-4dde-9b1d-cb6552367618\",                        [{\"mode\":\"markers\",\"x\":[-2.039729118347168,-1.918674111366272,-1.8285332918167114,-1.2828010320663452,-2.9059135913848877,-3.005920648574829,-2.783566474914551,-2.8973228931427,-2.2588367462158203,-2.0915820598602295,-2.9721148014068604,-2.1423630714416504,-1.4139795303344727,-1.3182415962219238,-1.4523019790649414,-1.3420888185501099,-0.5098862648010254,1.4455769062042236,0.23717647790908813,-0.0714488998055458,-0.16637319326400757,0.07498723268508911,0.353507936000824],\"y\":[1.2054980993270874,-0.28275954723358154,0.10286065936088562,0.053421344608068466,0.3463059663772583,-0.10084962099790573,-0.4243972897529602,0.9420704245567322,0.6902778744697571,0.495789110660553,-1.2292474508285522,-0.3884601593017578,0.7569480538368225,0.5515227913856506,0.8616480827331543,1.6148638725280762,-0.024687785655260086,-0.4026007056236267,-0.49002188444137573,-0.19921843707561493,-0.22577925026416779,-0.3575689196586609,1.7266504764556885],\"z\":[-0.49941977858543396,0.3522150218486786,-0.0608585886657238,0.4142456352710724,-0.7413785457611084,2.098534107208252,0.4071504473686218,0.6026907563209534,1.0133284330368042,0.594007670879364,0.7908658385276794,0.4100002348423004,-0.8472641706466675,-0.41482535004615784,-0.611237108707428,-0.42474812269210815,-0.6886038780212402,-0.2643720805644989,-0.5144880414009094,-0.5119182467460632,-0.46177175641059875,-0.7605640292167664,-1.02533757686615],\"type\":\"scatter3d\",\"scene\":\"scene\"},{\"mode\":\"markers\",\"x\":[-2.5144259929656982,-1.2239258289337158,-0.6475260257720947,-0.579725980758667,-4.960025787353516,-4.930525779724121,-4.161525726318359,-4.163125991821289,-3.359825849533081,-3.3523261547088623,-6.546726226806641,-5.840926170349121,0.7499740123748779,1.1865739822387695,2.508373975753784,2.877974033355713,1.7555739879608154,4.239974021911621,5.3175740242004395,6.599574089050293,6.819173812866211,5.754874229431152,4.470973968505859],\"y\":[1.5371084213256836,1.347508430480957,2.143308639526367,0.19180870056152344,-0.7425918579101562,0.5828084945678711,1.322408676147461,-1.3422913551330566,-0.5895919799804688,0.7392082214355469,-2.1948914527893066,-1.5398917198181152,-0.1407918930053711,-1.2888917922973633,-1.306391716003418,-0.22249126434326172,0.5616083145141602,-0.043992042541503906,-0.7652912139892578,-0.5453920364379883,0.3689088821411133,1.0625085830688477,0.8653087615966797],\"z\":[-0.10094070434570312,-0.5291404724121094,-1.2654399871826172,-0.05303955078125,2.269960403442383,2.493459701538086,1.6866607666015625,1.243560791015625,0.48135948181152344,0.6958599090576172,3.67195987701416,3.0595598220825195,-0.3218402862548828,0.1873607635498047,-0.1599407196044922,-0.8745403289794922,-0.9883403778076172,-1.4172401428222656,-0.9078388214111328,-1.3898391723632812,-2.398038864135742,-2.9361400604248047,-2.447439193725586],\"type\":\"scatter3d\",\"scene\":\"scene2\"},{\"mode\":\"markers\",\"x\":[-0.14380335807800293,-0.1400446891784668,-0.6728172302246094,-0.620511531829834,-4.216114521026611,-4.1815667152404785,-4.210402011871338,-4.199383735656738,-4.197787284851074,-4.198605060577393,-6.604900360107422,-0.15271568298339844,-0.13427972793579102,1.1502392292022705,-0.14073801040649414,-0.13377690315246582,-0.15894556045532227,5.488354682922363,5.488649845123291,5.479044437408447,5.512430667877197,5.498557090759277,5.489109516143799],\"y\":[0.018341064453125,0.001514434814453125,2.1449899673461914,0.19217300415039062,-0.001087188720703125,0.0005674362182617188,0.008600234985351562,0.00252532958984375,0.013306617736816406,0.007761955261230469,-2.1911439895629883,0.03530693054199219,0.0034227371215820312,-1.2751178741455078,0.025224685668945312,0.019392967224121094,0.016098976135253906,0.16659832000732422,0.17002010345458984,0.16488170623779297,0.15396499633789062,0.17026138305664062,0.15239906311035156],\"z\":[0.01969146728515625,0.030141830444335938,-1.2598400115966797,-0.04928398132324219,1.4687919616699219,1.4720211029052734,1.475545883178711,1.4788532257080078,1.4832382202148438,1.4853668212890625,3.667682647705078,0.028961181640625,0.011516571044921875,0.17157363891601562,0.007572174072265625,0.017129898071289062,0.017795562744140625,-1.9180774688720703,-1.9172801971435547,-1.9189834594726562,-1.9255619049072266,-1.925710678100586,-1.9211063385009766],\"type\":\"scatter3d\",\"scene\":\"scene3\"}],                        {\"template\":{\"data\":{\"histogram2dcontour\":[{\"type\":\"histogram2dcontour\",\"colorbar\":{\"outlinewidth\":0,\"ticks\":\"\"},\"colorscale\":[[0.0,\"#0d0887\"],[0.1111111111111111,\"#46039f\"],[0.2222222222222222,\"#7201a8\"],[0.3333333333333333,\"#9c179e\"],[0.4444444444444444,\"#bd3786\"],[0.5555555555555556,\"#d8576b\"],[0.6666666666666666,\"#ed7953\"],[0.7777777777777778,\"#fb9f3a\"],[0.8888888888888888,\"#fdca26\"],[1.0,\"#f0f921\"]]}],\"choropleth\":[{\"type\":\"choropleth\",\"colorbar\":{\"outlinewidth\":0,\"ticks\":\"\"}}],\"histogram2d\":[{\"type\":\"histogram2d\",\"colorbar\":{\"outlinewidth\":0,\"ticks\":\"\"},\"colorscale\":[[0.0,\"#0d0887\"],[0.1111111111111111,\"#46039f\"],[0.2222222222222222,\"#7201a8\"],[0.3333333333333333,\"#9c179e\"],[0.4444444444444444,\"#bd3786\"],[0.5555555555555556,\"#d8576b\"],[0.6666666666666666,\"#ed7953\"],[0.7777777777777778,\"#fb9f3a\"],[0.8888888888888888,\"#fdca26\"],[1.0,\"#f0f921\"]]}],\"heatmap\":[{\"type\":\"heatmap\",\"colorbar\":{\"outlinewidth\":0,\"ticks\":\"\"},\"colorscale\":[[0.0,\"#0d0887\"],[0.1111111111111111,\"#46039f\"],[0.2222222222222222,\"#7201a8\"],[0.3333333333333333,\"#9c179e\"],[0.4444444444444444,\"#bd3786\"],[0.5555555555555556,\"#d8576b\"],[0.6666666666666666,\"#ed7953\"],[0.7777777777777778,\"#fb9f3a\"],[0.8888888888888888,\"#fdca26\"],[1.0,\"#f0f921\"]]}],\"heatmapgl\":[{\"type\":\"heatmapgl\",\"colorbar\":{\"outlinewidth\":0,\"ticks\":\"\"},\"colorscale\":[[0.0,\"#0d0887\"],[0.1111111111111111,\"#46039f\"],[0.2222222222222222,\"#7201a8\"],[0.3333333333333333,\"#9c179e\"],[0.4444444444444444,\"#bd3786\"],[0.5555555555555556,\"#d8576b\"],[0.6666666666666666,\"#ed7953\"],[0.7777777777777778,\"#fb9f3a\"],[0.8888888888888888,\"#fdca26\"],[1.0,\"#f0f921\"]]}],\"contourcarpet\":[{\"type\":\"contourcarpet\",\"colorbar\":{\"outlinewidth\":0,\"ticks\":\"\"}}],\"contour\":[{\"type\":\"contour\",\"colorbar\":{\"outlinewidth\":0,\"ticks\":\"\"},\"colorscale\":[[0.0,\"#0d0887\"],[0.1111111111111111,\"#46039f\"],[0.2222222222222222,\"#7201a8\"],[0.3333333333333333,\"#9c179e\"],[0.4444444444444444,\"#bd3786\"],[0.5555555555555556,\"#d8576b\"],[0.6666666666666666,\"#ed7953\"],[0.7777777777777778,\"#fb9f3a\"],[0.8888888888888888,\"#fdca26\"],[1.0,\"#f0f921\"]]}],\"surface\":[{\"type\":\"surface\",\"colorbar\":{\"outlinewidth\":0,\"ticks\":\"\"},\"colorscale\":[[0.0,\"#0d0887\"],[0.1111111111111111,\"#46039f\"],[0.2222222222222222,\"#7201a8\"],[0.3333333333333333,\"#9c179e\"],[0.4444444444444444,\"#bd3786\"],[0.5555555555555556,\"#d8576b\"],[0.6666666666666666,\"#ed7953\"],[0.7777777777777778,\"#fb9f3a\"],[0.8888888888888888,\"#fdca26\"],[1.0,\"#f0f921\"]]}],\"mesh3d\":[{\"type\":\"mesh3d\",\"colorbar\":{\"outlinewidth\":0,\"ticks\":\"\"}}],\"scatter\":[{\"fillpattern\":{\"fillmode\":\"overlay\",\"size\":10,\"solidity\":0.2},\"type\":\"scatter\"}],\"parcoords\":[{\"type\":\"parcoords\",\"line\":{\"colorbar\":{\"outlinewidth\":0,\"ticks\":\"\"}}}],\"scatterpolargl\":[{\"type\":\"scatterpolargl\",\"marker\":{\"colorbar\":{\"outlinewidth\":0,\"ticks\":\"\"}}}],\"bar\":[{\"error_x\":{\"color\":\"#2a3f5f\"},\"error_y\":{\"color\":\"#2a3f5f\"},\"marker\":{\"line\":{\"color\":\"#E5ECF6\",\"width\":0.5},\"pattern\":{\"fillmode\":\"overlay\",\"size\":10,\"solidity\":0.2}},\"type\":\"bar\"}],\"scattergeo\":[{\"type\":\"scattergeo\",\"marker\":{\"colorbar\":{\"outlinewidth\":0,\"ticks\":\"\"}}}],\"scatterpolar\":[{\"type\":\"scatterpolar\",\"marker\":{\"colorbar\":{\"outlinewidth\":0,\"ticks\":\"\"}}}],\"histogram\":[{\"marker\":{\"pattern\":{\"fillmode\":\"overlay\",\"size\":10,\"solidity\":0.2}},\"type\":\"histogram\"}],\"scattergl\":[{\"type\":\"scattergl\",\"marker\":{\"colorbar\":{\"outlinewidth\":0,\"ticks\":\"\"}}}],\"scatter3d\":[{\"type\":\"scatter3d\",\"line\":{\"colorbar\":{\"outlinewidth\":0,\"ticks\":\"\"}},\"marker\":{\"colorbar\":{\"outlinewidth\":0,\"ticks\":\"\"}}}],\"scattermapbox\":[{\"type\":\"scattermapbox\",\"marker\":{\"colorbar\":{\"outlinewidth\":0,\"ticks\":\"\"}}}],\"scatterternary\":[{\"type\":\"scatterternary\",\"marker\":{\"colorbar\":{\"outlinewidth\":0,\"ticks\":\"\"}}}],\"scattercarpet\":[{\"type\":\"scattercarpet\",\"marker\":{\"colorbar\":{\"outlinewidth\":0,\"ticks\":\"\"}}}],\"carpet\":[{\"aaxis\":{\"endlinecolor\":\"#2a3f5f\",\"gridcolor\":\"white\",\"linecolor\":\"white\",\"minorgridcolor\":\"white\",\"startlinecolor\":\"#2a3f5f\"},\"baxis\":{\"endlinecolor\":\"#2a3f5f\",\"gridcolor\":\"white\",\"linecolor\":\"white\",\"minorgridcolor\":\"white\",\"startlinecolor\":\"#2a3f5f\"},\"type\":\"carpet\"}],\"table\":[{\"cells\":{\"fill\":{\"color\":\"#EBF0F8\"},\"line\":{\"color\":\"white\"}},\"header\":{\"fill\":{\"color\":\"#C8D4E3\"},\"line\":{\"color\":\"white\"}},\"type\":\"table\"}],\"barpolar\":[{\"marker\":{\"line\":{\"color\":\"#E5ECF6\",\"width\":0.5},\"pattern\":{\"fillmode\":\"overlay\",\"size\":10,\"solidity\":0.2}},\"type\":\"barpolar\"}],\"pie\":[{\"automargin\":true,\"type\":\"pie\"}]},\"layout\":{\"autotypenumbers\":\"strict\",\"colorway\":[\"#636efa\",\"#EF553B\",\"#00cc96\",\"#ab63fa\",\"#FFA15A\",\"#19d3f3\",\"#FF6692\",\"#B6E880\",\"#FF97FF\",\"#FECB52\"],\"font\":{\"color\":\"#2a3f5f\"},\"hovermode\":\"closest\",\"hoverlabel\":{\"align\":\"left\"},\"paper_bgcolor\":\"white\",\"plot_bgcolor\":\"#E5ECF6\",\"polar\":{\"bgcolor\":\"#E5ECF6\",\"angularaxis\":{\"gridcolor\":\"white\",\"linecolor\":\"white\",\"ticks\":\"\"},\"radialaxis\":{\"gridcolor\":\"white\",\"linecolor\":\"white\",\"ticks\":\"\"}},\"ternary\":{\"bgcolor\":\"#E5ECF6\",\"aaxis\":{\"gridcolor\":\"white\",\"linecolor\":\"white\",\"ticks\":\"\"},\"baxis\":{\"gridcolor\":\"white\",\"linecolor\":\"white\",\"ticks\":\"\"},\"caxis\":{\"gridcolor\":\"white\",\"linecolor\":\"white\",\"ticks\":\"\"}},\"coloraxis\":{\"colorbar\":{\"outlinewidth\":0,\"ticks\":\"\"}},\"colorscale\":{\"sequential\":[[0.0,\"#0d0887\"],[0.1111111111111111,\"#46039f\"],[0.2222222222222222,\"#7201a8\"],[0.3333333333333333,\"#9c179e\"],[0.4444444444444444,\"#bd3786\"],[0.5555555555555556,\"#d8576b\"],[0.6666666666666666,\"#ed7953\"],[0.7777777777777778,\"#fb9f3a\"],[0.8888888888888888,\"#fdca26\"],[1.0,\"#f0f921\"]],\"sequentialminus\":[[0.0,\"#0d0887\"],[0.1111111111111111,\"#46039f\"],[0.2222222222222222,\"#7201a8\"],[0.3333333333333333,\"#9c179e\"],[0.4444444444444444,\"#bd3786\"],[0.5555555555555556,\"#d8576b\"],[0.6666666666666666,\"#ed7953\"],[0.7777777777777778,\"#fb9f3a\"],[0.8888888888888888,\"#fdca26\"],[1.0,\"#f0f921\"]],\"diverging\":[[0,\"#8e0152\"],[0.1,\"#c51b7d\"],[0.2,\"#de77ae\"],[0.3,\"#f1b6da\"],[0.4,\"#fde0ef\"],[0.5,\"#f7f7f7\"],[0.6,\"#e6f5d0\"],[0.7,\"#b8e186\"],[0.8,\"#7fbc41\"],[0.9,\"#4d9221\"],[1,\"#276419\"]]},\"xaxis\":{\"gridcolor\":\"white\",\"linecolor\":\"white\",\"ticks\":\"\",\"title\":{\"standoff\":15},\"zerolinecolor\":\"white\",\"automargin\":true,\"zerolinewidth\":2},\"yaxis\":{\"gridcolor\":\"white\",\"linecolor\":\"white\",\"ticks\":\"\",\"title\":{\"standoff\":15},\"zerolinecolor\":\"white\",\"automargin\":true,\"zerolinewidth\":2},\"scene\":{\"xaxis\":{\"backgroundcolor\":\"#E5ECF6\",\"gridcolor\":\"white\",\"linecolor\":\"white\",\"showbackground\":true,\"ticks\":\"\",\"zerolinecolor\":\"white\",\"gridwidth\":2},\"yaxis\":{\"backgroundcolor\":\"#E5ECF6\",\"gridcolor\":\"white\",\"linecolor\":\"white\",\"showbackground\":true,\"ticks\":\"\",\"zerolinecolor\":\"white\",\"gridwidth\":2},\"zaxis\":{\"backgroundcolor\":\"#E5ECF6\",\"gridcolor\":\"white\",\"linecolor\":\"white\",\"showbackground\":true,\"ticks\":\"\",\"zerolinecolor\":\"white\",\"gridwidth\":2}},\"shapedefaults\":{\"line\":{\"color\":\"#2a3f5f\"}},\"annotationdefaults\":{\"arrowcolor\":\"#2a3f5f\",\"arrowhead\":0,\"arrowwidth\":1},\"geo\":{\"bgcolor\":\"white\",\"landcolor\":\"#E5ECF6\",\"subunitcolor\":\"white\",\"showland\":true,\"showlakes\":true,\"lakecolor\":\"white\"},\"title\":{\"x\":0.05},\"mapbox\":{\"style\":\"light\"}}},\"scene\":{\"domain\":{\"x\":[0.0,0.2888888888888889],\"y\":[0.0,1.0]}},\"scene2\":{\"domain\":{\"x\":[0.35555555555555557,0.6444444444444445],\"y\":[0.0,1.0]}},\"scene3\":{\"domain\":{\"x\":[0.7111111111111111,1.0],\"y\":[0.0,1.0]}},\"height\":500,\"showlegend\":false},                        {\"responsive\": true}                    ).then(function(){\n",
       "                            \n",
       "var gd = document.getElementById('115e3e1b-0736-4dde-9b1d-cb6552367618');\n",
       "var x = new MutationObserver(function (mutations, observer) {{\n",
       "        var display = window.getComputedStyle(gd).display;\n",
       "        if (!display || display === 'none') {{\n",
       "            console.log([gd, 'removed!']);\n",
       "            Plotly.purge(gd);\n",
       "            observer.disconnect();\n",
       "        }}\n",
       "}});\n",
       "\n",
       "// Listen for the removal of the full notebook cells\n",
       "var notebookContainer = gd.closest('#notebook-container');\n",
       "if (notebookContainer) {{\n",
       "    x.observe(notebookContainer, {childList: true});\n",
       "}}\n",
       "\n",
       "// Listen for the clearing of the current output cell\n",
       "var outputEl = gd.closest('.output');\n",
       "if (outputEl) {{\n",
       "    x.observe(outputEl, {childList: true});\n",
       "}}\n",
       "\n",
       "                        })                };                });            </script>        </div>"
      ]
     },
     "metadata": {},
     "output_type": "display_data"
    }
   ],
   "source": [
    "fig = make_subplots(rows=1, cols=3, \n",
    "                   specs = [[{\"type\": \"scatter3d\"} for i in range(3)]]\n",
    "                   )\n",
    "\n",
    "\n",
    "fig.add_trace(\n",
    "    go.Scatter3d(x=x_i_arr[:, 0], y=x_i_arr[:, 1], z=x_i_arr[:, 2], mode='markers'),\n",
    "    row=1, col=1\n",
    ")\n",
    "\n",
    "fig.add_trace(\n",
    "    go.Scatter3d(x=original_pos_0center_i_arr[:, 0], y=original_pos_0center_i_arr[:, 1], z=original_pos_0center_i_arr[:, 2], mode='markers'),\n",
    "    row=1, col=2\n",
    ")\n",
    "\n",
    "fig.add_trace(\n",
    "    go.Scatter3d(x=pp_pos_0center_i_arr[:, 0], y=pp_pos_0center_i_arr[:, 1], z=pp_pos_0center_i_arr[:, 2], mode='markers'),\n",
    "    row=1, col=3\n",
    ")\n",
    "\n",
    "fig.update_layout(height=500, showlegend=False)\n",
    "fig.show()"
   ]
  },
  {
   "cell_type": "code",
   "execution_count": 36,
   "id": "a9c5a4aa-31a2-487b-8645-41b28f0dd7a7",
   "metadata": {},
   "outputs": [
    {
     "data": {
      "text/plain": [
       "15"
      ]
     },
     "execution_count": 36,
     "metadata": {},
     "output_type": "execute_result"
    }
   ],
   "source": [
    "xt_sampled = [x_traj_i[i] for i in range(len(x_traj_i)) if i%70==0]\n",
    "len(xt_sampled)"
   ]
  },
  {
   "cell_type": "code",
   "execution_count": 37,
   "id": "27ced06f-1ef9-4743-a16d-6795fc8900f9",
   "metadata": {},
   "outputs": [
    {
     "data": {
      "application/vnd.plotly.v1+json": {
       "config": {
        "plotlyServerURL": "https://plot.ly"
       },
       "data": [
        {
         "mode": "markers",
         "scene": "scene",
         "type": "scatter3d",
         "x": [
          -0.14380288124084473,
          -0.1400442123413086,
          -0.6728167533874512,
          -0.6205110549926758,
          -4.216114044189453,
          -4.18156623840332,
          -4.21040153503418,
          -4.19938325881958,
          -4.197786808013916,
          -4.198604583740234,
          -6.604899883270264,
          -0.15271520614624023,
          -0.1342792510986328,
          1.1502397060394287,
          -0.14073753356933594,
          -0.13377642631530762,
          -0.15894508361816406,
          5.4883551597595215,
          5.488650321960449,
          5.4790449142456055,
          5.5124311447143555,
          5.4985575675964355,
          5.489109992980957
         ],
         "y": [
          0.018341064453125,
          0.001514434814453125,
          2.1449899673461914,
          0.19217300415039062,
          -0.001087188720703125,
          0.0005674362182617188,
          0.008600234985351562,
          0.00252532958984375,
          0.013306617736816406,
          0.007761955261230469,
          -2.1911439895629883,
          0.03530693054199219,
          0.0034227371215820312,
          -1.2751178741455078,
          0.025224685668945312,
          0.019392967224121094,
          0.016098976135253906,
          0.16659832000732422,
          0.17002010345458984,
          0.16488170623779297,
          0.15396499633789062,
          0.17026138305664062,
          0.15239906311035156
         ],
         "z": [
          0.019689559936523438,
          0.030139923095703125,
          -1.2598419189453125,
          -0.049285888671875,
          1.468790054321289,
          1.4720191955566406,
          1.4755439758300781,
          1.478851318359375,
          1.483236312866211,
          1.4853649139404297,
          3.6676807403564453,
          0.028959274291992188,
          0.011514663696289062,
          0.1715717315673828,
          0.0075702667236328125,
          0.01712799072265625,
          0.017793655395507812,
          -1.9180793762207031,
          -1.9172821044921875,
          -1.918985366821289,
          -1.9255638122558594,
          -1.9257125854492188,
          -1.9211082458496094
         ]
        },
        {
         "mode": "markers",
         "scene": "scene2",
         "type": "scatter3d",
         "x": [
          -1.2125003337860107,
          -0.6756194233894348,
          -1.368096947669983,
          0.036599718034267426,
          -3.400634288787842,
          -2.978965997695923,
          -3.5107462406158447,
          -3.4731898307800293,
          -3.5275778770446777,
          -3.047051191329956,
          -4.902413845062256,
          -1.2620000839233398,
          -0.23682516813278198,
          0.7111130356788635,
          -0.22474342584609985,
          -0.7132810950279236,
          0.5283136367797852,
          5.920643329620361,
          4.222472190856934,
          3.181635618209839,
          3.3289847373962402,
          3.8125686645507812,
          4.041754722595215
         ],
         "y": [
          0.16972045600414276,
          0.06108788400888443,
          1.1565284729003906,
          0.00299530616030097,
          -0.07301141321659088,
          -0.2129189670085907,
          -0.22753097116947174,
          0.5596017837524414,
          0.10349515825510025,
          0.46510612964630127,
          -1.9990040063858032,
          -0.5735824704170227,
          -0.2555220425128937,
          -0.521529495716095,
          0.5158843994140625,
          0.48793062567710876,
          -0.10939794778823853,
          0.16375111043453217,
          -0.8110136389732361,
          -0.8086850643157959,
          -0.6285852193832397,
          0.8254233598709106,
          0.7903988361358643
         ],
         "z": [
          -0.8853168487548828,
          0.44017350673675537,
          0.07724742591381073,
          1.4069174528121948,
          0.03480813652276993,
          2.2953555583953857,
          1.208027720451355,
          1.3357919454574585,
          2.0688316822052,
          2.353074312210083,
          2.770336151123047,
          -0.11583679914474487,
          -0.8458929061889648,
          -0.8615744113922119,
          0.5154416561126709,
          -0.530564546585083,
          -0.6708037257194519,
          -1.5845026969909668,
          -0.8696897029876709,
          -1.6225630044937134,
          -1.3174915313720703,
          -1.5330390930175781,
          -1.6490949392318726
         ]
        },
        {
         "mode": "markers",
         "scene": "scene3",
         "type": "scatter3d",
         "x": [
          -1.1333730220794678,
          -0.8781808614730835,
          -1.4571532011032104,
          0.04823332652449608,
          -2.4872639179229736,
          -2.625786304473877,
          -2.353769540786743,
          -2.7922048568725586,
          -2.9950714111328125,
          -2.537801504135132,
          -3.915011405944824,
          -1.491197943687439,
          -0.8337269425392151,
          0.478334903717041,
          -0.3333061933517456,
          -0.5738806128501892,
          0.27044081687927246,
          4.5810441970825195,
          3.2452077865600586,
          2.0180108547210693,
          2.300161361694336,
          2.5327439308166504,
          2.767244815826416
         ],
         "y": [
          0.556779682636261,
          -0.7058055400848389,
          0.36894235014915466,
          -0.1848457008600235,
          0.22593942284584045,
          -0.32113951444625854,
          -0.4834795892238617,
          0.251364529132843,
          0.4916546046733856,
          0.36744752526283264,
          -1.6054872274398804,
          -0.41046932339668274,
          0.5282554030418396,
          0.15832707285881042,
          0.37230902910232544,
          0.6052181720733643,
          -0.5176456570625305,
          -0.07349595427513123,
          -0.6669862270355225,
          -0.6195001602172852,
          -0.472872793674469,
          -0.3056560456752777,
          1.5965653657913208
         ],
         "z": [
          -0.5045639872550964,
          0.8261148929595947,
          0.2645784616470337,
          1.1186553239822388,
          -0.09042714536190033,
          2.155568838119507,
          0.9549381136894226,
          1.1418063640594482,
          1.3933049440383911,
          1.64519464969635,
          2.092256784439087,
          0.3044879138469696,
          -0.2511904537677765,
          -0.10359729826450348,
          0.5970075130462646,
          -0.49938851594924927,
          -1.0229899883270264,
          -0.7919064164161682,
          -0.5094943642616272,
          -1.3276193141937256,
          -1.0200387239456177,
          -1.7741202116012573,
          -1.3362152576446533
         ]
        },
        {
         "mode": "markers",
         "scene": "scene4",
         "type": "scatter3d",
         "x": [
          -1.4304583072662354,
          -1.3666912317276,
          -1.2757482528686523,
          -0.3773568570613861,
          -2.4042181968688965,
          -2.1953983306884766,
          -1.8670881986618042,
          -2.4045052528381348,
          -2.543229103088379,
          -2.3488993644714355,
          -3.068103551864624,
          -1.1974698305130005,
          -0.8227667808532715,
          -0.056279830634593964,
          -0.6571215391159058,
          -0.39797744154930115,
          0.3027452826499939,
          3.5544943809509277,
          2.304276466369629,
          1.2935751676559448,
          1.558457851409912,
          1.3896671533584595,
          2.2839980125427246
         ],
         "y": [
          0.9970916509628296,
          -0.40613675117492676,
          -0.020670080557465553,
          -0.09941168129444122,
          0.5431776642799377,
          0.008431228809058666,
          -0.6387854814529419,
          0.5707096457481384,
          0.4760144352912903,
          0.2079746127128601,
          -1.387581467628479,
          -0.5565531849861145,
          0.8097438216209412,
          0.4608914852142334,
          0.5346086621284485,
          1.1137065887451172,
          -0.2626098692417145,
          -0.07907839119434357,
          -0.4561508595943451,
          -0.5306811928749084,
          -0.7921576499938965,
          -0.31994131207466125,
          1.8881405591964722
         ],
         "z": [
          -0.6941395998001099,
          1.1432794332504272,
          -0.03465328365564346,
          0.8274481296539307,
          -0.5394476652145386,
          2.4227421283721924,
          0.9216867089271545,
          0.8994172215461731,
          1.2829385995864868,
          1.1499569416046143,
          1.4953628778457642,
          0.5271612405776978,
          -0.35076704621315,
          -0.0268827173858881,
          0.13291198015213013,
          -0.22727224230766296,
          -0.8207284212112427,
          -0.359332799911499,
          -0.7918276786804199,
          -0.9363684058189392,
          -0.43881261348724365,
          -1.418014645576477,
          -1.287171483039856
         ]
        },
        {
         "mode": "markers",
         "scene": "scene5",
         "type": "scatter3d",
         "x": [
          -1.4328652620315552,
          -1.4686522483825684,
          -1.140724778175354,
          -0.7065923810005188,
          -2.3513076305389404,
          -2.3767831325531006,
          -1.8622745275497437,
          -2.3027806282043457,
          -1.9421851634979248,
          -1.9461356401443481,
          -2.378481864929199,
          -1.206054449081421,
          -0.9451338648796082,
          -0.46825969219207764,
          -0.8088098764419556,
          -0.3259909749031067,
          -0.05013015493750572,
          2.9308228492736816,
          1.3819053173065186,
          0.923134982585907,
          0.6432613730430603,
          0.9749618768692017,
          1.7783211469650269
         ],
         "y": [
          1.0562833547592163,
          -0.3403763473033905,
          -0.04151151701807976,
          0.10463162511587143,
          0.4613634943962097,
          0.11170560866594315,
          -0.6220959424972534,
          0.7492648363113403,
          0.6945108771324158,
          0.28826576471328735,
          -1.1713764667510986,
          -0.36580827832221985,
          0.8032810091972351,
          0.30136096477508545,
          0.5272571444511414,
          1.1597909927368164,
          0.10087677836418152,
          -0.07712385058403015,
          -0.548256516456604,
          -0.4539666771888733,
          -0.6270048022270203,
          -0.28272488713264465,
          1.51670503616333
         ],
         "z": [
          -0.4703458547592163,
          0.7583333253860474,
          -0.13106262683868408,
          0.7232730984687805,
          -0.6048632264137268,
          2.3156371116638184,
          1.0240260362625122,
          0.9371242523193359,
          1.31758713722229,
          0.94261634349823,
          1.3168632984161377,
          0.40304800868034363,
          -0.3410690128803253,
          -0.17390288412570953,
          -0.051367539912462234,
          -0.26598939299583435,
          -1.1470482349395752,
          -0.09084376692771912,
          -0.8956502079963684,
          -0.8094347715377808,
          -0.3744044899940491,
          -1.0898510217666626,
          -1.086777925491333
         ]
        },
        {
         "mode": "markers",
         "scene": "scene6",
         "type": "scatter3d",
         "x": [
          -1.5709904432296753,
          -1.4302847385406494,
          -1.3075027465820312,
          -0.801601767539978,
          -2.5592265129089355,
          -2.414921522140503,
          -1.8273422718048096,
          -2.3313214778900146,
          -1.8809579610824585,
          -1.8387998342514038,
          -2.458873987197876,
          -1.3389029502868652,
          -1.1497939825057983,
          -0.6461925506591797,
          -0.8594063520431519,
          -0.7276173830032349,
          -0.19887077808380127,
          2.277151107788086,
          0.8876519799232483,
          0.6088354587554932,
          0.3442080318927765,
          0.6297884583473206,
          1.3059709072113037
         ],
         "y": [
          1.0171819925308228,
          -0.2881678640842438,
          -0.065509133040905,
          0.053226981312036514,
          0.5036619305610657,
          0.10853883624076843,
          -0.6525396108627319,
          1.0351965427398682,
          0.7700458765029907,
          0.30098050832748413,
          -1.296095371246338,
          -0.16757376492023468,
          0.71663898229599,
          0.40636101365089417,
          0.5210779905319214,
          1.1551345586776733,
          0.05353604629635811,
          -0.20670850574970245,
          -0.6025864481925964,
          -0.5518487095832825,
          -0.59457927942276,
          -0.3260299861431122,
          1.47866690158844
         ],
         "z": [
          -0.5785609483718872,
          0.5362820625305176,
          -0.199041947722435,
          0.689113438129425,
          -0.7835561633110046,
          2.377208948135376,
          0.8324580788612366,
          0.8107351064682007,
          1.3907139301300049,
          0.7591959834098816,
          1.2139867544174194,
          0.40179359912872314,
          -0.624252200126648,
          -0.4132952094078064,
          -0.24194958806037903,
          -0.26158714294433594,
          -1.2041517496109009,
          -0.03914843499660492,
          -0.6996353268623352,
          -0.8094044923782349,
          -0.538411021232605,
          -1.0358209609985352,
          -0.9555329084396362
         ]
        },
        {
         "mode": "markers",
         "scene": "scene7",
         "type": "scatter3d",
         "x": [
          -1.6569575071334839,
          -1.5120036602020264,
          -1.5134437084197998,
          -0.9256961345672607,
          -2.623452663421631,
          -2.431148052215576,
          -1.9337340593338013,
          -2.408055067062378,
          -2.01338529586792,
          -1.845499873161316,
          -2.500779867172241,
          -1.584583044052124,
          -1.2835062742233276,
          -0.8247854709625244,
          -0.946331262588501,
          -0.9191237092018127,
          -0.43191275000572205,
          1.9669947624206543,
          0.7050867080688477,
          0.3808804154396057,
          0.07508928328752518,
          0.4631446897983551,
          1.0720199346542358
         ],
         "y": [
          1.2071452140808105,
          -0.3262849450111389,
          0.030577830970287323,
          0.05699677765369415,
          0.4400033950805664,
          0.018331844359636307,
          -0.7336034178733826,
          1.0997971296310425,
          0.8283570408821106,
          0.4153887927532196,
          -1.3262823820114136,
          -0.3158849775791168,
          0.6620780229568481,
          0.43804261088371277,
          0.6798475980758667,
          1.4310330152511597,
          -0.01000569574534893,
          -0.3596348166465759,
          -0.6100709438323975,
          -0.4418523907661438,
          -0.4683123528957367,
          -0.3086266815662384,
          1.527796745300293
         ],
         "z": [
          -0.5682775974273682,
          0.4355117082595825,
          -0.28751248121261597,
          0.6437365412712097,
          -0.8309742212295532,
          2.358736276626587,
          0.6912885308265686,
          0.820973813533783,
          1.2337919473648071,
          0.5809921622276306,
          1.0515507459640503,
          0.40567347407341003,
          -0.7419021725654602,
          -0.4640524685382843,
          -0.3518608808517456,
          -0.29255053400993347,
          -1.0850178003311157,
          -0.12936654686927795,
          -0.7901668548583984,
          -0.8078131675720215,
          -0.5302668809890747,
          -1.0570951700210571,
          -0.8971289396286011
         ]
        },
        {
         "mode": "markers",
         "scene": "scene8",
         "type": "scatter3d",
         "x": [
          -1.7583335638046265,
          -1.5927356481552124,
          -1.5786926746368408,
          -1.0717488527297974,
          -2.75268816947937,
          -2.643693208694458,
          -2.292095899581909,
          -2.4835362434387207,
          -2.049821138381958,
          -1.8478306531906128,
          -2.575805902481079,
          -1.8154428005218506,
          -1.2869218587875366,
          -0.9358086585998535,
          -1.1184120178222656,
          -0.9573589563369751,
          -0.45146530866622925,
          1.7983555793762207,
          0.5516437292098999,
          0.28865817189216614,
          0.07065771520137787,
          0.3676565885543823,
          0.7974981069564819
         ],
         "y": [
          1.1169241666793823,
          -0.33242684602737427,
          -0.028046730905771255,
          0.028187807649374008,
          0.4483558237552643,
          -0.12287817895412445,
          -0.7465086579322815,
          1.1624268293380737,
          0.8275086879730225,
          0.4297386109828949,
          -1.4019662141799927,
          -0.3560775816440582,
          0.6988126635551453,
          0.5296226739883423,
          0.7039772272109985,
          1.4634991884231567,
          0.008814367465674877,
          -0.4467448592185974,
          -0.6195327639579773,
          -0.4487467408180237,
          -0.365257203578949,
          -0.33910831809043884,
          1.6015733480453491
         ],
         "z": [
          -0.5408787727355957,
          0.3657563626766205,
          -0.18394291400909424,
          0.5437020659446716,
          -0.8648217916488647,
          2.1766934394836426,
          0.5360021591186523,
          0.7143580913543701,
          1.179228663444519,
          0.4939440190792084,
          0.9795597195625305,
          0.43820497393608093,
          -0.7750054597854614,
          -0.4004131555557251,
          -0.4028346538543701,
          -0.3241332173347473,
          -0.9615711569786072,
          -0.2340325266122818,
          -0.7816625833511353,
          -0.7237401604652405,
          -0.5127790570259094,
          -1.0124163627624512,
          -0.9190494418144226
         ]
        },
        {
         "mode": "markers",
         "scene": "scene9",
         "type": "scatter3d",
         "x": [
          -1.822435975074768,
          -1.690456748008728,
          -1.6315244436264038,
          -1.1126773357391357,
          -2.78579044342041,
          -2.787221670150757,
          -2.4750492572784424,
          -2.6390366554260254,
          -2.1002485752105713,
          -1.8595259189605713,
          -2.76008677482605,
          -1.8892863988876343,
          -1.2113502025604248,
          -1.0426567792892456,
          -1.2123620510101318,
          -1.0746484994888306,
          -0.3589904308319092,
          1.6481257677078247,
          0.514008641242981,
          0.20715941488742828,
          0.02442644163966179,
          0.33305925130844116,
          0.670740008354187
         ],
         "y": [
          1.173830270767212,
          -0.2656088173389435,
          -0.005737071391195059,
          0.029571879655122757,
          0.3717343509197235,
          -0.14079397916793823,
          -0.5635676980018616,
          1.000695824623108,
          0.7404754757881165,
          0.4474022090435028,
          -1.2948611974716187,
          -0.4085606634616852,
          0.6894320845603943,
          0.5643858313560486,
          0.7556588649749756,
          1.5407216548919678,
          -0.0007552769966423512,
          -0.4547519385814667,
          -0.5741748213768005,
          -0.3262874484062195,
          -0.27014806866645813,
          -0.3366483151912689,
          1.6914918422698975
         ],
         "z": [
          -0.5532055497169495,
          0.30224141478538513,
          -0.09833639115095139,
          0.46585047245025635,
          -0.835721492767334,
          2.0573761463165283,
          0.4234800636768341,
          0.6161561012268066,
          1.0858869552612305,
          0.5238238573074341,
          0.8135048747062683,
          0.3739142119884491,
          -0.7317802309989929,
          -0.38601750135421753,
          -0.5076267719268799,
          -0.42310574650764465,
          -0.7627396583557129,
          -0.3286714553833008,
          -0.7009636163711548,
          -0.6082687377929688,
          -0.5000093579292297,
          -0.849724292755127,
          -0.9999210238456726
         ]
        },
        {
         "mode": "markers",
         "scene": "scene10",
         "type": "scatter3d",
         "x": [
          -1.8588074445724487,
          -1.7624889612197876,
          -1.6721957921981812,
          -1.1656845808029175,
          -2.7887682914733887,
          -2.8922903537750244,
          -2.6092917919158936,
          -2.761735677719116,
          -2.120204210281372,
          -1.9083514213562012,
          -2.830509662628174,
          -1.9686866998672485,
          -1.254823088645935,
          -1.1169958114624023,
          -1.302558183670044,
          -1.2103567123413086,
          -0.39394545555114746,
          1.5566068887710571,
          0.4057210683822632,
          0.10197775810956955,
          -0.025101475417613983,
          0.25402167439460754,
          0.5333575010299683
         ],
         "y": [
          1.2002002000808716,
          -0.2603994607925415,
          0.05713176727294922,
          0.041600391268730164,
          0.3552268147468567,
          -0.1654924750328064,
          -0.4643714427947998,
          0.9376837611198425,
          0.68215012550354,
          0.4467689096927643,
          -1.2462698221206665,
          -0.37874364852905273,
          0.71385657787323,
          0.5817992687225342,
          0.8246840238571167,
          1.563257098197937,
          -0.013429337181150913,
          -0.45480599999427795,
          -0.4969903230667114,
          -0.233873188495636,
          -0.23289911448955536,
          -0.34096553921699524,
          1.7143253087997437
         ],
         "z": [
          -0.553443968296051,
          0.2843468189239502,
          -0.07033471763134003,
          0.42155709862709045,
          -0.753477156162262,
          2.0497405529022217,
          0.3886822462081909,
          0.5675448775291443,
          1.0153149366378784,
          0.5483728051185608,
          0.7873276472091675,
          0.4026374816894531,
          -0.7485018372535706,
          -0.4105471670627594,
          -0.5724288821220398,
          -0.4318861961364746,
          -0.6775809526443481,
          -0.31416502594947815,
          -0.5854101181030273,
          -0.5539212822914124,
          -0.503638744354248,
          -0.7827457189559937,
          -1.017621636390686
         ]
        },
        {
         "mode": "markers",
         "scene": "scene11",
         "type": "scatter3d",
         "x": [
          -1.9122947454452515,
          -1.8409076929092407,
          -1.6778124570846558,
          -1.224413514137268,
          -2.823538064956665,
          -2.948286771774292,
          -2.6526107788085938,
          -2.84354829788208,
          -2.173121213912964,
          -1.963283896446228,
          -2.8836097717285156,
          -2.013115406036377,
          -1.3067808151245117,
          -1.1960411071777344,
          -1.3635355234146118,
          -1.2529538869857788,
          -0.4027281105518341,
          1.5034101009368896,
          0.33293017745018005,
          0.009574410505592823,
          -0.08467759191989899,
          0.17472678422927856,
          0.4536287188529968
         ],
         "y": [
          1.17830491065979,
          -0.24683396518230438,
          0.09345932304859161,
          0.021514035761356354,
          0.358977735042572,
          -0.14403384923934937,
          -0.41720473766326904,
          0.9125383496284485,
          0.6640560626983643,
          0.46155041456222534,
          -1.2515884637832642,
          -0.37552616000175476,
          0.7291619777679443,
          0.565750777721405,
          0.8524765372276306,
          1.5910087823867798,
          -0.016897857189178467,
          -0.43008601665496826,
          -0.4971950650215149,
          -0.21181659400463104,
          -0.22169357538223267,
          -0.3515712022781372,
          1.721814751625061
         ],
         "z": [
          -0.5155417323112488,
          0.2985972762107849,
          -0.06612875312566757,
          0.38884761929512024,
          -0.7577970623970032,
          2.0752925872802734,
          0.4052194654941559,
          0.5707331895828247,
          1.0142637491226196,
          0.5651974081993103,
          0.7678967714309692,
          0.41193655133247375,
          -0.7960193753242493,
          -0.4091879725456238,
          -0.5991048812866211,
          -0.4433131814002991,
          -0.6585862636566162,
          -0.30663254857063293,
          -0.544096827507019,
          -0.5247378945350647,
          -0.5043574571609497,
          -0.769573986530304,
          -1.046488881111145
         ]
        },
        {
         "mode": "markers",
         "scene": "scene12",
         "type": "scatter3d",
         "x": [
          -1.9609766006469727,
          -1.8515419960021973,
          -1.7388081550598145,
          -1.2328380346298218,
          -2.854658365249634,
          -2.982485294342041,
          -2.6819872856140137,
          -2.864824056625366,
          -2.204659938812256,
          -2.0132646560668945,
          -2.9034690856933594,
          -2.0529911518096924,
          -1.3521217107772827,
          -1.2411186695098877,
          -1.3958357572555542,
          -1.2906279563903809,
          -0.43873488903045654,
          1.483731746673584,
          0.289774626493454,
          -0.027984142303466797,
          -0.1236962303519249,
          0.13059362769126892,
          0.4057754576206207
         ],
         "y": [
          1.1909754276275635,
          -0.26022860407829285,
          0.0998493880033493,
          0.042697761207818985,
          0.36588653922080994,
          -0.13602577149868011,
          -0.40908926725387573,
          0.9273807406425476,
          0.6703916788101196,
          0.4711626172065735,
          -1.2395836114883423,
          -0.36859673261642456,
          0.7390390038490295,
          0.5637903213500977,
          0.8520223498344421,
          1.5974278450012207,
          -0.019140126183629036,
          -0.39621540904045105,
          -0.4874406158924103,
          -0.2086048573255539,
          -0.21574272215366364,
          -0.3552623987197876,
          1.7117335796356201
         ],
         "z": [
          -0.5062788724899292,
          0.3285995125770569,
          -0.0494658425450325,
          0.3925544321537018,
          -0.7625577449798584,
          2.083923101425171,
          0.4069744646549225,
          0.5976633429527283,
          0.9953245520591736,
          0.5617809891700745,
          0.7865347862243652,
          0.4082779884338379,
          -0.8332560062408447,
          -0.4081237018108368,
          -0.6197986602783203,
          -0.44450175762176514,
          -0.6797187328338623,
          -0.29457318782806396,
          -0.5270439982414246,
          -0.5235821604728699,
          -0.48725199699401855,
          -0.7708149552345276,
          -1.0401633977890015
         ]
        },
        {
         "mode": "markers",
         "scene": "scene13",
         "type": "scatter3d",
         "x": [
          -1.994307279586792,
          -1.8813375234603882,
          -1.7730125188827515,
          -1.2626488208770752,
          -2.8651585578918457,
          -2.987717628479004,
          -2.7221062183380127,
          -2.8776087760925293,
          -2.2157981395721436,
          -2.0427780151367188,
          -2.9371283054351807,
          -2.0957422256469727,
          -1.3780437707901,
          -1.2657126188278198,
          -1.4187771081924438,
          -1.3096141815185547,
          -0.4615231156349182,
          1.4722814559936523,
          0.2763826251029968,
          -0.04330912604928017,
          -0.1361217498779297,
          0.1135624423623085,
          0.38397103548049927
         ],
         "y": [
          1.1911364793777466,
          -0.26895081996917725,
          0.09737267345190048,
          0.04777015745639801,
          0.3569228947162628,
          -0.11858572065830231,
          -0.4142697751522064,
          0.9288759231567383,
          0.6838650703430176,
          0.4747491776943207,
          -1.23408043384552,
          -0.3717030882835388,
          0.7516962885856628,
          0.5530964136123657,
          0.8614665865898132,
          1.6104369163513184,
          -0.023036422207951546,
          -0.3931114375591278,
          -0.4876924753189087,
          -0.2018013298511505,
          -0.2248561978340149,
          -0.35627076029777527,
          1.7191373109817505
         ],
         "z": [
          -0.5019290447235107,
          0.33591946959495544,
          -0.06094316020607948,
          0.3999062180519104,
          -0.7485727071762085,
          2.093613386154175,
          0.39993342757225037,
          0.5973764061927795,
          1.0135738849639893,
          0.5737985372543335,
          0.7860032320022583,
          0.4045931100845337,
          -0.8467865586280823,
          -0.4077729880809784,
          -0.6104620695114136,
          -0.425732284784317,
          -0.6836307048797607,
          -0.27877718210220337,
          -0.5315105319023132,
          -0.5222555994987488,
          -0.4791151285171509,
          -0.7723900675773621,
          -1.0313407182693481
         ]
        },
        {
         "mode": "markers",
         "scene": "scene14",
         "type": "scatter3d",
         "x": [
          -2.021498441696167,
          -1.895362377166748,
          -1.7970792055130005,
          -1.2611132860183716,
          -2.8796682357788086,
          -2.9818315505981445,
          -2.7544710636138916,
          -2.8773281574249268,
          -2.2257072925567627,
          -2.069638252258301,
          -2.945042371749878,
          -2.122058391571045,
          -1.3957666158676147,
          -1.2874866724014282,
          -1.4243409633636475,
          -1.3154734373092651,
          -0.4789624512195587,
          1.4669650793075562,
          0.2572188377380371,
          -0.05525735393166542,
          -0.1437203586101532,
          0.10138294100761414,
          0.3761166036128998
         ],
         "y": [
          1.205364465713501,
          -0.27630576491355896,
          0.10726749897003174,
          0.054752200841903687,
          0.35218796133995056,
          -0.10424391180276871,
          -0.4132547378540039,
          0.9444972276687622,
          0.6915582418441772,
          0.4923793375492096,
          -1.2278233766555786,
          -0.37878334522247314,
          0.7610417604446411,
          0.5523062348365784,
          0.8593406081199646,
          1.6176358461380005,
          -0.02228100784122944,
          -0.40497249364852905,
          -0.4880948066711426,
          -0.19426275789737701,
          -0.22698673605918884,
          -0.3603872060775757,
          1.7283039093017578
         ],
         "z": [
          -0.4927765130996704,
          0.33677566051483154,
          -0.0619661770761013,
          0.3968573212623596,
          -0.7442307472229004,
          2.096893310546875,
          0.4031352400779724,
          0.5976752638816833,
          1.012856364250183,
          0.589783787727356,
          0.7897928953170776,
          0.4039091169834137,
          -0.8442912697792053,
          -0.40784579515457153,
          -0.601429283618927,
          -0.41894373297691345,
          -0.682462215423584,
          -0.26494038105010986,
          -0.5230830311775208,
          -0.5123383402824402,
          -0.46913301944732666,
          -0.7624603509902954,
          -1.0248678922653198
         ]
        },
        {
         "mode": "markers",
         "scene": "scene15",
         "type": "scatter3d",
         "x": [
          -2.0336239337921143,
          -1.9088345766067505,
          -1.81059992313385,
          -1.2709240913391113,
          -2.8909828662872314,
          -2.996767282485962,
          -2.7718708515167236,
          -2.889251708984375,
          -2.244999408721924,
          -2.07918381690979,
          -2.9597585201263428,
          -2.1313858032226562,
          -1.4043687582015991,
          -1.3047739267349243,
          -1.4413552284240723,
          -1.327492594718933,
          -0.49574780464172363,
          1.4604288339614868,
          0.24647848308086395,
          -0.06106000393629074,
          -0.15330493450164795,
          0.0862094983458519,
          0.36310574412345886
         ],
         "y": [
          1.208371877670288,
          -0.27706998586654663,
          0.10490249842405319,
          0.05437963828444481,
          0.35004833340644836,
          -0.1026429608464241,
          -0.41887131333351135,
          0.9415805339813232,
          0.6888651251792908,
          0.4962731897830963,
          -1.2247027158737183,
          -0.38432547450065613,
          0.7562164068222046,
          0.5516061186790466,
          0.8580772280693054,
          1.614810585975647,
          -0.024759981781244278,
          -0.40136682987213135,
          -0.49095094203948975,
          -0.1986684501171112,
          -0.22495120763778687,
          -0.3560202419757843,
          1.72649347782135
         ],
         "z": [
          -0.49674102663993835,
          0.34634292125701904,
          -0.06082148104906082,
          0.4064950942993164,
          -0.742839515209198,
          2.100193977355957,
          0.4092774987220764,
          0.5987074971199036,
          1.010132908821106,
          0.5939080119132996,
          0.7883577942848206,
          0.40964221954345703,
          -0.8465224504470825,
          -0.40937766432762146,
          -0.6073703765869141,
          -0.4220781922340393,
          -0.6843861937522888,
          -0.26414576172828674,
          -0.5160485506057739,
          -0.509496808052063,
          -0.4686058461666107,
          -0.7617751955986023,
          -1.0285723209381104
         ]
        }
       ],
       "layout": {
        "autosize": true,
        "scene": {
         "aspectmode": "auto",
         "aspectratio": {
          "x": 1.8225465580885067,
          "y": 0.6521903214762578,
          "z": 0.8412925033110913
         },
         "camera": {
          "center": {
           "x": 0,
           "y": 0,
           "z": 0
          },
          "eye": {
           "x": 1.7697003211247324,
           "y": 1.769700321124732,
           "z": 1.7697003211247324
          },
          "projection": {
           "type": "perspective"
          },
          "up": {
           "x": 0,
           "y": 0,
           "z": 1
          }
         },
         "domain": {
          "x": [
           0,
           0.2888888888888889
          ],
          "y": [
           0.875,
           1
          ]
         }
        },
        "scene10": {
         "aspectmode": "auto",
         "aspectratio": {
          "x": 1.2965428955075546,
          "y": 0.8628067528195683,
          "z": 0.893921895170638
         },
         "camera": {
          "center": {
           "x": 0,
           "y": 0,
           "z": 0
          },
          "eye": {
           "x": 1.488531266795163,
           "y": 1.4885312667951627,
           "z": 1.488531266795163
          },
          "projection": {
           "type": "perspective"
          },
          "up": {
           "x": 0,
           "y": 0,
           "z": 1
          }
         },
         "domain": {
          "x": [
           0,
           0.2888888888888889
          ],
          "y": [
           0.35,
           0.475
          ]
         }
        },
        "scene11": {
         "aspectmode": "auto",
         "aspectratio": {
          "x": 1.2876513514402979,
          "y": 0.8600555649166854,
          "z": 0.9029739089641475
         },
         "camera": {
          "center": {
           "x": 0,
           "y": 0,
           "z": 0
          },
          "eye": {
           "x": 1.486103654889436,
           "y": 1.4861036548894355,
           "z": 1.486103654889436
          },
          "projection": {
           "type": "perspective"
          },
          "up": {
           "x": 0,
           "y": 0,
           "z": 1
          }
         },
         "domain": {
          "x": [
           0.35555555555555557,
           0.6444444444444445
          ],
          "y": [
           0.35,
           0.475
          ]
         }
        },
        "scene12": {
         "aspectmode": "auto",
         "aspectratio": {
          "x": 1.2933425635662672,
          "y": 0.8546526303606269,
          "z": 0.9046837635946153
         },
         "camera": {
          "center": {
           "x": 0,
           "y": 0,
           "z": 0
          },
          "eye": {
           "x": 1.4925861010006354,
           "y": 1.4925861010006352,
           "z": 1.4925861010006354
          },
          "projection": {
           "type": "perspective"
          },
          "up": {
           "x": 0,
           "y": 0,
           "z": 1
          }
         },
         "domain": {
          "x": [
           0.7111111111111111,
           1
          ],
          "y": [
           0.35,
           0.475
          ]
         }
        },
        "scene13": {
         "aspectmode": "auto",
         "aspectratio": {
          "x": 1.2917450584626236,
          "y": 0.8553374913743546,
          "z": 0.9050773208373576
         },
         "camera": {
          "center": {
           "x": 0,
           "y": 0,
           "z": 0
          },
          "eye": {
           "x": 1.4885312648642948,
           "y": 1.4885312648642945,
           "z": 1.4885312648642948
          },
          "projection": {
           "type": "perspective"
          },
          "up": {
           "x": 0,
           "y": 0,
           "z": 1
          }
         },
         "domain": {
          "x": [
           0,
           0.2888888888888889
          ],
          "y": [
           0.175,
           0.3
          ]
         }
        },
        "scene14": {
         "aspectmode": "auto",
         "aspectratio": {
          "x": 1.2895972520431964,
          "y": 0.8569089445523382,
          "z": 0.9049221629101539
         },
         "camera": {
          "center": {
           "x": 0,
           "y": 0,
           "z": 0
          },
          "eye": {
           "x": 1.494211126923009,
           "y": 1.4942111269230085,
           "z": 1.494211126923009
          },
          "projection": {
           "type": "perspective"
          },
          "up": {
           "x": 0,
           "y": 0,
           "z": 1
          }
         },
         "domain": {
          "x": [
           0.35555555555555557,
           0.6444444444444445
          ],
          "y": [
           0.175,
           0.3
          ]
         }
        },
        "scene15": {
         "aspectmode": "auto",
         "aspectratio": {
          "x": 1.2909737945518496,
          "y": 0.8547788450641798,
          "z": 0.906209911982512
         },
         "camera": {
          "center": {
           "x": 0,
           "y": 0,
           "z": 0
          },
          "eye": {
           "x": 1.4909628443055405,
           "y": 1.49096284430554,
           "z": 1.4909628443055405
          },
          "projection": {
           "type": "perspective"
          },
          "up": {
           "x": 0,
           "y": 0,
           "z": 1
          }
         },
         "domain": {
          "x": [
           0.7111111111111111,
           1
          ],
          "y": [
           0.175,
           0.3
          ]
         }
        },
        "scene16": {
         "domain": {
          "x": [
           0,
           0.2888888888888889
          ],
          "y": [
           0,
           0.125
          ]
         }
        },
        "scene17": {
         "domain": {
          "x": [
           0.35555555555555557,
           0.6444444444444445
          ],
          "y": [
           0,
           0.125
          ]
         }
        },
        "scene18": {
         "domain": {
          "x": [
           0.7111111111111111,
           1
          ],
          "y": [
           0,
           0.125
          ]
         }
        },
        "scene2": {
         "aspectmode": "auto",
         "aspectratio": {
          "x": 2.032764002691656,
          "y": 0.5926655222908799,
          "z": 0.8300483207151919
         },
         "camera": {
          "center": {
           "x": 0,
           "y": 0,
           "z": 0
          },
          "eye": {
           "x": 1.4571029206239652,
           "y": 2.006083621074523,
           "z": 0.6351458838526408
          },
          "projection": {
           "type": "perspective"
          },
          "up": {
           "x": 0,
           "y": 0,
           "z": 1
          }
         },
         "domain": {
          "x": [
           0.35555555555555557,
           0.6444444444444445
          ],
          "y": [
           0.875,
           1
          ]
         }
        },
        "scene3": {
         "aspectmode": "auto",
         "aspectratio": {
          "x": 1.7901222125567449,
          "y": 0.6746737239897102,
          "z": 0.8279870077403383
         },
         "camera": {
          "center": {
           "x": 0,
           "y": 0,
           "z": 0
          },
          "eye": {
           "x": 1.7871055579546704,
           "y": 1.7871055579546702,
           "z": 1.7871055579546704
          },
          "projection": {
           "type": "perspective"
          },
          "up": {
           "x": 0,
           "y": 0,
           "z": 1
          }
         },
         "domain": {
          "x": [
           0.7111111111111111,
           1
          ],
          "y": [
           0.875,
           1
          ]
         }
        },
        "scene4": {
         "aspectmode": "auto",
         "aspectratio": {
          "x": 1.5162738464228172,
          "y": 0.7499914214653487,
          "z": 0.8793586906360416
         },
         "camera": {
          "center": {
           "x": 0,
           "y": 0,
           "z": 0
          },
          "eye": {
           "x": 1.7863669770944721,
           "y": 1.7863669770944717,
           "z": 1.7863669770944721
          },
          "projection": {
           "type": "perspective"
          },
          "up": {
           "x": 0,
           "y": 0,
           "z": 1
          }
         },
         "domain": {
          "x": [
           0,
           0.2888888888888889
          ],
          "y": [
           0.7,
           0.825
          ]
         }
        },
        "scene5": {
         "aspectmode": "auto",
         "aspectratio": {
          "x": 1.4467937156798572,
          "y": 0.7325063515846361,
          "z": 0.9435870925699297
         },
         "camera": {
          "center": {
           "x": 0,
           "y": 0,
           "z": 0
          },
          "eye": {
           "x": 1.6198020053962212,
           "y": 1.619802005396221,
           "z": 1.6198020053962212
          },
          "projection": {
           "type": "perspective"
          },
          "up": {
           "x": 0,
           "y": 0,
           "z": 1
          }
         },
         "domain": {
          "x": [
           0.35555555555555557,
           0.6444444444444445
          ],
          "y": [
           0.7,
           0.825
          ]
         }
        },
        "scene6": {
         "aspectmode": "auto",
         "aspectratio": {
          "x": 1.3302160609451055,
          "y": 0.7631813787314259,
          "z": 0.985031338287658
         },
         "camera": {
          "center": {
           "x": 0,
           "y": 0,
           "z": 0
          },
          "eye": {
           "x": 1.4933983938985482,
           "y": 1.4933983938985478,
           "z": 1.4933983938985482
          },
          "projection": {
           "type": "perspective"
          },
          "up": {
           "x": 0,
           "y": 0,
           "z": 1
          }
         },
         "domain": {
          "x": [
           0.7111111111111111,
           1
          ],
          "y": [
           0.7,
           0.825
          ]
         }
        },
        "scene7": {
         "aspectmode": "auto",
         "aspectratio": {
          "x": 1.2894483930517593,
          "y": 0.8017056733155772,
          "z": 0.9673443019083862
         },
         "camera": {
          "center": {
           "x": 0,
           "y": 0,
           "z": 0
          },
          "eye": {
           "x": 1.6115781604880952,
           "y": 1.6115781604880948,
           "z": 1.6115781604880952
          },
          "projection": {
           "type": "perspective"
          },
          "up": {
           "x": 0,
           "y": 0,
           "z": 1
          }
         },
         "domain": {
          "x": [
           0,
           0.2888888888888889
          ],
          "y": [
           0.525,
           0.65
          ]
         }
        },
        "scene8": {
         "aspectmode": "auto",
         "aspectratio": {
          "x": 1.2931226849662147,
          "y": 0.8534185469176697,
          "z": 0.9061460310438775
         },
         "camera": {
          "center": {
           "x": 0,
           "y": 0,
           "z": 0
          },
          "eye": {
           "x": 1.4861036529617169,
           "y": 1.4861036529617166,
           "z": 1.4861036529617169
          },
          "projection": {
           "type": "perspective"
          },
          "up": {
           "x": 0,
           "y": 0,
           "z": 1
          }
         },
         "domain": {
          "x": [
           0.35555555555555557,
           0.6444444444444445
          ],
          "y": [
           0.525,
           0.65
          ]
         }
        },
        "scene9": {
         "aspectmode": "auto",
         "aspectratio": {
          "x": 1.291592445863539,
          "y": 0.8696389811288425,
          "z": 0.8902982201655828
         },
         "camera": {
          "center": {
           "x": 0,
           "y": 0,
           "z": 0
          },
          "eye": {
           "x": 1.4893413510455609,
           "y": 1.4893413510455606,
           "z": 1.4893413510455609
          },
          "projection": {
           "type": "perspective"
          },
          "up": {
           "x": 0,
           "y": 0,
           "z": 1
          }
         },
         "domain": {
          "x": [
           0.7111111111111111,
           1
          ],
          "y": [
           0.525,
           0.65
          ]
         }
        },
        "showlegend": false,
        "template": {
         "data": {
          "bar": [
           {
            "error_x": {
             "color": "#2a3f5f"
            },
            "error_y": {
             "color": "#2a3f5f"
            },
            "marker": {
             "line": {
              "color": "#E5ECF6",
              "width": 0.5
             },
             "pattern": {
              "fillmode": "overlay",
              "size": 10,
              "solidity": 0.2
             }
            },
            "type": "bar"
           }
          ],
          "barpolar": [
           {
            "marker": {
             "line": {
              "color": "#E5ECF6",
              "width": 0.5
             },
             "pattern": {
              "fillmode": "overlay",
              "size": 10,
              "solidity": 0.2
             }
            },
            "type": "barpolar"
           }
          ],
          "carpet": [
           {
            "aaxis": {
             "endlinecolor": "#2a3f5f",
             "gridcolor": "white",
             "linecolor": "white",
             "minorgridcolor": "white",
             "startlinecolor": "#2a3f5f"
            },
            "baxis": {
             "endlinecolor": "#2a3f5f",
             "gridcolor": "white",
             "linecolor": "white",
             "minorgridcolor": "white",
             "startlinecolor": "#2a3f5f"
            },
            "type": "carpet"
           }
          ],
          "choropleth": [
           {
            "colorbar": {
             "outlinewidth": 0,
             "ticks": ""
            },
            "type": "choropleth"
           }
          ],
          "contour": [
           {
            "colorbar": {
             "outlinewidth": 0,
             "ticks": ""
            },
            "colorscale": [
             [
              0,
              "#0d0887"
             ],
             [
              0.1111111111111111,
              "#46039f"
             ],
             [
              0.2222222222222222,
              "#7201a8"
             ],
             [
              0.3333333333333333,
              "#9c179e"
             ],
             [
              0.4444444444444444,
              "#bd3786"
             ],
             [
              0.5555555555555556,
              "#d8576b"
             ],
             [
              0.6666666666666666,
              "#ed7953"
             ],
             [
              0.7777777777777778,
              "#fb9f3a"
             ],
             [
              0.8888888888888888,
              "#fdca26"
             ],
             [
              1,
              "#f0f921"
             ]
            ],
            "type": "contour"
           }
          ],
          "contourcarpet": [
           {
            "colorbar": {
             "outlinewidth": 0,
             "ticks": ""
            },
            "type": "contourcarpet"
           }
          ],
          "heatmap": [
           {
            "colorbar": {
             "outlinewidth": 0,
             "ticks": ""
            },
            "colorscale": [
             [
              0,
              "#0d0887"
             ],
             [
              0.1111111111111111,
              "#46039f"
             ],
             [
              0.2222222222222222,
              "#7201a8"
             ],
             [
              0.3333333333333333,
              "#9c179e"
             ],
             [
              0.4444444444444444,
              "#bd3786"
             ],
             [
              0.5555555555555556,
              "#d8576b"
             ],
             [
              0.6666666666666666,
              "#ed7953"
             ],
             [
              0.7777777777777778,
              "#fb9f3a"
             ],
             [
              0.8888888888888888,
              "#fdca26"
             ],
             [
              1,
              "#f0f921"
             ]
            ],
            "type": "heatmap"
           }
          ],
          "heatmapgl": [
           {
            "colorbar": {
             "outlinewidth": 0,
             "ticks": ""
            },
            "colorscale": [
             [
              0,
              "#0d0887"
             ],
             [
              0.1111111111111111,
              "#46039f"
             ],
             [
              0.2222222222222222,
              "#7201a8"
             ],
             [
              0.3333333333333333,
              "#9c179e"
             ],
             [
              0.4444444444444444,
              "#bd3786"
             ],
             [
              0.5555555555555556,
              "#d8576b"
             ],
             [
              0.6666666666666666,
              "#ed7953"
             ],
             [
              0.7777777777777778,
              "#fb9f3a"
             ],
             [
              0.8888888888888888,
              "#fdca26"
             ],
             [
              1,
              "#f0f921"
             ]
            ],
            "type": "heatmapgl"
           }
          ],
          "histogram": [
           {
            "marker": {
             "pattern": {
              "fillmode": "overlay",
              "size": 10,
              "solidity": 0.2
             }
            },
            "type": "histogram"
           }
          ],
          "histogram2d": [
           {
            "colorbar": {
             "outlinewidth": 0,
             "ticks": ""
            },
            "colorscale": [
             [
              0,
              "#0d0887"
             ],
             [
              0.1111111111111111,
              "#46039f"
             ],
             [
              0.2222222222222222,
              "#7201a8"
             ],
             [
              0.3333333333333333,
              "#9c179e"
             ],
             [
              0.4444444444444444,
              "#bd3786"
             ],
             [
              0.5555555555555556,
              "#d8576b"
             ],
             [
              0.6666666666666666,
              "#ed7953"
             ],
             [
              0.7777777777777778,
              "#fb9f3a"
             ],
             [
              0.8888888888888888,
              "#fdca26"
             ],
             [
              1,
              "#f0f921"
             ]
            ],
            "type": "histogram2d"
           }
          ],
          "histogram2dcontour": [
           {
            "colorbar": {
             "outlinewidth": 0,
             "ticks": ""
            },
            "colorscale": [
             [
              0,
              "#0d0887"
             ],
             [
              0.1111111111111111,
              "#46039f"
             ],
             [
              0.2222222222222222,
              "#7201a8"
             ],
             [
              0.3333333333333333,
              "#9c179e"
             ],
             [
              0.4444444444444444,
              "#bd3786"
             ],
             [
              0.5555555555555556,
              "#d8576b"
             ],
             [
              0.6666666666666666,
              "#ed7953"
             ],
             [
              0.7777777777777778,
              "#fb9f3a"
             ],
             [
              0.8888888888888888,
              "#fdca26"
             ],
             [
              1,
              "#f0f921"
             ]
            ],
            "type": "histogram2dcontour"
           }
          ],
          "mesh3d": [
           {
            "colorbar": {
             "outlinewidth": 0,
             "ticks": ""
            },
            "type": "mesh3d"
           }
          ],
          "parcoords": [
           {
            "line": {
             "colorbar": {
              "outlinewidth": 0,
              "ticks": ""
             }
            },
            "type": "parcoords"
           }
          ],
          "pie": [
           {
            "automargin": true,
            "type": "pie"
           }
          ],
          "scatter": [
           {
            "fillpattern": {
             "fillmode": "overlay",
             "size": 10,
             "solidity": 0.2
            },
            "type": "scatter"
           }
          ],
          "scatter3d": [
           {
            "line": {
             "colorbar": {
              "outlinewidth": 0,
              "ticks": ""
             }
            },
            "marker": {
             "colorbar": {
              "outlinewidth": 0,
              "ticks": ""
             }
            },
            "type": "scatter3d"
           }
          ],
          "scattercarpet": [
           {
            "marker": {
             "colorbar": {
              "outlinewidth": 0,
              "ticks": ""
             }
            },
            "type": "scattercarpet"
           }
          ],
          "scattergeo": [
           {
            "marker": {
             "colorbar": {
              "outlinewidth": 0,
              "ticks": ""
             }
            },
            "type": "scattergeo"
           }
          ],
          "scattergl": [
           {
            "marker": {
             "colorbar": {
              "outlinewidth": 0,
              "ticks": ""
             }
            },
            "type": "scattergl"
           }
          ],
          "scattermapbox": [
           {
            "marker": {
             "colorbar": {
              "outlinewidth": 0,
              "ticks": ""
             }
            },
            "type": "scattermapbox"
           }
          ],
          "scatterpolar": [
           {
            "marker": {
             "colorbar": {
              "outlinewidth": 0,
              "ticks": ""
             }
            },
            "type": "scatterpolar"
           }
          ],
          "scatterpolargl": [
           {
            "marker": {
             "colorbar": {
              "outlinewidth": 0,
              "ticks": ""
             }
            },
            "type": "scatterpolargl"
           }
          ],
          "scatterternary": [
           {
            "marker": {
             "colorbar": {
              "outlinewidth": 0,
              "ticks": ""
             }
            },
            "type": "scatterternary"
           }
          ],
          "surface": [
           {
            "colorbar": {
             "outlinewidth": 0,
             "ticks": ""
            },
            "colorscale": [
             [
              0,
              "#0d0887"
             ],
             [
              0.1111111111111111,
              "#46039f"
             ],
             [
              0.2222222222222222,
              "#7201a8"
             ],
             [
              0.3333333333333333,
              "#9c179e"
             ],
             [
              0.4444444444444444,
              "#bd3786"
             ],
             [
              0.5555555555555556,
              "#d8576b"
             ],
             [
              0.6666666666666666,
              "#ed7953"
             ],
             [
              0.7777777777777778,
              "#fb9f3a"
             ],
             [
              0.8888888888888888,
              "#fdca26"
             ],
             [
              1,
              "#f0f921"
             ]
            ],
            "type": "surface"
           }
          ],
          "table": [
           {
            "cells": {
             "fill": {
              "color": "#EBF0F8"
             },
             "line": {
              "color": "white"
             }
            },
            "header": {
             "fill": {
              "color": "#C8D4E3"
             },
             "line": {
              "color": "white"
             }
            },
            "type": "table"
           }
          ]
         },
         "layout": {
          "annotationdefaults": {
           "arrowcolor": "#2a3f5f",
           "arrowhead": 0,
           "arrowwidth": 1
          },
          "autotypenumbers": "strict",
          "coloraxis": {
           "colorbar": {
            "outlinewidth": 0,
            "ticks": ""
           }
          },
          "colorscale": {
           "diverging": [
            [
             0,
             "#8e0152"
            ],
            [
             0.1,
             "#c51b7d"
            ],
            [
             0.2,
             "#de77ae"
            ],
            [
             0.3,
             "#f1b6da"
            ],
            [
             0.4,
             "#fde0ef"
            ],
            [
             0.5,
             "#f7f7f7"
            ],
            [
             0.6,
             "#e6f5d0"
            ],
            [
             0.7,
             "#b8e186"
            ],
            [
             0.8,
             "#7fbc41"
            ],
            [
             0.9,
             "#4d9221"
            ],
            [
             1,
             "#276419"
            ]
           ],
           "sequential": [
            [
             0,
             "#0d0887"
            ],
            [
             0.1111111111111111,
             "#46039f"
            ],
            [
             0.2222222222222222,
             "#7201a8"
            ],
            [
             0.3333333333333333,
             "#9c179e"
            ],
            [
             0.4444444444444444,
             "#bd3786"
            ],
            [
             0.5555555555555556,
             "#d8576b"
            ],
            [
             0.6666666666666666,
             "#ed7953"
            ],
            [
             0.7777777777777778,
             "#fb9f3a"
            ],
            [
             0.8888888888888888,
             "#fdca26"
            ],
            [
             1,
             "#f0f921"
            ]
           ],
           "sequentialminus": [
            [
             0,
             "#0d0887"
            ],
            [
             0.1111111111111111,
             "#46039f"
            ],
            [
             0.2222222222222222,
             "#7201a8"
            ],
            [
             0.3333333333333333,
             "#9c179e"
            ],
            [
             0.4444444444444444,
             "#bd3786"
            ],
            [
             0.5555555555555556,
             "#d8576b"
            ],
            [
             0.6666666666666666,
             "#ed7953"
            ],
            [
             0.7777777777777778,
             "#fb9f3a"
            ],
            [
             0.8888888888888888,
             "#fdca26"
            ],
            [
             1,
             "#f0f921"
            ]
           ]
          },
          "colorway": [
           "#636efa",
           "#EF553B",
           "#00cc96",
           "#ab63fa",
           "#FFA15A",
           "#19d3f3",
           "#FF6692",
           "#B6E880",
           "#FF97FF",
           "#FECB52"
          ],
          "font": {
           "color": "#2a3f5f"
          },
          "geo": {
           "bgcolor": "white",
           "lakecolor": "white",
           "landcolor": "#E5ECF6",
           "showlakes": true,
           "showland": true,
           "subunitcolor": "white"
          },
          "hoverlabel": {
           "align": "left"
          },
          "hovermode": "closest",
          "mapbox": {
           "style": "light"
          },
          "paper_bgcolor": "white",
          "plot_bgcolor": "#E5ECF6",
          "polar": {
           "angularaxis": {
            "gridcolor": "white",
            "linecolor": "white",
            "ticks": ""
           },
           "bgcolor": "#E5ECF6",
           "radialaxis": {
            "gridcolor": "white",
            "linecolor": "white",
            "ticks": ""
           }
          },
          "scene": {
           "xaxis": {
            "backgroundcolor": "#E5ECF6",
            "gridcolor": "white",
            "gridwidth": 2,
            "linecolor": "white",
            "showbackground": true,
            "ticks": "",
            "zerolinecolor": "white"
           },
           "yaxis": {
            "backgroundcolor": "#E5ECF6",
            "gridcolor": "white",
            "gridwidth": 2,
            "linecolor": "white",
            "showbackground": true,
            "ticks": "",
            "zerolinecolor": "white"
           },
           "zaxis": {
            "backgroundcolor": "#E5ECF6",
            "gridcolor": "white",
            "gridwidth": 2,
            "linecolor": "white",
            "showbackground": true,
            "ticks": "",
            "zerolinecolor": "white"
           }
          },
          "shapedefaults": {
           "line": {
            "color": "#2a3f5f"
           }
          },
          "ternary": {
           "aaxis": {
            "gridcolor": "white",
            "linecolor": "white",
            "ticks": ""
           },
           "baxis": {
            "gridcolor": "white",
            "linecolor": "white",
            "ticks": ""
           },
           "bgcolor": "#E5ECF6",
           "caxis": {
            "gridcolor": "white",
            "linecolor": "white",
            "ticks": ""
           }
          },
          "title": {
           "x": 0.05
          },
          "xaxis": {
           "automargin": true,
           "gridcolor": "white",
           "linecolor": "white",
           "ticks": "",
           "title": {
            "standoff": 15
           },
           "zerolinecolor": "white",
           "zerolinewidth": 2
          },
          "yaxis": {
           "automargin": true,
           "gridcolor": "white",
           "linecolor": "white",
           "ticks": "",
           "title": {
            "standoff": 15
           },
           "zerolinecolor": "white",
           "zerolinewidth": 2
          }
         }
        }
       }
      },
      "text/html": [
       "<div>                            <div id=\"e5b1cd2d-ad2c-4c40-b21a-58f610211df5\" class=\"plotly-graph-div\" style=\"height:2100px; width:100%;\"></div>            <script type=\"text/javascript\">                require([\"plotly\"], function(Plotly) {                    window.PLOTLYENV=window.PLOTLYENV || {};                                    if (document.getElementById(\"e5b1cd2d-ad2c-4c40-b21a-58f610211df5\")) {                    Plotly.newPlot(                        \"e5b1cd2d-ad2c-4c40-b21a-58f610211df5\",                        [{\"mode\":\"markers\",\"x\":[-0.14380288124084473,-0.1400442123413086,-0.6728167533874512,-0.6205110549926758,-4.216114044189453,-4.18156623840332,-4.21040153503418,-4.19938325881958,-4.197786808013916,-4.198604583740234,-6.604899883270264,-0.15271520614624023,-0.1342792510986328,1.1502397060394287,-0.14073753356933594,-0.13377642631530762,-0.15894508361816406,5.4883551597595215,5.488650321960449,5.4790449142456055,5.5124311447143555,5.4985575675964355,5.489109992980957],\"y\":[0.018341064453125,0.001514434814453125,2.1449899673461914,0.19217300415039062,-0.001087188720703125,0.0005674362182617188,0.008600234985351562,0.00252532958984375,0.013306617736816406,0.007761955261230469,-2.1911439895629883,0.03530693054199219,0.0034227371215820312,-1.2751178741455078,0.025224685668945312,0.019392967224121094,0.016098976135253906,0.16659832000732422,0.17002010345458984,0.16488170623779297,0.15396499633789062,0.17026138305664062,0.15239906311035156],\"z\":[0.019689559936523438,0.030139923095703125,-1.2598419189453125,-0.049285888671875,1.468790054321289,1.4720191955566406,1.4755439758300781,1.478851318359375,1.483236312866211,1.4853649139404297,3.6676807403564453,0.028959274291992188,0.011514663696289062,0.1715717315673828,0.0075702667236328125,0.01712799072265625,0.017793655395507812,-1.9180793762207031,-1.9172821044921875,-1.918985366821289,-1.9255638122558594,-1.9257125854492188,-1.9211082458496094],\"type\":\"scatter3d\",\"scene\":\"scene\"},{\"mode\":\"markers\",\"x\":[-1.2125003337860107,-0.6756194233894348,-1.368096947669983,0.036599718034267426,-3.400634288787842,-2.978965997695923,-3.5107462406158447,-3.4731898307800293,-3.5275778770446777,-3.047051191329956,-4.902413845062256,-1.2620000839233398,-0.23682516813278198,0.7111130356788635,-0.22474342584609985,-0.7132810950279236,0.5283136367797852,5.920643329620361,4.222472190856934,3.181635618209839,3.3289847373962402,3.8125686645507812,4.041754722595215],\"y\":[0.16972045600414276,0.06108788400888443,1.1565284729003906,0.00299530616030097,-0.07301141321659088,-0.2129189670085907,-0.22753097116947174,0.5596017837524414,0.10349515825510025,0.46510612964630127,-1.9990040063858032,-0.5735824704170227,-0.2555220425128937,-0.521529495716095,0.5158843994140625,0.48793062567710876,-0.10939794778823853,0.16375111043453217,-0.8110136389732361,-0.8086850643157959,-0.6285852193832397,0.8254233598709106,0.7903988361358643],\"z\":[-0.8853168487548828,0.44017350673675537,0.07724742591381073,1.4069174528121948,0.03480813652276993,2.2953555583953857,1.208027720451355,1.3357919454574585,2.0688316822052,2.353074312210083,2.770336151123047,-0.11583679914474487,-0.8458929061889648,-0.8615744113922119,0.5154416561126709,-0.530564546585083,-0.6708037257194519,-1.5845026969909668,-0.8696897029876709,-1.6225630044937134,-1.3174915313720703,-1.5330390930175781,-1.6490949392318726],\"type\":\"scatter3d\",\"scene\":\"scene2\"},{\"mode\":\"markers\",\"x\":[-1.1333730220794678,-0.8781808614730835,-1.4571532011032104,0.04823332652449608,-2.4872639179229736,-2.625786304473877,-2.353769540786743,-2.7922048568725586,-2.9950714111328125,-2.537801504135132,-3.915011405944824,-1.491197943687439,-0.8337269425392151,0.478334903717041,-0.3333061933517456,-0.5738806128501892,0.27044081687927246,4.5810441970825195,3.2452077865600586,2.0180108547210693,2.300161361694336,2.5327439308166504,2.767244815826416],\"y\":[0.556779682636261,-0.7058055400848389,0.36894235014915466,-0.1848457008600235,0.22593942284584045,-0.32113951444625854,-0.4834795892238617,0.251364529132843,0.4916546046733856,0.36744752526283264,-1.6054872274398804,-0.41046932339668274,0.5282554030418396,0.15832707285881042,0.37230902910232544,0.6052181720733643,-0.5176456570625305,-0.07349595427513123,-0.6669862270355225,-0.6195001602172852,-0.472872793674469,-0.3056560456752777,1.5965653657913208],\"z\":[-0.5045639872550964,0.8261148929595947,0.2645784616470337,1.1186553239822388,-0.09042714536190033,2.155568838119507,0.9549381136894226,1.1418063640594482,1.3933049440383911,1.64519464969635,2.092256784439087,0.3044879138469696,-0.2511904537677765,-0.10359729826450348,0.5970075130462646,-0.49938851594924927,-1.0229899883270264,-0.7919064164161682,-0.5094943642616272,-1.3276193141937256,-1.0200387239456177,-1.7741202116012573,-1.3362152576446533],\"type\":\"scatter3d\",\"scene\":\"scene3\"},{\"mode\":\"markers\",\"x\":[-1.4304583072662354,-1.3666912317276,-1.2757482528686523,-0.3773568570613861,-2.4042181968688965,-2.1953983306884766,-1.8670881986618042,-2.4045052528381348,-2.543229103088379,-2.3488993644714355,-3.068103551864624,-1.1974698305130005,-0.8227667808532715,-0.056279830634593964,-0.6571215391159058,-0.39797744154930115,0.3027452826499939,3.5544943809509277,2.304276466369629,1.2935751676559448,1.558457851409912,1.3896671533584595,2.2839980125427246],\"y\":[0.9970916509628296,-0.40613675117492676,-0.020670080557465553,-0.09941168129444122,0.5431776642799377,0.008431228809058666,-0.6387854814529419,0.5707096457481384,0.4760144352912903,0.2079746127128601,-1.387581467628479,-0.5565531849861145,0.8097438216209412,0.4608914852142334,0.5346086621284485,1.1137065887451172,-0.2626098692417145,-0.07907839119434357,-0.4561508595943451,-0.5306811928749084,-0.7921576499938965,-0.31994131207466125,1.8881405591964722],\"z\":[-0.6941395998001099,1.1432794332504272,-0.03465328365564346,0.8274481296539307,-0.5394476652145386,2.4227421283721924,0.9216867089271545,0.8994172215461731,1.2829385995864868,1.1499569416046143,1.4953628778457642,0.5271612405776978,-0.35076704621315,-0.0268827173858881,0.13291198015213013,-0.22727224230766296,-0.8207284212112427,-0.359332799911499,-0.7918276786804199,-0.9363684058189392,-0.43881261348724365,-1.418014645576477,-1.287171483039856],\"type\":\"scatter3d\",\"scene\":\"scene4\"},{\"mode\":\"markers\",\"x\":[-1.4328652620315552,-1.4686522483825684,-1.140724778175354,-0.7065923810005188,-2.3513076305389404,-2.3767831325531006,-1.8622745275497437,-2.3027806282043457,-1.9421851634979248,-1.9461356401443481,-2.378481864929199,-1.206054449081421,-0.9451338648796082,-0.46825969219207764,-0.8088098764419556,-0.3259909749031067,-0.05013015493750572,2.9308228492736816,1.3819053173065186,0.923134982585907,0.6432613730430603,0.9749618768692017,1.7783211469650269],\"y\":[1.0562833547592163,-0.3403763473033905,-0.04151151701807976,0.10463162511587143,0.4613634943962097,0.11170560866594315,-0.6220959424972534,0.7492648363113403,0.6945108771324158,0.28826576471328735,-1.1713764667510986,-0.36580827832221985,0.8032810091972351,0.30136096477508545,0.5272571444511414,1.1597909927368164,0.10087677836418152,-0.07712385058403015,-0.548256516456604,-0.4539666771888733,-0.6270048022270203,-0.28272488713264465,1.51670503616333],\"z\":[-0.4703458547592163,0.7583333253860474,-0.13106262683868408,0.7232730984687805,-0.6048632264137268,2.3156371116638184,1.0240260362625122,0.9371242523193359,1.31758713722229,0.94261634349823,1.3168632984161377,0.40304800868034363,-0.3410690128803253,-0.17390288412570953,-0.051367539912462234,-0.26598939299583435,-1.1470482349395752,-0.09084376692771912,-0.8956502079963684,-0.8094347715377808,-0.3744044899940491,-1.0898510217666626,-1.086777925491333],\"type\":\"scatter3d\",\"scene\":\"scene5\"},{\"mode\":\"markers\",\"x\":[-1.5709904432296753,-1.4302847385406494,-1.3075027465820312,-0.801601767539978,-2.5592265129089355,-2.414921522140503,-1.8273422718048096,-2.3313214778900146,-1.8809579610824585,-1.8387998342514038,-2.458873987197876,-1.3389029502868652,-1.1497939825057983,-0.6461925506591797,-0.8594063520431519,-0.7276173830032349,-0.19887077808380127,2.277151107788086,0.8876519799232483,0.6088354587554932,0.3442080318927765,0.6297884583473206,1.3059709072113037],\"y\":[1.0171819925308228,-0.2881678640842438,-0.065509133040905,0.053226981312036514,0.5036619305610657,0.10853883624076843,-0.6525396108627319,1.0351965427398682,0.7700458765029907,0.30098050832748413,-1.296095371246338,-0.16757376492023468,0.71663898229599,0.40636101365089417,0.5210779905319214,1.1551345586776733,0.05353604629635811,-0.20670850574970245,-0.6025864481925964,-0.5518487095832825,-0.59457927942276,-0.3260299861431122,1.47866690158844],\"z\":[-0.5785609483718872,0.5362820625305176,-0.199041947722435,0.689113438129425,-0.7835561633110046,2.377208948135376,0.8324580788612366,0.8107351064682007,1.3907139301300049,0.7591959834098816,1.2139867544174194,0.40179359912872314,-0.624252200126648,-0.4132952094078064,-0.24194958806037903,-0.26158714294433594,-1.2041517496109009,-0.03914843499660492,-0.6996353268623352,-0.8094044923782349,-0.538411021232605,-1.0358209609985352,-0.9555329084396362],\"type\":\"scatter3d\",\"scene\":\"scene6\"},{\"mode\":\"markers\",\"x\":[-1.6569575071334839,-1.5120036602020264,-1.5134437084197998,-0.9256961345672607,-2.623452663421631,-2.431148052215576,-1.9337340593338013,-2.408055067062378,-2.01338529586792,-1.845499873161316,-2.500779867172241,-1.584583044052124,-1.2835062742233276,-0.8247854709625244,-0.946331262588501,-0.9191237092018127,-0.43191275000572205,1.9669947624206543,0.7050867080688477,0.3808804154396057,0.07508928328752518,0.4631446897983551,1.0720199346542358],\"y\":[1.2071452140808105,-0.3262849450111389,0.030577830970287323,0.05699677765369415,0.4400033950805664,0.018331844359636307,-0.7336034178733826,1.0997971296310425,0.8283570408821106,0.4153887927532196,-1.3262823820114136,-0.3158849775791168,0.6620780229568481,0.43804261088371277,0.6798475980758667,1.4310330152511597,-0.01000569574534893,-0.3596348166465759,-0.6100709438323975,-0.4418523907661438,-0.4683123528957367,-0.3086266815662384,1.527796745300293],\"z\":[-0.5682775974273682,0.4355117082595825,-0.28751248121261597,0.6437365412712097,-0.8309742212295532,2.358736276626587,0.6912885308265686,0.820973813533783,1.2337919473648071,0.5809921622276306,1.0515507459640503,0.40567347407341003,-0.7419021725654602,-0.4640524685382843,-0.3518608808517456,-0.29255053400993347,-1.0850178003311157,-0.12936654686927795,-0.7901668548583984,-0.8078131675720215,-0.5302668809890747,-1.0570951700210571,-0.8971289396286011],\"type\":\"scatter3d\",\"scene\":\"scene7\"},{\"mode\":\"markers\",\"x\":[-1.7583335638046265,-1.5927356481552124,-1.5786926746368408,-1.0717488527297974,-2.75268816947937,-2.643693208694458,-2.292095899581909,-2.4835362434387207,-2.049821138381958,-1.8478306531906128,-2.575805902481079,-1.8154428005218506,-1.2869218587875366,-0.9358086585998535,-1.1184120178222656,-0.9573589563369751,-0.45146530866622925,1.7983555793762207,0.5516437292098999,0.28865817189216614,0.07065771520137787,0.3676565885543823,0.7974981069564819],\"y\":[1.1169241666793823,-0.33242684602737427,-0.028046730905771255,0.028187807649374008,0.4483558237552643,-0.12287817895412445,-0.7465086579322815,1.1624268293380737,0.8275086879730225,0.4297386109828949,-1.4019662141799927,-0.3560775816440582,0.6988126635551453,0.5296226739883423,0.7039772272109985,1.4634991884231567,0.008814367465674877,-0.4467448592185974,-0.6195327639579773,-0.4487467408180237,-0.365257203578949,-0.33910831809043884,1.6015733480453491],\"z\":[-0.5408787727355957,0.3657563626766205,-0.18394291400909424,0.5437020659446716,-0.8648217916488647,2.1766934394836426,0.5360021591186523,0.7143580913543701,1.179228663444519,0.4939440190792084,0.9795597195625305,0.43820497393608093,-0.7750054597854614,-0.4004131555557251,-0.4028346538543701,-0.3241332173347473,-0.9615711569786072,-0.2340325266122818,-0.7816625833511353,-0.7237401604652405,-0.5127790570259094,-1.0124163627624512,-0.9190494418144226],\"type\":\"scatter3d\",\"scene\":\"scene8\"},{\"mode\":\"markers\",\"x\":[-1.822435975074768,-1.690456748008728,-1.6315244436264038,-1.1126773357391357,-2.78579044342041,-2.787221670150757,-2.4750492572784424,-2.6390366554260254,-2.1002485752105713,-1.8595259189605713,-2.76008677482605,-1.8892863988876343,-1.2113502025604248,-1.0426567792892456,-1.2123620510101318,-1.0746484994888306,-0.3589904308319092,1.6481257677078247,0.514008641242981,0.20715941488742828,0.02442644163966179,0.33305925130844116,0.670740008354187],\"y\":[1.173830270767212,-0.2656088173389435,-0.005737071391195059,0.029571879655122757,0.3717343509197235,-0.14079397916793823,-0.5635676980018616,1.000695824623108,0.7404754757881165,0.4474022090435028,-1.2948611974716187,-0.4085606634616852,0.6894320845603943,0.5643858313560486,0.7556588649749756,1.5407216548919678,-0.0007552769966423512,-0.4547519385814667,-0.5741748213768005,-0.3262874484062195,-0.27014806866645813,-0.3366483151912689,1.6914918422698975],\"z\":[-0.5532055497169495,0.30224141478538513,-0.09833639115095139,0.46585047245025635,-0.835721492767334,2.0573761463165283,0.4234800636768341,0.6161561012268066,1.0858869552612305,0.5238238573074341,0.8135048747062683,0.3739142119884491,-0.7317802309989929,-0.38601750135421753,-0.5076267719268799,-0.42310574650764465,-0.7627396583557129,-0.3286714553833008,-0.7009636163711548,-0.6082687377929688,-0.5000093579292297,-0.849724292755127,-0.9999210238456726],\"type\":\"scatter3d\",\"scene\":\"scene9\"},{\"mode\":\"markers\",\"x\":[-1.8588074445724487,-1.7624889612197876,-1.6721957921981812,-1.1656845808029175,-2.7887682914733887,-2.8922903537750244,-2.6092917919158936,-2.761735677719116,-2.120204210281372,-1.9083514213562012,-2.830509662628174,-1.9686866998672485,-1.254823088645935,-1.1169958114624023,-1.302558183670044,-1.2103567123413086,-0.39394545555114746,1.5566068887710571,0.4057210683822632,0.10197775810956955,-0.025101475417613983,0.25402167439460754,0.5333575010299683],\"y\":[1.2002002000808716,-0.2603994607925415,0.05713176727294922,0.041600391268730164,0.3552268147468567,-0.1654924750328064,-0.4643714427947998,0.9376837611198425,0.68215012550354,0.4467689096927643,-1.2462698221206665,-0.37874364852905273,0.71385657787323,0.5817992687225342,0.8246840238571167,1.563257098197937,-0.013429337181150913,-0.45480599999427795,-0.4969903230667114,-0.233873188495636,-0.23289911448955536,-0.34096553921699524,1.7143253087997437],\"z\":[-0.553443968296051,0.2843468189239502,-0.07033471763134003,0.42155709862709045,-0.753477156162262,2.0497405529022217,0.3886822462081909,0.5675448775291443,1.0153149366378784,0.5483728051185608,0.7873276472091675,0.4026374816894531,-0.7485018372535706,-0.4105471670627594,-0.5724288821220398,-0.4318861961364746,-0.6775809526443481,-0.31416502594947815,-0.5854101181030273,-0.5539212822914124,-0.503638744354248,-0.7827457189559937,-1.017621636390686],\"type\":\"scatter3d\",\"scene\":\"scene10\"},{\"mode\":\"markers\",\"x\":[-1.9122947454452515,-1.8409076929092407,-1.6778124570846558,-1.224413514137268,-2.823538064956665,-2.948286771774292,-2.6526107788085938,-2.84354829788208,-2.173121213912964,-1.963283896446228,-2.8836097717285156,-2.013115406036377,-1.3067808151245117,-1.1960411071777344,-1.3635355234146118,-1.2529538869857788,-0.4027281105518341,1.5034101009368896,0.33293017745018005,0.009574410505592823,-0.08467759191989899,0.17472678422927856,0.4536287188529968],\"y\":[1.17830491065979,-0.24683396518230438,0.09345932304859161,0.021514035761356354,0.358977735042572,-0.14403384923934937,-0.41720473766326904,0.9125383496284485,0.6640560626983643,0.46155041456222534,-1.2515884637832642,-0.37552616000175476,0.7291619777679443,0.565750777721405,0.8524765372276306,1.5910087823867798,-0.016897857189178467,-0.43008601665496826,-0.4971950650215149,-0.21181659400463104,-0.22169357538223267,-0.3515712022781372,1.721814751625061],\"z\":[-0.5155417323112488,0.2985972762107849,-0.06612875312566757,0.38884761929512024,-0.7577970623970032,2.0752925872802734,0.4052194654941559,0.5707331895828247,1.0142637491226196,0.5651974081993103,0.7678967714309692,0.41193655133247375,-0.7960193753242493,-0.4091879725456238,-0.5991048812866211,-0.4433131814002991,-0.6585862636566162,-0.30663254857063293,-0.544096827507019,-0.5247378945350647,-0.5043574571609497,-0.769573986530304,-1.046488881111145],\"type\":\"scatter3d\",\"scene\":\"scene11\"},{\"mode\":\"markers\",\"x\":[-1.9609766006469727,-1.8515419960021973,-1.7388081550598145,-1.2328380346298218,-2.854658365249634,-2.982485294342041,-2.6819872856140137,-2.864824056625366,-2.204659938812256,-2.0132646560668945,-2.9034690856933594,-2.0529911518096924,-1.3521217107772827,-1.2411186695098877,-1.3958357572555542,-1.2906279563903809,-0.43873488903045654,1.483731746673584,0.289774626493454,-0.027984142303466797,-0.1236962303519249,0.13059362769126892,0.4057754576206207],\"y\":[1.1909754276275635,-0.26022860407829285,0.0998493880033493,0.042697761207818985,0.36588653922080994,-0.13602577149868011,-0.40908926725387573,0.9273807406425476,0.6703916788101196,0.4711626172065735,-1.2395836114883423,-0.36859673261642456,0.7390390038490295,0.5637903213500977,0.8520223498344421,1.5974278450012207,-0.019140126183629036,-0.39621540904045105,-0.4874406158924103,-0.2086048573255539,-0.21574272215366364,-0.3552623987197876,1.7117335796356201],\"z\":[-0.5062788724899292,0.3285995125770569,-0.0494658425450325,0.3925544321537018,-0.7625577449798584,2.083923101425171,0.4069744646549225,0.5976633429527283,0.9953245520591736,0.5617809891700745,0.7865347862243652,0.4082779884338379,-0.8332560062408447,-0.4081237018108368,-0.6197986602783203,-0.44450175762176514,-0.6797187328338623,-0.29457318782806396,-0.5270439982414246,-0.5235821604728699,-0.48725199699401855,-0.7708149552345276,-1.0401633977890015],\"type\":\"scatter3d\",\"scene\":\"scene12\"},{\"mode\":\"markers\",\"x\":[-1.994307279586792,-1.8813375234603882,-1.7730125188827515,-1.2626488208770752,-2.8651585578918457,-2.987717628479004,-2.7221062183380127,-2.8776087760925293,-2.2157981395721436,-2.0427780151367188,-2.9371283054351807,-2.0957422256469727,-1.3780437707901,-1.2657126188278198,-1.4187771081924438,-1.3096141815185547,-0.4615231156349182,1.4722814559936523,0.2763826251029968,-0.04330912604928017,-0.1361217498779297,0.1135624423623085,0.38397103548049927],\"y\":[1.1911364793777466,-0.26895081996917725,0.09737267345190048,0.04777015745639801,0.3569228947162628,-0.11858572065830231,-0.4142697751522064,0.9288759231567383,0.6838650703430176,0.4747491776943207,-1.23408043384552,-0.3717030882835388,0.7516962885856628,0.5530964136123657,0.8614665865898132,1.6104369163513184,-0.023036422207951546,-0.3931114375591278,-0.4876924753189087,-0.2018013298511505,-0.2248561978340149,-0.35627076029777527,1.7191373109817505],\"z\":[-0.5019290447235107,0.33591946959495544,-0.06094316020607948,0.3999062180519104,-0.7485727071762085,2.093613386154175,0.39993342757225037,0.5973764061927795,1.0135738849639893,0.5737985372543335,0.7860032320022583,0.4045931100845337,-0.8467865586280823,-0.4077729880809784,-0.6104620695114136,-0.425732284784317,-0.6836307048797607,-0.27877718210220337,-0.5315105319023132,-0.5222555994987488,-0.4791151285171509,-0.7723900675773621,-1.0313407182693481],\"type\":\"scatter3d\",\"scene\":\"scene13\"},{\"mode\":\"markers\",\"x\":[-2.021498441696167,-1.895362377166748,-1.7970792055130005,-1.2611132860183716,-2.8796682357788086,-2.9818315505981445,-2.7544710636138916,-2.8773281574249268,-2.2257072925567627,-2.069638252258301,-2.945042371749878,-2.122058391571045,-1.3957666158676147,-1.2874866724014282,-1.4243409633636475,-1.3154734373092651,-0.4789624512195587,1.4669650793075562,0.2572188377380371,-0.05525735393166542,-0.1437203586101532,0.10138294100761414,0.3761166036128998],\"y\":[1.205364465713501,-0.27630576491355896,0.10726749897003174,0.054752200841903687,0.35218796133995056,-0.10424391180276871,-0.4132547378540039,0.9444972276687622,0.6915582418441772,0.4923793375492096,-1.2278233766555786,-0.37878334522247314,0.7610417604446411,0.5523062348365784,0.8593406081199646,1.6176358461380005,-0.02228100784122944,-0.40497249364852905,-0.4880948066711426,-0.19426275789737701,-0.22698673605918884,-0.3603872060775757,1.7283039093017578],\"z\":[-0.4927765130996704,0.33677566051483154,-0.0619661770761013,0.3968573212623596,-0.7442307472229004,2.096893310546875,0.4031352400779724,0.5976752638816833,1.012856364250183,0.589783787727356,0.7897928953170776,0.4039091169834137,-0.8442912697792053,-0.40784579515457153,-0.601429283618927,-0.41894373297691345,-0.682462215423584,-0.26494038105010986,-0.5230830311775208,-0.5123383402824402,-0.46913301944732666,-0.7624603509902954,-1.0248678922653198],\"type\":\"scatter3d\",\"scene\":\"scene14\"},{\"mode\":\"markers\",\"x\":[-2.0336239337921143,-1.9088345766067505,-1.81059992313385,-1.2709240913391113,-2.8909828662872314,-2.996767282485962,-2.7718708515167236,-2.889251708984375,-2.244999408721924,-2.07918381690979,-2.9597585201263428,-2.1313858032226562,-1.4043687582015991,-1.3047739267349243,-1.4413552284240723,-1.327492594718933,-0.49574780464172363,1.4604288339614868,0.24647848308086395,-0.06106000393629074,-0.15330493450164795,0.0862094983458519,0.36310574412345886],\"y\":[1.208371877670288,-0.27706998586654663,0.10490249842405319,0.05437963828444481,0.35004833340644836,-0.1026429608464241,-0.41887131333351135,0.9415805339813232,0.6888651251792908,0.4962731897830963,-1.2247027158737183,-0.38432547450065613,0.7562164068222046,0.5516061186790466,0.8580772280693054,1.614810585975647,-0.024759981781244278,-0.40136682987213135,-0.49095094203948975,-0.1986684501171112,-0.22495120763778687,-0.3560202419757843,1.72649347782135],\"z\":[-0.49674102663993835,0.34634292125701904,-0.06082148104906082,0.4064950942993164,-0.742839515209198,2.100193977355957,0.4092774987220764,0.5987074971199036,1.010132908821106,0.5939080119132996,0.7883577942848206,0.40964221954345703,-0.8465224504470825,-0.40937766432762146,-0.6073703765869141,-0.4220781922340393,-0.6843861937522888,-0.26414576172828674,-0.5160485506057739,-0.509496808052063,-0.4686058461666107,-0.7617751955986023,-1.0285723209381104],\"type\":\"scatter3d\",\"scene\":\"scene15\"}],                        {\"template\":{\"data\":{\"histogram2dcontour\":[{\"type\":\"histogram2dcontour\",\"colorbar\":{\"outlinewidth\":0,\"ticks\":\"\"},\"colorscale\":[[0.0,\"#0d0887\"],[0.1111111111111111,\"#46039f\"],[0.2222222222222222,\"#7201a8\"],[0.3333333333333333,\"#9c179e\"],[0.4444444444444444,\"#bd3786\"],[0.5555555555555556,\"#d8576b\"],[0.6666666666666666,\"#ed7953\"],[0.7777777777777778,\"#fb9f3a\"],[0.8888888888888888,\"#fdca26\"],[1.0,\"#f0f921\"]]}],\"choropleth\":[{\"type\":\"choropleth\",\"colorbar\":{\"outlinewidth\":0,\"ticks\":\"\"}}],\"histogram2d\":[{\"type\":\"histogram2d\",\"colorbar\":{\"outlinewidth\":0,\"ticks\":\"\"},\"colorscale\":[[0.0,\"#0d0887\"],[0.1111111111111111,\"#46039f\"],[0.2222222222222222,\"#7201a8\"],[0.3333333333333333,\"#9c179e\"],[0.4444444444444444,\"#bd3786\"],[0.5555555555555556,\"#d8576b\"],[0.6666666666666666,\"#ed7953\"],[0.7777777777777778,\"#fb9f3a\"],[0.8888888888888888,\"#fdca26\"],[1.0,\"#f0f921\"]]}],\"heatmap\":[{\"type\":\"heatmap\",\"colorbar\":{\"outlinewidth\":0,\"ticks\":\"\"},\"colorscale\":[[0.0,\"#0d0887\"],[0.1111111111111111,\"#46039f\"],[0.2222222222222222,\"#7201a8\"],[0.3333333333333333,\"#9c179e\"],[0.4444444444444444,\"#bd3786\"],[0.5555555555555556,\"#d8576b\"],[0.6666666666666666,\"#ed7953\"],[0.7777777777777778,\"#fb9f3a\"],[0.8888888888888888,\"#fdca26\"],[1.0,\"#f0f921\"]]}],\"heatmapgl\":[{\"type\":\"heatmapgl\",\"colorbar\":{\"outlinewidth\":0,\"ticks\":\"\"},\"colorscale\":[[0.0,\"#0d0887\"],[0.1111111111111111,\"#46039f\"],[0.2222222222222222,\"#7201a8\"],[0.3333333333333333,\"#9c179e\"],[0.4444444444444444,\"#bd3786\"],[0.5555555555555556,\"#d8576b\"],[0.6666666666666666,\"#ed7953\"],[0.7777777777777778,\"#fb9f3a\"],[0.8888888888888888,\"#fdca26\"],[1.0,\"#f0f921\"]]}],\"contourcarpet\":[{\"type\":\"contourcarpet\",\"colorbar\":{\"outlinewidth\":0,\"ticks\":\"\"}}],\"contour\":[{\"type\":\"contour\",\"colorbar\":{\"outlinewidth\":0,\"ticks\":\"\"},\"colorscale\":[[0.0,\"#0d0887\"],[0.1111111111111111,\"#46039f\"],[0.2222222222222222,\"#7201a8\"],[0.3333333333333333,\"#9c179e\"],[0.4444444444444444,\"#bd3786\"],[0.5555555555555556,\"#d8576b\"],[0.6666666666666666,\"#ed7953\"],[0.7777777777777778,\"#fb9f3a\"],[0.8888888888888888,\"#fdca26\"],[1.0,\"#f0f921\"]]}],\"surface\":[{\"type\":\"surface\",\"colorbar\":{\"outlinewidth\":0,\"ticks\":\"\"},\"colorscale\":[[0.0,\"#0d0887\"],[0.1111111111111111,\"#46039f\"],[0.2222222222222222,\"#7201a8\"],[0.3333333333333333,\"#9c179e\"],[0.4444444444444444,\"#bd3786\"],[0.5555555555555556,\"#d8576b\"],[0.6666666666666666,\"#ed7953\"],[0.7777777777777778,\"#fb9f3a\"],[0.8888888888888888,\"#fdca26\"],[1.0,\"#f0f921\"]]}],\"mesh3d\":[{\"type\":\"mesh3d\",\"colorbar\":{\"outlinewidth\":0,\"ticks\":\"\"}}],\"scatter\":[{\"fillpattern\":{\"fillmode\":\"overlay\",\"size\":10,\"solidity\":0.2},\"type\":\"scatter\"}],\"parcoords\":[{\"type\":\"parcoords\",\"line\":{\"colorbar\":{\"outlinewidth\":0,\"ticks\":\"\"}}}],\"scatterpolargl\":[{\"type\":\"scatterpolargl\",\"marker\":{\"colorbar\":{\"outlinewidth\":0,\"ticks\":\"\"}}}],\"bar\":[{\"error_x\":{\"color\":\"#2a3f5f\"},\"error_y\":{\"color\":\"#2a3f5f\"},\"marker\":{\"line\":{\"color\":\"#E5ECF6\",\"width\":0.5},\"pattern\":{\"fillmode\":\"overlay\",\"size\":10,\"solidity\":0.2}},\"type\":\"bar\"}],\"scattergeo\":[{\"type\":\"scattergeo\",\"marker\":{\"colorbar\":{\"outlinewidth\":0,\"ticks\":\"\"}}}],\"scatterpolar\":[{\"type\":\"scatterpolar\",\"marker\":{\"colorbar\":{\"outlinewidth\":0,\"ticks\":\"\"}}}],\"histogram\":[{\"marker\":{\"pattern\":{\"fillmode\":\"overlay\",\"size\":10,\"solidity\":0.2}},\"type\":\"histogram\"}],\"scattergl\":[{\"type\":\"scattergl\",\"marker\":{\"colorbar\":{\"outlinewidth\":0,\"ticks\":\"\"}}}],\"scatter3d\":[{\"type\":\"scatter3d\",\"line\":{\"colorbar\":{\"outlinewidth\":0,\"ticks\":\"\"}},\"marker\":{\"colorbar\":{\"outlinewidth\":0,\"ticks\":\"\"}}}],\"scattermapbox\":[{\"type\":\"scattermapbox\",\"marker\":{\"colorbar\":{\"outlinewidth\":0,\"ticks\":\"\"}}}],\"scatterternary\":[{\"type\":\"scatterternary\",\"marker\":{\"colorbar\":{\"outlinewidth\":0,\"ticks\":\"\"}}}],\"scattercarpet\":[{\"type\":\"scattercarpet\",\"marker\":{\"colorbar\":{\"outlinewidth\":0,\"ticks\":\"\"}}}],\"carpet\":[{\"aaxis\":{\"endlinecolor\":\"#2a3f5f\",\"gridcolor\":\"white\",\"linecolor\":\"white\",\"minorgridcolor\":\"white\",\"startlinecolor\":\"#2a3f5f\"},\"baxis\":{\"endlinecolor\":\"#2a3f5f\",\"gridcolor\":\"white\",\"linecolor\":\"white\",\"minorgridcolor\":\"white\",\"startlinecolor\":\"#2a3f5f\"},\"type\":\"carpet\"}],\"table\":[{\"cells\":{\"fill\":{\"color\":\"#EBF0F8\"},\"line\":{\"color\":\"white\"}},\"header\":{\"fill\":{\"color\":\"#C8D4E3\"},\"line\":{\"color\":\"white\"}},\"type\":\"table\"}],\"barpolar\":[{\"marker\":{\"line\":{\"color\":\"#E5ECF6\",\"width\":0.5},\"pattern\":{\"fillmode\":\"overlay\",\"size\":10,\"solidity\":0.2}},\"type\":\"barpolar\"}],\"pie\":[{\"automargin\":true,\"type\":\"pie\"}]},\"layout\":{\"autotypenumbers\":\"strict\",\"colorway\":[\"#636efa\",\"#EF553B\",\"#00cc96\",\"#ab63fa\",\"#FFA15A\",\"#19d3f3\",\"#FF6692\",\"#B6E880\",\"#FF97FF\",\"#FECB52\"],\"font\":{\"color\":\"#2a3f5f\"},\"hovermode\":\"closest\",\"hoverlabel\":{\"align\":\"left\"},\"paper_bgcolor\":\"white\",\"plot_bgcolor\":\"#E5ECF6\",\"polar\":{\"bgcolor\":\"#E5ECF6\",\"angularaxis\":{\"gridcolor\":\"white\",\"linecolor\":\"white\",\"ticks\":\"\"},\"radialaxis\":{\"gridcolor\":\"white\",\"linecolor\":\"white\",\"ticks\":\"\"}},\"ternary\":{\"bgcolor\":\"#E5ECF6\",\"aaxis\":{\"gridcolor\":\"white\",\"linecolor\":\"white\",\"ticks\":\"\"},\"baxis\":{\"gridcolor\":\"white\",\"linecolor\":\"white\",\"ticks\":\"\"},\"caxis\":{\"gridcolor\":\"white\",\"linecolor\":\"white\",\"ticks\":\"\"}},\"coloraxis\":{\"colorbar\":{\"outlinewidth\":0,\"ticks\":\"\"}},\"colorscale\":{\"sequential\":[[0.0,\"#0d0887\"],[0.1111111111111111,\"#46039f\"],[0.2222222222222222,\"#7201a8\"],[0.3333333333333333,\"#9c179e\"],[0.4444444444444444,\"#bd3786\"],[0.5555555555555556,\"#d8576b\"],[0.6666666666666666,\"#ed7953\"],[0.7777777777777778,\"#fb9f3a\"],[0.8888888888888888,\"#fdca26\"],[1.0,\"#f0f921\"]],\"sequentialminus\":[[0.0,\"#0d0887\"],[0.1111111111111111,\"#46039f\"],[0.2222222222222222,\"#7201a8\"],[0.3333333333333333,\"#9c179e\"],[0.4444444444444444,\"#bd3786\"],[0.5555555555555556,\"#d8576b\"],[0.6666666666666666,\"#ed7953\"],[0.7777777777777778,\"#fb9f3a\"],[0.8888888888888888,\"#fdca26\"],[1.0,\"#f0f921\"]],\"diverging\":[[0,\"#8e0152\"],[0.1,\"#c51b7d\"],[0.2,\"#de77ae\"],[0.3,\"#f1b6da\"],[0.4,\"#fde0ef\"],[0.5,\"#f7f7f7\"],[0.6,\"#e6f5d0\"],[0.7,\"#b8e186\"],[0.8,\"#7fbc41\"],[0.9,\"#4d9221\"],[1,\"#276419\"]]},\"xaxis\":{\"gridcolor\":\"white\",\"linecolor\":\"white\",\"ticks\":\"\",\"title\":{\"standoff\":15},\"zerolinecolor\":\"white\",\"automargin\":true,\"zerolinewidth\":2},\"yaxis\":{\"gridcolor\":\"white\",\"linecolor\":\"white\",\"ticks\":\"\",\"title\":{\"standoff\":15},\"zerolinecolor\":\"white\",\"automargin\":true,\"zerolinewidth\":2},\"scene\":{\"xaxis\":{\"backgroundcolor\":\"#E5ECF6\",\"gridcolor\":\"white\",\"linecolor\":\"white\",\"showbackground\":true,\"ticks\":\"\",\"zerolinecolor\":\"white\",\"gridwidth\":2},\"yaxis\":{\"backgroundcolor\":\"#E5ECF6\",\"gridcolor\":\"white\",\"linecolor\":\"white\",\"showbackground\":true,\"ticks\":\"\",\"zerolinecolor\":\"white\",\"gridwidth\":2},\"zaxis\":{\"backgroundcolor\":\"#E5ECF6\",\"gridcolor\":\"white\",\"linecolor\":\"white\",\"showbackground\":true,\"ticks\":\"\",\"zerolinecolor\":\"white\",\"gridwidth\":2}},\"shapedefaults\":{\"line\":{\"color\":\"#2a3f5f\"}},\"annotationdefaults\":{\"arrowcolor\":\"#2a3f5f\",\"arrowhead\":0,\"arrowwidth\":1},\"geo\":{\"bgcolor\":\"white\",\"landcolor\":\"#E5ECF6\",\"subunitcolor\":\"white\",\"showland\":true,\"showlakes\":true,\"lakecolor\":\"white\"},\"title\":{\"x\":0.05},\"mapbox\":{\"style\":\"light\"}}},\"scene\":{\"domain\":{\"x\":[0.0,0.2888888888888889],\"y\":[0.875,1.0]}},\"scene2\":{\"domain\":{\"x\":[0.35555555555555557,0.6444444444444445],\"y\":[0.875,1.0]}},\"scene3\":{\"domain\":{\"x\":[0.7111111111111111,1.0],\"y\":[0.875,1.0]}},\"scene4\":{\"domain\":{\"x\":[0.0,0.2888888888888889],\"y\":[0.7,0.825]}},\"scene5\":{\"domain\":{\"x\":[0.35555555555555557,0.6444444444444445],\"y\":[0.7,0.825]}},\"scene6\":{\"domain\":{\"x\":[0.7111111111111111,1.0],\"y\":[0.7,0.825]}},\"scene7\":{\"domain\":{\"x\":[0.0,0.2888888888888889],\"y\":[0.525,0.65]}},\"scene8\":{\"domain\":{\"x\":[0.35555555555555557,0.6444444444444445],\"y\":[0.525,0.65]}},\"scene9\":{\"domain\":{\"x\":[0.7111111111111111,1.0],\"y\":[0.525,0.65]}},\"scene10\":{\"domain\":{\"x\":[0.0,0.2888888888888889],\"y\":[0.35,0.475]}},\"scene11\":{\"domain\":{\"x\":[0.35555555555555557,0.6444444444444445],\"y\":[0.35,0.475]}},\"scene12\":{\"domain\":{\"x\":[0.7111111111111111,1.0],\"y\":[0.35,0.475]}},\"scene13\":{\"domain\":{\"x\":[0.0,0.2888888888888889],\"y\":[0.175,0.3]}},\"scene14\":{\"domain\":{\"x\":[0.35555555555555557,0.6444444444444445],\"y\":[0.175,0.3]}},\"scene15\":{\"domain\":{\"x\":[0.7111111111111111,1.0],\"y\":[0.175,0.3]}},\"scene16\":{\"domain\":{\"x\":[0.0,0.2888888888888889],\"y\":[0.0,0.125]}},\"scene17\":{\"domain\":{\"x\":[0.35555555555555557,0.6444444444444445],\"y\":[0.0,0.125]}},\"scene18\":{\"domain\":{\"x\":[0.7111111111111111,1.0],\"y\":[0.0,0.125]}},\"height\":2100,\"showlegend\":false},                        {\"responsive\": true}                    ).then(function(){\n",
       "                            \n",
       "var gd = document.getElementById('e5b1cd2d-ad2c-4c40-b21a-58f610211df5');\n",
       "var x = new MutationObserver(function (mutations, observer) {{\n",
       "        var display = window.getComputedStyle(gd).display;\n",
       "        if (!display || display === 'none') {{\n",
       "            console.log([gd, 'removed!']);\n",
       "            Plotly.purge(gd);\n",
       "            observer.disconnect();\n",
       "        }}\n",
       "}});\n",
       "\n",
       "// Listen for the removal of the full notebook cells\n",
       "var notebookContainer = gd.closest('#notebook-container');\n",
       "if (notebookContainer) {{\n",
       "    x.observe(notebookContainer, {childList: true});\n",
       "}}\n",
       "\n",
       "// Listen for the clearing of the current output cell\n",
       "var outputEl = gd.closest('.output');\n",
       "if (outputEl) {{\n",
       "    x.observe(outputEl, {childList: true});\n",
       "}}\n",
       "\n",
       "                        })                };                });            </script>        </div>"
      ]
     },
     "metadata": {},
     "output_type": "display_data"
    }
   ],
   "source": [
    "nc = 3\n",
    "nr = len(xt_sampled)//nc + 1\n",
    "fig = make_subplots(rows=nr, cols=nc, \n",
    "                   specs = [[{\"type\": \"scatter3d\"} for i in range(nc)] for i in range(nr)]\n",
    "                   )\n",
    "\n",
    "for i in range(len(xt_sampled)):\n",
    "    arr = xt_sampled[i].cpu().numpy()\n",
    "    fig.add_trace(\n",
    "        go.Scatter3d(x=arr[:, 0], y=arr[:, 1], z=arr[:, 2], mode='markers'),\n",
    "        row=i//nc + 1, col=i%nc + 1\n",
    "    )\n",
    "\n",
    "fig.update_layout(height=nr*350, showlegend=False)\n",
    "fig.show()"
   ]
  },
  {
   "cell_type": "code",
   "execution_count": null,
   "id": "7efc92cf-b6e6-46a3-b972-20831b0e958a",
   "metadata": {},
   "outputs": [],
   "source": []
  },
  {
   "cell_type": "code",
   "execution_count": null,
   "id": "815272ee-d6f0-4343-b069-11aeec1f559f",
   "metadata": {},
   "outputs": [],
   "source": [
    "fig = make_subplots(rows=1, cols=2, \n",
    "                   specs = [[{\"type\": \"scatter3d\"} for i in range(3)]]\n",
    "                   )\n",
    "\n",
    "\n",
    "fig.add_trace(\n",
    "    go.Scatter3d(x=x_i_arr[:, 0], y=x_i_arr[:, 1], z=x_i_arr[:, 2], mode='markers'),\n",
    "    row=1, col=1\n",
    ")\n",
    "\n",
    "fig.add_trace(\n",
    "    go.Scatter3d(x=original_pos_0center_i_arr[:, 0], y=original_pos_0center_i_arr[:, 1], z=original_pos_0center_i_arr[:, 2], mode='markers'),\n",
    "    row=1, col=2\n",
    ")\n",
    "\n",
    "fig.add_trace(\n",
    "    go.Scatter3d(x=pp_pos_0center_i_arr[:, 0], y=pp_pos_0center_i_arr[:, 1], z=pp_pos_0center_i_arr[:, 2], mode='markers'),\n",
    "    row=1, col=3\n",
    ")\n",
    "\n",
    "fig.update_layout(height=500, showlegend=False)\n",
    "fig.show()"
   ]
  }
 ],
 "metadata": {
  "kernelspec": {
   "display_name": "pp2drug",
   "language": "python",
   "name": "pp2drug"
  },
  "language_info": {
   "codemirror_mode": {
    "name": "ipython",
    "version": 3
   },
   "file_extension": ".py",
   "mimetype": "text/x-python",
   "name": "python",
   "nbconvert_exporter": "python",
   "pygments_lexer": "ipython3",
   "version": "3.10.14"
  }
 },
 "nbformat": 4,
 "nbformat_minor": 5
}
