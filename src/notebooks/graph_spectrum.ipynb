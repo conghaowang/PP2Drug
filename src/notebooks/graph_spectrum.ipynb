{
 "cells": [
  {
   "cell_type": "code",
   "execution_count": 1,
   "id": "9da7222b",
   "metadata": {},
   "outputs": [],
   "source": [
    "import numpy as np\n",
    "from scipy.linalg import eigh"
   ]
  },
  {
   "cell_type": "code",
   "execution_count": 2,
   "id": "8fe79168",
   "metadata": {},
   "outputs": [
    {
     "name": "stdout",
     "output_type": "stream",
     "text": [
      "Eigenvalues of the Adjacency Matrix: [-1.4811943  -1.          0.31110782  2.17008649]\n",
      "Eigenvalues of the Laplacian Matrix: [-8.00141203e-17  1.00000000e+00  3.00000000e+00  4.00000000e+00]\n"
     ]
    }
   ],
   "source": [
    "\n",
    "# Example: A simple graph with 4 nodes\n",
    "# Adjacency matrix\n",
    "A = np.array([\n",
    "    [0, 1, 0, 0],\n",
    "    [1, 0, 1, 1],\n",
    "    [0, 1, 0, 1],\n",
    "    [0, 1, 1, 0]\n",
    "])\n",
    "\n",
    "# Degree matrix\n",
    "D = np.diag(A.sum(axis=1))\n",
    "\n",
    "# Laplacian matrix\n",
    "L = D - A\n",
    "\n",
    "# Eigenvalues of the adjacency matrix\n",
    "eigenvalues_A = np.linalg.eigvalsh(A)\n",
    "\n",
    "# Eigenvalues of the Laplacian matrix\n",
    "eigenvalues_L = eigh(L, eigvals_only=True)\n",
    "\n",
    "print(\"Eigenvalues of the Adjacency Matrix:\", eigenvalues_A)\n",
    "print(\"Eigenvalues of the Laplacian Matrix:\", eigenvalues_L)"
   ]
  },
  {
   "cell_type": "code",
   "execution_count": null,
   "id": "b9c1e3bd",
   "metadata": {},
   "outputs": [],
   "source": []
  }
 ],
 "metadata": {
  "kernelspec": {
   "display_name": "pp2drug",
   "language": "python",
   "name": "pp2drug"
  },
  "language_info": {
   "codemirror_mode": {
    "name": "ipython",
    "version": 3
   },
   "file_extension": ".py",
   "mimetype": "text/x-python",
   "name": "python",
   "nbconvert_exporter": "python",
   "pygments_lexer": "ipython3",
   "version": "3.10.14"
  }
 },
 "nbformat": 4,
 "nbformat_minor": 5
}
