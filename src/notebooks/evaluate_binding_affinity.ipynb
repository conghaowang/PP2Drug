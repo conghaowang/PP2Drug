{
 "cells": [
  {
   "cell_type": "code",
   "execution_count": 9,
   "id": "8452949b",
   "metadata": {},
   "outputs": [],
   "source": [
    "import pandas as pd \n",
    "import numpy as np\n",
    "import os\n",
    "from math import ceil\n",
    "from tqdm import tqdm"
   ]
  },
  {
   "cell_type": "code",
   "execution_count": 2,
   "id": "c0659b22",
   "metadata": {},
   "outputs": [],
   "source": [
    "import sys\n",
    "sys.path.append('../evaluation/')"
   ]
  },
  {
   "cell_type": "code",
   "execution_count": 3,
   "id": "480aca1c",
   "metadata": {},
   "outputs": [],
   "source": [
    "from utils import build_pdb_dict"
   ]
  },
  {
   "cell_type": "code",
   "execution_count": 12,
   "id": "6aaa1273",
   "metadata": {},
   "outputs": [],
   "source": [
    "bridge_type = 'vp'\n",
    "\n",
    "# log_path = '../../docking_res/logs/' + bridge_type\n",
    "log_path = '../lightning_logs/vp_bridge_2024-05-12_14_04_39.541860/logs'\n",
    "raw_data_path = '../../data/cleaned_crossdocked_data/raw'\n",
    "\n",
    "log_files = os.listdir(log_path)\n",
    "pdb_dict, pdb_rev_dict = build_pdb_dict(raw_data_path)"
   ]
  },
  {
   "cell_type": "code",
   "execution_count": 13,
   "id": "04fd2ba8",
   "metadata": {},
   "outputs": [
    {
     "data": {
      "text/plain": [
       "6902"
      ]
     },
     "execution_count": 13,
     "metadata": {},
     "output_type": "execute_result"
    }
   ],
   "source": [
    "len(log_files)"
   ]
  },
  {
   "cell_type": "code",
   "execution_count": 14,
   "id": "fa9438bf",
   "metadata": {},
   "outputs": [],
   "source": [
    "def get_minimized_affinity(filename, mode='ref'):\n",
    "    if mode == 'ref':\n",
    "        with open(filename, 'r') as file:\n",
    "            for line in file:\n",
    "                if '<minimizedAffinity>' in line:\n",
    "                    # The next line after '<minimizedAffinity>' contains the value\n",
    "                    return float(next(file))\n",
    "            \n",
    "    else:\n",
    "        with open(filename, 'r') as f:\n",
    "            lines = f.readlines()\n",
    "            lines = lines[19:28]\n",
    "#             print(len(lines))\n",
    "            n = len(lines)\n",
    "            arr = np.zeros(n)\n",
    "#             print(filename)\n",
    "            for i in range(n):\n",
    "                arr[i] = float(lines[i][11:17])\n",
    "#             print(arr)\n",
    "            try:\n",
    "                score = np.min(arr)\n",
    "            except:\n",
    "                score = None\n",
    "        return score"
   ]
  },
  {
   "cell_type": "code",
   "execution_count": 15,
   "id": "535112d9",
   "metadata": {},
   "outputs": [
    {
     "name": "stderr",
     "output_type": "stream",
     "text": [
      "100%|███████████████████████████████████████████████████████████████████████████████████████████████████████████████████████████████████████████████████████| 6902/6902 [01:10<00:00, 98.05it/s]\n"
     ]
    }
   ],
   "source": [
    "score_dict = {}\n",
    "for log_file in tqdm(log_files):\n",
    "    ligand_name = log_file.split('.')[0]\n",
    "    ligand_file = ligand_name + '.sdf'\n",
    "    pdb_folder = pdb_rev_dict[ligand_file]\n",
    "    ref_file = os.path.join(raw_data_path, pdb_folder, ligand_file)\n",
    "    ref_score = get_minimized_affinity(ref_file, 'ref')\n",
    "#     print(log_file)\n",
    "    gen_score = get_minimized_affinity(os.path.join(log_path, log_file), 'gen')\n",
    "    score_dict[ligand_name] = [gen_score, ref_score]"
   ]
  },
  {
   "cell_type": "code",
   "execution_count": 16,
   "id": "0231af0e",
   "metadata": {
    "scrolled": false
   },
   "outputs": [
    {
     "data": {
      "text/html": [
       "<div>\n",
       "<style scoped>\n",
       "    .dataframe tbody tr th:only-of-type {\n",
       "        vertical-align: middle;\n",
       "    }\n",
       "\n",
       "    .dataframe tbody tr th {\n",
       "        vertical-align: top;\n",
       "    }\n",
       "\n",
       "    .dataframe thead th {\n",
       "        text-align: right;\n",
       "    }\n",
       "</style>\n",
       "<table border=\"1\" class=\"dataframe\">\n",
       "  <thead>\n",
       "    <tr style=\"text-align: right;\">\n",
       "      <th></th>\n",
       "      <th>Binding affinity</th>\n",
       "      <th>Reference</th>\n",
       "    </tr>\n",
       "  </thead>\n",
       "  <tbody>\n",
       "    <tr>\n",
       "      <th>3iph_A_rec_3lhj_lhj_lig_tt_min_0</th>\n",
       "      <td>-6.67</td>\n",
       "      <td>-11.55377</td>\n",
       "    </tr>\n",
       "    <tr>\n",
       "      <th>3p1e_B_rec_4ts8_xz8_lig_tt_min_0</th>\n",
       "      <td>-3.68</td>\n",
       "      <td>-6.94268</td>\n",
       "    </tr>\n",
       "    <tr>\n",
       "      <th>3g0w_A_rec_5t8j_77t_lig_tt_docked_1</th>\n",
       "      <td>-3.96</td>\n",
       "      <td>-8.17374</td>\n",
       "    </tr>\n",
       "    <tr>\n",
       "      <th>1anc_A_rec_1j14_ben_lig_tt_min_0</th>\n",
       "      <td>-4.05</td>\n",
       "      <td>-6.60193</td>\n",
       "    </tr>\n",
       "    <tr>\n",
       "      <th>5j0d_A_rec_4nr4_2lk_lig_tt_docked_0</th>\n",
       "      <td>-3.78</td>\n",
       "      <td>-7.99735</td>\n",
       "    </tr>\n",
       "    <tr>\n",
       "      <th>...</th>\n",
       "      <td>...</td>\n",
       "      <td>...</td>\n",
       "    </tr>\n",
       "    <tr>\n",
       "      <th>3v4a_A_rec_2pip_dht_lig_tt_min_0</th>\n",
       "      <td>-5.66</td>\n",
       "      <td>-7.81757</td>\n",
       "    </tr>\n",
       "    <tr>\n",
       "      <th>4m5a_A_rec_5y48_ura_lig_tt_min_0</th>\n",
       "      <td>-1.74</td>\n",
       "      <td>-4.83650</td>\n",
       "    </tr>\n",
       "    <tr>\n",
       "      <th>4ls1_A_rec_5h73_7l7_lig_tt_min_0</th>\n",
       "      <td>-3.87</td>\n",
       "      <td>-6.20760</td>\n",
       "    </tr>\n",
       "    <tr>\n",
       "      <th>2pvj_A_rec_2pvk_p45_lig_tt_docked_14</th>\n",
       "      <td>-7.30</td>\n",
       "      <td>-8.33211</td>\n",
       "    </tr>\n",
       "    <tr>\n",
       "      <th>5a5s_A_rec_4e96_0ns_lig_tt_min_0</th>\n",
       "      <td>-4.55</td>\n",
       "      <td>-6.50073</td>\n",
       "    </tr>\n",
       "  </tbody>\n",
       "</table>\n",
       "<p>6902 rows × 2 columns</p>\n",
       "</div>"
      ],
      "text/plain": [
       "                                      Binding affinity  Reference\n",
       "3iph_A_rec_3lhj_lhj_lig_tt_min_0                 -6.67  -11.55377\n",
       "3p1e_B_rec_4ts8_xz8_lig_tt_min_0                 -3.68   -6.94268\n",
       "3g0w_A_rec_5t8j_77t_lig_tt_docked_1              -3.96   -8.17374\n",
       "1anc_A_rec_1j14_ben_lig_tt_min_0                 -4.05   -6.60193\n",
       "5j0d_A_rec_4nr4_2lk_lig_tt_docked_0              -3.78   -7.99735\n",
       "...                                                ...        ...\n",
       "3v4a_A_rec_2pip_dht_lig_tt_min_0                 -5.66   -7.81757\n",
       "4m5a_A_rec_5y48_ura_lig_tt_min_0                 -1.74   -4.83650\n",
       "4ls1_A_rec_5h73_7l7_lig_tt_min_0                 -3.87   -6.20760\n",
       "2pvj_A_rec_2pvk_p45_lig_tt_docked_14             -7.30   -8.33211\n",
       "5a5s_A_rec_4e96_0ns_lig_tt_min_0                 -4.55   -6.50073\n",
       "\n",
       "[6902 rows x 2 columns]"
      ]
     },
     "execution_count": 16,
     "metadata": {},
     "output_type": "execute_result"
    }
   ],
   "source": [
    "df = pd.DataFrame.from_dict(score_dict, orient='index', columns=['Binding affinity', 'Reference'])\n",
    "df"
   ]
  },
  {
   "cell_type": "code",
   "execution_count": 17,
   "id": "2d77fdba",
   "metadata": {},
   "outputs": [
    {
     "data": {
      "text/plain": [
       "0.043175891046073604"
      ]
     },
     "execution_count": 17,
     "metadata": {},
     "output_type": "execute_result"
    }
   ],
   "source": [
    "sum(df['Binding affinity'] < df['Reference']) / len(df)"
   ]
  },
  {
   "cell_type": "code",
   "execution_count": 29,
   "id": "74f3d117",
   "metadata": {},
   "outputs": [
    {
     "data": {
      "text/plain": [
       "'PYRD_HUMAN_65_395_0'"
      ]
     },
     "execution_count": 29,
     "metadata": {},
     "output_type": "execute_result"
    }
   ],
   "source": [
    "pdb_rev_dict['4ls1_A_rec_5h73_7l7_lig_tt_min_0.sdf']"
   ]
  },
  {
   "cell_type": "code",
   "execution_count": null,
   "id": "c0f47426",
   "metadata": {},
   "outputs": [],
   "source": [
    "def evaluate_pdb(model, meta_data):\n",
    "    score_dict = {}\n",
    "    for index, row in meta_data.iterrows():\n",
    "        pdb_id = row['pdb']\n",
    "#         print(pdb_id)\n",
    "        score_dict[pdb_id] = []\n",
    "        log_path = os.path.join('logs/' + model, pdb_id)\n",
    "        for filename in os.listdir(log_path):\n",
    "            log_file = os.path.join(log_path, filename)\n",
    "            with open(log_file, 'r') as f:\n",
    "                lines = f.readlines()\n",
    "#             print(len(lines))\n",
    "            lines = lines[16:]\n",
    "            n = ceil(len(lines)/14)\n",
    "            arr = np.zeros(n)\n",
    "#             print(filename)\n",
    "            for i in range(n):\n",
    "                arr[i] = float(lines[i*14+3][11:17])\n",
    "            score = np.min(arr)\n",
    "            smi = filename.split('.')[0]\n",
    "            score_dict[pdb_id].append(score)\n",
    "            \n",
    "    score_dict = {k:np.array(v) for k, v in score_dict.items()}\n",
    "    return score_dict"
   ]
  }
 ],
 "metadata": {
  "kernelspec": {
   "display_name": "pp2drug",
   "language": "python",
   "name": "pp2drug"
  },
  "language_info": {
   "codemirror_mode": {
    "name": "ipython",
    "version": 3
   },
   "file_extension": ".py",
   "mimetype": "text/x-python",
   "name": "python",
   "nbconvert_exporter": "python",
   "pygments_lexer": "ipython3",
   "version": "3.10.14"
  }
 },
 "nbformat": 4,
 "nbformat_minor": 5
}
