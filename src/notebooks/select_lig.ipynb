{
 "cells": [
  {
   "cell_type": "code",
   "execution_count": 1,
   "id": "d9608f7b-ae94-4935-9609-878942f13faa",
   "metadata": {},
   "outputs": [],
   "source": [
    "import pickle\n",
    "import pandas as pd\n",
    "import numpy as np\n",
    "from tqdm import tqdm\n",
    "import os\n",
    "from collections import defaultdict"
   ]
  },
  {
   "cell_type": "code",
   "execution_count": 2,
   "id": "b6bfe676-ae45-4a03-9cd8-e51c59e26d69",
   "metadata": {},
   "outputs": [],
   "source": [
    "# root_path = '../lightning_logs/vp_bridge_egnn_CombinedSparseGraphDataset_2024-08-19_21_05_04.140916'\n",
    "root_path = '../lightning_logs/vp_bridge_egnn_CombinedSparseGraphDataset_2024-08-19_21_05_04.140916/ligand_based'\n",
    "# root_path = '../lightning_logs/vp_bridge_egnn_CombinedSparseGraphDataset_2024-08-19_13_30_50.133260'\n",
    "# root_path = '../lightning_logs/vp_bridge_egnn_CombinedSparseGraphDataset_2024-08-19_13_30_50.133260/ligand_based'\n",
    "\n",
    "# root_path = '../lightning_logs/vp_bridge_egnn_CombinedSparseGraphDataset_2024-10-14_13_02_07.121254/ligand_based'"
   ]
  },
  {
   "cell_type": "code",
   "execution_count": 3,
   "id": "74c46734-4d12-46b1-8950-01dd9c6112be",
   "metadata": {},
   "outputs": [
    {
     "data": {
      "text/plain": [
       "'../lightning_logs/vp_bridge_egnn_CombinedSparseGraphDataset_2024-08-19_21_05_04.140916/ligand_based/reconstructed_mols_aromatic_mode_matches.pkl'"
      ]
     },
     "execution_count": 3,
     "metadata": {},
     "output_type": "execute_result"
    }
   ],
   "source": [
    "aromatic = True\n",
    "optimization = False\n",
    "fn = 'reconstructed_mols' + '_aromatic_mode' if aromatic else 'reconstructed_mols'\n",
    "match_fn = fn + '_matches.pkl'\n",
    "score_fn = fn + '_scores.csv'\n",
    "match_file = os.path.join(root_path, match_fn)\n",
    "score_file = os.path.join(root_path, score_fn)\n",
    "match_file"
   ]
  },
  {
   "cell_type": "code",
   "execution_count": 4,
   "id": "056db690-950f-4b10-b437-01c7802377d0",
   "metadata": {},
   "outputs": [],
   "source": [
    "with open(match_file, 'rb') as f:\n",
    "    match_dict = pickle.load(f)"
   ]
  },
  {
   "cell_type": "code",
   "execution_count": 5,
   "id": "3c00f58c-f8c8-47c9-9288-089cbc4af3ac",
   "metadata": {},
   "outputs": [
    {
     "data": {
      "text/html": [
       "<div>\n",
       "<style scoped>\n",
       "    .dataframe tbody tr th:only-of-type {\n",
       "        vertical-align: middle;\n",
       "    }\n",
       "\n",
       "    .dataframe tbody tr th {\n",
       "        vertical-align: top;\n",
       "    }\n",
       "\n",
       "    .dataframe thead th {\n",
       "        text-align: right;\n",
       "    }\n",
       "</style>\n",
       "<table border=\"1\" class=\"dataframe\">\n",
       "  <thead>\n",
       "    <tr style=\"text-align: right;\">\n",
       "      <th></th>\n",
       "      <th>score</th>\n",
       "    </tr>\n",
       "  </thead>\n",
       "  <tbody>\n",
       "    <tr>\n",
       "      <th>1yw8_A_rec_1yw8_a75_lig_tt_docked_2</th>\n",
       "      <td>0.100000</td>\n",
       "    </tr>\n",
       "    <tr>\n",
       "      <th>4f31_B_rec_3lsw_4mp_lig_tt_min_0</th>\n",
       "      <td>0.666667</td>\n",
       "    </tr>\n",
       "    <tr>\n",
       "      <th>5i00_A_rec_5i00_afq_lig_tt_min_0</th>\n",
       "      <td>0.642857</td>\n",
       "    </tr>\n",
       "    <tr>\n",
       "      <th>5eob_A_rec_3zxz_krw_lig_tt_docked_0</th>\n",
       "      <td>0.666667</td>\n",
       "    </tr>\n",
       "    <tr>\n",
       "      <th>4ot2_A_rec_4zbr_nps_lig_tt_min_0</th>\n",
       "      <td>0.666667</td>\n",
       "    </tr>\n",
       "    <tr>\n",
       "      <th>...</th>\n",
       "      <td>...</td>\n",
       "    </tr>\n",
       "    <tr>\n",
       "      <th>4b84_A_rec_4b84_z5k_lig_tt_min_0</th>\n",
       "      <td>0.600000</td>\n",
       "    </tr>\n",
       "    <tr>\n",
       "      <th>2re8_A_rec_1o0b_amp_lig_tt_min_0</th>\n",
       "      <td>0.428571</td>\n",
       "    </tr>\n",
       "    <tr>\n",
       "      <th>2bur_A_rec_1eob_dhb_lig_tt_min_0</th>\n",
       "      <td>0.500000</td>\n",
       "    </tr>\n",
       "    <tr>\n",
       "      <th>5hx8_A_rec_4ivb_1j5_lig_tt_min_0</th>\n",
       "      <td>0.833333</td>\n",
       "    </tr>\n",
       "    <tr>\n",
       "      <th>3fzt_A_rec_4h1j_0yh_lig_tt_min_0</th>\n",
       "      <td>0.375000</td>\n",
       "    </tr>\n",
       "  </tbody>\n",
       "</table>\n",
       "<p>14798 rows × 1 columns</p>\n",
       "</div>"
      ],
      "text/plain": [
       "                                        score\n",
       "1yw8_A_rec_1yw8_a75_lig_tt_docked_2  0.100000\n",
       "4f31_B_rec_3lsw_4mp_lig_tt_min_0     0.666667\n",
       "5i00_A_rec_5i00_afq_lig_tt_min_0     0.642857\n",
       "5eob_A_rec_3zxz_krw_lig_tt_docked_0  0.666667\n",
       "4ot2_A_rec_4zbr_nps_lig_tt_min_0     0.666667\n",
       "...                                       ...\n",
       "4b84_A_rec_4b84_z5k_lig_tt_min_0     0.600000\n",
       "2re8_A_rec_1o0b_amp_lig_tt_min_0     0.428571\n",
       "2bur_A_rec_1eob_dhb_lig_tt_min_0     0.500000\n",
       "5hx8_A_rec_4ivb_1j5_lig_tt_min_0     0.833333\n",
       "3fzt_A_rec_4h1j_0yh_lig_tt_min_0     0.375000\n",
       "\n",
       "[14798 rows x 1 columns]"
      ]
     },
     "execution_count": 5,
     "metadata": {},
     "output_type": "execute_result"
    }
   ],
   "source": [
    "scores = pd.read_csv(score_file, index_col=0, header=0)\n",
    "scores"
   ]
  },
  {
   "cell_type": "code",
   "execution_count": 6,
   "id": "3c3bf9a6-e52b-42fa-8075-9252db7a49ce",
   "metadata": {
    "scrolled": true
   },
   "outputs": [],
   "source": [
    "score_dict = scores.to_dict()['score']\n",
    "# score_dict"
   ]
  },
  {
   "cell_type": "code",
   "execution_count": 7,
   "id": "4030b0ce-4297-4f4e-bc12-928d1b66b5d6",
   "metadata": {
    "scrolled": true
   },
   "outputs": [],
   "source": [
    "# match_dict"
   ]
  },
  {
   "cell_type": "code",
   "execution_count": 8,
   "id": "f8cfbb5d-8404-44d5-b1c1-8c1738767357",
   "metadata": {
    "scrolled": true
   },
   "outputs": [],
   "source": [
    "all_lig = match_dict.keys()\n",
    "# all_lig"
   ]
  },
  {
   "cell_type": "code",
   "execution_count": 9,
   "id": "caf3cd46-1b20-4717-a4dd-04f3c65e6018",
   "metadata": {},
   "outputs": [
    {
     "data": {
      "text/plain": [
       "14798"
      ]
     },
     "execution_count": 9,
     "metadata": {},
     "output_type": "execute_result"
    }
   ],
   "source": [
    "len(all_lig)"
   ]
  },
  {
   "cell_type": "code",
   "execution_count": 11,
   "id": "8f077082-a6d3-4afb-b5a7-6fd796255bc8",
   "metadata": {},
   "outputs": [
    {
     "name": "stdout",
     "output_type": "stream",
     "text": [
      "2xud_A_rec_4a23_c56_lig_tt_min_0\n",
      "1q84_A_rec_4a23_c56_lig_tt_min_0\n",
      "4b81_B_rec_4a23_c56_lig_tt_docked_6\n",
      "5fum_A_rec_4a23_c56_lig_tt_min_0\n",
      "2ha3_B_rec_4a23_c56_lig_tt_min_0\n",
      "2ha3_B_rec_4a23_c56_lig_tt_docked_7\n",
      "4b7z_A_rec_4a23_c56_lig_tt_min_0\n",
      "2y2u_A_rec_4a23_c56_lig_tt_min_0\n",
      "2jgf_A_rec_4a23_c56_lig_tt_docked_3\n",
      "5ehz_B_rec_4a23_c56_lig_tt_min_0\n",
      "5foq_A_rec_4a23_c56_lig_tt_docked_1\n",
      "4b85_B_rec_4a23_c56_lig_tt_min_0\n",
      "2xuj_B_rec_4a23_c56_lig_tt_docked_3\n",
      "2y2v_A_rec_4a23_c56_lig_tt_min_0\n",
      "3zlu_A_rec_4a23_c56_lig_tt_docked_8\n",
      "4a23_A_rec_4a23_c56_lig_tt_min_0\n",
      "4ara_A_rec_4a23_c56_lig_tt_docked_0\n",
      "2ha6_A_rec_4a23_c56_lig_tt_min_0\n",
      "2jge_A_rec_4a23_c56_lig_tt_min_0\n",
      "2ha4_A_rec_4a23_c56_lig_tt_min_0\n",
      "4b81_B_rec_4a23_c56_lig_tt_min_0\n",
      "5ehq_A_rec_4a23_c56_lig_tt_min_0\n",
      "4ara_A_rec_4a23_c56_lig_tt_min_0\n",
      "4b85_B_rec_4a23_c56_lig_tt_docked_11\n",
      "4arb_B_rec_4a23_c56_lig_tt_min_0\n",
      "2wls_A_rec_4a23_c56_lig_tt_min_0\n",
      "5foq_A_rec_4a23_c56_lig_tt_min_0\n",
      "2gyw_B_rec_4a23_c56_lig_tt_min_0\n",
      "4b84_A_rec_4a23_c56_lig_tt_min_0\n",
      "2ha4_A_rec_4a23_c56_lig_tt_docked_2\n",
      "3dl7_A_rec_4a23_c56_lig_tt_min_0\n",
      "2ha6_A_rec_4a23_c56_lig_tt_docked_1\n",
      "2jgf_A_rec_4a23_c56_lig_tt_min_0\n",
      "1q83_A_rec_4a23_c56_lig_tt_min_0\n",
      "5fkj_D_rec_4a23_c56_lig_tt_min_0\n",
      "2whq_B_rec_4a23_c56_lig_tt_docked_0\n",
      "5fkj_D_rec_4a23_c56_lig_tt_docked_15\n",
      "4b83_A_rec_4a23_c56_lig_tt_min_0\n",
      "2ha5_A_rec_4a23_c56_lig_tt_min_0\n",
      "4btl_A_rec_4a23_c56_lig_tt_min_0\n",
      "2whq_B_rec_4a23_c56_lig_tt_min_0\n",
      "5ehz_B_rec_4a23_c56_lig_tt_docked_2\n",
      "5ehq_A_rec_4a23_c56_lig_tt_docked_0\n",
      "2xuj_B_rec_4a23_c56_lig_tt_min_0\n"
     ]
    }
   ],
   "source": [
    "for lig in all_lig:\n",
    "    if lig[lig.rfind('rec')+4:lig.rfind('lig')-1] == '4a23_c56':\n",
    "        print(lig)"
   ]
  },
  {
   "cell_type": "markdown",
   "id": "50b5faa6-25e3-4ec1-8a12-e2cf7c4acd48",
   "metadata": {},
   "source": [
    "# select by lig"
   ]
  },
  {
   "cell_type": "code",
   "execution_count": 43,
   "id": "3bc986a3-6d1b-44dd-bdf1-7bfbd1966b9c",
   "metadata": {},
   "outputs": [
    {
     "data": {
      "text/plain": [
       "999"
      ]
     },
     "execution_count": 43,
     "metadata": {},
     "output_type": "execute_result"
    }
   ],
   "source": [
    "lig_names = [lig[lig.rfind('rec')+9:lig.rfind('rec')+12] for lig in all_lig]\n",
    "lig_names = set(lig_names)\n",
    "len(lig_names)"
   ]
  },
  {
   "cell_type": "code",
   "execution_count": 44,
   "id": "5505ecf1-94ae-4c69-84d6-6d53f51e39fd",
   "metadata": {
    "scrolled": true
   },
   "outputs": [],
   "source": [
    "# lig_names"
   ]
  },
  {
   "cell_type": "code",
   "execution_count": 45,
   "id": "47d3fbbe-adfe-458f-a78c-7256ea511398",
   "metadata": {},
   "outputs": [
    {
     "name": "stderr",
     "output_type": "stream",
     "text": [
      "100%|████████████████████████████████████████████████████████████████████| 15075/15075 [00:00<00:00, 874707.87it/s]\n"
     ]
    }
   ],
   "source": [
    "lig_dict = defaultdict(lambda : [])\n",
    "for lig in tqdm(all_lig):\n",
    "    lig_name = lig[lig.rfind('rec')+9:lig.rfind('rec')+12]\n",
    "    lig_dict[lig_name].append(lig)"
   ]
  },
  {
   "cell_type": "code",
   "execution_count": 46,
   "id": "98f3ae2e-5769-44c0-981f-5cdd7bc3b485",
   "metadata": {
    "scrolled": true
   },
   "outputs": [],
   "source": [
    "# lig_dict"
   ]
  },
  {
   "cell_type": "code",
   "execution_count": 47,
   "id": "d71ede1a-643f-4102-a994-d209d3a55fd3",
   "metadata": {},
   "outputs": [],
   "source": [
    "rev_lig_dict = {lig:lig_name for lig_name, ligs in lig_dict.items() for lig in ligs }"
   ]
  },
  {
   "cell_type": "code",
   "execution_count": 48,
   "id": "acfb3b69-0546-4b54-8854-0b800df2574b",
   "metadata": {
    "scrolled": true
   },
   "outputs": [],
   "source": [
    "# rev_lig_dict"
   ]
  },
  {
   "cell_type": "code",
   "execution_count": 49,
   "id": "6ce2b185-c274-406a-b12a-817e3b227ee8",
   "metadata": {
    "scrolled": true
   },
   "outputs": [
    {
     "name": "stderr",
     "output_type": "stream",
     "text": [
      "100%|████████████████████████████████████████████████████████████████████| 15075/15075 [00:00<00:00, 966422.11it/s]\n"
     ]
    }
   ],
   "source": [
    "scores_by_lig = defaultdict(lambda : [])\n",
    "for lig, score in tqdm(score_dict.items()):\n",
    "    lig_name = rev_lig_dict[lig]\n",
    "    scores_by_lig[lig_name].append(score)\n",
    "\n",
    "# scores_by_lig"
   ]
  },
  {
   "cell_type": "code",
   "execution_count": 50,
   "id": "2391a62d-cebf-4676-a3cb-2ec1e17ee487",
   "metadata": {},
   "outputs": [
    {
     "name": "stderr",
     "output_type": "stream",
     "text": [
      "100%|█████████████████████████████████████████████████████████████████████████| 999/999 [00:00<00:00, 77219.96it/s]\n"
     ]
    }
   ],
   "source": [
    "avg_score = {}\n",
    "n_lig = {}\n",
    "for lig, scores in tqdm(scores_by_lig.items()):\n",
    "    avg_score[lig] = np.mean(scores)\n",
    "    n_lig[lig] = len(scores)"
   ]
  },
  {
   "cell_type": "code",
   "execution_count": 51,
   "id": "4f8c0a47-27a3-4060-9090-84b7d3cdd12f",
   "metadata": {},
   "outputs": [
    {
     "data": {
      "text/html": [
       "<div>\n",
       "<style scoped>\n",
       "    .dataframe tbody tr th:only-of-type {\n",
       "        vertical-align: middle;\n",
       "    }\n",
       "\n",
       "    .dataframe tbody tr th {\n",
       "        vertical-align: top;\n",
       "    }\n",
       "\n",
       "    .dataframe thead th {\n",
       "        text-align: right;\n",
       "    }\n",
       "</style>\n",
       "<table border=\"1\" class=\"dataframe\">\n",
       "  <thead>\n",
       "    <tr style=\"text-align: right;\">\n",
       "      <th></th>\n",
       "      <th>score</th>\n",
       "      <th>num sample</th>\n",
       "    </tr>\n",
       "  </thead>\n",
       "  <tbody>\n",
       "    <tr>\n",
       "      <th>a75</th>\n",
       "      <td>0.600000</td>\n",
       "      <td>8</td>\n",
       "    </tr>\n",
       "    <tr>\n",
       "      <th>4mp</th>\n",
       "      <td>0.333333</td>\n",
       "      <td>3</td>\n",
       "    </tr>\n",
       "    <tr>\n",
       "      <th>afq</th>\n",
       "      <td>0.666113</td>\n",
       "      <td>43</td>\n",
       "    </tr>\n",
       "    <tr>\n",
       "      <th>krw</th>\n",
       "      <td>0.550388</td>\n",
       "      <td>43</td>\n",
       "    </tr>\n",
       "    <tr>\n",
       "      <th>nps</th>\n",
       "      <td>0.716049</td>\n",
       "      <td>9</td>\n",
       "    </tr>\n",
       "    <tr>\n",
       "      <th>...</th>\n",
       "      <td>...</td>\n",
       "      <td>...</td>\n",
       "    </tr>\n",
       "    <tr>\n",
       "      <th>ce1</th>\n",
       "      <td>0.263158</td>\n",
       "      <td>1</td>\n",
       "    </tr>\n",
       "    <tr>\n",
       "      <th>cze</th>\n",
       "      <td>0.142857</td>\n",
       "      <td>1</td>\n",
       "    </tr>\n",
       "    <tr>\n",
       "      <th>8qp</th>\n",
       "      <td>0.545455</td>\n",
       "      <td>1</td>\n",
       "    </tr>\n",
       "    <tr>\n",
       "      <th>dwf</th>\n",
       "      <td>0.071429</td>\n",
       "      <td>1</td>\n",
       "    </tr>\n",
       "    <tr>\n",
       "      <th>4x8</th>\n",
       "      <td>0.285714</td>\n",
       "      <td>1</td>\n",
       "    </tr>\n",
       "  </tbody>\n",
       "</table>\n",
       "<p>999 rows × 2 columns</p>\n",
       "</div>"
      ],
      "text/plain": [
       "        score  num sample\n",
       "a75  0.600000           8\n",
       "4mp  0.333333           3\n",
       "afq  0.666113          43\n",
       "krw  0.550388          43\n",
       "nps  0.716049           9\n",
       "..        ...         ...\n",
       "ce1  0.263158           1\n",
       "cze  0.142857           1\n",
       "8qp  0.545455           1\n",
       "dwf  0.071429           1\n",
       "4x8  0.285714           1\n",
       "\n",
       "[999 rows x 2 columns]"
      ]
     },
     "execution_count": 51,
     "metadata": {},
     "output_type": "execute_result"
    }
   ],
   "source": [
    "avg_score_df = pd.DataFrame.from_dict({'score':avg_score, 'num sample':n_lig}, orient='columns')\n",
    "avg_score_df"
   ]
  },
  {
   "cell_type": "code",
   "execution_count": 52,
   "id": "37a4a5e8-1f54-408d-999a-69ecead17e6c",
   "metadata": {},
   "outputs": [],
   "source": [
    "avg_score_df.sort_values('score', ascending=False, inplace=True)"
   ]
  },
  {
   "cell_type": "code",
   "execution_count": 53,
   "id": "e384b5d4-4832-4610-b8a2-d6f7ab3cda3b",
   "metadata": {},
   "outputs": [],
   "source": [
    "avg_score_df.to_csv(os.path.join(root_path, fn+'_avg_score_by_lig.csv'))"
   ]
  },
  {
   "cell_type": "code",
   "execution_count": 54,
   "id": "09977674-6b19-40f6-8e15-ba2654fc6fe6",
   "metadata": {},
   "outputs": [
    {
     "data": {
      "text/html": [
       "<div>\n",
       "<style scoped>\n",
       "    .dataframe tbody tr th:only-of-type {\n",
       "        vertical-align: middle;\n",
       "    }\n",
       "\n",
       "    .dataframe tbody tr th {\n",
       "        vertical-align: top;\n",
       "    }\n",
       "\n",
       "    .dataframe thead th {\n",
       "        text-align: right;\n",
       "    }\n",
       "</style>\n",
       "<table border=\"1\" class=\"dataframe\">\n",
       "  <thead>\n",
       "    <tr style=\"text-align: right;\">\n",
       "      <th></th>\n",
       "      <th>score</th>\n",
       "      <th>num sample</th>\n",
       "    </tr>\n",
       "  </thead>\n",
       "  <tbody>\n",
       "    <tr>\n",
       "      <th>hex</th>\n",
       "      <td>1.00000</td>\n",
       "      <td>3</td>\n",
       "    </tr>\n",
       "    <tr>\n",
       "      <th>d12</th>\n",
       "      <td>1.00000</td>\n",
       "      <td>1</td>\n",
       "    </tr>\n",
       "    <tr>\n",
       "      <th>d10</th>\n",
       "      <td>1.00000</td>\n",
       "      <td>16</td>\n",
       "    </tr>\n",
       "    <tr>\n",
       "      <th>dcd</th>\n",
       "      <td>1.00000</td>\n",
       "      <td>7</td>\n",
       "    </tr>\n",
       "    <tr>\n",
       "      <th>d2v</th>\n",
       "      <td>0.94898</td>\n",
       "      <td>7</td>\n",
       "    </tr>\n",
       "    <tr>\n",
       "      <th>...</th>\n",
       "      <td>...</td>\n",
       "      <td>...</td>\n",
       "    </tr>\n",
       "    <tr>\n",
       "      <th>pga</th>\n",
       "      <td>0.00000</td>\n",
       "      <td>5</td>\n",
       "    </tr>\n",
       "    <tr>\n",
       "      <th>gmn</th>\n",
       "      <td>0.00000</td>\n",
       "      <td>3</td>\n",
       "    </tr>\n",
       "    <tr>\n",
       "      <th>dg2</th>\n",
       "      <td>0.00000</td>\n",
       "      <td>1</td>\n",
       "    </tr>\n",
       "    <tr>\n",
       "      <th>cff</th>\n",
       "      <td>0.00000</td>\n",
       "      <td>1</td>\n",
       "    </tr>\n",
       "    <tr>\n",
       "      <th>p99</th>\n",
       "      <td>0.00000</td>\n",
       "      <td>2</td>\n",
       "    </tr>\n",
       "  </tbody>\n",
       "</table>\n",
       "<p>999 rows × 2 columns</p>\n",
       "</div>"
      ],
      "text/plain": [
       "       score  num sample\n",
       "hex  1.00000           3\n",
       "d12  1.00000           1\n",
       "d10  1.00000          16\n",
       "dcd  1.00000           7\n",
       "d2v  0.94898           7\n",
       "..       ...         ...\n",
       "pga  0.00000           5\n",
       "gmn  0.00000           3\n",
       "dg2  0.00000           1\n",
       "cff  0.00000           1\n",
       "p99  0.00000           2\n",
       "\n",
       "[999 rows x 2 columns]"
      ]
     },
     "execution_count": 54,
     "metadata": {},
     "output_type": "execute_result"
    }
   ],
   "source": [
    "avg_score_df = pd.read_csv(os.path.join(root_path, fn+'_avg_score_by_lig.csv'), index_col=0, header=0)\n",
    "avg_score_df"
   ]
  },
  {
   "cell_type": "code",
   "execution_count": 55,
   "id": "87904379-668e-4568-81f8-c9f90942cf82",
   "metadata": {},
   "outputs": [
    {
     "data": {
      "text/html": [
       "<div>\n",
       "<style scoped>\n",
       "    .dataframe tbody tr th:only-of-type {\n",
       "        vertical-align: middle;\n",
       "    }\n",
       "\n",
       "    .dataframe tbody tr th {\n",
       "        vertical-align: top;\n",
       "    }\n",
       "\n",
       "    .dataframe thead th {\n",
       "        text-align: right;\n",
       "    }\n",
       "</style>\n",
       "<table border=\"1\" class=\"dataframe\">\n",
       "  <thead>\n",
       "    <tr style=\"text-align: right;\">\n",
       "      <th></th>\n",
       "      <th>score</th>\n",
       "      <th>num sample</th>\n",
       "    </tr>\n",
       "  </thead>\n",
       "  <tbody>\n",
       "    <tr>\n",
       "      <th>d10</th>\n",
       "      <td>1.000000</td>\n",
       "      <td>16</td>\n",
       "    </tr>\n",
       "    <tr>\n",
       "      <th>r18</th>\n",
       "      <td>0.935673</td>\n",
       "      <td>18</td>\n",
       "    </tr>\n",
       "    <tr>\n",
       "      <th>3sw</th>\n",
       "      <td>0.921875</td>\n",
       "      <td>40</td>\n",
       "    </tr>\n",
       "    <tr>\n",
       "      <th>nog</th>\n",
       "      <td>0.891626</td>\n",
       "      <td>29</td>\n",
       "    </tr>\n",
       "    <tr>\n",
       "      <th>x13</th>\n",
       "      <td>0.886905</td>\n",
       "      <td>14</td>\n",
       "    </tr>\n",
       "    <tr>\n",
       "      <th>...</th>\n",
       "      <td>...</td>\n",
       "      <td>...</td>\n",
       "    </tr>\n",
       "    <tr>\n",
       "      <th>jak</th>\n",
       "      <td>0.500000</td>\n",
       "      <td>34</td>\n",
       "    </tr>\n",
       "    <tr>\n",
       "      <th>18n</th>\n",
       "      <td>0.500000</td>\n",
       "      <td>18</td>\n",
       "    </tr>\n",
       "    <tr>\n",
       "      <th>sjz</th>\n",
       "      <td>0.500000</td>\n",
       "      <td>22</td>\n",
       "    </tr>\n",
       "    <tr>\n",
       "      <th>6xb</th>\n",
       "      <td>0.500000</td>\n",
       "      <td>48</td>\n",
       "    </tr>\n",
       "    <tr>\n",
       "      <th>bty</th>\n",
       "      <td>0.500000</td>\n",
       "      <td>17</td>\n",
       "    </tr>\n",
       "  </tbody>\n",
       "</table>\n",
       "<p>163 rows × 2 columns</p>\n",
       "</div>"
      ],
      "text/plain": [
       "        score  num sample\n",
       "d10  1.000000          16\n",
       "r18  0.935673          18\n",
       "3sw  0.921875          40\n",
       "nog  0.891626          29\n",
       "x13  0.886905          14\n",
       "..        ...         ...\n",
       "jak  0.500000          34\n",
       "18n  0.500000          18\n",
       "sjz  0.500000          22\n",
       "6xb  0.500000          48\n",
       "bty  0.500000          17\n",
       "\n",
       "[163 rows x 2 columns]"
      ]
     },
     "execution_count": 55,
     "metadata": {},
     "output_type": "execute_result"
    }
   ],
   "source": [
    "filtered = avg_score_df[(avg_score_df['score'] >= 0.5) &\n",
    "                        (avg_score_df['num sample'] >= 10)]\n",
    "filtered"
   ]
  },
  {
   "cell_type": "markdown",
   "id": "5f4e8a46-4011-4127-8119-71bd9744b33a",
   "metadata": {},
   "source": [
    "# select by rec"
   ]
  },
  {
   "cell_type": "code",
   "execution_count": 49,
   "id": "5f7cfb59-a65d-4550-a889-6b8205257f6e",
   "metadata": {},
   "outputs": [
    {
     "data": {
      "text/plain": [
       "1163"
      ]
     },
     "execution_count": 49,
     "metadata": {},
     "output_type": "execute_result"
    }
   ],
   "source": [
    "# rec_names = [lig[0:6] for lig in all_lig]\n",
    "rec_names = [fn[fn.rfind('rec')+4:fn.rfind('lig')-1] for fn in all_lig]\n",
    "rec_names = set(rec_names)\n",
    "len(rec_names)"
   ]
  },
  {
   "cell_type": "code",
   "execution_count": 50,
   "id": "1e5627d2-b783-4c84-96e8-6bdd215dbf4e",
   "metadata": {},
   "outputs": [
    {
     "name": "stderr",
     "output_type": "stream",
     "text": [
      "100%|███████████████████████████████████████████████████████████████████| 14798/14798 [00:00<00:00, 1643514.12it/s]\n"
     ]
    }
   ],
   "source": [
    "rec_dict = defaultdict(lambda : [])\n",
    "for lig in tqdm(all_lig):\n",
    "    # rec_name = lig[0:6]\n",
    "    rec_name = lig[lig.rfind('rec')+4:lig.rfind('lig')-1]\n",
    "    rec_dict[rec_name].append(lig)"
   ]
  },
  {
   "cell_type": "code",
   "execution_count": 51,
   "id": "a5144f2d-5e69-495b-8a85-aeb3720d7c1f",
   "metadata": {},
   "outputs": [],
   "source": [
    "rev_rec_dict = {lig:rec_name for rec_name, ligs in rec_dict.items() for lig in ligs }"
   ]
  },
  {
   "cell_type": "code",
   "execution_count": 52,
   "id": "d3b7de59-a2b0-40c3-b590-f5dba0469643",
   "metadata": {},
   "outputs": [
    {
     "name": "stderr",
     "output_type": "stream",
     "text": [
      "100%|███████████████████████████████████████████████████████████████████| 14798/14798 [00:00<00:00, 2058753.83it/s]\n"
     ]
    }
   ],
   "source": [
    "scores_by_rec = defaultdict(lambda : [])\n",
    "for lig, score in tqdm(score_dict.items()):\n",
    "    rec_name = rev_rec_dict[lig]\n",
    "    scores_by_rec[rec_name].append(score)"
   ]
  },
  {
   "cell_type": "code",
   "execution_count": 53,
   "id": "7ab0f262-c8db-4132-b691-638be2613e59",
   "metadata": {},
   "outputs": [
    {
     "name": "stderr",
     "output_type": "stream",
     "text": [
      "100%|██████████████████████████████████████████████████████████████████████| 1163/1163 [00:00<00:00, 161935.25it/s]\n"
     ]
    }
   ],
   "source": [
    "avg_score_rec = {}\n",
    "n_rec = {}\n",
    "for rec, scores in tqdm(scores_by_rec.items()):\n",
    "    avg_score_rec[rec] = np.mean(scores)\n",
    "    n_rec[rec] = len(scores)"
   ]
  },
  {
   "cell_type": "code",
   "execution_count": 54,
   "id": "fc1cc790-1925-47bc-8874-c08f5706eb35",
   "metadata": {},
   "outputs": [
    {
     "data": {
      "text/html": [
       "<div>\n",
       "<style scoped>\n",
       "    .dataframe tbody tr th:only-of-type {\n",
       "        vertical-align: middle;\n",
       "    }\n",
       "\n",
       "    .dataframe tbody tr th {\n",
       "        vertical-align: top;\n",
       "    }\n",
       "\n",
       "    .dataframe thead th {\n",
       "        text-align: right;\n",
       "    }\n",
       "</style>\n",
       "<table border=\"1\" class=\"dataframe\">\n",
       "  <thead>\n",
       "    <tr style=\"text-align: right;\">\n",
       "      <th></th>\n",
       "      <th>score</th>\n",
       "      <th>num sample</th>\n",
       "    </tr>\n",
       "  </thead>\n",
       "  <tbody>\n",
       "    <tr>\n",
       "      <th>1yw8_a75</th>\n",
       "      <td>0.125000</td>\n",
       "      <td>8</td>\n",
       "    </tr>\n",
       "    <tr>\n",
       "      <th>3lsw_4mp</th>\n",
       "      <td>0.666667</td>\n",
       "      <td>3</td>\n",
       "    </tr>\n",
       "    <tr>\n",
       "      <th>5i00_afq</th>\n",
       "      <td>0.652824</td>\n",
       "      <td>43</td>\n",
       "    </tr>\n",
       "    <tr>\n",
       "      <th>3zxz_krw</th>\n",
       "      <td>0.416021</td>\n",
       "      <td>43</td>\n",
       "    </tr>\n",
       "    <tr>\n",
       "      <th>4zbr_nps</th>\n",
       "      <td>0.740741</td>\n",
       "      <td>6</td>\n",
       "    </tr>\n",
       "    <tr>\n",
       "      <th>...</th>\n",
       "      <td>...</td>\n",
       "      <td>...</td>\n",
       "    </tr>\n",
       "    <tr>\n",
       "      <th>5dqf_cze</th>\n",
       "      <td>0.142857</td>\n",
       "      <td>1</td>\n",
       "    </tr>\n",
       "    <tr>\n",
       "      <th>5v0v_8qp</th>\n",
       "      <td>0.545455</td>\n",
       "      <td>1</td>\n",
       "    </tr>\n",
       "    <tr>\n",
       "      <th>4mxc_dwf</th>\n",
       "      <td>0.142857</td>\n",
       "      <td>1</td>\n",
       "    </tr>\n",
       "    <tr>\n",
       "      <th>5fmq_mgt</th>\n",
       "      <td>0.200000</td>\n",
       "      <td>1</td>\n",
       "    </tr>\n",
       "    <tr>\n",
       "      <th>5bzm_4x8</th>\n",
       "      <td>0.428571</td>\n",
       "      <td>1</td>\n",
       "    </tr>\n",
       "  </tbody>\n",
       "</table>\n",
       "<p>1163 rows × 2 columns</p>\n",
       "</div>"
      ],
      "text/plain": [
       "             score  num sample\n",
       "1yw8_a75  0.125000           8\n",
       "3lsw_4mp  0.666667           3\n",
       "5i00_afq  0.652824          43\n",
       "3zxz_krw  0.416021          43\n",
       "4zbr_nps  0.740741           6\n",
       "...            ...         ...\n",
       "5dqf_cze  0.142857           1\n",
       "5v0v_8qp  0.545455           1\n",
       "4mxc_dwf  0.142857           1\n",
       "5fmq_mgt  0.200000           1\n",
       "5bzm_4x8  0.428571           1\n",
       "\n",
       "[1163 rows x 2 columns]"
      ]
     },
     "execution_count": 54,
     "metadata": {},
     "output_type": "execute_result"
    }
   ],
   "source": [
    "avg_score_rec_df = pd.DataFrame.from_dict({'score':avg_score_rec, 'num sample':n_rec}, orient='columns')\n",
    "avg_score_rec_df"
   ]
  },
  {
   "cell_type": "code",
   "execution_count": 55,
   "id": "d606ee63-45fe-4e22-9fdd-8e40e6baf14a",
   "metadata": {},
   "outputs": [
    {
     "data": {
      "text/html": [
       "<div>\n",
       "<style scoped>\n",
       "    .dataframe tbody tr th:only-of-type {\n",
       "        vertical-align: middle;\n",
       "    }\n",
       "\n",
       "    .dataframe tbody tr th {\n",
       "        vertical-align: top;\n",
       "    }\n",
       "\n",
       "    .dataframe thead th {\n",
       "        text-align: right;\n",
       "    }\n",
       "</style>\n",
       "<table border=\"1\" class=\"dataframe\">\n",
       "  <thead>\n",
       "    <tr style=\"text-align: right;\">\n",
       "      <th></th>\n",
       "      <th>score</th>\n",
       "      <th>num sample</th>\n",
       "    </tr>\n",
       "  </thead>\n",
       "  <tbody>\n",
       "    <tr>\n",
       "      <th>4xhb_17y</th>\n",
       "      <td>1.0</td>\n",
       "      <td>6</td>\n",
       "    </tr>\n",
       "    <tr>\n",
       "      <th>2evs_hex</th>\n",
       "      <td>1.0</td>\n",
       "      <td>1</td>\n",
       "    </tr>\n",
       "    <tr>\n",
       "      <th>3nkm_nkp</th>\n",
       "      <td>1.0</td>\n",
       "      <td>1</td>\n",
       "    </tr>\n",
       "    <tr>\n",
       "      <th>1sv2_dtt</th>\n",
       "      <td>1.0</td>\n",
       "      <td>1</td>\n",
       "    </tr>\n",
       "    <tr>\n",
       "      <th>3zlv_hi6</th>\n",
       "      <td>1.0</td>\n",
       "      <td>15</td>\n",
       "    </tr>\n",
       "    <tr>\n",
       "      <th>...</th>\n",
       "      <td>...</td>\n",
       "      <td>...</td>\n",
       "    </tr>\n",
       "    <tr>\n",
       "      <th>3tgw_aes</th>\n",
       "      <td>0.0</td>\n",
       "      <td>1</td>\n",
       "    </tr>\n",
       "    <tr>\n",
       "      <th>3qs8_17d</th>\n",
       "      <td>0.0</td>\n",
       "      <td>8</td>\n",
       "    </tr>\n",
       "    <tr>\n",
       "      <th>4hnc_0ut</th>\n",
       "      <td>0.0</td>\n",
       "      <td>1</td>\n",
       "    </tr>\n",
       "    <tr>\n",
       "      <th>4azm_t4b</th>\n",
       "      <td>0.0</td>\n",
       "      <td>1</td>\n",
       "    </tr>\n",
       "    <tr>\n",
       "      <th>5sw3_46l</th>\n",
       "      <td>0.0</td>\n",
       "      <td>72</td>\n",
       "    </tr>\n",
       "  </tbody>\n",
       "</table>\n",
       "<p>1163 rows × 2 columns</p>\n",
       "</div>"
      ],
      "text/plain": [
       "          score  num sample\n",
       "4xhb_17y    1.0           6\n",
       "2evs_hex    1.0           1\n",
       "3nkm_nkp    1.0           1\n",
       "1sv2_dtt    1.0           1\n",
       "3zlv_hi6    1.0          15\n",
       "...         ...         ...\n",
       "3tgw_aes    0.0           1\n",
       "3qs8_17d    0.0           8\n",
       "4hnc_0ut    0.0           1\n",
       "4azm_t4b    0.0           1\n",
       "5sw3_46l    0.0          72\n",
       "\n",
       "[1163 rows x 2 columns]"
      ]
     },
     "execution_count": 55,
     "metadata": {},
     "output_type": "execute_result"
    }
   ],
   "source": [
    "avg_score_rec_df.sort_values('score', ascending=False, inplace=True)\n",
    "avg_score_rec_df.to_csv(os.path.join(root_path, fn+'_avg_score_by_rec.csv'))\n",
    "avg_score_rec_df"
   ]
  },
  {
   "cell_type": "code",
   "execution_count": 56,
   "id": "bc42376e-1a03-4bd9-9c2e-da73f8c7b71f",
   "metadata": {
    "scrolled": true
   },
   "outputs": [
    {
     "data": {
      "text/html": [
       "<div>\n",
       "<style scoped>\n",
       "    .dataframe tbody tr th:only-of-type {\n",
       "        vertical-align: middle;\n",
       "    }\n",
       "\n",
       "    .dataframe tbody tr th {\n",
       "        vertical-align: top;\n",
       "    }\n",
       "\n",
       "    .dataframe thead th {\n",
       "        text-align: right;\n",
       "    }\n",
       "</style>\n",
       "<table border=\"1\" class=\"dataframe\">\n",
       "  <thead>\n",
       "    <tr style=\"text-align: right;\">\n",
       "      <th></th>\n",
       "      <th>score</th>\n",
       "      <th>num sample</th>\n",
       "    </tr>\n",
       "  </thead>\n",
       "  <tbody>\n",
       "    <tr>\n",
       "      <th>3zlv_hi6</th>\n",
       "      <td>1.000000</td>\n",
       "      <td>15</td>\n",
       "    </tr>\n",
       "    <tr>\n",
       "      <th>3p1d_mb3</th>\n",
       "      <td>1.000000</td>\n",
       "      <td>60</td>\n",
       "    </tr>\n",
       "    <tr>\n",
       "      <th>1gu1_fa1</th>\n",
       "      <td>0.961039</td>\n",
       "      <td>11</td>\n",
       "    </tr>\n",
       "    <tr>\n",
       "      <th>1j06_ae3</th>\n",
       "      <td>0.958333</td>\n",
       "      <td>24</td>\n",
       "    </tr>\n",
       "    <tr>\n",
       "      <th>5khx_6te</th>\n",
       "      <td>0.900000</td>\n",
       "      <td>11</td>\n",
       "    </tr>\n",
       "    <tr>\n",
       "      <th>...</th>\n",
       "      <td>...</td>\n",
       "      <td>...</td>\n",
       "    </tr>\n",
       "    <tr>\n",
       "      <th>1q4w_dqu</th>\n",
       "      <td>0.502778</td>\n",
       "      <td>90</td>\n",
       "    </tr>\n",
       "    <tr>\n",
       "      <th>5fe2_5wv</th>\n",
       "      <td>0.500000</td>\n",
       "      <td>18</td>\n",
       "    </tr>\n",
       "    <tr>\n",
       "      <th>5tc7_mth</th>\n",
       "      <td>0.500000</td>\n",
       "      <td>11</td>\n",
       "    </tr>\n",
       "    <tr>\n",
       "      <th>3g8o_30x</th>\n",
       "      <td>0.500000</td>\n",
       "      <td>11</td>\n",
       "    </tr>\n",
       "    <tr>\n",
       "      <th>5ktu_6xb</th>\n",
       "      <td>0.500000</td>\n",
       "      <td>48</td>\n",
       "    </tr>\n",
       "  </tbody>\n",
       "</table>\n",
       "<p>171 rows × 2 columns</p>\n",
       "</div>"
      ],
      "text/plain": [
       "             score  num sample\n",
       "3zlv_hi6  1.000000          15\n",
       "3p1d_mb3  1.000000          60\n",
       "1gu1_fa1  0.961039          11\n",
       "1j06_ae3  0.958333          24\n",
       "5khx_6te  0.900000          11\n",
       "...            ...         ...\n",
       "1q4w_dqu  0.502778          90\n",
       "5fe2_5wv  0.500000          18\n",
       "5tc7_mth  0.500000          11\n",
       "3g8o_30x  0.500000          11\n",
       "5ktu_6xb  0.500000          48\n",
       "\n",
       "[171 rows x 2 columns]"
      ]
     },
     "execution_count": 56,
     "metadata": {},
     "output_type": "execute_result"
    }
   ],
   "source": [
    "filtered_rec = avg_score_rec_df[(avg_score_rec_df['score'] >= 0.5) &\n",
    "                                (avg_score_rec_df['num sample'] >= 10)]\n",
    "filtered_rec"
   ]
  },
  {
   "cell_type": "code",
   "execution_count": 57,
   "id": "63bd1729-c6f5-4ede-8458-c08eb17c08b2",
   "metadata": {},
   "outputs": [
    {
     "data": {
      "text/plain": [
       "171"
      ]
     },
     "execution_count": 57,
     "metadata": {},
     "output_type": "execute_result"
    }
   ],
   "source": [
    "len(filtered_rec)"
   ]
  },
  {
   "cell_type": "code",
   "execution_count": null,
   "id": "90c6f2da-dbcb-4104-8fd9-8e3746b2822f",
   "metadata": {},
   "outputs": [],
   "source": []
  }
 ],
 "metadata": {
  "kernelspec": {
   "display_name": "pp2drug",
   "language": "python",
   "name": "pp2drug"
  },
  "language_info": {
   "codemirror_mode": {
    "name": "ipython",
    "version": 3
   },
   "file_extension": ".py",
   "mimetype": "text/x-python",
   "name": "python",
   "nbconvert_exporter": "python",
   "pygments_lexer": "ipython3",
   "version": "3.10.14"
  }
 },
 "nbformat": 4,
 "nbformat_minor": 5
}
