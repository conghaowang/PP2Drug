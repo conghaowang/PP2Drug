{
 "cells": [
  {
   "cell_type": "code",
   "execution_count": 1,
   "id": "d9608f7b-ae94-4935-9609-878942f13faa",
   "metadata": {},
   "outputs": [],
   "source": [
    "import pickle\n",
    "import pandas as pd\n",
    "import numpy as np\n",
    "from tqdm import tqdm\n",
    "import os\n",
    "from collections import defaultdict"
   ]
  },
  {
   "cell_type": "code",
   "execution_count": 61,
   "id": "b6bfe676-ae45-4a03-9cd8-e51c59e26d69",
   "metadata": {},
   "outputs": [],
   "source": [
    "# root_path = '../lightning_logs/vp_bridge_egnn_CombinedSparseGraphDataset_2024-08-19_21_05_04.140916'\n",
    "# root_path = '../lightning_logs/vp_bridge_egnn_CombinedSparseGraphDataset_2024-08-19_21_05_04.140916/ligand_based'\n",
    "# root_path = '../lightning_logs/vp_bridge_egnn_CombinedSparseGraphDataset_2024-08-19_13_30_50.133260'\n",
    "root_path = '../lightning_logs/vp_bridge_egnn_CombinedSparseGraphDataset_2024-08-19_13_30_50.133260/ligand_based'"
   ]
  },
  {
   "cell_type": "code",
   "execution_count": 62,
   "id": "74c46734-4d12-46b1-8950-01dd9c6112be",
   "metadata": {},
   "outputs": [
    {
     "data": {
      "text/plain": [
       "'../lightning_logs/vp_bridge_egnn_CombinedSparseGraphDataset_2024-08-19_13_30_50.133260/ligand_based/reconstructed_mols_matches.pkl'"
      ]
     },
     "execution_count": 62,
     "metadata": {},
     "output_type": "execute_result"
    }
   ],
   "source": [
    "aromatic = False\n",
    "optimization = False\n",
    "fn = 'reconstructed_mols' + '_aromatic_mode' if aromatic else 'reconstructed_mols'\n",
    "match_fn = fn + '_matches.pkl'\n",
    "score_fn = fn + '_scores.csv'\n",
    "match_file = os.path.join(root_path, match_fn)\n",
    "score_file = os.path.join(root_path, score_fn)\n",
    "match_file"
   ]
  },
  {
   "cell_type": "code",
   "execution_count": 63,
   "id": "056db690-950f-4b10-b437-01c7802377d0",
   "metadata": {},
   "outputs": [],
   "source": [
    "with open(match_file, 'rb') as f:\n",
    "    match_dict = pickle.load(f)"
   ]
  },
  {
   "cell_type": "code",
   "execution_count": 64,
   "id": "3c00f58c-f8c8-47c9-9288-089cbc4af3ac",
   "metadata": {},
   "outputs": [
    {
     "data": {
      "text/html": [
       "<div>\n",
       "<style scoped>\n",
       "    .dataframe tbody tr th:only-of-type {\n",
       "        vertical-align: middle;\n",
       "    }\n",
       "\n",
       "    .dataframe tbody tr th {\n",
       "        vertical-align: top;\n",
       "    }\n",
       "\n",
       "    .dataframe thead th {\n",
       "        text-align: right;\n",
       "    }\n",
       "</style>\n",
       "<table border=\"1\" class=\"dataframe\">\n",
       "  <thead>\n",
       "    <tr style=\"text-align: right;\">\n",
       "      <th></th>\n",
       "      <th>score</th>\n",
       "    </tr>\n",
       "  </thead>\n",
       "  <tbody>\n",
       "    <tr>\n",
       "      <th>1yw8_A_rec_1yw8_a75_lig_tt_docked_2</th>\n",
       "      <td>0.600000</td>\n",
       "    </tr>\n",
       "    <tr>\n",
       "      <th>4f31_B_rec_3lsw_4mp_lig_tt_min_0</th>\n",
       "      <td>0.333333</td>\n",
       "    </tr>\n",
       "    <tr>\n",
       "      <th>5i00_A_rec_5i00_afq_lig_tt_min_0</th>\n",
       "      <td>0.642857</td>\n",
       "    </tr>\n",
       "    <tr>\n",
       "      <th>5eob_A_rec_3zxz_krw_lig_tt_docked_0</th>\n",
       "      <td>0.555556</td>\n",
       "    </tr>\n",
       "    <tr>\n",
       "      <th>4ot2_A_rec_4zbr_nps_lig_tt_min_0</th>\n",
       "      <td>0.777778</td>\n",
       "    </tr>\n",
       "    <tr>\n",
       "      <th>...</th>\n",
       "      <td>...</td>\n",
       "    </tr>\n",
       "    <tr>\n",
       "      <th>4b84_A_rec_4b84_z5k_lig_tt_min_0</th>\n",
       "      <td>0.300000</td>\n",
       "    </tr>\n",
       "    <tr>\n",
       "      <th>2re8_A_rec_1o0b_amp_lig_tt_min_0</th>\n",
       "      <td>0.571429</td>\n",
       "    </tr>\n",
       "    <tr>\n",
       "      <th>2bur_A_rec_1eob_dhb_lig_tt_min_0</th>\n",
       "      <td>0.500000</td>\n",
       "    </tr>\n",
       "    <tr>\n",
       "      <th>5hx8_A_rec_4ivb_1j5_lig_tt_min_0</th>\n",
       "      <td>0.833333</td>\n",
       "    </tr>\n",
       "    <tr>\n",
       "      <th>3fzt_A_rec_4h1j_0yh_lig_tt_min_0</th>\n",
       "      <td>0.437500</td>\n",
       "    </tr>\n",
       "  </tbody>\n",
       "</table>\n",
       "<p>15075 rows × 1 columns</p>\n",
       "</div>"
      ],
      "text/plain": [
       "                                        score\n",
       "1yw8_A_rec_1yw8_a75_lig_tt_docked_2  0.600000\n",
       "4f31_B_rec_3lsw_4mp_lig_tt_min_0     0.333333\n",
       "5i00_A_rec_5i00_afq_lig_tt_min_0     0.642857\n",
       "5eob_A_rec_3zxz_krw_lig_tt_docked_0  0.555556\n",
       "4ot2_A_rec_4zbr_nps_lig_tt_min_0     0.777778\n",
       "...                                       ...\n",
       "4b84_A_rec_4b84_z5k_lig_tt_min_0     0.300000\n",
       "2re8_A_rec_1o0b_amp_lig_tt_min_0     0.571429\n",
       "2bur_A_rec_1eob_dhb_lig_tt_min_0     0.500000\n",
       "5hx8_A_rec_4ivb_1j5_lig_tt_min_0     0.833333\n",
       "3fzt_A_rec_4h1j_0yh_lig_tt_min_0     0.437500\n",
       "\n",
       "[15075 rows x 1 columns]"
      ]
     },
     "execution_count": 64,
     "metadata": {},
     "output_type": "execute_result"
    }
   ],
   "source": [
    "scores = pd.read_csv(score_file, index_col=0, header=0)\n",
    "scores"
   ]
  },
  {
   "cell_type": "code",
   "execution_count": 65,
   "id": "3c3bf9a6-e52b-42fa-8075-9252db7a49ce",
   "metadata": {
    "scrolled": true
   },
   "outputs": [],
   "source": [
    "score_dict = scores.to_dict()['score']\n",
    "# score_dict"
   ]
  },
  {
   "cell_type": "code",
   "execution_count": 66,
   "id": "4030b0ce-4297-4f4e-bc12-928d1b66b5d6",
   "metadata": {
    "scrolled": true
   },
   "outputs": [],
   "source": [
    "# match_dict"
   ]
  },
  {
   "cell_type": "markdown",
   "id": "50b5faa6-25e3-4ec1-8a12-e2cf7c4acd48",
   "metadata": {},
   "source": [
    "# select by lig"
   ]
  },
  {
   "cell_type": "code",
   "execution_count": 67,
   "id": "f8cfbb5d-8404-44d5-b1c1-8c1738767357",
   "metadata": {
    "scrolled": true
   },
   "outputs": [],
   "source": [
    "all_lig = match_dict.keys()\n",
    "# all_lig"
   ]
  },
  {
   "cell_type": "code",
   "execution_count": 68,
   "id": "caf3cd46-1b20-4717-a4dd-04f3c65e6018",
   "metadata": {},
   "outputs": [
    {
     "data": {
      "text/plain": [
       "15075"
      ]
     },
     "execution_count": 68,
     "metadata": {},
     "output_type": "execute_result"
    }
   ],
   "source": [
    "len(all_lig)"
   ]
  },
  {
   "cell_type": "code",
   "execution_count": 69,
   "id": "3bc986a3-6d1b-44dd-bdf1-7bfbd1966b9c",
   "metadata": {},
   "outputs": [
    {
     "data": {
      "text/plain": [
       "999"
      ]
     },
     "execution_count": 69,
     "metadata": {},
     "output_type": "execute_result"
    }
   ],
   "source": [
    "lig_names = [lig[lig.rfind('rec')+9:lig.rfind('rec')+12] for lig in all_lig]\n",
    "lig_names = set(lig_names)\n",
    "len(lig_names)"
   ]
  },
  {
   "cell_type": "code",
   "execution_count": 70,
   "id": "5505ecf1-94ae-4c69-84d6-6d53f51e39fd",
   "metadata": {
    "scrolled": true
   },
   "outputs": [],
   "source": [
    "# lig_names"
   ]
  },
  {
   "cell_type": "code",
   "execution_count": 71,
   "id": "47d3fbbe-adfe-458f-a78c-7256ea511398",
   "metadata": {},
   "outputs": [
    {
     "name": "stderr",
     "output_type": "stream",
     "text": [
      "100%|███████████████████████████████████████████████████████████████████| 15075/15075 [00:00<00:00, 1292659.21it/s]\n"
     ]
    }
   ],
   "source": [
    "lig_dict = defaultdict(lambda : [])\n",
    "for lig in tqdm(all_lig):\n",
    "    lig_name = lig[lig.rfind('rec')+9:lig.rfind('rec')+12]\n",
    "    lig_dict[lig_name].append(lig)"
   ]
  },
  {
   "cell_type": "code",
   "execution_count": 72,
   "id": "98f3ae2e-5769-44c0-981f-5cdd7bc3b485",
   "metadata": {
    "scrolled": true
   },
   "outputs": [],
   "source": [
    "# lig_dict"
   ]
  },
  {
   "cell_type": "code",
   "execution_count": 73,
   "id": "d71ede1a-643f-4102-a994-d209d3a55fd3",
   "metadata": {},
   "outputs": [],
   "source": [
    "rev_lig_dict = {lig:lig_name for lig_name, ligs in lig_dict.items() for lig in ligs }"
   ]
  },
  {
   "cell_type": "code",
   "execution_count": 74,
   "id": "acfb3b69-0546-4b54-8854-0b800df2574b",
   "metadata": {
    "scrolled": true
   },
   "outputs": [],
   "source": [
    "# rev_lig_dict"
   ]
  },
  {
   "cell_type": "code",
   "execution_count": 75,
   "id": "6ce2b185-c274-406a-b12a-817e3b227ee8",
   "metadata": {
    "scrolled": true
   },
   "outputs": [
    {
     "name": "stderr",
     "output_type": "stream",
     "text": [
      "100%|███████████████████████████████████████████████████████████████████| 15075/15075 [00:00<00:00, 1694197.18it/s]\n"
     ]
    }
   ],
   "source": [
    "scores_by_lig = defaultdict(lambda : [])\n",
    "for lig, score in tqdm(score_dict.items()):\n",
    "    lig_name = rev_lig_dict[lig]\n",
    "    scores_by_lig[lig_name].append(score)\n",
    "\n",
    "# scores_by_lig"
   ]
  },
  {
   "cell_type": "code",
   "execution_count": 76,
   "id": "2391a62d-cebf-4676-a3cb-2ec1e17ee487",
   "metadata": {},
   "outputs": [
    {
     "name": "stderr",
     "output_type": "stream",
     "text": [
      "100%|████████████████████████████████████████████████████████████████████████| 999/999 [00:00<00:00, 121136.45it/s]\n"
     ]
    }
   ],
   "source": [
    "avg_score = {}\n",
    "n_lig = {}\n",
    "for lig, scores in tqdm(scores_by_lig.items()):\n",
    "    avg_score[lig] = np.mean(scores)\n",
    "    n_lig[lig] = len(scores)"
   ]
  },
  {
   "cell_type": "code",
   "execution_count": 77,
   "id": "4f8c0a47-27a3-4060-9090-84b7d3cdd12f",
   "metadata": {},
   "outputs": [
    {
     "data": {
      "text/html": [
       "<div>\n",
       "<style scoped>\n",
       "    .dataframe tbody tr th:only-of-type {\n",
       "        vertical-align: middle;\n",
       "    }\n",
       "\n",
       "    .dataframe tbody tr th {\n",
       "        vertical-align: top;\n",
       "    }\n",
       "\n",
       "    .dataframe thead th {\n",
       "        text-align: right;\n",
       "    }\n",
       "</style>\n",
       "<table border=\"1\" class=\"dataframe\">\n",
       "  <thead>\n",
       "    <tr style=\"text-align: right;\">\n",
       "      <th></th>\n",
       "      <th>score</th>\n",
       "      <th>num sample</th>\n",
       "    </tr>\n",
       "  </thead>\n",
       "  <tbody>\n",
       "    <tr>\n",
       "      <th>a75</th>\n",
       "      <td>0.600000</td>\n",
       "      <td>8</td>\n",
       "    </tr>\n",
       "    <tr>\n",
       "      <th>4mp</th>\n",
       "      <td>0.333333</td>\n",
       "      <td>3</td>\n",
       "    </tr>\n",
       "    <tr>\n",
       "      <th>afq</th>\n",
       "      <td>0.666113</td>\n",
       "      <td>43</td>\n",
       "    </tr>\n",
       "    <tr>\n",
       "      <th>krw</th>\n",
       "      <td>0.550388</td>\n",
       "      <td>43</td>\n",
       "    </tr>\n",
       "    <tr>\n",
       "      <th>nps</th>\n",
       "      <td>0.716049</td>\n",
       "      <td>9</td>\n",
       "    </tr>\n",
       "    <tr>\n",
       "      <th>...</th>\n",
       "      <td>...</td>\n",
       "      <td>...</td>\n",
       "    </tr>\n",
       "    <tr>\n",
       "      <th>ce1</th>\n",
       "      <td>0.263158</td>\n",
       "      <td>1</td>\n",
       "    </tr>\n",
       "    <tr>\n",
       "      <th>cze</th>\n",
       "      <td>0.142857</td>\n",
       "      <td>1</td>\n",
       "    </tr>\n",
       "    <tr>\n",
       "      <th>8qp</th>\n",
       "      <td>0.545455</td>\n",
       "      <td>1</td>\n",
       "    </tr>\n",
       "    <tr>\n",
       "      <th>dwf</th>\n",
       "      <td>0.071429</td>\n",
       "      <td>1</td>\n",
       "    </tr>\n",
       "    <tr>\n",
       "      <th>4x8</th>\n",
       "      <td>0.285714</td>\n",
       "      <td>1</td>\n",
       "    </tr>\n",
       "  </tbody>\n",
       "</table>\n",
       "<p>999 rows × 2 columns</p>\n",
       "</div>"
      ],
      "text/plain": [
       "        score  num sample\n",
       "a75  0.600000           8\n",
       "4mp  0.333333           3\n",
       "afq  0.666113          43\n",
       "krw  0.550388          43\n",
       "nps  0.716049           9\n",
       "..        ...         ...\n",
       "ce1  0.263158           1\n",
       "cze  0.142857           1\n",
       "8qp  0.545455           1\n",
       "dwf  0.071429           1\n",
       "4x8  0.285714           1\n",
       "\n",
       "[999 rows x 2 columns]"
      ]
     },
     "execution_count": 77,
     "metadata": {},
     "output_type": "execute_result"
    }
   ],
   "source": [
    "avg_score_df = pd.DataFrame.from_dict({'score':avg_score, 'num sample':n_lig}, orient='columns')\n",
    "avg_score_df"
   ]
  },
  {
   "cell_type": "code",
   "execution_count": 78,
   "id": "37a4a5e8-1f54-408d-999a-69ecead17e6c",
   "metadata": {},
   "outputs": [],
   "source": [
    "avg_score_df.sort_values('score', ascending=False, inplace=True)"
   ]
  },
  {
   "cell_type": "code",
   "execution_count": 79,
   "id": "e384b5d4-4832-4610-b8a2-d6f7ab3cda3b",
   "metadata": {},
   "outputs": [],
   "source": [
    "avg_score_df.to_csv(os.path.join(root_path, fn+'_avg_score_by_lig.csv'))"
   ]
  },
  {
   "cell_type": "code",
   "execution_count": 80,
   "id": "09977674-6b19-40f6-8e15-ba2654fc6fe6",
   "metadata": {},
   "outputs": [
    {
     "data": {
      "text/html": [
       "<div>\n",
       "<style scoped>\n",
       "    .dataframe tbody tr th:only-of-type {\n",
       "        vertical-align: middle;\n",
       "    }\n",
       "\n",
       "    .dataframe tbody tr th {\n",
       "        vertical-align: top;\n",
       "    }\n",
       "\n",
       "    .dataframe thead th {\n",
       "        text-align: right;\n",
       "    }\n",
       "</style>\n",
       "<table border=\"1\" class=\"dataframe\">\n",
       "  <thead>\n",
       "    <tr style=\"text-align: right;\">\n",
       "      <th></th>\n",
       "      <th>score</th>\n",
       "      <th>num sample</th>\n",
       "    </tr>\n",
       "  </thead>\n",
       "  <tbody>\n",
       "    <tr>\n",
       "      <th>hex</th>\n",
       "      <td>1.00000</td>\n",
       "      <td>3</td>\n",
       "    </tr>\n",
       "    <tr>\n",
       "      <th>d12</th>\n",
       "      <td>1.00000</td>\n",
       "      <td>1</td>\n",
       "    </tr>\n",
       "    <tr>\n",
       "      <th>d10</th>\n",
       "      <td>1.00000</td>\n",
       "      <td>16</td>\n",
       "    </tr>\n",
       "    <tr>\n",
       "      <th>dcd</th>\n",
       "      <td>1.00000</td>\n",
       "      <td>7</td>\n",
       "    </tr>\n",
       "    <tr>\n",
       "      <th>d2v</th>\n",
       "      <td>0.94898</td>\n",
       "      <td>7</td>\n",
       "    </tr>\n",
       "    <tr>\n",
       "      <th>...</th>\n",
       "      <td>...</td>\n",
       "      <td>...</td>\n",
       "    </tr>\n",
       "    <tr>\n",
       "      <th>pga</th>\n",
       "      <td>0.00000</td>\n",
       "      <td>5</td>\n",
       "    </tr>\n",
       "    <tr>\n",
       "      <th>gmn</th>\n",
       "      <td>0.00000</td>\n",
       "      <td>3</td>\n",
       "    </tr>\n",
       "    <tr>\n",
       "      <th>dg2</th>\n",
       "      <td>0.00000</td>\n",
       "      <td>1</td>\n",
       "    </tr>\n",
       "    <tr>\n",
       "      <th>cff</th>\n",
       "      <td>0.00000</td>\n",
       "      <td>1</td>\n",
       "    </tr>\n",
       "    <tr>\n",
       "      <th>p99</th>\n",
       "      <td>0.00000</td>\n",
       "      <td>2</td>\n",
       "    </tr>\n",
       "  </tbody>\n",
       "</table>\n",
       "<p>999 rows × 2 columns</p>\n",
       "</div>"
      ],
      "text/plain": [
       "       score  num sample\n",
       "hex  1.00000           3\n",
       "d12  1.00000           1\n",
       "d10  1.00000          16\n",
       "dcd  1.00000           7\n",
       "d2v  0.94898           7\n",
       "..       ...         ...\n",
       "pga  0.00000           5\n",
       "gmn  0.00000           3\n",
       "dg2  0.00000           1\n",
       "cff  0.00000           1\n",
       "p99  0.00000           2\n",
       "\n",
       "[999 rows x 2 columns]"
      ]
     },
     "execution_count": 80,
     "metadata": {},
     "output_type": "execute_result"
    }
   ],
   "source": [
    "avg_score_df = pd.read_csv(os.path.join(root_path, fn+'_avg_score_by_lig.csv'), index_col=0, header=0)\n",
    "avg_score_df"
   ]
  },
  {
   "cell_type": "code",
   "execution_count": 81,
   "id": "87904379-668e-4568-81f8-c9f90942cf82",
   "metadata": {},
   "outputs": [
    {
     "data": {
      "text/html": [
       "<div>\n",
       "<style scoped>\n",
       "    .dataframe tbody tr th:only-of-type {\n",
       "        vertical-align: middle;\n",
       "    }\n",
       "\n",
       "    .dataframe tbody tr th {\n",
       "        vertical-align: top;\n",
       "    }\n",
       "\n",
       "    .dataframe thead th {\n",
       "        text-align: right;\n",
       "    }\n",
       "</style>\n",
       "<table border=\"1\" class=\"dataframe\">\n",
       "  <thead>\n",
       "    <tr style=\"text-align: right;\">\n",
       "      <th></th>\n",
       "      <th>score</th>\n",
       "      <th>num sample</th>\n",
       "    </tr>\n",
       "  </thead>\n",
       "  <tbody>\n",
       "    <tr>\n",
       "      <th>3sw</th>\n",
       "      <td>0.921875</td>\n",
       "      <td>40</td>\n",
       "    </tr>\n",
       "    <tr>\n",
       "      <th>nog</th>\n",
       "      <td>0.891626</td>\n",
       "      <td>29</td>\n",
       "    </tr>\n",
       "    <tr>\n",
       "      <th>3t2</th>\n",
       "      <td>0.878086</td>\n",
       "      <td>27</td>\n",
       "    </tr>\n",
       "    <tr>\n",
       "      <th>2vz</th>\n",
       "      <td>0.875000</td>\n",
       "      <td>49</td>\n",
       "    </tr>\n",
       "    <tr>\n",
       "      <th>pz5</th>\n",
       "      <td>0.875000</td>\n",
       "      <td>41</td>\n",
       "    </tr>\n",
       "    <tr>\n",
       "      <th>...</th>\n",
       "      <td>...</td>\n",
       "      <td>...</td>\n",
       "    </tr>\n",
       "    <tr>\n",
       "      <th>ite</th>\n",
       "      <td>0.500000</td>\n",
       "      <td>67</td>\n",
       "    </tr>\n",
       "    <tr>\n",
       "      <th>6xh</th>\n",
       "      <td>0.500000</td>\n",
       "      <td>39</td>\n",
       "    </tr>\n",
       "    <tr>\n",
       "      <th>jak</th>\n",
       "      <td>0.500000</td>\n",
       "      <td>34</td>\n",
       "    </tr>\n",
       "    <tr>\n",
       "      <th>sjz</th>\n",
       "      <td>0.500000</td>\n",
       "      <td>22</td>\n",
       "    </tr>\n",
       "    <tr>\n",
       "      <th>6xb</th>\n",
       "      <td>0.500000</td>\n",
       "      <td>48</td>\n",
       "    </tr>\n",
       "  </tbody>\n",
       "</table>\n",
       "<p>97 rows × 2 columns</p>\n",
       "</div>"
      ],
      "text/plain": [
       "        score  num sample\n",
       "3sw  0.921875          40\n",
       "nog  0.891626          29\n",
       "3t2  0.878086          27\n",
       "2vz  0.875000          49\n",
       "pz5  0.875000          41\n",
       "..        ...         ...\n",
       "ite  0.500000          67\n",
       "6xh  0.500000          39\n",
       "jak  0.500000          34\n",
       "sjz  0.500000          22\n",
       "6xb  0.500000          48\n",
       "\n",
       "[97 rows x 2 columns]"
      ]
     },
     "execution_count": 81,
     "metadata": {},
     "output_type": "execute_result"
    }
   ],
   "source": [
    "filtered = avg_score_df[(avg_score_df['score'] >= 0.5) &\n",
    "                        (avg_score_df['num sample'] >= 20)]\n",
    "filtered"
   ]
  },
  {
   "cell_type": "markdown",
   "id": "5f4e8a46-4011-4127-8119-71bd9744b33a",
   "metadata": {},
   "source": [
    "# select by rec"
   ]
  },
  {
   "cell_type": "code",
   "execution_count": 82,
   "id": "5f7cfb59-a65d-4550-a889-6b8205257f6e",
   "metadata": {},
   "outputs": [
    {
     "data": {
      "text/plain": [
       "1547"
      ]
     },
     "execution_count": 82,
     "metadata": {},
     "output_type": "execute_result"
    }
   ],
   "source": [
    "rec_names = [lig[0:6] for lig in all_lig]\n",
    "rec_names = set(rec_names)\n",
    "len(rec_names)"
   ]
  },
  {
   "cell_type": "code",
   "execution_count": 83,
   "id": "1e5627d2-b783-4c84-96e8-6bdd215dbf4e",
   "metadata": {},
   "outputs": [
    {
     "name": "stderr",
     "output_type": "stream",
     "text": [
      "100%|███████████████████████████████████████████████████████████████████| 15075/15075 [00:00<00:00, 1666380.27it/s]\n"
     ]
    }
   ],
   "source": [
    "rec_dict = defaultdict(lambda : [])\n",
    "for lig in tqdm(all_lig):\n",
    "    rec_name = lig[0:6]\n",
    "    rec_dict[rec_name].append(lig)"
   ]
  },
  {
   "cell_type": "code",
   "execution_count": 84,
   "id": "a5144f2d-5e69-495b-8a85-aeb3720d7c1f",
   "metadata": {},
   "outputs": [],
   "source": [
    "rev_rec_dict = {lig:rec_name for rec_name, ligs in rec_dict.items() for lig in ligs }"
   ]
  },
  {
   "cell_type": "code",
   "execution_count": 85,
   "id": "d3b7de59-a2b0-40c3-b590-f5dba0469643",
   "metadata": {},
   "outputs": [
    {
     "name": "stderr",
     "output_type": "stream",
     "text": [
      "100%|███████████████████████████████████████████████████████████████████| 15075/15075 [00:00<00:00, 1432954.85it/s]\n"
     ]
    }
   ],
   "source": [
    "scores_by_rec = defaultdict(lambda : [])\n",
    "for lig, score in tqdm(score_dict.items()):\n",
    "    rec_name = rev_rec_dict[lig]\n",
    "    scores_by_rec[rec_name].append(score)"
   ]
  },
  {
   "cell_type": "code",
   "execution_count": 86,
   "id": "7ab0f262-c8db-4132-b691-638be2613e59",
   "metadata": {},
   "outputs": [
    {
     "name": "stderr",
     "output_type": "stream",
     "text": [
      "100%|██████████████████████████████████████████████████████████████████████| 1547/1547 [00:00<00:00, 133151.14it/s]\n"
     ]
    }
   ],
   "source": [
    "avg_score_rec = {}\n",
    "n_rec = {}\n",
    "for rec, scores in tqdm(scores_by_rec.items()):\n",
    "    avg_score_rec[rec] = np.mean(scores)\n",
    "    n_rec[rec] = len(scores)"
   ]
  },
  {
   "cell_type": "code",
   "execution_count": 87,
   "id": "fc1cc790-1925-47bc-8874-c08f5706eb35",
   "metadata": {},
   "outputs": [
    {
     "data": {
      "text/html": [
       "<div>\n",
       "<style scoped>\n",
       "    .dataframe tbody tr th:only-of-type {\n",
       "        vertical-align: middle;\n",
       "    }\n",
       "\n",
       "    .dataframe tbody tr th {\n",
       "        vertical-align: top;\n",
       "    }\n",
       "\n",
       "    .dataframe thead th {\n",
       "        text-align: right;\n",
       "    }\n",
       "</style>\n",
       "<table border=\"1\" class=\"dataframe\">\n",
       "  <thead>\n",
       "    <tr style=\"text-align: right;\">\n",
       "      <th></th>\n",
       "      <th>score</th>\n",
       "      <th>num sample</th>\n",
       "    </tr>\n",
       "  </thead>\n",
       "  <tbody>\n",
       "    <tr>\n",
       "      <th>1yw8_A</th>\n",
       "      <td>0.327576</td>\n",
       "      <td>5</td>\n",
       "    </tr>\n",
       "    <tr>\n",
       "      <th>4f31_B</th>\n",
       "      <td>0.166667</td>\n",
       "      <td>2</td>\n",
       "    </tr>\n",
       "    <tr>\n",
       "      <th>5i00_A</th>\n",
       "      <td>0.372994</td>\n",
       "      <td>59</td>\n",
       "    </tr>\n",
       "    <tr>\n",
       "      <th>5eob_A</th>\n",
       "      <td>0.423485</td>\n",
       "      <td>39</td>\n",
       "    </tr>\n",
       "    <tr>\n",
       "      <th>4ot2_A</th>\n",
       "      <td>0.777778</td>\n",
       "      <td>1</td>\n",
       "    </tr>\n",
       "    <tr>\n",
       "      <th>...</th>\n",
       "      <td>...</td>\n",
       "      <td>...</td>\n",
       "    </tr>\n",
       "    <tr>\n",
       "      <th>4hyt_B</th>\n",
       "      <td>0.263158</td>\n",
       "      <td>1</td>\n",
       "    </tr>\n",
       "    <tr>\n",
       "      <th>5dqf_A</th>\n",
       "      <td>0.142857</td>\n",
       "      <td>1</td>\n",
       "    </tr>\n",
       "    <tr>\n",
       "      <th>1goi_A</th>\n",
       "      <td>0.419355</td>\n",
       "      <td>1</td>\n",
       "    </tr>\n",
       "    <tr>\n",
       "      <th>1vhw_A</th>\n",
       "      <td>0.222222</td>\n",
       "      <td>1</td>\n",
       "    </tr>\n",
       "    <tr>\n",
       "      <th>3af1_A</th>\n",
       "      <td>0.666667</td>\n",
       "      <td>1</td>\n",
       "    </tr>\n",
       "  </tbody>\n",
       "</table>\n",
       "<p>1547 rows × 2 columns</p>\n",
       "</div>"
      ],
      "text/plain": [
       "           score  num sample\n",
       "1yw8_A  0.327576           5\n",
       "4f31_B  0.166667           2\n",
       "5i00_A  0.372994          59\n",
       "5eob_A  0.423485          39\n",
       "4ot2_A  0.777778           1\n",
       "...          ...         ...\n",
       "4hyt_B  0.263158           1\n",
       "5dqf_A  0.142857           1\n",
       "1goi_A  0.419355           1\n",
       "1vhw_A  0.222222           1\n",
       "3af1_A  0.666667           1\n",
       "\n",
       "[1547 rows x 2 columns]"
      ]
     },
     "execution_count": 87,
     "metadata": {},
     "output_type": "execute_result"
    }
   ],
   "source": [
    "avg_score_rec_df = pd.DataFrame.from_dict({'score':avg_score_rec, 'num sample':n_rec}, orient='columns')\n",
    "avg_score_rec_df"
   ]
  },
  {
   "cell_type": "code",
   "execution_count": 88,
   "id": "d606ee63-45fe-4e22-9fdd-8e40e6baf14a",
   "metadata": {},
   "outputs": [
    {
     "data": {
      "text/html": [
       "<div>\n",
       "<style scoped>\n",
       "    .dataframe tbody tr th:only-of-type {\n",
       "        vertical-align: middle;\n",
       "    }\n",
       "\n",
       "    .dataframe tbody tr th {\n",
       "        vertical-align: top;\n",
       "    }\n",
       "\n",
       "    .dataframe thead th {\n",
       "        text-align: right;\n",
       "    }\n",
       "</style>\n",
       "<table border=\"1\" class=\"dataframe\">\n",
       "  <thead>\n",
       "    <tr style=\"text-align: right;\">\n",
       "      <th></th>\n",
       "      <th>score</th>\n",
       "      <th>num sample</th>\n",
       "    </tr>\n",
       "  </thead>\n",
       "  <tbody>\n",
       "    <tr>\n",
       "      <th>3s0k_A</th>\n",
       "      <td>1.0</td>\n",
       "      <td>1</td>\n",
       "    </tr>\n",
       "    <tr>\n",
       "      <th>5jmn_A</th>\n",
       "      <td>1.0</td>\n",
       "      <td>3</td>\n",
       "    </tr>\n",
       "    <tr>\n",
       "      <th>3ric_A</th>\n",
       "      <td>1.0</td>\n",
       "      <td>1</td>\n",
       "    </tr>\n",
       "    <tr>\n",
       "      <th>2bv7_A</th>\n",
       "      <td>1.0</td>\n",
       "      <td>1</td>\n",
       "    </tr>\n",
       "    <tr>\n",
       "      <th>3rzn_A</th>\n",
       "      <td>1.0</td>\n",
       "      <td>1</td>\n",
       "    </tr>\n",
       "    <tr>\n",
       "      <th>...</th>\n",
       "      <td>...</td>\n",
       "      <td>...</td>\n",
       "    </tr>\n",
       "    <tr>\n",
       "      <th>4u4l_B</th>\n",
       "      <td>0.0</td>\n",
       "      <td>1</td>\n",
       "    </tr>\n",
       "    <tr>\n",
       "      <th>5sx8_A</th>\n",
       "      <td>0.0</td>\n",
       "      <td>1</td>\n",
       "    </tr>\n",
       "    <tr>\n",
       "      <th>2v2b_A</th>\n",
       "      <td>0.0</td>\n",
       "      <td>1</td>\n",
       "    </tr>\n",
       "    <tr>\n",
       "      <th>4gn8_B</th>\n",
       "      <td>0.0</td>\n",
       "      <td>2</td>\n",
       "    </tr>\n",
       "    <tr>\n",
       "      <th>5bo2_B</th>\n",
       "      <td>0.0</td>\n",
       "      <td>5</td>\n",
       "    </tr>\n",
       "  </tbody>\n",
       "</table>\n",
       "<p>1547 rows × 2 columns</p>\n",
       "</div>"
      ],
      "text/plain": [
       "        score  num sample\n",
       "3s0k_A    1.0           1\n",
       "5jmn_A    1.0           3\n",
       "3ric_A    1.0           1\n",
       "2bv7_A    1.0           1\n",
       "3rzn_A    1.0           1\n",
       "...       ...         ...\n",
       "4u4l_B    0.0           1\n",
       "5sx8_A    0.0           1\n",
       "2v2b_A    0.0           1\n",
       "4gn8_B    0.0           2\n",
       "5bo2_B    0.0           5\n",
       "\n",
       "[1547 rows x 2 columns]"
      ]
     },
     "execution_count": 88,
     "metadata": {},
     "output_type": "execute_result"
    }
   ],
   "source": [
    "avg_score_rec_df.sort_values('score', ascending=False, inplace=True)\n",
    "avg_score_rec_df.to_csv(os.path.join(root_path, fn+'_avg_score_by_rec.csv'))\n",
    "avg_score_rec_df"
   ]
  },
  {
   "cell_type": "code",
   "execution_count": 89,
   "id": "bc42376e-1a03-4bd9-9c2e-da73f8c7b71f",
   "metadata": {},
   "outputs": [
    {
     "data": {
      "text/html": [
       "<div>\n",
       "<style scoped>\n",
       "    .dataframe tbody tr th:only-of-type {\n",
       "        vertical-align: middle;\n",
       "    }\n",
       "\n",
       "    .dataframe tbody tr th {\n",
       "        vertical-align: top;\n",
       "    }\n",
       "\n",
       "    .dataframe thead th {\n",
       "        text-align: right;\n",
       "    }\n",
       "</style>\n",
       "<table border=\"1\" class=\"dataframe\">\n",
       "  <thead>\n",
       "    <tr style=\"text-align: right;\">\n",
       "      <th></th>\n",
       "      <th>score</th>\n",
       "      <th>num sample</th>\n",
       "    </tr>\n",
       "  </thead>\n",
       "  <tbody>\n",
       "    <tr>\n",
       "      <th>1e3k_A</th>\n",
       "      <td>0.813230</td>\n",
       "      <td>14</td>\n",
       "    </tr>\n",
       "    <tr>\n",
       "      <th>4m8h_A</th>\n",
       "      <td>0.809857</td>\n",
       "      <td>39</td>\n",
       "    </tr>\n",
       "    <tr>\n",
       "      <th>4rmd_A</th>\n",
       "      <td>0.807615</td>\n",
       "      <td>42</td>\n",
       "    </tr>\n",
       "    <tr>\n",
       "      <th>4k4j_A</th>\n",
       "      <td>0.804140</td>\n",
       "      <td>33</td>\n",
       "    </tr>\n",
       "    <tr>\n",
       "      <th>4poj_A</th>\n",
       "      <td>0.803903</td>\n",
       "      <td>43</td>\n",
       "    </tr>\n",
       "    <tr>\n",
       "      <th>...</th>\n",
       "      <td>...</td>\n",
       "      <td>...</td>\n",
       "    </tr>\n",
       "    <tr>\n",
       "      <th>4fk6_B</th>\n",
       "      <td>0.609872</td>\n",
       "      <td>24</td>\n",
       "    </tr>\n",
       "    <tr>\n",
       "      <th>4i5c_B</th>\n",
       "      <td>0.607862</td>\n",
       "      <td>23</td>\n",
       "    </tr>\n",
       "    <tr>\n",
       "      <th>5wo4_A</th>\n",
       "      <td>0.606769</td>\n",
       "      <td>21</td>\n",
       "    </tr>\n",
       "    <tr>\n",
       "      <th>5khx_A</th>\n",
       "      <td>0.602460</td>\n",
       "      <td>20</td>\n",
       "    </tr>\n",
       "    <tr>\n",
       "      <th>5hx8_A</th>\n",
       "      <td>0.602133</td>\n",
       "      <td>19</td>\n",
       "    </tr>\n",
       "  </tbody>\n",
       "</table>\n",
       "<p>64 rows × 2 columns</p>\n",
       "</div>"
      ],
      "text/plain": [
       "           score  num sample\n",
       "1e3k_A  0.813230          14\n",
       "4m8h_A  0.809857          39\n",
       "4rmd_A  0.807615          42\n",
       "4k4j_A  0.804140          33\n",
       "4poj_A  0.803903          43\n",
       "...          ...         ...\n",
       "4fk6_B  0.609872          24\n",
       "4i5c_B  0.607862          23\n",
       "5wo4_A  0.606769          21\n",
       "5khx_A  0.602460          20\n",
       "5hx8_A  0.602133          19\n",
       "\n",
       "[64 rows x 2 columns]"
      ]
     },
     "execution_count": 89,
     "metadata": {},
     "output_type": "execute_result"
    }
   ],
   "source": [
    "filtered_rec = avg_score_rec_df[(avg_score_rec_df['score'] >= 0.6) &\n",
    "                                (avg_score_rec_df['num sample'] >= 10)]\n",
    "filtered_rec"
   ]
  },
  {
   "cell_type": "code",
   "execution_count": 90,
   "id": "6a4995cb-df58-445a-8b2f-f946d13fed6a",
   "metadata": {},
   "outputs": [
    {
     "data": {
      "text/plain": [
       "[]"
      ]
     },
     "execution_count": 90,
     "metadata": {},
     "output_type": "execute_result"
    }
   ],
   "source": [
    "rec_dict['1c8j_A']"
   ]
  },
  {
   "cell_type": "code",
   "execution_count": null,
   "id": "63bd1729-c6f5-4ede-8458-c08eb17c08b2",
   "metadata": {},
   "outputs": [],
   "source": []
  }
 ],
 "metadata": {
  "kernelspec": {
   "display_name": "pp2drug",
   "language": "python",
   "name": "pp2drug"
  },
  "language_info": {
   "codemirror_mode": {
    "name": "ipython",
    "version": 3
   },
   "file_extension": ".py",
   "mimetype": "text/x-python",
   "name": "python",
   "nbconvert_exporter": "python",
   "pygments_lexer": "ipython3",
   "version": "3.10.14"
  }
 },
 "nbformat": 4,
 "nbformat_minor": 5
}
