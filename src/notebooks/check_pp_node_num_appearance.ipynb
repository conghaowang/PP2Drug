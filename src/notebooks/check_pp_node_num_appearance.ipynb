{
 "cells": [
  {
   "cell_type": "code",
   "execution_count": 6,
   "id": "c9d552c7-e1a3-4db1-aee4-f46031612fd8",
   "metadata": {},
   "outputs": [],
   "source": [
    "import numpy as np\n",
    "import pandas as pd\n",
    "import os, sys\n",
    "sys.path.append('../evaluation/')\n",
    "sys.path.append('..')\n",
    "from tqdm import tqdm\n",
    "from rdkit import Chem\n",
    "from openbabel import pybel\n",
    "from collections import defaultdict\n",
    "import pickle\n",
    "from sklearn.cluster import DBSCAN, HDBSCAN"
   ]
  },
  {
   "cell_type": "code",
   "execution_count": 7,
   "id": "f995e972-ae87-444c-aba2-367b8560e23e",
   "metadata": {},
   "outputs": [],
   "source": [
    "from data_processing.paired_data import CombinedSparseGraphDataset, CombinedSparseGraphDataset\n",
    "from data_processing.ligand import Ligand\n",
    "from data_processing.utils import ATOM_TYPE_MAPPING, PP_TYPE_MAPPING\n",
    "from utils_eval import build_pdb_dict"
   ]
  },
  {
   "cell_type": "code",
   "execution_count": 4,
   "id": "3bc2ec28-697f-4e4b-8d04-23f865f10a12",
   "metadata": {},
   "outputs": [],
   "source": [
    "raw_path = '../../data/cleaned_crossdocked_data/raw'"
   ]
  },
  {
   "cell_type": "code",
   "execution_count": 19,
   "id": "2cb14213-9240-4d8d-ac87-b58406c73d33",
   "metadata": {},
   "outputs": [],
   "source": [
    "# num_appearance = defaultdict(lambda : 0)\n",
    "# num_appearance['10']\n",
    "\n",
    "num_appearance = {k: defaultdict(lambda : 0) for k in PP_TYPE_MAPPING.keys()}\n",
    "# num_appearance['Linker']['2']"
   ]
  },
  {
   "cell_type": "code",
   "execution_count": 46,
   "id": "18ade9d4-d489-486e-8dbf-7d99fcc6bcc4",
   "metadata": {},
   "outputs": [],
   "source": [
    "# this is different from the dataset class mtd\n",
    "def cluster_non_pp(pos, atom_in_pp):\n",
    "    pos = np.array(pos)\n",
    "    # print(pos)\n",
    "    non_pp_atom_positions = []\n",
    "    non_pp_atom_pos_dict = []\n",
    "\n",
    "    for i in range(pos.shape[0]):\n",
    "        if i not in atom_in_pp:\n",
    "            # dist_i = np.zeros(num_pp)\n",
    "            # for j in range(num_pp):\n",
    "            #     dist_i[j] = np.linalg.norm(atom_positions[i] - pp_positions[j])\n",
    "            non_pp_atom_positions.append(pos[i])\n",
    "            non_pp_atom_pos_dict.append({'id':i, 'pos':pos[i]})\n",
    "\n",
    "    non_pp_atom_positions = np.array(non_pp_atom_positions)\n",
    "    # print(non_pp_atom_positions)\n",
    "    if non_pp_atom_positions.shape[0] == 1:\n",
    "        return {0: [non_pp_atom_pos_dict[0]['id']]}\n",
    "\n",
    "    clustering_model = HDBSCAN(min_cluster_size=2)\n",
    "    clustering = clustering_model.fit(non_pp_atom_positions)\n",
    "    non_pp_atom_labels = clustering.labels_\n",
    "    max_label = np.max(non_pp_atom_labels)\n",
    "\n",
    "    for i in range(len(non_pp_atom_labels)):\n",
    "        if non_pp_atom_labels[i] == -1:\n",
    "            non_pp_atom_labels[i] = max_label + 1\n",
    "            max_label += 1\n",
    "\n",
    "    non_pp_groups = np.unique(non_pp_atom_labels)\n",
    "    # non_pp_group_center_positions = torch.zeros((len(non_pp_groups), 3))\n",
    "    non_pp_atom_indices = {label: [] for label in non_pp_groups}\n",
    "\n",
    "    for group in non_pp_groups:\n",
    "        # nodes: the index in the non_pp_atom_positions matrix\n",
    "        nodes = np.where(non_pp_atom_labels==group)[0]\n",
    "        # print(nodes)\n",
    "\n",
    "        # atoms: the index in the original ligand\n",
    "        atoms = []\n",
    "        for node in nodes:\n",
    "            # print(node)\n",
    "            atoms.append(non_pp_atom_pos_dict[int(node)]['id'])\n",
    "        # print(atoms)\n",
    "        non_pp_atom_indices[group] = atoms\n",
    "        \n",
    "        # positions = non_pp_atom_positions[nodes]\n",
    "        # print(positions.size())\n",
    "        # center_pos = np.mean(positions, axis=0)\n",
    "        # print(center_pos)\n",
    "        # non_pp_group_center_positions[group] = center_pos\n",
    "\n",
    "    return non_pp_atom_indices"
   ]
  },
  {
   "cell_type": "code",
   "execution_count": 47,
   "id": "b641b971-e845-4798-a1cc-8466dc02b349",
   "metadata": {
    "scrolled": true
   },
   "outputs": [
    {
     "name": "stderr",
     "output_type": "stream",
     "text": [
      "  0%|                                                                                                                                     | 0/10 [00:00<?, ?it/s]\n",
      "100%|███████████████████████████████████████████████████████████████████████████████████████████████████████████████████████████| 20/20 [00:00<00:00, 506.95it/s]\u001b[A\n",
      "\n",
      "  0%|                                                                                                                                     | 0/73 [00:00<?, ?it/s]\u001b[A\n",
      "100%|███████████████████████████████████████████████████████████████████████████████████████████████████████████████████████████| 73/73 [00:00<00:00, 519.07it/s]\u001b[A\n",
      " 20%|█████████████████████████                                                                                                    | 2/10 [00:00<00:00, 10.90it/s]\n",
      "100%|█████████████████████████████████████████████████████████████████████████████████████████████████████████████████████████████| 4/4 [00:00<00:00, 907.51it/s]\u001b[A\n",
      "\n",
      "100%|█████████████████████████████████████████████████████████████████████████████████████████████████████████████████████████████| 4/4 [00:00<00:00, 732.21it/s]\u001b[A\n",
      "\n",
      "100%|███████████████████████████████████████████████████████████████████████████████████████████████████████████████████████████| 21/21 [00:00<00:00, 671.58it/s]\u001b[A\n",
      "\n",
      "100%|█████████████████████████████████████████████████████████████████████████████████████████████████████████████████████████████| 7/7 [00:00<00:00, 758.27it/s]\u001b[A\n",
      "\n",
      "100%|████████████████████████████████████████████████████████████████████████████████████████████████████████████████████████████| 4/4 [00:00<00:00, 1133.98it/s]\u001b[A\n",
      "\n",
      "100%|█████████████████████████████████████████████████████████████████████████████████████████████████████████████████████████████| 9/9 [00:00<00:00, 463.91it/s]\u001b[A\n",
      "\n",
      "100%|█████████████████████████████████████████████████████████████████████████████████████████████████████████████████████████████| 4/4 [00:00<00:00, 323.03it/s]\u001b[A\n",
      "\n",
      "  0%|                                                                                                                                     | 0/82 [00:00<?, ?it/s]\u001b[A\n",
      " 41%|███████████████████████████████████████████████████                                                                        | 34/82 [00:00<00:00, 330.25it/s]\u001b[A\n",
      "100%|███████████████████████████████████████████████████████████████████████████████████████████████████████████████████████████| 82/82 [00:00<00:00, 316.62it/s]\u001b[A\n",
      "100%|████████████████████████████████████████████████████████████████████████████████████████████████████████████████████████████| 10/10 [00:00<00:00, 18.44it/s]\n"
     ]
    }
   ],
   "source": [
    "for folder in tqdm(os.listdir(raw_path)[:10]):\n",
    "    folder_path = os.path.join(raw_path, folder)\n",
    "    for fn in tqdm(os.listdir(folder_path)):\n",
    "        if fn.split('.')[-1] != 'sdf':\n",
    "            continue\n",
    "        file = os.path.join(folder_path, fn)\n",
    "\n",
    "        rdmol = Chem.MolFromMolFile(file, removeHs=False, sanitize=True)\n",
    "        pbmol = next(pybel.readfile(\"sdf\", file))\n",
    "\n",
    "        \n",
    "        try:\n",
    "            rdmol = Chem.AddHs(rdmol)\n",
    "            ligand = Ligand(pbmol, rdmol, atom_positions=None, conformer_axis=None, filtering=False)\n",
    "            rdmol = ligand.rdmol_noH\n",
    "        except Exception as e:\n",
    "            print(f'Ligand {file} init failed')\n",
    "            print(e)\n",
    "            continue\n",
    "\n",
    "        atom_in_pp = []\n",
    "        for pp_node in ligand.graph.nodes:\n",
    "            atom_indices = list([pp_node.atom_indices]) if type(pp_node.atom_indices)==int else list(sorted(pp_node.atom_indices))\n",
    "            atom_in_pp += atom_indices\n",
    "            # positions = pp_node.positions.squeeze()\n",
    "            # index = pp_node.index\n",
    "            num_nodes = len(atom_indices)\n",
    "\n",
    "            for pp_type in pp_node.types:\n",
    "                # print(pp_type, num_nodes)\n",
    "                num_appearance[pp_type][num_nodes] += 1\n",
    "\n",
    "        conformer = rdmol.GetConformer()\n",
    "        atom_positions = conformer.GetPositions()\n",
    "        num_nodes = rdmol.GetNumAtoms()\n",
    "        # print(atom_positions)\n",
    "        \n",
    "        if len(atom_in_pp) < num_nodes:\n",
    "            non_pp_atom_indices = cluster_non_pp(atom_positions, atom_in_pp)\n",
    "            for group, atom_indices in non_pp_atom_indices.items():\n",
    "                num_nodes = len(atom_indices)\n",
    "                num_appearance['Linker'][num_nodes] += 1"
   ]
  },
  {
   "cell_type": "code",
   "execution_count": 48,
   "id": "8e8cce9c-c056-4b42-833b-11eb1d69b482",
   "metadata": {},
   "outputs": [
    {
     "data": {
      "text/plain": [
       "1390"
      ]
     },
     "execution_count": 48,
     "metadata": {},
     "output_type": "execute_result"
    }
   ],
   "source": [
    "num_appearance['Hydrophobic'][1]"
   ]
  },
  {
   "cell_type": "code",
   "execution_count": 49,
   "id": "9707e234-7384-4e4b-b39f-a0eee2126cdf",
   "metadata": {},
   "outputs": [
    {
     "data": {
      "text/plain": [
       "defaultdict(<function __main__.<dictcomp>.<lambda>()>,\n",
       "            {1: 417, 2: 55, 3: 8, 4: 4, 6: 27})"
      ]
     },
     "execution_count": 49,
     "metadata": {},
     "output_type": "execute_result"
    }
   ],
   "source": [
    "num_appearance['Linker']"
   ]
  },
  {
   "cell_type": "code",
   "execution_count": 50,
   "id": "862e0e3b-2725-42b5-a7ac-2aaa0de3e3cb",
   "metadata": {},
   "outputs": [
    {
     "name": "stdout",
     "output_type": "stream",
     "text": [
      "Linker 511\n",
      "Hydrophobic 1390\n",
      "Aromatic 441\n",
      "Cation 30\n",
      "Anion 88\n",
      "HBond_donor 716\n",
      "HBond_acceptor 433\n",
      "Halogen 175\n"
     ]
    }
   ],
   "source": [
    "# prob_appearance = {k: defaultdict(lambda : 0) for k in PP_TYPE_MAPPING.keys()}\n",
    "prob_appearance = {}\n",
    "for k, d in num_appearance.items():\n",
    "    total_counts = sum(d.values())\n",
    "    print(k, total_counts)\n",
    "    prob_appearance[k] = {num: count/total_counts for num, count in d.items()}\n",
    "    \n",
    "    # for num, count in d.items():\n",
    "    #     prob = count/total_counts\n",
    "        \n",
    "    #     prob_appearance[k][num] = prob"
   ]
  },
  {
   "cell_type": "code",
   "execution_count": 51,
   "id": "b909bb20-af57-48e2-893f-7f760484bee3",
   "metadata": {},
   "outputs": [
    {
     "data": {
      "text/plain": [
       "{'Linker': {1: 0.8160469667318982,\n",
       "  2: 0.10763209393346379,\n",
       "  3: 0.015655577299412915,\n",
       "  4: 0.007827788649706457,\n",
       "  6: 0.05283757338551859},\n",
       " 'Hydrophobic': {1: 1.0},\n",
       " 'Aromatic': {6: 0.8798185941043084, 5: 0.12018140589569161},\n",
       " 'Cation': {1: 0.5333333333333333, 4: 0.4666666666666667},\n",
       " 'Anion': {3: 0.75, 5: 0.25},\n",
       " 'HBond_donor': {1: 1.0},\n",
       " 'HBond_acceptor': {1: 1.0},\n",
       " 'Halogen': {1: 1.0}}"
      ]
     },
     "execution_count": 51,
     "metadata": {},
     "output_type": "execute_result"
    }
   ],
   "source": [
    "prob_appearance"
   ]
  },
  {
   "cell_type": "markdown",
   "id": "5a71cbc5-a9b8-43c1-8d42-ba77e268af7f",
   "metadata": {},
   "source": [
    "# Check the appearance counts and probabilities"
   ]
  },
  {
   "cell_type": "code",
   "execution_count": 8,
   "id": "4b8374e2-a4a3-4ca4-8463-fcb90489f42f",
   "metadata": {},
   "outputs": [],
   "source": [
    "with open('../../data/cleaned_crossdocked_data/metadata/num_appearance.pkl', 'rb') as f:\n",
    "    num_appearance_dict = pickle.load(f)\n",
    "with open('../../data/cleaned_crossdocked_data/metadata/prob_appearance.pkl', 'rb') as f:\n",
    "    prob_appearance_dict = pickle.load(f)"
   ]
  },
  {
   "cell_type": "code",
   "execution_count": 9,
   "id": "2ebd6891-99fc-4610-a914-a6073e7be7f6",
   "metadata": {
    "scrolled": true
   },
   "outputs": [
    {
     "data": {
      "text/plain": [
       "{'Linker': {1: 434824,\n",
       "  2: 98050,\n",
       "  3: 48167,\n",
       "  4: 21414,\n",
       "  6: 6978,\n",
       "  9: 4682,\n",
       "  5: 26234,\n",
       "  8: 2323,\n",
       "  7: 4648,\n",
       "  12: 84,\n",
       "  11: 130,\n",
       "  10: 565,\n",
       "  13: 2,\n",
       "  15: 2,\n",
       "  14: 40},\n",
       " 'Hydrophobic': {1: 785537},\n",
       " 'Aromatic': {6: 332244, 5: 40517, 7: 162},\n",
       " 'Cation': {1: 33689, 4: 6291},\n",
       " 'Anion': {3: 68115, 5: 22139, 4: 1834, 2: 9},\n",
       " 'HBond_donor': {1: 539756},\n",
       " 'HBond_acceptor': {1: 419842},\n",
       " 'Halogen': {1: 123502}}"
      ]
     },
     "execution_count": 9,
     "metadata": {},
     "output_type": "execute_result"
    }
   ],
   "source": [
    "num_appearance_dict"
   ]
  },
  {
   "cell_type": "code",
   "execution_count": 10,
   "id": "1dd8be71-5bd0-4cc1-8ab2-8d2f329caf15",
   "metadata": {},
   "outputs": [
    {
     "data": {
      "text/plain": [
       "{'Linker': {1: 0.6708766429630498,\n",
       "  2: 0.15127834443942154,\n",
       "  3: 0.07431539027652848,\n",
       "  4: 0.03303900528124195,\n",
       "  6: 0.010766142656790245,\n",
       "  9: 0.007223714519789614,\n",
       "  5: 0.04047563577790703,\n",
       "  8: 0.0035840856107371365,\n",
       "  7: 0.0071712569602695704,\n",
       "  12: 0.00012960102940246212,\n",
       "  11: 0.0002005730216942866,\n",
       "  10: 0.0008717212096713225,\n",
       "  13: 3.085738795296717e-06,\n",
       "  15: 3.085738795296717e-06,\n",
       "  14: 6.171477590593434e-05},\n",
       " 'Hydrophobic': {1: 1.0},\n",
       " 'Aromatic': {6: 0.890918500602001,\n",
       "  5: 0.10864709336779979,\n",
       "  7: 0.00043440603019926364},\n",
       " 'Cation': {1: 0.8426463231615808, 4: 0.15735367683841922},\n",
       " 'Anion': {3: 0.7396006384572787,\n",
       "  5: 0.24038785193871678,\n",
       "  4: 0.019913786551136303,\n",
       "  2: 9.77230528681716e-05},\n",
       " 'HBond_donor': {1: 1.0},\n",
       " 'HBond_acceptor': {1: 1.0},\n",
       " 'Halogen': {1: 1.0}}"
      ]
     },
     "execution_count": 10,
     "metadata": {},
     "output_type": "execute_result"
    }
   ],
   "source": [
    "prob_appearance_dict"
   ]
  },
  {
   "cell_type": "code",
   "execution_count": null,
   "id": "2ee86e47-8df2-4167-915f-975c0d57b966",
   "metadata": {},
   "outputs": [],
   "source": []
  }
 ],
 "metadata": {
  "kernelspec": {
   "display_name": "pp2drug",
   "language": "python",
   "name": "pp2drug"
  },
  "language_info": {
   "codemirror_mode": {
    "name": "ipython",
    "version": 3
   },
   "file_extension": ".py",
   "mimetype": "text/x-python",
   "name": "python",
   "nbconvert_exporter": "python",
   "pygments_lexer": "ipython3",
   "version": "3.10.14"
  }
 },
 "nbformat": 4,
 "nbformat_minor": 5
}
