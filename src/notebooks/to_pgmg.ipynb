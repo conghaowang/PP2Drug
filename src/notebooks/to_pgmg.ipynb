{
 "cells": [
  {
   "cell_type": "code",
   "execution_count": 36,
   "id": "fa3cdef8-680f-4006-a95f-7f9037426b26",
   "metadata": {},
   "outputs": [],
   "source": [
    "import pickle\n",
    "import torch\n",
    "from tqdm import tqdm\n",
    "import os\n",
    "import random"
   ]
  },
  {
   "cell_type": "code",
   "execution_count": 37,
   "id": "69fca94c-c60c-4a82-a0f2-65b6928a50fb",
   "metadata": {},
   "outputs": [],
   "source": [
    "random.seed(2024)"
   ]
  },
  {
   "cell_type": "code",
   "execution_count": 7,
   "id": "e348f3fd-79e3-422c-ad7f-da63d6fda248",
   "metadata": {},
   "outputs": [],
   "source": [
    "to_pgmg = {\n",
    "    0: None,\n",
    "    1: 'HYBL',\n",
    "    2: 'AROM',\n",
    "    3: 'POSC',\n",
    "    4: None,\n",
    "    5: 'HDON', \n",
    "    6: 'HACC',\n",
    "    7: None\n",
    "}"
   ]
  },
  {
   "cell_type": "code",
   "execution_count": 3,
   "id": "1eeb6a06-8d5b-4448-9580-7158ab81c927",
   "metadata": {},
   "outputs": [],
   "source": [
    "with open('../../data/cleaned_crossdocked_data/metadata_HDBSCAN_non_filtered/test_pp_info.pkl', 'rb') as f:\n",
    "    metadata = pickle.load(f)"
   ]
  },
  {
   "cell_type": "code",
   "execution_count": 22,
   "id": "5cc31646-2716-4676-8c88-45469aad1403",
   "metadata": {
    "scrolled": true
   },
   "outputs": [
    {
     "data": {
      "text/plain": [
       "array([4, 4, 1, 1, 1, 1, 1, 1, 1, 1, 1, 1, 1, 1, 1, 1, 1, 1, 1, 1, 5])"
      ]
     },
     "execution_count": 22,
     "metadata": {},
     "output_type": "execute_result"
    }
   ],
   "source": [
    "example = metadata['2z9y_A_rec_2z9y_ddr_lig_tt_min_0']\n",
    "pp_types = torch.argmax(example['pp_types'][0], dim=-1).numpy()\n",
    "pp_types"
   ]
  },
  {
   "cell_type": "code",
   "execution_count": 18,
   "id": "1c55b39e-bcf3-4455-8190-10fa3858a742",
   "metadata": {},
   "outputs": [
    {
     "data": {
      "text/plain": [
       "array([[  9.2817 ,  29.60305,  -2.03555],\n",
       "       [  6.06995,  28.6977 ,  -1.95665],\n",
       "       [ 10.608  ,  29.9543 ,  -3.682  ],\n",
       "       [ 10.6176 ,  28.7669 ,  -4.6239 ],\n",
       "       [ 11.0311 ,  29.2232 ,  -6.0101 ],\n",
       "       [ 11.3883 ,  28.029  ,  -6.8773 ],\n",
       "       [ 10.1891 ,  27.575  ,  -7.6878 ],\n",
       "       [ 10.6624 ,  26.7021 ,  -8.8305 ],\n",
       "       [  9.4764 ,  26.2818 ,  -9.6707 ],\n",
       "       [  9.9597 ,  25.5057 , -10.8767 ],\n",
       "       [  8.9943 ,  24.3769 , -11.1695 ],\n",
       "       [  5.9186 ,  27.376  ,  -3.6346 ],\n",
       "       [  7.3107 ,  27.144  ,  -4.1952 ],\n",
       "       [  7.2478 ,  26.2074 ,  -5.3869 ],\n",
       "       [  6.646  ,  26.9239 ,  -6.5805 ],\n",
       "       [  6.4477 ,  25.9412 ,  -7.7138 ],\n",
       "       [  5.3355 ,  26.4342 ,  -8.6191 ],\n",
       "       [  5.5933 ,  26.0112 , -10.0574 ],\n",
       "       [  6.0605 ,  27.1842 , -10.9068 ],\n",
       "       [  4.9146 ,  28.1441 , -11.1655 ],\n",
       "       [  7.5198 ,  31.1574 ,   1.2522 ]], dtype=float32)"
      ]
     },
     "execution_count": 18,
     "metadata": {},
     "output_type": "execute_result"
    }
   ],
   "source": [
    "pp_positions = example['pp_positions'][0].numpy()\n",
    "pp_positions"
   ]
  },
  {
   "cell_type": "code",
   "execution_count": 23,
   "id": "f5bf40bd-c531-4da0-8416-eb3cc8d0e2dc",
   "metadata": {},
   "outputs": [],
   "source": [
    "assert pp_types.shape[0] == pp_positions.shape[0]"
   ]
  },
  {
   "cell_type": "code",
   "execution_count": 24,
   "id": "385f5ac5-66fc-437c-91a2-95f68157be91",
   "metadata": {},
   "outputs": [
    {
     "data": {
      "text/plain": [
       "[('HYBL', 10.608, 29.9543, -3.682),\n",
       " ('HYBL', 10.6176, 28.7669, -4.6239),\n",
       " ('HYBL', 11.0311, 29.2232, -6.0101),\n",
       " ('HYBL', 11.3883, 28.029, -6.8773),\n",
       " ('HYBL', 10.1891, 27.575, -7.6878),\n",
       " ('HYBL', 10.6624, 26.7021, -8.8305),\n",
       " ('HYBL', 9.4764, 26.2818, -9.6707),\n",
       " ('HYBL', 9.9597, 25.5057, -10.8767),\n",
       " ('HYBL', 8.9943, 24.3769, -11.1695),\n",
       " ('HYBL', 5.9186, 27.376, -3.6346),\n",
       " ('HYBL', 7.3107, 27.144, -4.1952),\n",
       " ('HYBL', 7.2478, 26.2074, -5.3869),\n",
       " ('HYBL', 6.646, 26.9239, -6.5805),\n",
       " ('HYBL', 6.4477, 25.9412, -7.7138),\n",
       " ('HYBL', 5.3355, 26.4342, -8.6191),\n",
       " ('HYBL', 5.5933, 26.0112, -10.0574),\n",
       " ('HYBL', 6.0605, 27.1842, -10.9068),\n",
       " ('HYBL', 4.9146, 28.1441, -11.1655),\n",
       " ('HDON', 7.5198, 31.1574, 1.2522)]"
      ]
     },
     "execution_count": 24,
     "metadata": {},
     "output_type": "execute_result"
    }
   ],
   "source": [
    "pp_l = []\n",
    "for i in range(pp_types.shape[0]):\n",
    "    pp_type = to_pgmg[pp_types[i]]\n",
    "    if pp_type is None:\n",
    "        continue\n",
    "    pos = pp_positions[i]\n",
    "    pp_l.append((pp_type, pos[0], pos[1], pos[2]))\n",
    "\n",
    "pp_l"
   ]
  },
  {
   "cell_type": "code",
   "execution_count": 43,
   "id": "233759be-2e87-4791-95e6-4d8ea0c9588f",
   "metadata": {},
   "outputs": [],
   "source": [
    "pgmg_dict = {}\n",
    "for k, v in metadata.items():\n",
    "    pp_l = []\n",
    "    pp_types = torch.argmax(v['pp_types'][0], dim=-1).numpy()\n",
    "    pp_positions = v['pp_positions'][0].numpy()\n",
    "    assert pp_types.shape[0] == pp_positions.shape[0]\n",
    "    for i in range(pp_types.shape[0]):\n",
    "        pp_type = to_pgmg[pp_types[i]]\n",
    "        if pp_type is None:\n",
    "            continue\n",
    "        pos = pp_positions[i]\n",
    "        pp_l.append((pp_type, pos[0], pos[1], pos[2]))\n",
    "\n",
    "    if len(pp_l) > 8:\n",
    "        pp_l = random.sample(pp_l, 8)\n",
    "\n",
    "    if len(pp_l) <= 1:\n",
    "        continue\n",
    "    pgmg_dict[k] = pp_l"
   ]
  },
  {
   "cell_type": "code",
   "execution_count": 44,
   "id": "8cac24c1-b348-4955-ac3b-0e1974c18b24",
   "metadata": {
    "scrolled": true
   },
   "outputs": [
    {
     "data": {
      "text/plain": [
       "[('AROM', 66.92267, -48.447903, 96.63404),\n",
       " ('HDON', 66.9997, -45.2465, 101.2257),\n",
       " ('HDON', 69.3724, -47.9308, 97.6562),\n",
       " ('HDON', 67.855, -44.2498, 99.1071),\n",
       " ('HYBL', 67.9754, -46.1456, 97.5954),\n",
       " ('HDON', 64.3444, -48.7586, 95.6304),\n",
       " ('HACC', 68.5602, -50.527, 96.7065),\n",
       " ('HDON', 65.6878, -42.2237, 97.9142)]"
      ]
     },
     "execution_count": 44,
     "metadata": {},
     "output_type": "execute_result"
    }
   ],
   "source": [
    "pgmg_dict['1a9p_A_rec_1b8n_img_lig_tt_min_0']"
   ]
  },
  {
   "cell_type": "code",
   "execution_count": 45,
   "id": "3844d261-c292-4055-9ea1-a7a44cd2d928",
   "metadata": {},
   "outputs": [],
   "source": [
    "save_path = '/home2/conghao001/pharmacophore2drug/PGMG/data/crossdocked'"
   ]
  },
  {
   "cell_type": "code",
   "execution_count": 47,
   "id": "f836a501-2f7b-4b55-a4b5-10e18ce2e1dc",
   "metadata": {},
   "outputs": [
    {
     "name": "stderr",
     "output_type": "stream",
     "text": [
      "100%|██████████████████████████████████████████████████████████████████████| 15074/15074 [00:01<00:00, 9421.93it/s]\n"
     ]
    }
   ],
   "source": [
    "for k, v in tqdm(pgmg_dict.items()):\n",
    "    fn = os.path.join(save_path, k + '.posp')\n",
    "    with open(fn, 'w') as f:\n",
    "        for node in v:\n",
    "            f.write(f\"{node[0]} {node[1]} {node[2]} {node[3]}\\n\")"
   ]
  },
  {
   "cell_type": "code",
   "execution_count": null,
   "id": "f9b75ad2-9727-4ad7-87e1-8f5f09b60703",
   "metadata": {},
   "outputs": [],
   "source": []
  }
 ],
 "metadata": {
  "kernelspec": {
   "display_name": "pp2drug",
   "language": "python",
   "name": "pp2drug"
  },
  "language_info": {
   "codemirror_mode": {
    "name": "ipython",
    "version": 3
   },
   "file_extension": ".py",
   "mimetype": "text/x-python",
   "name": "python",
   "nbconvert_exporter": "python",
   "pygments_lexer": "ipython3",
   "version": "3.10.14"
  }
 },
 "nbformat": 4,
 "nbformat_minor": 5
}
