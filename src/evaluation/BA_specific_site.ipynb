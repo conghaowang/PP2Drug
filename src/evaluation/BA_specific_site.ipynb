{
 "cells": [
  {
   "cell_type": "code",
   "execution_count": 2,
   "id": "2da0253f-2b6b-43cf-9dcd-c07a762e9dfd",
   "metadata": {},
   "outputs": [],
   "source": [
    "%load_ext autoreload\n",
    "%autoreload 2"
   ]
  },
  {
   "cell_type": "code",
   "execution_count": 3,
   "id": "7952e605-1d2c-406c-a92c-2da1aaf666f1",
   "metadata": {},
   "outputs": [],
   "source": [
    "import pandas as pd \n",
    "import numpy as np\n",
    "import os\n",
    "from math import ceil\n",
    "from tqdm import tqdm\n",
    "from rdkit import Chem\n",
    "from rdkit.Chem.rdForceFieldHelpers import UFFOptimizeMolecule\n",
    "import re"
   ]
  },
  {
   "cell_type": "code",
   "execution_count": 4,
   "id": "42cba0cf-2fbb-4770-98cf-2f1ee382ee88",
   "metadata": {},
   "outputs": [],
   "source": [
    "import sys\n",
    "sys.path.append('../evaluation/')"
   ]
  },
  {
   "cell_type": "code",
   "execution_count": 5,
   "id": "1f1574d7-a47b-48bb-9937-f963649a0a80",
   "metadata": {},
   "outputs": [],
   "source": [
    "from utils_eval import build_pdb_dict"
   ]
  },
  {
   "cell_type": "code",
   "execution_count": 6,
   "id": "d932e50a-0b3a-43f7-8428-81d5e897dc34",
   "metadata": {},
   "outputs": [],
   "source": [
    "# root_path = 'pharmacophore_specific_eval/1ywn'  # 0 0 \n",
    "# root_path = 'pharmacophore_specific_eval/4ara' # 0.48 0.49\n",
    "# root_path = 'pharmacophore_specific_eval/1lhn'  # 0.08 0.08\n",
    "# root_path = 'pharmacophore_specific_eval/4b84'  # 0.57 0.70\n",
    "# root_path = 'pharmacophore_specific_eval/5ni6'  # 0.07 0.08\n",
    "# root_path = 'pharmacophore_specific_eval/5idn'  # 0.23 0.25 \n",
    "# root_path = 'pharmacophore_specific_eval/5ni2'  # 0.13 0.15\n",
    "# root_path = 'pharmacophore_specific_eval/4ijw'  # 0.36 0.39\n",
    "# root_path = 'pharmacophore_specific_eval/3ey4'  # 0.49 0.45\n",
    "# root_path = 'pharmacophore_specific_eval/3r58'  # 0.70 0.70\n",
    "# root_path = 'pharmacophore_specific_eval/4k1l'  # 0.58 0.62\n",
    "\n",
    "\n",
    "\n",
    "# aromatic = True"
   ]
  },
  {
   "cell_type": "code",
   "execution_count": 69,
   "id": "f3cd000d-9329-4ac7-bf28-8f9a4e0b53e4",
   "metadata": {},
   "outputs": [],
   "source": [
    "# ligand_name = '1ywn_A_rec_1ywn_lif_lig_tt_docked_0'  # 0 0\n",
    "# ligand_name = '4b81_B_rec_4ara_c56_lig_tt_min_0'  # 0.41 0.51\n",
    "# ligand_name = '1lhu_A_rec_1lhn_aon_lig_tt_min_0'  # 0.07 0.11\n",
    "# ligand_name = '4b84_A_rec_4b84_z5k_lig_tt_min_0'  # 0.60 0.61\n",
    "# ligand_name = '3fu5_A_rec_5ni6_dj3_lig_tt_min_0'  \n",
    "# ligand_name = '5hbh_A_rec_5idn_6a7_lig_tt_min_0'\n",
    "# ligand_name = '5aen_A_rec_5ni2_dj3_lig_tt_min_0'\n",
    "# ligand_name = '3d3e_B_rec_4ijw_1eq_lig_tt_min_0'\n",
    "# ligand_name = '4yyz_B_rec_3ey4_352_lig_tt_docked_12'\n",
    "# ligand_name = '4h7c_A_rec_3r58_nps_lig_tt_min_0'  # 0.64 0.70\n",
    "# ligand_name = '3ey4_C_rec_4k1l_sff_lig_tt_min_0'  # 0.59 0.59 \n",
    "\n",
    "# ligand_name = '3hfg_A_rec_3hfg_17r_lig_tt_min_0'\n",
    "# ligand_name = '3ey4_C_rec_5pgu_8k4_lig_tt_min_0'  # 0.11 0.10\n",
    "# ligand_name = '5ni2_A_rec_5aen_dp8_lig_tt_min_0'\n",
    "# ligand_name = '3fu5_A_rec_5ni6_dj3_lig_tt_min_0'\n",
    "# ligand_name = '4yyz_B_rec_2ilt_nn1_lig_tt_min_0'  # 0.16 0.20 \n",
    "# ligand_name = '4bnn_A_rec_4bnm_tcu_lig_tt_min_0'\n",
    "# ligand_name = '4yvx_A_rec_1s2a_imn_lig_tt_min_0'\n",
    "# ligand_name = '3czr_B_rec_4bb5_hd2_lig_tt_min_0'\n",
    "# ligand_name = '3czr_A_rec_2ilt_nn1_lig_tt_min_0'\n",
    "# ligand_name = '4b84_A_rec_4btl_5gz_lig_tt_min_0'\n",
    "# ligand_name = '3fue_A_rec_3ftv_11x_lig_tt_min_0'  # 0.04 0.05\n",
    "# ligand_name = '4bnk_B_rec_4d44_ja3_lig_tt_min_0'  # 0.26 0.27\n",
    "# ligand_name = '3qqp_B_rec_4k1l_sff_lig_tt_min_0'\n",
    "# ligand_name = '4wdu_A_rec_3r94_flr_lig_tt_min_0'  # 0.37 0.27\n",
    "# ligand_name = '4alj_A_rec_4bnf_pv4_lig_tt_docked_0'  # 0.24 0.24\n",
    "# ligand_name = '1ejj_A_rec_1o99_2pg_lig_tt_docked_0'\n",
    "# ligand_name = '4h96_B_rec_4h95_06u_lig_tt_min_0'  # 0.40 0.42\n",
    "# ligand_name = '2oa6_D_rec_4kvi_1sv_lig_tt_min_0'  # 0.36 0.41\n",
    "# ligand_name = '4hx5_B_rec_3bzu_a21_lig_tt_min_0'\n",
    "# ligand_name = '5pgy_D_rec_3bzu_a21_lig_tt_min_0'\n",
    "# ligand_name = '5pgv_A_rec_3bzu_a21_lig_tt_min_0'\n",
    "# ligand_name = '4kux_B_rec_4kvw_jf4_lig_tt_min_0'  # 0.61 0.63\n",
    "# ligand_name = '4bnk_B_rec_4bnl_w1g_lig_tt_min_0'\n",
    "# ligand_name = '4b82_B_rec_4ara_c56_lig_tt_min_0'  # 0.42 0.53\n",
    "# ligand_name = '4pm0_A_rec_4y2b_epk_lig_tt_min_0'\n",
    "# ligand_name = '4ms6_A_rec_3fuh_5h1_lig_tt_min_0'  # 0.02 0.02\n",
    "# ligand_name = '5ivg_B_rec_4kvy_jf1_lig_tt_docked_9'  # 0.61 0.69\n",
    "# ligand_name = '3r8h_A_rec_3r8h_zom_lig_tt_min_0'\n",
    "# ligand_name = '1aoe_A_rec_3qlr_qlr_lig_tt_docked_4'  # 0.19 0.28\n",
    "# ligand_name = '2ilt_A_rec_3ey4_352_lig_tt_min_0'  # 0.70 0.71\n",
    "# ligand_name = '2g1q_A_rec_1x88_nat_lig_tt_min_0'  # 0.59 0.59\n",
    "# ligand_name = '5imp_B_rec_4kwd_jf2_lig_tt_min_0'  # 0.54 0.55\n",
    "# ligand_name = '4d45_A_rec_4ali_tcl_lig_tt_min_0'  # 0.57 0.52\n",
    "# ligand_name = '5ivg_B_rec_4kvw_jf4_lig_tt_min_0'\n",
    "# ligand_name = '2rbe_C_rec_3byz_h11_lig_tt_min_0'\n",
    "# ligand_name = '2whr_A_rec_3zlv_hi6_lig_tt_min_0'\n",
    "# ligand_name = '4hmn_A_rec_3ufy_npx_lig_tt_min_0'\n",
    "# ligand_name = '4h7c_A_rec_3r6i_jms_lig_tt_min_0'\n",
    "# ligand_name = '1pha_A_rec_1phg_myt_lig_tt_min_0'\n",
    "# ligand_name = '1phd_A_rec_1phg_myt_lig_tt_min_0'\n",
    "# ligand_name = '1phg_A_rec_1phe_piy_lig_tt_min_0'\n",
    "# ligand_name = '1phg_A_rec_1phg_myt_lig_tt_min_0'\n",
    "# ligand_name = '1p2y_A_rec_1phg_myt_lig_tt_min_0'\n",
    "# ligand_name = '1p2y_A_rec_1phe_piy_lig_tt_min_0'\n",
    "# ligand_name = '5lgq_D_rec_4ikp_4ik_lig_tt_docked_1'\n",
    "# ligand_name = '1c8j_A_rec_1p2y_nct_lig_tt_min_0'\n",
    "# ligand_name = '1l5l_A_rec_1l4l_xyd_lig_tt_min_0'\n",
    "# ligand_name = '4l0s_A_rec_5al5_jl9_lig_tt_min_0'\n",
    "# ligand_name = '2pg2_A_rec_2wog_zzd_lig_tt_min_0'\n",
    "# ligand_name = '4yur_A_rec_3cok_anp_lig_tt_min_0'\n",
    "# ligand_name = '3ny8_A_rec_4ldo_ale_lig_tt_docked_4'  # remove atom 11\n",
    "\n",
    "# ligand_name = '4mrg_A_rec_5bzf_4x3_lig_tt_docked_2'\n",
    "# ligand_name = '1k4h_A_rec_1p0b_pq0_lig_tt_docked_0'\n",
    "\n",
    "# ligand_name = '3nbq_B_rec_3nbq_urf_lig_tt_docked_2'\n",
    "# ligand_name = '3p1c_B_rec_3p1f_3pf_lig_tt_min_0'\n",
    "# ligand_name = '5swg_A_rec_5swt_71a_lig_tt_min_0'\n",
    "# ligand_name = '3euf_A_rec_3nbq_urf_lig_tt_min_0'\n",
    "# ligand_name = '2vce_A_rec_2vce_tc7_lig_tt_docked_0'\n",
    "# ligand_name = '4xud_A_rec_5lsa_dnc_lig_tt_docked_2'\n",
    "# ligand_name = '1eoc_A_rec_2buz_4nc_lig_tt_docked_4'\n",
    "# ligand_name = '1y5x_A_rec_4puk_2wu_lig_tt_min_0'\n",
    "# ligand_name = '1k4h_A_rec_1p0b_pq0_lig_tt_docked_0'\n",
    "# ligand_name = '1eob_A_rec_2buz_4nc_lig_tt_min_0'\n",
    "# ligand_name = '4mrg_A_rec_5bzf_4x3_lig_tt_docked_2'\n",
    "# ligand_name = '4xuc_A_rec_5lsa_dnc_lig_tt_min_0'\n",
    "# ligand_name = '1kwc_B_rec_1eir_bpy_lig_tt_min_0'\n",
    "# ligand_name = '2vce_A_rec_2vce_tc7_lig_tt_min_0'\n",
    "# ligand_name = '1eoc_A_rec_1eoc_4nc_lig_tt_min_0'\n",
    "# ligand_name = '5mpz_A_rec_5mqg_f31_lig_tt_docked_3'\n",
    "# ligand_name = '2buq_A_rec_2buz_4nc_lig_tt_min_0'\n",
    "# ligand_name = '4mrf_A_rec_4mre_2c9_lig_tt_min_0'\n",
    "# ligand_name = '1k9s_D_rec_1a69_fmb_lig_tt_min_0'\n",
    "# ligand_name = '5i00_A_rec_1enu_apz_lig_tt_min_0'\n",
    "# ligand_name = '1eoc_A_rec_2buz_4nc_lig_tt_min_0'\n",
    "# ligand_name = '2bur_A_rec_2buz_4nc_lig_tt_min_0'\n",
    "# ligand_name = '3eue_A_rec_3nbq_urf_lig_tt_min_0'\n",
    "# ligand_name = '4xue_B_rec_5lsa_dnc_lig_tt_docked_10'\n",
    "# ligand_name = '5jxq_A_rec_1p0b_pq0_lig_tt_min_0'\n",
    "# ligand_name = '1eob_A_rec_2buu_4nc_lig_tt_min_0'\n",
    "# ligand_name = '3rr4_A_rec_1p0b_pq0_lig_tt_min_0'\n",
    "# ligand_name = '2vch_A_rec_2vce_tc7_lig_tt_min_0'\n",
    "# ligand_name = '2buu_A_rec_1eoc_4nc_lig_tt_min_0'\n",
    "# ligand_name = '4xuc_A_rec_5lsa_dnc_lig_tt_docked_7'\n",
    "\n",
    "ligand_name = '2bur_A_rec_1eoc_4nc_lig_tt_min_0'\n",
    "# ligand_name = '1oty_A_rec_3occ_dih_lig_tt_docked_18'\n",
    "# ligand_name = '5uez_A_rec_5uev_88y_lig_tt_min_0'\n",
    "\n"
   ]
  },
  {
   "cell_type": "code",
   "execution_count": 70,
   "id": "86430293-e3bc-41c5-9679-64cd7e7de063",
   "metadata": {},
   "outputs": [],
   "source": [
    "# folder_name = ligand_name[ligand_name.rfind('rec')+4:ligand_name.rfind('rec')+8]\n",
    "bridge_type = 'vp'\n",
    "root_path = os.path.join('structure_based', bridge_type, ligand_name)\n",
    "\n",
    "aromatic = True\n",
    "optimization = False\n",
    "\n",
    "log_path = os.path.join(root_path, 'logs')\n",
    "log_path = log_path+'_aromatic' if aromatic else log_path\n",
    "log_path += '_optimized' if optimization else ''"
   ]
  },
  {
   "cell_type": "code",
   "execution_count": 21,
   "id": "cb1c131f-0b24-49ec-817e-0cfecb382691",
   "metadata": {},
   "outputs": [],
   "source": [
    "# pocket2mol\n",
    "aromatic = False\n",
    "root_path = os.path.join('/home2/conghao001/protein2drug/Pocket2Mol/outputs_selected_pdb', ligand_name)\n",
    "log_path = os.path.join(root_path, 'logs')"
   ]
  },
  {
   "cell_type": "code",
   "execution_count": 80,
   "id": "f75a2fc4-1077-44a6-89b2-42353b7acbed",
   "metadata": {},
   "outputs": [],
   "source": [
    "# targetdiff\n",
    "aromatic = False\n",
    "root_path = os.path.join('/home2/conghao001/e3_mol_design/targetdiff/scripts/outputs_selected_pdb', ligand_name)\n",
    "log_path = os.path.join(root_path, 'logs')"
   ]
  },
  {
   "cell_type": "code",
   "execution_count": 81,
   "id": "718fa419-8c23-4142-85d8-51e6b3662599",
   "metadata": {},
   "outputs": [],
   "source": [
    "raw_data_path = '../../data/cleaned_crossdocked_data/raw'\n",
    "\n",
    "log_files = os.listdir(log_path)\n",
    "pdb_dict, pdb_rev_dict = build_pdb_dict(raw_data_path)"
   ]
  },
  {
   "cell_type": "code",
   "execution_count": 82,
   "id": "2d17d768-6035-4512-8775-c53f21bc40bd",
   "metadata": {},
   "outputs": [],
   "source": [
    "def get_minimized_affinity(filename, mode='ref'):\n",
    "    if mode == 'ref':\n",
    "        with open(filename, 'r') as file:\n",
    "            for line in file:\n",
    "                if '<minimizedAffinity>' in line:\n",
    "                    # The next line after '<minimizedAffinity>' contains the value\n",
    "                    return float(next(file))\n",
    "            \n",
    "    else:\n",
    "        with open(filename, 'r') as f:\n",
    "            lines = f.readlines()\n",
    "            lines = lines[19:28]\n",
    "#             print(len(lines))\n",
    "            n = len(lines)\n",
    "            arr = np.zeros(n)\n",
    "            cnn_arr = np.zeros(n)\n",
    "            # print(filename)\n",
    "            for i in range(n):\n",
    "                arr[i] = float(lines[i][11:17])\n",
    "                cnn_arr[i] = float(lines[i][34:42])\n",
    "#             print(arr)\n",
    "            try:\n",
    "                score = np.min(arr)\n",
    "                cnn_score = np.min(cnn_arr)\n",
    "            except:\n",
    "                score = None\n",
    "                cnn_score = None\n",
    "                print(f'{filename} failed')\n",
    "                print('its scores: ', arr)\n",
    "        return score, cnn_score"
   ]
  },
  {
   "cell_type": "code",
   "execution_count": 83,
   "id": "f8732eb7-6580-493f-a582-8895f228ddc0",
   "metadata": {},
   "outputs": [],
   "source": [
    "def get_affinity_best_pose(filename):\n",
    "    with open(filename, 'r') as f:\n",
    "        lines = f.readlines()\n",
    "        lines = lines[19:28]\n",
    "        try:\n",
    "            score = float(lines[0][11:17])\n",
    "            cnn_score = float(lines[0][34:42])\n",
    "            # cnn_score = float(lines[0][24:30])\n",
    "        except:\n",
    "            score = None\n",
    "            cnn_score = None\n",
    "        return score, cnn_score"
   ]
  },
  {
   "cell_type": "code",
   "execution_count": 84,
   "id": "233eca9b-c86f-499f-93c1-868584b9fe2d",
   "metadata": {
    "scrolled": true
   },
   "outputs": [
    {
     "name": "stderr",
     "output_type": "stream",
     "text": [
      "100%|█████████████████████████████████████████████████████████████████████████████| 10/10 [00:00<00:00, 583.69it/s]\n"
     ]
    }
   ],
   "source": [
    "# ligand_filename = '1ywn_A_rec_1ywn_lif_lig_tt_docked_0.sdf'\n",
    "# ligand_filename = '4b81_B_rec_4ara_c56_lig_tt_min_0.sdf'\n",
    "# ligand_filename = '1lhu_A_rec_1lhn_aon_lig_tt_min_0.sdf'\n",
    "# ligand_filename = '4b84_A_rec_4b84_z5k_lig_tt_min_0.sdf'\n",
    "# ligand_filename = '3fu5_A_rec_5ni6_dj3_lig_tt_min_0.sdf'\n",
    "# ligand_filename = '5hbh_A_rec_5idn_6a7_lig_tt_min_0.sdf'\n",
    "# ligand_filename = '5aen_A_rec_5ni2_dj3_lig_tt_min_0.sdf'\n",
    "# ligand_filename = '3d3e_B_rec_4ijw_1eq_lig_tt_min_0.sdf'\n",
    "# ligand_filename = '4yyz_B_rec_3ey4_352_lig_tt_docked_12.sdf'\n",
    "# ligand_filename = '4h7c_A_rec_3r58_nps_lig_tt_min_0.sdf'\n",
    "# ligand_filename = '3ey4_C_rec_4k1l_sff_lig_tt_min_0.sdf'\n",
    "\n",
    "ligand_filename = ligand_name + '.sdf'\n",
    "pdb_folder = pdb_rev_dict[ligand_filename]\n",
    "ref_file = os.path.join(raw_data_path, pdb_folder, ligand_filename)\n",
    "ref_score = get_minimized_affinity(ref_file, 'ref')\n",
    "\n",
    "score_dict = {}\n",
    "for log_file in tqdm(log_files):\n",
    "    filename = log_file.split('.')[0]\n",
    "#     print(log_file)\n",
    "    # gen_score, cnn_score = get_minimized_affinity(os.path.join(log_path, log_file), 'gen')\n",
    "    gen_score, cnn_score = get_affinity_best_pose(os.path.join(log_path, log_file))\n",
    "    score_dict[filename] = [gen_score, cnn_score, ref_score]"
   ]
  },
  {
   "cell_type": "code",
   "execution_count": 85,
   "id": "b8ab1643-bbcf-4644-a02f-68d3b5feebec",
   "metadata": {},
   "outputs": [
    {
     "data": {
      "text/html": [
       "<div>\n",
       "<style scoped>\n",
       "    .dataframe tbody tr th:only-of-type {\n",
       "        vertical-align: middle;\n",
       "    }\n",
       "\n",
       "    .dataframe tbody tr th {\n",
       "        vertical-align: top;\n",
       "    }\n",
       "\n",
       "    .dataframe thead th {\n",
       "        text-align: right;\n",
       "    }\n",
       "</style>\n",
       "<table border=\"1\" class=\"dataframe\">\n",
       "  <thead>\n",
       "    <tr style=\"text-align: right;\">\n",
       "      <th></th>\n",
       "      <th>Binding affinity</th>\n",
       "      <th>CNN score</th>\n",
       "      <th>Reference</th>\n",
       "    </tr>\n",
       "  </thead>\n",
       "  <tbody>\n",
       "    <tr>\n",
       "      <th>006</th>\n",
       "      <td>-5.80</td>\n",
       "      <td>0.5014</td>\n",
       "      <td>-5.39065</td>\n",
       "    </tr>\n",
       "    <tr>\n",
       "      <th>037</th>\n",
       "      <td>-1.59</td>\n",
       "      <td>0.6322</td>\n",
       "      <td>-5.39065</td>\n",
       "    </tr>\n",
       "    <tr>\n",
       "      <th>005</th>\n",
       "      <td>11.34</td>\n",
       "      <td>0.3919</td>\n",
       "      <td>-5.39065</td>\n",
       "    </tr>\n",
       "    <tr>\n",
       "      <th>022</th>\n",
       "      <td>-3.93</td>\n",
       "      <td>0.7270</td>\n",
       "      <td>-5.39065</td>\n",
       "    </tr>\n",
       "    <tr>\n",
       "      <th>068</th>\n",
       "      <td>-4.92</td>\n",
       "      <td>0.8596</td>\n",
       "      <td>-5.39065</td>\n",
       "    </tr>\n",
       "    <tr>\n",
       "      <th>098</th>\n",
       "      <td>3.87</td>\n",
       "      <td>0.6661</td>\n",
       "      <td>-5.39065</td>\n",
       "    </tr>\n",
       "    <tr>\n",
       "      <th>065</th>\n",
       "      <td>-6.11</td>\n",
       "      <td>0.9031</td>\n",
       "      <td>-5.39065</td>\n",
       "    </tr>\n",
       "    <tr>\n",
       "      <th>011</th>\n",
       "      <td>-3.27</td>\n",
       "      <td>0.4860</td>\n",
       "      <td>-5.39065</td>\n",
       "    </tr>\n",
       "    <tr>\n",
       "      <th>035</th>\n",
       "      <td>3.13</td>\n",
       "      <td>0.5848</td>\n",
       "      <td>-5.39065</td>\n",
       "    </tr>\n",
       "    <tr>\n",
       "      <th>009</th>\n",
       "      <td>-6.63</td>\n",
       "      <td>0.8356</td>\n",
       "      <td>-5.39065</td>\n",
       "    </tr>\n",
       "  </tbody>\n",
       "</table>\n",
       "</div>"
      ],
      "text/plain": [
       "     Binding affinity  CNN score  Reference\n",
       "006             -5.80     0.5014   -5.39065\n",
       "037             -1.59     0.6322   -5.39065\n",
       "005             11.34     0.3919   -5.39065\n",
       "022             -3.93     0.7270   -5.39065\n",
       "068             -4.92     0.8596   -5.39065\n",
       "098              3.87     0.6661   -5.39065\n",
       "065             -6.11     0.9031   -5.39065\n",
       "011             -3.27     0.4860   -5.39065\n",
       "035              3.13     0.5848   -5.39065\n",
       "009             -6.63     0.8356   -5.39065"
      ]
     },
     "execution_count": 85,
     "metadata": {},
     "output_type": "execute_result"
    }
   ],
   "source": [
    "df = pd.DataFrame.from_dict(score_dict, orient='index', columns=['Binding affinity', 'CNN score', 'Reference'])\n",
    "df"
   ]
  },
  {
   "cell_type": "code",
   "execution_count": 86,
   "id": "c20eb023-7aba-4f08-a923-cf1ae74edbd4",
   "metadata": {
    "scrolled": true
   },
   "outputs": [
    {
     "data": {
      "text/html": [
       "<div>\n",
       "<style scoped>\n",
       "    .dataframe tbody tr th:only-of-type {\n",
       "        vertical-align: middle;\n",
       "    }\n",
       "\n",
       "    .dataframe tbody tr th {\n",
       "        vertical-align: top;\n",
       "    }\n",
       "\n",
       "    .dataframe thead th {\n",
       "        text-align: right;\n",
       "    }\n",
       "</style>\n",
       "<table border=\"1\" class=\"dataframe\">\n",
       "  <thead>\n",
       "    <tr style=\"text-align: right;\">\n",
       "      <th></th>\n",
       "      <th>Binding affinity</th>\n",
       "      <th>CNN score</th>\n",
       "      <th>Reference</th>\n",
       "    </tr>\n",
       "  </thead>\n",
       "  <tbody>\n",
       "    <tr>\n",
       "      <th>006</th>\n",
       "      <td>-5.80</td>\n",
       "      <td>0.5014</td>\n",
       "      <td>-5.39065</td>\n",
       "    </tr>\n",
       "    <tr>\n",
       "      <th>065</th>\n",
       "      <td>-6.11</td>\n",
       "      <td>0.9031</td>\n",
       "      <td>-5.39065</td>\n",
       "    </tr>\n",
       "    <tr>\n",
       "      <th>009</th>\n",
       "      <td>-6.63</td>\n",
       "      <td>0.8356</td>\n",
       "      <td>-5.39065</td>\n",
       "    </tr>\n",
       "  </tbody>\n",
       "</table>\n",
       "</div>"
      ],
      "text/plain": [
       "     Binding affinity  CNN score  Reference\n",
       "006             -5.80     0.5014   -5.39065\n",
       "065             -6.11     0.9031   -5.39065\n",
       "009             -6.63     0.8356   -5.39065"
      ]
     },
     "execution_count": 86,
     "metadata": {},
     "output_type": "execute_result"
    }
   ],
   "source": [
    "filtered_df = df.loc[df['Binding affinity']<df['Reference']]\n",
    "filtered_df"
   ]
  },
  {
   "cell_type": "code",
   "execution_count": 87,
   "id": "da4d6d23-c18c-4a83-bb83-1705f86838a3",
   "metadata": {
    "scrolled": true
   },
   "outputs": [
    {
     "data": {
      "text/html": [
       "<div>\n",
       "<style scoped>\n",
       "    .dataframe tbody tr th:only-of-type {\n",
       "        vertical-align: middle;\n",
       "    }\n",
       "\n",
       "    .dataframe tbody tr th {\n",
       "        vertical-align: top;\n",
       "    }\n",
       "\n",
       "    .dataframe thead th {\n",
       "        text-align: right;\n",
       "    }\n",
       "</style>\n",
       "<table border=\"1\" class=\"dataframe\">\n",
       "  <thead>\n",
       "    <tr style=\"text-align: right;\">\n",
       "      <th></th>\n",
       "      <th>Binding affinity</th>\n",
       "      <th>CNN score</th>\n",
       "      <th>Reference</th>\n",
       "    </tr>\n",
       "  </thead>\n",
       "  <tbody>\n",
       "    <tr>\n",
       "      <th>065</th>\n",
       "      <td>-6.11</td>\n",
       "      <td>0.9031</td>\n",
       "      <td>-5.39065</td>\n",
       "    </tr>\n",
       "    <tr>\n",
       "      <th>009</th>\n",
       "      <td>-6.63</td>\n",
       "      <td>0.8356</td>\n",
       "      <td>-5.39065</td>\n",
       "    </tr>\n",
       "    <tr>\n",
       "      <th>006</th>\n",
       "      <td>-5.80</td>\n",
       "      <td>0.5014</td>\n",
       "      <td>-5.39065</td>\n",
       "    </tr>\n",
       "  </tbody>\n",
       "</table>\n",
       "</div>"
      ],
      "text/plain": [
       "     Binding affinity  CNN score  Reference\n",
       "065             -6.11     0.9031   -5.39065\n",
       "009             -6.63     0.8356   -5.39065\n",
       "006             -5.80     0.5014   -5.39065"
      ]
     },
     "execution_count": 87,
     "metadata": {},
     "output_type": "execute_result"
    }
   ],
   "source": [
    "sorted_df = filtered_df.sort_values(by='CNN score', ascending=False)\n",
    "sorted_df"
   ]
  },
  {
   "cell_type": "code",
   "execution_count": 88,
   "id": "0e1f0a1a-d5cd-4888-99f2-cf3feee8f852",
   "metadata": {},
   "outputs": [
    {
     "data": {
      "text/plain": [
       "'/home2/conghao001/e3_mol_design/targetdiff/scripts/outputs_selected_pdb/2bur_A_rec_1eoc_4nc_lig_tt_min_0/binding_affinity.csv'"
      ]
     },
     "execution_count": 88,
     "metadata": {},
     "output_type": "execute_result"
    }
   ],
   "source": [
    "ba_res_filename = os.path.join(root_path, 'binding_affinity')\n",
    "ba_res_filename = ba_res_filename+'_aromatic.csv' if aromatic else ba_res_filename+'.csv'\n",
    "\n",
    "sorted_df.to_csv(ba_res_filename)\n",
    "ba_res_filename"
   ]
  },
  {
   "cell_type": "code",
   "execution_count": 89,
   "id": "df5dac69-9a8b-489e-a010-b3eaf834ffd6",
   "metadata": {},
   "outputs": [
    {
     "ename": "FileNotFoundError",
     "evalue": "[Errno 2] No such file or directory: '/home2/conghao001/e3_mol_design/targetdiff/scripts/outputs_selected_pdb/2bur_A_rec_1eoc_4nc_lig_tt_min_0/basic_scores.csv'",
     "output_type": "error",
     "traceback": [
      "\u001b[0;31m---------------------------------------------------------------------------\u001b[0m",
      "\u001b[0;31mFileNotFoundError\u001b[0m                         Traceback (most recent call last)",
      "Cell \u001b[0;32mIn[89], line 2\u001b[0m\n\u001b[1;32m      1\u001b[0m pp_match_csv \u001b[38;5;241m=\u001b[39m os\u001b[38;5;241m.\u001b[39mpath\u001b[38;5;241m.\u001b[39mjoin(root_path, \u001b[38;5;124m'\u001b[39m\u001b[38;5;124maromatic_scores.csv\u001b[39m\u001b[38;5;124m'\u001b[39m \u001b[38;5;28;01mif\u001b[39;00m aromatic \u001b[38;5;28;01melse\u001b[39;00m \u001b[38;5;124m'\u001b[39m\u001b[38;5;124mbasic_scores.csv\u001b[39m\u001b[38;5;124m'\u001b[39m)\n\u001b[0;32m----> 2\u001b[0m pp_match_df \u001b[38;5;241m=\u001b[39m \u001b[43mpd\u001b[49m\u001b[38;5;241;43m.\u001b[39;49m\u001b[43mread_csv\u001b[49m\u001b[43m(\u001b[49m\u001b[43mpp_match_csv\u001b[49m\u001b[43m,\u001b[49m\u001b[43m \u001b[49m\u001b[43mheader\u001b[49m\u001b[38;5;241;43m=\u001b[39;49m\u001b[38;5;241;43m0\u001b[39;49m\u001b[43m,\u001b[49m\u001b[43m \u001b[49m\u001b[43mindex_col\u001b[49m\u001b[38;5;241;43m=\u001b[39;49m\u001b[38;5;241;43m0\u001b[39;49m\u001b[43m)\u001b[49m\n\u001b[1;32m      3\u001b[0m pp_match_df \u001b[38;5;241m=\u001b[39m pp_match_df\u001b[38;5;241m.\u001b[39mrename(columns \u001b[38;5;241m=\u001b[39m {\u001b[38;5;124m'\u001b[39m\u001b[38;5;124mscore\u001b[39m\u001b[38;5;124m'\u001b[39m:\u001b[38;5;124m'\u001b[39m\u001b[38;5;124mPP match score\u001b[39m\u001b[38;5;124m'\u001b[39m})\n\u001b[1;32m      4\u001b[0m pp_match_df\n",
      "File \u001b[0;32m~/miniconda3/envs/pp2drug/lib/python3.10/site-packages/pandas/io/parsers/readers.py:1026\u001b[0m, in \u001b[0;36mread_csv\u001b[0;34m(filepath_or_buffer, sep, delimiter, header, names, index_col, usecols, dtype, engine, converters, true_values, false_values, skipinitialspace, skiprows, skipfooter, nrows, na_values, keep_default_na, na_filter, verbose, skip_blank_lines, parse_dates, infer_datetime_format, keep_date_col, date_parser, date_format, dayfirst, cache_dates, iterator, chunksize, compression, thousands, decimal, lineterminator, quotechar, quoting, doublequote, escapechar, comment, encoding, encoding_errors, dialect, on_bad_lines, delim_whitespace, low_memory, memory_map, float_precision, storage_options, dtype_backend)\u001b[0m\n\u001b[1;32m   1013\u001b[0m kwds_defaults \u001b[38;5;241m=\u001b[39m _refine_defaults_read(\n\u001b[1;32m   1014\u001b[0m     dialect,\n\u001b[1;32m   1015\u001b[0m     delimiter,\n\u001b[0;32m   (...)\u001b[0m\n\u001b[1;32m   1022\u001b[0m     dtype_backend\u001b[38;5;241m=\u001b[39mdtype_backend,\n\u001b[1;32m   1023\u001b[0m )\n\u001b[1;32m   1024\u001b[0m kwds\u001b[38;5;241m.\u001b[39mupdate(kwds_defaults)\n\u001b[0;32m-> 1026\u001b[0m \u001b[38;5;28;01mreturn\u001b[39;00m \u001b[43m_read\u001b[49m\u001b[43m(\u001b[49m\u001b[43mfilepath_or_buffer\u001b[49m\u001b[43m,\u001b[49m\u001b[43m \u001b[49m\u001b[43mkwds\u001b[49m\u001b[43m)\u001b[49m\n",
      "File \u001b[0;32m~/miniconda3/envs/pp2drug/lib/python3.10/site-packages/pandas/io/parsers/readers.py:620\u001b[0m, in \u001b[0;36m_read\u001b[0;34m(filepath_or_buffer, kwds)\u001b[0m\n\u001b[1;32m    617\u001b[0m _validate_names(kwds\u001b[38;5;241m.\u001b[39mget(\u001b[38;5;124m\"\u001b[39m\u001b[38;5;124mnames\u001b[39m\u001b[38;5;124m\"\u001b[39m, \u001b[38;5;28;01mNone\u001b[39;00m))\n\u001b[1;32m    619\u001b[0m \u001b[38;5;66;03m# Create the parser.\u001b[39;00m\n\u001b[0;32m--> 620\u001b[0m parser \u001b[38;5;241m=\u001b[39m \u001b[43mTextFileReader\u001b[49m\u001b[43m(\u001b[49m\u001b[43mfilepath_or_buffer\u001b[49m\u001b[43m,\u001b[49m\u001b[43m \u001b[49m\u001b[38;5;241;43m*\u001b[39;49m\u001b[38;5;241;43m*\u001b[39;49m\u001b[43mkwds\u001b[49m\u001b[43m)\u001b[49m\n\u001b[1;32m    622\u001b[0m \u001b[38;5;28;01mif\u001b[39;00m chunksize \u001b[38;5;129;01mor\u001b[39;00m iterator:\n\u001b[1;32m    623\u001b[0m     \u001b[38;5;28;01mreturn\u001b[39;00m parser\n",
      "File \u001b[0;32m~/miniconda3/envs/pp2drug/lib/python3.10/site-packages/pandas/io/parsers/readers.py:1620\u001b[0m, in \u001b[0;36mTextFileReader.__init__\u001b[0;34m(self, f, engine, **kwds)\u001b[0m\n\u001b[1;32m   1617\u001b[0m     \u001b[38;5;28mself\u001b[39m\u001b[38;5;241m.\u001b[39moptions[\u001b[38;5;124m\"\u001b[39m\u001b[38;5;124mhas_index_names\u001b[39m\u001b[38;5;124m\"\u001b[39m] \u001b[38;5;241m=\u001b[39m kwds[\u001b[38;5;124m\"\u001b[39m\u001b[38;5;124mhas_index_names\u001b[39m\u001b[38;5;124m\"\u001b[39m]\n\u001b[1;32m   1619\u001b[0m \u001b[38;5;28mself\u001b[39m\u001b[38;5;241m.\u001b[39mhandles: IOHandles \u001b[38;5;241m|\u001b[39m \u001b[38;5;28;01mNone\u001b[39;00m \u001b[38;5;241m=\u001b[39m \u001b[38;5;28;01mNone\u001b[39;00m\n\u001b[0;32m-> 1620\u001b[0m \u001b[38;5;28mself\u001b[39m\u001b[38;5;241m.\u001b[39m_engine \u001b[38;5;241m=\u001b[39m \u001b[38;5;28;43mself\u001b[39;49m\u001b[38;5;241;43m.\u001b[39;49m\u001b[43m_make_engine\u001b[49m\u001b[43m(\u001b[49m\u001b[43mf\u001b[49m\u001b[43m,\u001b[49m\u001b[43m \u001b[49m\u001b[38;5;28;43mself\u001b[39;49m\u001b[38;5;241;43m.\u001b[39;49m\u001b[43mengine\u001b[49m\u001b[43m)\u001b[49m\n",
      "File \u001b[0;32m~/miniconda3/envs/pp2drug/lib/python3.10/site-packages/pandas/io/parsers/readers.py:1880\u001b[0m, in \u001b[0;36mTextFileReader._make_engine\u001b[0;34m(self, f, engine)\u001b[0m\n\u001b[1;32m   1878\u001b[0m     \u001b[38;5;28;01mif\u001b[39;00m \u001b[38;5;124m\"\u001b[39m\u001b[38;5;124mb\u001b[39m\u001b[38;5;124m\"\u001b[39m \u001b[38;5;129;01mnot\u001b[39;00m \u001b[38;5;129;01min\u001b[39;00m mode:\n\u001b[1;32m   1879\u001b[0m         mode \u001b[38;5;241m+\u001b[39m\u001b[38;5;241m=\u001b[39m \u001b[38;5;124m\"\u001b[39m\u001b[38;5;124mb\u001b[39m\u001b[38;5;124m\"\u001b[39m\n\u001b[0;32m-> 1880\u001b[0m \u001b[38;5;28mself\u001b[39m\u001b[38;5;241m.\u001b[39mhandles \u001b[38;5;241m=\u001b[39m \u001b[43mget_handle\u001b[49m\u001b[43m(\u001b[49m\n\u001b[1;32m   1881\u001b[0m \u001b[43m    \u001b[49m\u001b[43mf\u001b[49m\u001b[43m,\u001b[49m\n\u001b[1;32m   1882\u001b[0m \u001b[43m    \u001b[49m\u001b[43mmode\u001b[49m\u001b[43m,\u001b[49m\n\u001b[1;32m   1883\u001b[0m \u001b[43m    \u001b[49m\u001b[43mencoding\u001b[49m\u001b[38;5;241;43m=\u001b[39;49m\u001b[38;5;28;43mself\u001b[39;49m\u001b[38;5;241;43m.\u001b[39;49m\u001b[43moptions\u001b[49m\u001b[38;5;241;43m.\u001b[39;49m\u001b[43mget\u001b[49m\u001b[43m(\u001b[49m\u001b[38;5;124;43m\"\u001b[39;49m\u001b[38;5;124;43mencoding\u001b[39;49m\u001b[38;5;124;43m\"\u001b[39;49m\u001b[43m,\u001b[49m\u001b[43m \u001b[49m\u001b[38;5;28;43;01mNone\u001b[39;49;00m\u001b[43m)\u001b[49m\u001b[43m,\u001b[49m\n\u001b[1;32m   1884\u001b[0m \u001b[43m    \u001b[49m\u001b[43mcompression\u001b[49m\u001b[38;5;241;43m=\u001b[39;49m\u001b[38;5;28;43mself\u001b[39;49m\u001b[38;5;241;43m.\u001b[39;49m\u001b[43moptions\u001b[49m\u001b[38;5;241;43m.\u001b[39;49m\u001b[43mget\u001b[49m\u001b[43m(\u001b[49m\u001b[38;5;124;43m\"\u001b[39;49m\u001b[38;5;124;43mcompression\u001b[39;49m\u001b[38;5;124;43m\"\u001b[39;49m\u001b[43m,\u001b[49m\u001b[43m \u001b[49m\u001b[38;5;28;43;01mNone\u001b[39;49;00m\u001b[43m)\u001b[49m\u001b[43m,\u001b[49m\n\u001b[1;32m   1885\u001b[0m \u001b[43m    \u001b[49m\u001b[43mmemory_map\u001b[49m\u001b[38;5;241;43m=\u001b[39;49m\u001b[38;5;28;43mself\u001b[39;49m\u001b[38;5;241;43m.\u001b[39;49m\u001b[43moptions\u001b[49m\u001b[38;5;241;43m.\u001b[39;49m\u001b[43mget\u001b[49m\u001b[43m(\u001b[49m\u001b[38;5;124;43m\"\u001b[39;49m\u001b[38;5;124;43mmemory_map\u001b[39;49m\u001b[38;5;124;43m\"\u001b[39;49m\u001b[43m,\u001b[49m\u001b[43m \u001b[49m\u001b[38;5;28;43;01mFalse\u001b[39;49;00m\u001b[43m)\u001b[49m\u001b[43m,\u001b[49m\n\u001b[1;32m   1886\u001b[0m \u001b[43m    \u001b[49m\u001b[43mis_text\u001b[49m\u001b[38;5;241;43m=\u001b[39;49m\u001b[43mis_text\u001b[49m\u001b[43m,\u001b[49m\n\u001b[1;32m   1887\u001b[0m \u001b[43m    \u001b[49m\u001b[43merrors\u001b[49m\u001b[38;5;241;43m=\u001b[39;49m\u001b[38;5;28;43mself\u001b[39;49m\u001b[38;5;241;43m.\u001b[39;49m\u001b[43moptions\u001b[49m\u001b[38;5;241;43m.\u001b[39;49m\u001b[43mget\u001b[49m\u001b[43m(\u001b[49m\u001b[38;5;124;43m\"\u001b[39;49m\u001b[38;5;124;43mencoding_errors\u001b[39;49m\u001b[38;5;124;43m\"\u001b[39;49m\u001b[43m,\u001b[49m\u001b[43m \u001b[49m\u001b[38;5;124;43m\"\u001b[39;49m\u001b[38;5;124;43mstrict\u001b[39;49m\u001b[38;5;124;43m\"\u001b[39;49m\u001b[43m)\u001b[49m\u001b[43m,\u001b[49m\n\u001b[1;32m   1888\u001b[0m \u001b[43m    \u001b[49m\u001b[43mstorage_options\u001b[49m\u001b[38;5;241;43m=\u001b[39;49m\u001b[38;5;28;43mself\u001b[39;49m\u001b[38;5;241;43m.\u001b[39;49m\u001b[43moptions\u001b[49m\u001b[38;5;241;43m.\u001b[39;49m\u001b[43mget\u001b[49m\u001b[43m(\u001b[49m\u001b[38;5;124;43m\"\u001b[39;49m\u001b[38;5;124;43mstorage_options\u001b[39;49m\u001b[38;5;124;43m\"\u001b[39;49m\u001b[43m,\u001b[49m\u001b[43m \u001b[49m\u001b[38;5;28;43;01mNone\u001b[39;49;00m\u001b[43m)\u001b[49m\u001b[43m,\u001b[49m\n\u001b[1;32m   1889\u001b[0m \u001b[43m\u001b[49m\u001b[43m)\u001b[49m\n\u001b[1;32m   1890\u001b[0m \u001b[38;5;28;01massert\u001b[39;00m \u001b[38;5;28mself\u001b[39m\u001b[38;5;241m.\u001b[39mhandles \u001b[38;5;129;01mis\u001b[39;00m \u001b[38;5;129;01mnot\u001b[39;00m \u001b[38;5;28;01mNone\u001b[39;00m\n\u001b[1;32m   1891\u001b[0m f \u001b[38;5;241m=\u001b[39m \u001b[38;5;28mself\u001b[39m\u001b[38;5;241m.\u001b[39mhandles\u001b[38;5;241m.\u001b[39mhandle\n",
      "File \u001b[0;32m~/miniconda3/envs/pp2drug/lib/python3.10/site-packages/pandas/io/common.py:873\u001b[0m, in \u001b[0;36mget_handle\u001b[0;34m(path_or_buf, mode, encoding, compression, memory_map, is_text, errors, storage_options)\u001b[0m\n\u001b[1;32m    868\u001b[0m \u001b[38;5;28;01melif\u001b[39;00m \u001b[38;5;28misinstance\u001b[39m(handle, \u001b[38;5;28mstr\u001b[39m):\n\u001b[1;32m    869\u001b[0m     \u001b[38;5;66;03m# Check whether the filename is to be opened in binary mode.\u001b[39;00m\n\u001b[1;32m    870\u001b[0m     \u001b[38;5;66;03m# Binary mode does not support 'encoding' and 'newline'.\u001b[39;00m\n\u001b[1;32m    871\u001b[0m     \u001b[38;5;28;01mif\u001b[39;00m ioargs\u001b[38;5;241m.\u001b[39mencoding \u001b[38;5;129;01mand\u001b[39;00m \u001b[38;5;124m\"\u001b[39m\u001b[38;5;124mb\u001b[39m\u001b[38;5;124m\"\u001b[39m \u001b[38;5;129;01mnot\u001b[39;00m \u001b[38;5;129;01min\u001b[39;00m ioargs\u001b[38;5;241m.\u001b[39mmode:\n\u001b[1;32m    872\u001b[0m         \u001b[38;5;66;03m# Encoding\u001b[39;00m\n\u001b[0;32m--> 873\u001b[0m         handle \u001b[38;5;241m=\u001b[39m \u001b[38;5;28;43mopen\u001b[39;49m\u001b[43m(\u001b[49m\n\u001b[1;32m    874\u001b[0m \u001b[43m            \u001b[49m\u001b[43mhandle\u001b[49m\u001b[43m,\u001b[49m\n\u001b[1;32m    875\u001b[0m \u001b[43m            \u001b[49m\u001b[43mioargs\u001b[49m\u001b[38;5;241;43m.\u001b[39;49m\u001b[43mmode\u001b[49m\u001b[43m,\u001b[49m\n\u001b[1;32m    876\u001b[0m \u001b[43m            \u001b[49m\u001b[43mencoding\u001b[49m\u001b[38;5;241;43m=\u001b[39;49m\u001b[43mioargs\u001b[49m\u001b[38;5;241;43m.\u001b[39;49m\u001b[43mencoding\u001b[49m\u001b[43m,\u001b[49m\n\u001b[1;32m    877\u001b[0m \u001b[43m            \u001b[49m\u001b[43merrors\u001b[49m\u001b[38;5;241;43m=\u001b[39;49m\u001b[43merrors\u001b[49m\u001b[43m,\u001b[49m\n\u001b[1;32m    878\u001b[0m \u001b[43m            \u001b[49m\u001b[43mnewline\u001b[49m\u001b[38;5;241;43m=\u001b[39;49m\u001b[38;5;124;43m\"\u001b[39;49m\u001b[38;5;124;43m\"\u001b[39;49m\u001b[43m,\u001b[49m\n\u001b[1;32m    879\u001b[0m \u001b[43m        \u001b[49m\u001b[43m)\u001b[49m\n\u001b[1;32m    880\u001b[0m     \u001b[38;5;28;01melse\u001b[39;00m:\n\u001b[1;32m    881\u001b[0m         \u001b[38;5;66;03m# Binary mode\u001b[39;00m\n\u001b[1;32m    882\u001b[0m         handle \u001b[38;5;241m=\u001b[39m \u001b[38;5;28mopen\u001b[39m(handle, ioargs\u001b[38;5;241m.\u001b[39mmode)\n",
      "\u001b[0;31mFileNotFoundError\u001b[0m: [Errno 2] No such file or directory: '/home2/conghao001/e3_mol_design/targetdiff/scripts/outputs_selected_pdb/2bur_A_rec_1eoc_4nc_lig_tt_min_0/basic_scores.csv'"
     ]
    }
   ],
   "source": [
    "pp_match_csv = os.path.join(root_path, 'aromatic_scores.csv' if aromatic else 'basic_scores.csv')\n",
    "pp_match_df = pd.read_csv(pp_match_csv, header=0, index_col=0)\n",
    "pp_match_df = pp_match_df.rename(columns = {'score':'PP match score'})\n",
    "pp_match_df"
   ]
  },
  {
   "cell_type": "code",
   "execution_count": 39,
   "id": "d16c94c2-ecea-4177-8200-13dce37368f7",
   "metadata": {},
   "outputs": [
    {
     "data": {
      "text/html": [
       "<div>\n",
       "<style scoped>\n",
       "    .dataframe tbody tr th:only-of-type {\n",
       "        vertical-align: middle;\n",
       "    }\n",
       "\n",
       "    .dataframe tbody tr th {\n",
       "        vertical-align: top;\n",
       "    }\n",
       "\n",
       "    .dataframe thead th {\n",
       "        text-align: right;\n",
       "    }\n",
       "</style>\n",
       "<table border=\"1\" class=\"dataframe\">\n",
       "  <thead>\n",
       "    <tr style=\"text-align: right;\">\n",
       "      <th></th>\n",
       "      <th>Binding affinity</th>\n",
       "      <th>CNN score</th>\n",
       "      <th>Reference</th>\n",
       "      <th>PP match score</th>\n",
       "    </tr>\n",
       "  </thead>\n",
       "  <tbody>\n",
       "    <tr>\n",
       "      <th>1eoc_0</th>\n",
       "      <td>-6.45</td>\n",
       "      <td>0.9194</td>\n",
       "      <td>-5.39065</td>\n",
       "      <td>1.0</td>\n",
       "    </tr>\n",
       "    <tr>\n",
       "      <th>1eoc_5</th>\n",
       "      <td>-6.47</td>\n",
       "      <td>0.9232</td>\n",
       "      <td>-5.39065</td>\n",
       "      <td>1.0</td>\n",
       "    </tr>\n",
       "    <tr>\n",
       "      <th>1eoc_6</th>\n",
       "      <td>-6.47</td>\n",
       "      <td>0.9186</td>\n",
       "      <td>-5.39065</td>\n",
       "      <td>1.0</td>\n",
       "    </tr>\n",
       "    <tr>\n",
       "      <th>1eoc_4</th>\n",
       "      <td>-6.49</td>\n",
       "      <td>0.9162</td>\n",
       "      <td>-5.39065</td>\n",
       "      <td>1.0</td>\n",
       "    </tr>\n",
       "    <tr>\n",
       "      <th>1eoc_3</th>\n",
       "      <td>-6.40</td>\n",
       "      <td>0.9220</td>\n",
       "      <td>-5.39065</td>\n",
       "      <td>1.0</td>\n",
       "    </tr>\n",
       "    <tr>\n",
       "      <th>1eoc_1</th>\n",
       "      <td>-6.49</td>\n",
       "      <td>0.9208</td>\n",
       "      <td>-5.39065</td>\n",
       "      <td>1.0</td>\n",
       "    </tr>\n",
       "    <tr>\n",
       "      <th>1eoc_7</th>\n",
       "      <td>-6.49</td>\n",
       "      <td>0.9254</td>\n",
       "      <td>-5.39065</td>\n",
       "      <td>1.0</td>\n",
       "    </tr>\n",
       "    <tr>\n",
       "      <th>1eoc_2</th>\n",
       "      <td>-6.49</td>\n",
       "      <td>0.9240</td>\n",
       "      <td>-5.39065</td>\n",
       "      <td>1.0</td>\n",
       "    </tr>\n",
       "    <tr>\n",
       "      <th>1eoc_8</th>\n",
       "      <td>-6.46</td>\n",
       "      <td>0.9198</td>\n",
       "      <td>-5.39065</td>\n",
       "      <td>1.0</td>\n",
       "    </tr>\n",
       "    <tr>\n",
       "      <th>1eoc_9</th>\n",
       "      <td>-6.48</td>\n",
       "      <td>0.9209</td>\n",
       "      <td>-5.39065</td>\n",
       "      <td>1.0</td>\n",
       "    </tr>\n",
       "  </tbody>\n",
       "</table>\n",
       "</div>"
      ],
      "text/plain": [
       "        Binding affinity  CNN score  Reference  PP match score\n",
       "1eoc_0             -6.45     0.9194   -5.39065             1.0\n",
       "1eoc_5             -6.47     0.9232   -5.39065             1.0\n",
       "1eoc_6             -6.47     0.9186   -5.39065             1.0\n",
       "1eoc_4             -6.49     0.9162   -5.39065             1.0\n",
       "1eoc_3             -6.40     0.9220   -5.39065             1.0\n",
       "1eoc_1             -6.49     0.9208   -5.39065             1.0\n",
       "1eoc_7             -6.49     0.9254   -5.39065             1.0\n",
       "1eoc_2             -6.49     0.9240   -5.39065             1.0\n",
       "1eoc_8             -6.46     0.9198   -5.39065             1.0\n",
       "1eoc_9             -6.48     0.9209   -5.39065             1.0"
      ]
     },
     "execution_count": 39,
     "metadata": {},
     "output_type": "execute_result"
    }
   ],
   "source": [
    "joint_df = df.join(pp_match_df)\n",
    "joint_df"
   ]
  },
  {
   "cell_type": "code",
   "execution_count": 40,
   "id": "1b49deb7-94bf-4c29-a6b7-3cb9b368ce9b",
   "metadata": {},
   "outputs": [],
   "source": [
    "joint_res_fn = 'joint_res_aromatic.csv' if aromatic else 'joint_res.csv'\n",
    "joint_df.to_csv(os.path.join(root_path, joint_res_fn))"
   ]
  },
  {
   "cell_type": "code",
   "execution_count": 41,
   "id": "32d99b7e-5f41-4681-8f02-1e546aaaf58f",
   "metadata": {},
   "outputs": [
    {
     "data": {
      "text/plain": [
       "1.0"
      ]
     },
     "execution_count": 41,
     "metadata": {},
     "output_type": "execute_result"
    }
   ],
   "source": [
    "sum(df['Binding affinity'] <= df['Reference']) / len(df)"
   ]
  },
  {
   "cell_type": "code",
   "execution_count": null,
   "id": "09cdd69c-4e16-4573-8381-8ddfd5e54e9d",
   "metadata": {},
   "outputs": [],
   "source": []
  },
  {
   "cell_type": "code",
   "execution_count": null,
   "id": "373d3eef-e5f3-40c5-9da9-04ebdac5daaa",
   "metadata": {},
   "outputs": [],
   "source": []
  }
 ],
 "metadata": {
  "kernelspec": {
   "display_name": "pp2drug",
   "language": "python",
   "name": "pp2drug"
  },
  "language_info": {
   "codemirror_mode": {
    "name": "ipython",
    "version": 3
   },
   "file_extension": ".py",
   "mimetype": "text/x-python",
   "name": "python",
   "nbconvert_exporter": "python",
   "pygments_lexer": "ipython3",
   "version": "3.10.14"
  }
 },
 "nbformat": 4,
 "nbformat_minor": 5
}
