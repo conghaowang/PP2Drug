{
 "cells": [
  {
   "cell_type": "code",
   "execution_count": 4,
   "id": "cd5583bf-7877-4cd0-bb8c-7d4a5432e058",
   "metadata": {},
   "outputs": [],
   "source": [
    "%load_ext autoreload\n",
    "%autoreload 2"
   ]
  },
  {
   "cell_type": "code",
   "execution_count": 5,
   "id": "79b85db1-a4d9-4b35-bc02-9339ccbbd239",
   "metadata": {},
   "outputs": [],
   "source": [
    "import pickle\n",
    "import torch\n",
    "import os\n",
    "from rdkit import Chem\n",
    "from rdkit.Geometry import Point3D"
   ]
  },
  {
   "cell_type": "code",
   "execution_count": 6,
   "id": "4a7076a8-d8a3-4159-86d3-67c7d7f67a7b",
   "metadata": {},
   "outputs": [],
   "source": [
    "from utils_eval import build_pdb_dict, center2zero, pp_match\n",
    "from pp_matching_specific_site import compute_center"
   ]
  },
  {
   "cell_type": "code",
   "execution_count": 18,
   "id": "c5fc22b0-2633-48e6-9ff2-b76e08a040b6",
   "metadata": {},
   "outputs": [],
   "source": [
    "# ligand_name = '1ywn_A_rec_1ywn_lif_lig_tt_docked_0'\n",
    "# ligand_name = '4b81_B_rec_4ara_c56_lig_tt_min_0'\n",
    "# ligand_name = '1lhu_A_rec_1lhn_aon_lig_tt_min_0'\n",
    "# ligand_name = '4b84_A_rec_4b84_z5k_lig_tt_min_0'\n",
    "# ligand_name = '3fu5_A_rec_5ni6_dj3_lig_tt_min_0'\n",
    "# ligand_name = '5hbh_A_rec_5idn_6a7_lig_tt_min_0'\n",
    "# ligand_name = '5aen_A_rec_5ni2_dj3_lig_tt_min_0'\n",
    "# ligand_name = '3d3e_B_rec_4ijw_1eq_lig_tt_min_0'\n",
    "# ligand_name = '4yyz_B_rec_3ey4_352_lig_tt_docked_12'\n",
    "# ligand_name = '4h7c_A_rec_3r58_nps_lig_tt_min_0'\n",
    "# ligand_name = '3ey4_C_rec_4k1l_sff_lig_tt_min_0'\n",
    "\n",
    "# ligand_name = '3hfg_A_rec_3hfg_17r_lig_tt_min_0'\n",
    "# ligand_name = '3ey4_C_rec_5pgu_8k4_lig_tt_min_0'  # 0.11 0.10\n",
    "# ligand_name = '5ni2_A_rec_5aen_dp8_lig_tt_min_0'\n",
    "# ligand_name = '3fu5_A_rec_5ni6_dj3_lig_tt_min_0'\n",
    "# ligand_name = '4yyz_B_rec_2ilt_nn1_lig_tt_min_0'  # 0.16 0.20 \n",
    "# ligand_name = '4bnn_A_rec_4bnm_tcu_lig_tt_min_0'\n",
    "# ligand_name = '4yvx_A_rec_1s2a_imn_lig_tt_min_0'\n",
    "# ligand_name = '3czr_B_rec_4bb5_hd2_lig_tt_min_0'\n",
    "# ligand_name = '3czr_A_rec_2ilt_nn1_lig_tt_min_0'\n",
    "# ligand_name = '4b84_A_rec_4btl_5gz_lig_tt_min_0'\n",
    "# ligand_name = '3fue_A_rec_3ftv_11x_lig_tt_min_0'  # 0.04 0.05\n",
    "# ligand_name = '4bnk_B_rec_4d44_ja3_lig_tt_min_0'  # 0.26 0.27\n",
    "# ligand_name = '3qqp_B_rec_4k1l_sff_lig_tt_min_0'\n",
    "# ligand_name = '4wdu_A_rec_3r94_flr_lig_tt_min_0'  # 0.37 0.27\n",
    "# ligand_name = '4alj_A_rec_4bnf_pv4_lig_tt_docked_0'  # 0.24 0.24\n",
    "# ligand_name = '1ejj_A_rec_1o99_2pg_lig_tt_docked_0'\n",
    "# ligand_name = '4h96_B_rec_4h95_06u_lig_tt_min_0'  # 0.40 0.42\n",
    "# ligand_name = '2oa6_D_rec_4kvi_1sv_lig_tt_min_0'  # 0.36 0.41\n",
    "# ligand_name = '4hx5_B_rec_3bzu_a21_lig_tt_min_0'\n",
    "# ligand_name = '5pgy_D_rec_3bzu_a21_lig_tt_min_0'\n",
    "# ligand_name = '5pgv_A_rec_3bzu_a21_lig_tt_min_0'\n",
    "# ligand_name = '4kux_B_rec_4kvw_jf4_lig_tt_min_0'  # 0.61 0.63\n",
    "# ligand_name = '4bnk_B_rec_4bnl_w1g_lig_tt_min_0'\n",
    "# ligand_name = '4b82_B_rec_4ara_c56_lig_tt_min_0'  # 0.42 0.53\n",
    "# ligand_name = '4pm0_A_rec_4y2b_epk_lig_tt_min_0'\n",
    "# ligand_name = '4ms6_A_rec_3fuh_5h1_lig_tt_min_0'  # 0.02 0.02\n",
    "# ligand_name = '5ivg_B_rec_4kvy_jf1_lig_tt_docked_9'  # 0.61 0.69\n",
    "# ligand_name = '3r8h_A_rec_3r8h_zom_lig_tt_min_0'\n",
    "# ligand_name = '1aoe_A_rec_3qlr_qlr_lig_tt_docked_4'  # 0.19 0.28\n",
    "# ligand_name = '2ilt_A_rec_3ey4_352_lig_tt_min_0'  # 0.70 0.71\n",
    "# ligand_name = '2g1q_A_rec_1x88_nat_lig_tt_min_0'  # 0.59 0.59\n",
    "# ligand_name = '5imp_B_rec_4kwd_jf2_lig_tt_min_0'  # 0.54 0.55\n",
    "# ligand_name = '4d45_A_rec_4ali_tcl_lig_tt_min_0'  # 0.57 0.52\n",
    "# ligand_name = '5ivg_B_rec_4kvw_jf4_lig_tt_min_0'\n",
    "# ligand_name = '2rbe_C_rec_3byz_h11_lig_tt_min_0'\n",
    "# ligand_name = '2whr_A_rec_3zlv_hi6_lig_tt_min_0'\n",
    "# ligand_name = '4hmn_A_rec_3ufy_npx_lig_tt_min_0'\n",
    "# ligand_name = '4h7c_A_rec_3r6i_jms_lig_tt_min_0'\n",
    "# ligand_name = '1pha_A_rec_1phg_myt_lig_tt_min_0'\n",
    "# ligand_name = '1phd_A_rec_1phg_myt_lig_tt_min_0'\n",
    "# ligand_name = '1phg_A_rec_1phe_piy_lig_tt_min_0'\n",
    "# ligand_name = '1phg_A_rec_1phg_myt_lig_tt_min_0'\n",
    "# ligand_name = '1p2y_A_rec_1phg_myt_lig_tt_min_0'\n",
    "# ligand_name = '1p2y_A_rec_1phe_piy_lig_tt_min_0'\n",
    "# ligand_name = '5lgq_D_rec_4ikp_4ik_lig_tt_docked_1'\n",
    "# ligand_name = '1c8j_A_rec_1p2y_nct_lig_tt_min_0'\n",
    "# ligand_name = '1l5l_A_rec_1l4l_xyd_lig_tt_min_0'\n",
    "# ligand_name = '4l0s_A_rec_5al5_jl9_lig_tt_min_0'\n",
    "ligand_name = '2pg2_A_rec_2wog_zzd_lig_tt_min_0'\n",
    "\n",
    "# folder_name = ligand_name[ligand_name.rfind('rec')+4:ligand_name.rfind('rec')+8]\n",
    "folder_name = ligand_name"
   ]
  },
  {
   "cell_type": "code",
   "execution_count": 19,
   "id": "19842c01-7797-4131-9490-25442d5cb206",
   "metadata": {},
   "outputs": [],
   "source": [
    "raw_data_path = '../../data/cleaned_crossdocked_data/raw'\n",
    "pdb_dict, pdb_rev_dict = build_pdb_dict(raw_data_path)"
   ]
  },
  {
   "cell_type": "code",
   "execution_count": 20,
   "id": "c58bc0ec-2553-443d-9389-9292865a40e3",
   "metadata": {},
   "outputs": [
    {
     "data": {
      "image/png": "[encoded data removed]",
      "text/plain": [
       "<rdkit.Chem.rdchem.Mol at 0x7fa38f6526e0>"
      ]
     },
     "execution_count": 20,
     "metadata": {},
     "output_type": "execute_result"
    }
   ],
   "source": [
    "pdb_folder = pdb_rev_dict[ligand_name+'.sdf']\n",
    "ref_file = os.path.join(raw_data_path, pdb_folder, ligand_name+'.sdf')\n",
    "ref_m = Chem.MolFromMolFile(ref_file)\n",
    "ref_m"
   ]
  },
  {
   "cell_type": "code",
   "execution_count": 21,
   "id": "44264f57-441b-436c-a7fa-b609acda15af",
   "metadata": {},
   "outputs": [
    {
     "data": {
      "text/plain": [
       "1"
      ]
     },
     "execution_count": 21,
     "metadata": {},
     "output_type": "execute_result"
    }
   ],
   "source": [
    "ref_m.GetNumConformers()"
   ]
  },
  {
   "cell_type": "code",
   "execution_count": 22,
   "id": "811743f3-25dd-484a-83f8-9ca6ba596dea",
   "metadata": {
    "scrolled": true
   },
   "outputs": [
    {
     "data": {
      "text/plain": [
       "array([[ 9.4113, 39.0448, 30.7919],\n",
       "       [10.0165, 40.4304, 28.7297],\n",
       "       [10.757 , 41.4308, 28.0949],\n",
       "       [11.7585, 42.1075, 28.7934],\n",
       "       [12.0127, 41.7907, 30.1291],\n",
       "       [11.2717, 40.79  , 30.7633],\n",
       "       [10.2805, 40.074 , 30.0667],\n",
       "       [ 9.1675, 37.8183, 29.9023],\n",
       "       [10.2604, 37.1615, 29.306 ],\n",
       "       [10.0714, 36.0112, 28.5357],\n",
       "       [ 8.7877, 35.4911, 28.361 ],\n",
       "       [ 7.6938, 36.1173, 28.9611],\n",
       "       [ 7.8832, 37.2674, 29.7315],\n",
       "       [ 8.1108, 39.7642, 31.1727],\n",
       "       [ 7.9178, 40.32  , 32.4508],\n",
       "       [ 6.7444, 41.011 , 32.7637],\n",
       "       [ 5.7491, 41.1696, 31.7978],\n",
       "       [ 5.9296, 40.6424, 30.518 ],\n",
       "       [ 7.1033, 39.9514, 30.2065],\n",
       "       [10.331 , 38.4437, 32.2909],\n",
       "       [ 9.1614, 37.1188, 32.7461],\n",
       "       [10.4311, 36.0038, 34.4944],\n",
       "       [ 9.2555, 36.8206, 34.2309],\n",
       "       [ 8.008 , 36.128 , 34.6868],\n",
       "       [ 7.9674, 34.8741, 34.8058],\n",
       "       [ 6.88  , 36.8793, 34.9915]])"
      ]
     },
     "execution_count": 22,
     "metadata": {},
     "output_type": "execute_result"
    }
   ],
   "source": [
    "conf = ref_m.GetConformer()\n",
    "atom_positions = conf.GetPositions()\n",
    "\n",
    "atom_positions"
   ]
  },
  {
   "cell_type": "code",
   "execution_count": 23,
   "id": "9d937eeb-c9ae-420f-b116-66c75b9a805c",
   "metadata": {
    "scrolled": true
   },
   "outputs": [
    {
     "data": {
      "text/plain": [
       "tensor([[ 9.4106, 39.0450, 30.8064],\n",
       "        [11.0180, 41.0971, 29.4155],\n",
       "        [11.0102, 41.0979, 29.4312],\n",
       "        [11.0166, 41.1122, 29.4362],\n",
       "        [11.0144, 41.1167, 29.4285],\n",
       "        [11.0241, 41.0993, 29.4327],\n",
       "        [11.0128, 41.1067, 29.4295],\n",
       "        [ 9.0124, 36.6345, 29.1458],\n",
       "        [ 8.9710, 36.6451, 29.1394],\n",
       "        [ 8.9840, 36.6499, 29.1284],\n",
       "        [ 8.9796, 36.6370, 29.1236],\n",
       "        [ 8.9928, 36.6449, 29.1229],\n",
       "        [ 8.9855, 36.6473, 29.1308],\n",
       "        [ 6.9302, 40.4772, 31.4838],\n",
       "        [ 6.9253, 40.4950, 31.4729],\n",
       "        [ 6.9193, 40.4832, 31.5053],\n",
       "        [ 6.9200, 40.4747, 31.4931],\n",
       "        [ 6.9164, 40.4872, 31.4823],\n",
       "        [ 6.9191, 40.4682, 31.4855],\n",
       "        [10.3330, 38.4360, 32.3004],\n",
       "        [ 8.8364, 36.6858, 33.9106],\n",
       "        [10.4224, 36.0233, 34.4905],\n",
       "        [ 8.8187, 36.6946, 33.8883],\n",
       "        [ 8.8175, 36.6988, 33.8778],\n",
       "        [ 7.9674, 34.8696, 34.8125],\n",
       "        [ 6.8867, 36.8855, 34.9563],\n",
       "        [ 9.4106, 39.0450, 30.8064],\n",
       "        [11.0180, 41.0971, 29.4155],\n",
       "        [11.0102, 41.0979, 29.4312],\n",
       "        [11.0166, 41.1122, 29.4362],\n",
       "        [11.0144, 41.1167, 29.4285],\n",
       "        [11.0241, 41.0993, 29.4327],\n",
       "        [11.0128, 41.1067, 29.4295],\n",
       "        [ 9.0124, 36.6345, 29.1458],\n",
       "        [ 8.9710, 36.6451, 29.1394],\n",
       "        [ 8.9840, 36.6499, 29.1284],\n",
       "        [ 8.9796, 36.6370, 29.1236],\n",
       "        [ 8.9928, 36.6449, 29.1229],\n",
       "        [ 8.9855, 36.6473, 29.1308],\n",
       "        [ 6.9302, 40.4772, 31.4838],\n",
       "        [ 6.9253, 40.4950, 31.4729],\n",
       "        [ 6.9193, 40.4832, 31.5053],\n",
       "        [ 6.9200, 40.4747, 31.4931],\n",
       "        [ 6.9164, 40.4872, 31.4823],\n",
       "        [ 6.9191, 40.4682, 31.4855],\n",
       "        [10.3330, 38.4360, 32.3004],\n",
       "        [ 8.8364, 36.6858, 33.9106],\n",
       "        [10.4224, 36.0233, 34.4905],\n",
       "        [ 8.8187, 36.6946, 33.8883],\n",
       "        [ 8.8175, 36.6988, 33.8778],\n",
       "        [ 7.9674, 34.8696, 34.8125],\n",
       "        [ 6.8867, 36.8855, 34.9563]])"
      ]
     },
     "execution_count": 23,
     "metadata": {},
     "output_type": "execute_result"
    }
   ],
   "source": [
    "# th_data = 'pharmacophore_specific_eval/3r58/4h7c_A_rec_3r58_nps_lig_tt_min_0.pt'\n",
    "# th_data = os.path.join('pharmacophore_specific_eval', folder_name, ligand_name+'.pt')\n",
    "th_data = os.path.join('structure_based', folder_name, ligand_name+'.pt')\n",
    "data = torch.load(th_data)\n",
    "data.target_pos"
   ]
  },
  {
   "cell_type": "code",
   "execution_count": 24,
   "id": "d7167298-ad8d-40c7-ba65-f239ad835b71",
   "metadata": {},
   "outputs": [
    {
     "data": {
      "text/plain": [
       "array([ 8.963249, 38.642796, 31.128094], dtype=float32)"
      ]
     },
     "execution_count": 24,
     "metadata": {},
     "output_type": "execute_result"
    }
   ],
   "source": [
    "center = compute_center(data['target_pos'], data['Gt_mask']).numpy()\n",
    "center"
   ]
  },
  {
   "cell_type": "code",
   "execution_count": 25,
   "id": "2207d5c4-7ffb-4ee8-92b1-18d80ff56d6c",
   "metadata": {
    "scrolled": true
   },
   "outputs": [
    {
     "name": "stdout",
     "output_type": "stream",
     "text": [
      "0.4480507934570319 0.40200443725586155 -0.3361937194824236\n",
      "1.0532507934570319 1.7876044372558582 -2.3983937194824207\n",
      "1.793750793457031 2.7880044372558572 -3.033193719482423\n",
      "2.795250793457031 3.464704437255861 -2.3346937194824235\n",
      "3.049450793457032 3.1479044372558604 -0.9989937194824208\n",
      "2.3084507934570304 2.1472044372558585 -0.3647937194824209\n",
      "1.3172507934570312 1.4312044372558574 -1.061393719482421\n",
      "0.20425079345703168 -0.8244955627441399 -1.2257937194824216\n",
      "1.2971507934570319 -1.481295562744144 -1.822093719482421\n",
      "1.1081507934570318 -2.6315955627441383 -2.5923937194824234\n",
      "-0.17554920654296957 -3.1516955627441376 -2.767093719482421\n",
      "-1.2694492065429683 -2.5254955627441404 -2.1669937194824236\n",
      "-1.0800492065429683 -1.3753955627441385 -1.3965937194824214\n",
      "-0.8524492065429694 1.1214044372558618 0.04460628051757709\n",
      "-1.045449206542969 1.6772044372558597 1.322706280517579\n",
      "-2.218849206542969 2.368204437255862 1.6356062805175782\n",
      "-3.2141492065429684 2.526804437255862 0.6697062805175769\n",
      "-3.033649206542969 1.9996044372558615 -0.6100937194824212\n",
      "-1.8599492065429688 1.308604437255859 -0.9215937194824235\n",
      "1.3677507934570308 -0.19909556274414086 1.1628062805175787\n",
      "0.19815079345703168 -1.5239955627441404 1.6180062805175766\n",
      "1.467850793457032 -2.6389955627441424 3.366306280517577\n",
      "0.29225079345703087 -1.8221955627441417 3.1028062805175765\n",
      "-0.9552492065429696 -2.5147955627441405 3.558706280517576\n",
      "-0.9958492065429692 -3.768695562744142 3.677706280517576\n",
      "-2.083249206542969 -1.76349556274414 3.86340628051758\n"
     ]
    }
   ],
   "source": [
    "for i in range(ref_m.GetNumAtoms()):\n",
    "    x,y,z = atom_positions[i] - center\n",
    "    print(x, y, z)\n",
    "    conf.SetAtomPosition(i,Point3D(x,y,z))"
   ]
  },
  {
   "cell_type": "code",
   "execution_count": 26,
   "id": "4f1f5379-472d-4a59-886d-1ed33f3ca81d",
   "metadata": {
    "scrolled": true
   },
   "outputs": [
    {
     "name": "stdout",
     "output_type": "stream",
     "text": [
      "[[ 0.44805079  0.40200444 -0.33619372]\n",
      " [ 1.05325079  1.78760444 -2.39839372]\n",
      " [ 1.79375079  2.78800444 -3.03319372]\n",
      " [ 2.79525079  3.46470444 -2.33469372]\n",
      " [ 3.04945079  3.14790444 -0.99899372]\n",
      " [ 2.30845079  2.14720444 -0.36479372]\n",
      " [ 1.31725079  1.43120444 -1.06139372]\n",
      " [ 0.20425079 -0.82449556 -1.22579372]\n",
      " [ 1.29715079 -1.48129556 -1.82209372]\n",
      " [ 1.10815079 -2.63159556 -2.59239372]\n",
      " [-0.17554921 -3.15169556 -2.76709372]\n",
      " [-1.26944921 -2.52549556 -2.16699372]\n",
      " [-1.08004921 -1.37539556 -1.39659372]\n",
      " [-0.85244921  1.12140444  0.04460628]\n",
      " [-1.04544921  1.67720444  1.32270628]\n",
      " [-2.21884921  2.36820444  1.63560628]\n",
      " [-3.21414921  2.52680444  0.66970628]\n",
      " [-3.03364921  1.99960444 -0.61009372]\n",
      " [-1.85994921  1.30860444 -0.92159372]\n",
      " [ 1.36775079 -0.19909556  1.16280628]\n",
      " [ 0.19815079 -1.52399556  1.61800628]\n",
      " [ 1.46785079 -2.63899556  3.36630628]\n",
      " [ 0.29225079 -1.82219556  3.10280628]\n",
      " [-0.95524921 -2.51479556  3.55870628]\n",
      " [-0.99584921 -3.76869556  3.67770628]\n",
      " [-2.08324921 -1.76349556  3.86340628]]\n"
     ]
    }
   ],
   "source": [
    "# ref_m.AddConformer(conf)\n",
    "for conformer in ref_m.GetConformers():\n",
    "    print(conformer.GetPositions())"
   ]
  },
  {
   "cell_type": "code",
   "execution_count": 27,
   "id": "2f43e165-b78a-4ff4-b8fc-f30dd740c384",
   "metadata": {},
   "outputs": [
    {
     "data": {
      "text/plain": [
       "1"
      ]
     },
     "execution_count": 27,
     "metadata": {},
     "output_type": "execute_result"
    }
   ],
   "source": [
    "ref_m.GetNumConformers()"
   ]
  },
  {
   "cell_type": "code",
   "execution_count": 28,
   "id": "648a13ca-cd71-4bb9-a6df-ece947ce56c5",
   "metadata": {},
   "outputs": [],
   "source": [
    "# with Chem.SDWriter(os.path.join('pharmacophore_specific_eval', folder_name, ligand_name+'.sdf')) as w:\n",
    "#     w.write(ref_m)\n",
    "\n",
    "with Chem.SDWriter(os.path.join('structure_based', folder_name, ligand_name+'.sdf')) as w:\n",
    "    w.write(ref_m)"
   ]
  },
  {
   "cell_type": "code",
   "execution_count": null,
   "id": "180dc08b-6f8e-4ab4-aa80-1d9a00463246",
   "metadata": {},
   "outputs": [],
   "source": []
  }
 ],
 "metadata": {
  "kernelspec": {
   "display_name": "pp2drug",
   "language": "python",
   "name": "pp2drug"
  },
  "language_info": {
   "codemirror_mode": {
    "name": "ipython",
    "version": 3
   },
   "file_extension": ".py",
   "mimetype": "text/x-python",
   "name": "python",
   "nbconvert_exporter": "python",
   "pygments_lexer": "ipython3",
   "version": "3.10.14"
  }
 },
 "nbformat": 4,
 "nbformat_minor": 5
}
