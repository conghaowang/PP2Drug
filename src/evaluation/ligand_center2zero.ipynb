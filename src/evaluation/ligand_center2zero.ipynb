{
 "cells": [
  {
   "cell_type": "code",
   "execution_count": 1,
   "id": "cd5583bf-7877-4cd0-bb8c-7d4a5432e058",
   "metadata": {},
   "outputs": [],
   "source": [
    "%load_ext autoreload\n",
    "%autoreload 2"
   ]
  },
  {
   "cell_type": "code",
   "execution_count": 2,
   "id": "79b85db1-a4d9-4b35-bc02-9339ccbbd239",
   "metadata": {},
   "outputs": [],
   "source": [
    "import pickle\n",
    "import torch\n",
    "import os\n",
    "from rdkit import Chem\n",
    "from rdkit.Geometry import Point3D"
   ]
  },
  {
   "cell_type": "code",
   "execution_count": 3,
   "id": "4a7076a8-d8a3-4159-86d3-67c7d7f67a7b",
   "metadata": {},
   "outputs": [],
   "source": [
    "from utils_eval import build_pdb_dict, center2zero, pp_match\n",
    "from pp_matching_specific_site import compute_center"
   ]
  },
  {
   "cell_type": "code",
   "execution_count": 116,
   "id": "c5fc22b0-2633-48e6-9ff2-b76e08a040b6",
   "metadata": {},
   "outputs": [],
   "source": [
    "# ligand_name = '1ywn_A_rec_1ywn_lif_lig_tt_docked_0'\n",
    "# ligand_name = '4b81_B_rec_4ara_c56_lig_tt_min_0'\n",
    "# ligand_name = '1lhu_A_rec_1lhn_aon_lig_tt_min_0'\n",
    "# ligand_name = '4b84_A_rec_4b84_z5k_lig_tt_min_0'\n",
    "# ligand_name = '3fu5_A_rec_5ni6_dj3_lig_tt_min_0'\n",
    "# ligand_name = '5hbh_A_rec_5idn_6a7_lig_tt_min_0'\n",
    "# ligand_name = '5aen_A_rec_5ni2_dj3_lig_tt_min_0'\n",
    "# ligand_name = '3d3e_B_rec_4ijw_1eq_lig_tt_min_0'\n",
    "# ligand_name = '4yyz_B_rec_3ey4_352_lig_tt_docked_12'\n",
    "# ligand_name = '4h7c_A_rec_3r58_nps_lig_tt_min_0'\n",
    "ligand_name = '3ey4_C_rec_4k1l_sff_lig_tt_min_0'\n",
    "\n",
    "# folder_name = ligand_name[ligand_name.rfind('rec')+4:ligand_name.rfind('rec')+8]\n",
    "folder_name = ligand_name"
   ]
  },
  {
   "cell_type": "code",
   "execution_count": 117,
   "id": "19842c01-7797-4131-9490-25442d5cb206",
   "metadata": {},
   "outputs": [],
   "source": [
    "raw_data_path = '../../data/cleaned_crossdocked_data/raw'\n",
    "pdb_dict, pdb_rev_dict = build_pdb_dict(raw_data_path)"
   ]
  },
  {
   "cell_type": "code",
   "execution_count": 118,
   "id": "c58bc0ec-2553-443d-9389-9292865a40e3",
   "metadata": {},
   "outputs": [
    {
     "data": {
      "image/png": "[encoded data removed]",
      "text/plain": [
       "<rdkit.Chem.rdchem.Mol at 0x7f9229058520>"
      ]
     },
     "execution_count": 118,
     "metadata": {},
     "output_type": "execute_result"
    }
   ],
   "source": [
    "pdb_folder = pdb_rev_dict[ligand_name+'.sdf']\n",
    "ref_file = os.path.join(raw_data_path, pdb_folder, ligand_name+'.sdf')\n",
    "ref_m = Chem.MolFromMolFile(ref_file)\n",
    "ref_m"
   ]
  },
  {
   "cell_type": "code",
   "execution_count": 119,
   "id": "44264f57-441b-436c-a7fa-b609acda15af",
   "metadata": {},
   "outputs": [
    {
     "data": {
      "text/plain": [
       "1"
      ]
     },
     "execution_count": 119,
     "metadata": {},
     "output_type": "execute_result"
    }
   ],
   "source": [
    "ref_m.GetNumConformers()"
   ]
  },
  {
   "cell_type": "code",
   "execution_count": 120,
   "id": "811743f3-25dd-484a-83f8-9ca6ba596dea",
   "metadata": {
    "scrolled": true
   },
   "outputs": [
    {
     "data": {
      "text/plain": [
       "array([[ 5.11430e+00, -1.92840e+00,  1.21171e+01],\n",
       "       [ 4.24820e+00, -1.40200e+00,  1.30912e+01],\n",
       "       [ 4.04000e+00, -5.20000e-03,  1.33159e+01],\n",
       "       [ 3.15600e+00,  1.96900e-01,  1.45468e+01],\n",
       "       [ 3.88410e+00, -2.40800e-01,  1.58179e+01],\n",
       "       [ 5.19510e+00,  5.26100e-01,  1.59691e+01],\n",
       "       [ 6.08430e+00,  2.95500e-01,  1.47510e+01],\n",
       "       [ 5.36060e+00,  7.49400e-01,  1.34823e+01],\n",
       "       [ 6.34570e+00,  4.26300e-01,  1.20436e+01],\n",
       "       [ 5.92880e+00,  1.34680e+00,  1.09319e+01],\n",
       "       [ 7.80400e+00,  6.22800e-01,  1.23497e+01],\n",
       "       [ 6.05530e+00, -1.21260e+00,  1.15804e+01],\n",
       "       [ 4.97880e+00, -3.29360e+00,  1.17219e+01],\n",
       "       [ 4.40190e+00, -4.52390e+00,  1.37575e+01],\n",
       "       [ 3.38580e+00, -5.47780e+00,  1.43789e+01],\n",
       "       [ 3.28810e+00, -6.75470e+00,  1.35485e+01],\n",
       "       [ 2.88920e+00, -6.42070e+00,  1.21133e+01],\n",
       "       [ 3.90490e+00, -5.46500e+00,  1.14934e+01],\n",
       "       [ 3.99810e+00, -4.18590e+00,  1.23211e+01]])"
      ]
     },
     "execution_count": 120,
     "metadata": {},
     "output_type": "execute_result"
    }
   ],
   "source": [
    "conf = ref_m.GetConformer()\n",
    "atom_positions = conf.GetPositions()\n",
    "\n",
    "atom_positions"
   ]
  },
  {
   "cell_type": "code",
   "execution_count": 121,
   "id": "9d937eeb-c9ae-420f-b116-66c75b9a805c",
   "metadata": {
    "scrolled": true
   },
   "outputs": [
    {
     "data": {
      "text/plain": [
       "tensor([[ 5.1262e+00, -1.9287e+00,  1.2109e+01],\n",
       "        [ 4.2482e+00, -1.4062e+00,  1.3094e+01],\n",
       "        [ 4.0491e+00,  4.1245e-03,  1.3333e+01],\n",
       "        [ 3.1664e+00,  1.9756e-01,  1.4546e+01],\n",
       "        [ 3.8706e+00, -2.4670e-01,  1.5821e+01],\n",
       "        [ 5.1789e+00,  5.1731e-01,  1.5988e+01],\n",
       "        [ 6.0729e+00,  3.0379e-01,  1.4746e+01],\n",
       "        [ 5.3667e+00,  7.3690e-01,  1.3493e+01],\n",
       "        [ 6.3371e+00,  4.1565e-01,  1.2051e+01],\n",
       "        [ 5.9204e+00,  1.3553e+00,  1.0929e+01],\n",
       "        [ 7.8074e+00,  6.3034e-01,  1.2365e+01],\n",
       "        [ 6.0478e+00, -1.2201e+00,  1.1594e+01],\n",
       "        [ 4.9685e+00, -3.2879e+00,  1.1728e+01],\n",
       "        [ 4.3990e+00, -4.5363e+00,  1.3754e+01],\n",
       "        [ 3.3793e+00, -5.4975e+00,  1.4392e+01],\n",
       "        [ 3.2879e+00, -6.7524e+00,  1.3565e+01],\n",
       "        [ 2.9050e+00, -6.4117e+00,  1.2118e+01],\n",
       "        [ 3.8962e+00, -5.4618e+00,  1.1492e+01],\n",
       "        [ 3.9987e+00, -4.1903e+00,  1.2317e+01],\n",
       "        [ 5.1262e+00, -1.9287e+00,  1.2109e+01],\n",
       "        [ 4.2482e+00, -1.4062e+00,  1.3094e+01],\n",
       "        [ 4.0491e+00,  4.1245e-03,  1.3333e+01],\n",
       "        [ 3.1664e+00,  1.9756e-01,  1.4546e+01],\n",
       "        [ 3.8706e+00, -2.4670e-01,  1.5821e+01],\n",
       "        [ 5.1789e+00,  5.1731e-01,  1.5988e+01],\n",
       "        [ 6.0729e+00,  3.0379e-01,  1.4746e+01],\n",
       "        [ 5.3667e+00,  7.3690e-01,  1.3493e+01],\n",
       "        [ 6.3371e+00,  4.1565e-01,  1.2051e+01],\n",
       "        [ 5.9204e+00,  1.3553e+00,  1.0929e+01],\n",
       "        [ 7.8074e+00,  6.3034e-01,  1.2365e+01],\n",
       "        [ 6.0478e+00, -1.2201e+00,  1.1594e+01],\n",
       "        [ 4.9685e+00, -3.2879e+00,  1.1728e+01],\n",
       "        [ 4.3990e+00, -4.5363e+00,  1.3754e+01],\n",
       "        [ 3.3793e+00, -5.4975e+00,  1.4392e+01],\n",
       "        [ 3.2879e+00, -6.7524e+00,  1.3565e+01],\n",
       "        [ 2.9050e+00, -6.4117e+00,  1.2118e+01],\n",
       "        [ 3.8962e+00, -5.4618e+00,  1.1492e+01],\n",
       "        [ 3.9987e+00, -4.1903e+00,  1.2317e+01]])"
      ]
     },
     "execution_count": 121,
     "metadata": {},
     "output_type": "execute_result"
    }
   ],
   "source": [
    "# th_data = 'pharmacophore_specific_eval/3r58/4h7c_A_rec_3r58_nps_lig_tt_min_0.pt'\n",
    "# th_data = os.path.join('pharmacophore_specific_eval', folder_name, ligand_name+'.pt')\n",
    "th_data = os.path.join('structure_based', folder_name, ligand_name+'.pt')\n",
    "data = torch.load(th_data)\n",
    "data.target_pos"
   ]
  },
  {
   "cell_type": "code",
   "execution_count": 122,
   "id": "d7167298-ad8d-40c7-ba65-f239ad835b71",
   "metadata": {},
   "outputs": [
    {
     "data": {
      "text/plain": [
       "array([ 4.738236 , -1.9357244, 13.1281   ], dtype=float32)"
      ]
     },
     "execution_count": 122,
     "metadata": {},
     "output_type": "execute_result"
    }
   ],
   "source": [
    "center = compute_center(data['target_pos'], data['Gt_mask']).numpy()\n",
    "center"
   ]
  },
  {
   "cell_type": "code",
   "execution_count": 123,
   "id": "2207d5c4-7ffb-4ee8-92b1-18d80ff56d6c",
   "metadata": {
    "scrolled": true
   },
   "outputs": [
    {
     "name": "stdout",
     "output_type": "stream",
     "text": [
      "0.37606404953002937 0.007324377632141221 -1.011000395202636\n",
      "-0.49003595046997095 0.5337243776321412 -0.036900395202636105\n",
      "-0.6982359504699707 1.930524377632141 0.18779960479736246\n",
      "-1.5822359504699706 2.132624377632141 1.4186996047973626\n",
      "-0.8541359504699706 1.6949243776321412 2.689799604797363\n",
      "0.45686404953002935 2.461824377632141 2.8409996047973625\n",
      "1.3460640495300291 2.231224377632141 1.6228996047973627\n",
      "0.6223640495300291 2.685124377632141 0.3541996047973637\n",
      "1.6074640495300292 2.362024377632141 -1.084500395202637\n",
      "1.1905640495300291 3.282524377632141 -2.196200395202636\n",
      "3.0657640495300296 2.558524377632141 -0.7784003952026364\n",
      "1.3170640495300292 0.7231243776321412 -1.5477003952026376\n",
      "0.24056404953002897 -1.357875622367859 -1.406200395202637\n",
      "-0.33633595046997034 -2.588175622367859 0.6293996047973636\n",
      "-1.3524359504699706 -3.542075622367859 1.250799604797363\n",
      "-1.4501359504699707 -4.818975622367859 0.42039960479736393\n",
      "-1.8490359504699705 -4.484975622367859 -1.014800395202636\n",
      "-0.8333359504699707 -3.5292756223678587 -1.6347003952026373\n",
      "-0.7401359504699707 -2.250175622367859 -0.8070003952026372\n"
     ]
    }
   ],
   "source": [
    "for i in range(ref_m.GetNumAtoms()):\n",
    "    x,y,z = atom_positions[i] - center\n",
    "    print(x, y, z)\n",
    "    conf.SetAtomPosition(i,Point3D(x,y,z))"
   ]
  },
  {
   "cell_type": "code",
   "execution_count": 124,
   "id": "4f1f5379-472d-4a59-886d-1ed33f3ca81d",
   "metadata": {
    "scrolled": true
   },
   "outputs": [
    {
     "name": "stdout",
     "output_type": "stream",
     "text": [
      "[[ 0.37606405  0.00732438 -1.0110004 ]\n",
      " [-0.49003595  0.53372438 -0.0369004 ]\n",
      " [-0.69823595  1.93052438  0.1877996 ]\n",
      " [-1.58223595  2.13262438  1.4186996 ]\n",
      " [-0.85413595  1.69492438  2.6897996 ]\n",
      " [ 0.45686405  2.46182438  2.8409996 ]\n",
      " [ 1.34606405  2.23122438  1.6228996 ]\n",
      " [ 0.62236405  2.68512438  0.3541996 ]\n",
      " [ 1.60746405  2.36202438 -1.0845004 ]\n",
      " [ 1.19056405  3.28252438 -2.1962004 ]\n",
      " [ 3.06576405  2.55852438 -0.7784004 ]\n",
      " [ 1.31706405  0.72312438 -1.5477004 ]\n",
      " [ 0.24056405 -1.35787562 -1.4062004 ]\n",
      " [-0.33633595 -2.58817562  0.6293996 ]\n",
      " [-1.35243595 -3.54207562  1.2507996 ]\n",
      " [-1.45013595 -4.81897562  0.4203996 ]\n",
      " [-1.84903595 -4.48497562 -1.0148004 ]\n",
      " [-0.83333595 -3.52927562 -1.6347004 ]\n",
      " [-0.74013595 -2.25017562 -0.8070004 ]]\n"
     ]
    }
   ],
   "source": [
    "# ref_m.AddConformer(conf)\n",
    "for conformer in ref_m.GetConformers():\n",
    "    print(conformer.GetPositions())"
   ]
  },
  {
   "cell_type": "code",
   "execution_count": 125,
   "id": "2f43e165-b78a-4ff4-b8fc-f30dd740c384",
   "metadata": {},
   "outputs": [
    {
     "data": {
      "text/plain": [
       "1"
      ]
     },
     "execution_count": 125,
     "metadata": {},
     "output_type": "execute_result"
    }
   ],
   "source": [
    "ref_m.GetNumConformers()"
   ]
  },
  {
   "cell_type": "code",
   "execution_count": 126,
   "id": "648a13ca-cd71-4bb9-a6df-ece947ce56c5",
   "metadata": {},
   "outputs": [],
   "source": [
    "# with Chem.SDWriter(os.path.join('pharmacophore_specific_eval', folder_name, ligand_name+'.sdf')) as w:\n",
    "#     w.write(ref_m)\n",
    "\n",
    "with Chem.SDWriter(os.path.join('structure_based', folder_name, ligand_name+'.sdf')) as w:\n",
    "    w.write(ref_m)"
   ]
  },
  {
   "cell_type": "code",
   "execution_count": null,
   "id": "180dc08b-6f8e-4ab4-aa80-1d9a00463246",
   "metadata": {},
   "outputs": [],
   "source": []
  },
  {
   "cell_type": "code",
   "execution_count": null,
   "id": "c7dd5557-f065-4c64-be9a-52381591de55",
   "metadata": {},
   "outputs": [],
   "source": []
  },
  {
   "cell_type": "code",
   "execution_count": null,
   "id": "8fb31d15-cc70-465f-84ca-e00ca4032358",
   "metadata": {},
   "outputs": [],
   "source": []
  }
 ],
 "metadata": {
  "kernelspec": {
   "display_name": "pp2drug",
   "language": "python",
   "name": "pp2drug"
  },
  "language_info": {
   "codemirror_mode": {
    "name": "ipython",
    "version": 3
   },
   "file_extension": ".py",
   "mimetype": "text/x-python",
   "name": "python",
   "nbconvert_exporter": "python",
   "pygments_lexer": "ipython3",
   "version": "3.10.14"
  }
 },
 "nbformat": 4,
 "nbformat_minor": 5
}
