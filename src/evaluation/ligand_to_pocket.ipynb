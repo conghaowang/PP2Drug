{
 "cells": [
  {
   "cell_type": "code",
   "execution_count": 2,
   "id": "055124d0-b179-420f-9ae2-7650eb27d1ee",
   "metadata": {},
   "outputs": [],
   "source": [
    "%load_ext autoreload\n",
    "%autoreload 2"
   ]
  },
  {
   "cell_type": "code",
   "execution_count": 22,
   "id": "26fd8c46-3401-43b2-9835-66fed92356cb",
   "metadata": {},
   "outputs": [],
   "source": [
    "import pickle\n",
    "import pandas as pd \n",
    "import numpy as np\n",
    "import torch\n",
    "import os\n",
    "from math import ceil\n",
    "from tqdm import tqdm\n",
    "from rdkit import Chem\n",
    "from rdkit.Chem.rdForceFieldHelpers import UFFOptimizeMolecule\n",
    "from rdkit.Geometry import Point3D\n",
    "from openbabel import pybel\n",
    "import re"
   ]
  },
  {
   "cell_type": "code",
   "execution_count": 3,
   "id": "a1e9ad4e-660d-42f7-b6ef-db660755c4ed",
   "metadata": {},
   "outputs": [],
   "source": [
    "from utils_eval import build_pdb_dict, center2zero, pp_match\n",
    "from pp_matching_specific_site import compute_center"
   ]
  },
  {
   "cell_type": "code",
   "execution_count": 4,
   "id": "a975c206-b523-44ea-8ddf-3f578c447dc8",
   "metadata": {},
   "outputs": [],
   "source": [
    "import py3Dmol\n",
    "from rdkit.Chem.Draw import IPythonConsole\n",
    "from rdkit.Chem import Draw\n",
    "from rdkit.Chem.Draw import rdMolDraw2D\n",
    "from IPython.display import SVG, Image\n",
    "IPythonConsole.drawOptions.addAtomIndices = True\n",
    "IPythonConsole.ipython_useSVG = True\n",
    "IPythonConsole.molSize = 600, 600"
   ]
  },
  {
   "cell_type": "code",
   "execution_count": 5,
   "id": "f08ee41d-6ec1-4fcf-a869-09947fb66fc5",
   "metadata": {},
   "outputs": [],
   "source": [
    "ligand_name = '1oty_A_rec_3occ_dih_lig_tt_docked_18'  # No 3, 17 are alright"
   ]
  },
  {
   "cell_type": "code",
   "execution_count": 6,
   "id": "d02987ba-cc61-44c7-ade6-785dd9e006ec",
   "metadata": {},
   "outputs": [],
   "source": [
    "bridge_type = 'vp'\n",
    "root_path = os.path.join('structure_based', bridge_type, ligand_name)\n",
    "# root_path = os.path.join('ligand_based', ligand_name)\n",
    "aromatic = True\n",
    "gen_path = os.path.join(root_path, 'aromatic' if aromatic else 'basic')\n",
    "\n",
    "optimization = False\n",
    "gen_path += '_optimized' if optimization else ''"
   ]
  },
  {
   "cell_type": "code",
   "execution_count": 7,
   "id": "d8c4d738-5662-4aca-9433-732e5b0e1ed0",
   "metadata": {
    "scrolled": true
   },
   "outputs": [
    {
     "data": {
      "text/plain": [
       "{'3occ_89': array([1, 1, 1, 0]),\n",
       " '3occ_27': array([1, 1, 1, 0]),\n",
       " '3occ_42': array([1, 1, 1, 0]),\n",
       " '3occ_53': array([1, 1, 1, 0]),\n",
       " '3occ_44': array([1, 1, 1, 0]),\n",
       " '3occ_81': array([1, 1, 1, 0]),\n",
       " '3occ_18': array([1, 0, 1, 0]),\n",
       " '3occ_91': array([1, 1, 1, 0]),\n",
       " '3occ_56': array([1, 1, 1, 0]),\n",
       " '3occ_69': array([1, 1, 1, 0]),\n",
       " '3occ_52': array([1, 1, 1, 0]),\n",
       " '3occ_61': array([1, 0, 1, 1]),\n",
       " '3occ_78': array([1, 1, 1, 0]),\n",
       " '3occ_67': array([1, 1, 1, 0]),\n",
       " '3occ_79': array([1, 1, 1, 0]),\n",
       " '3occ_31': array([1, 1, 1, 0]),\n",
       " '3occ_97': array([1, 1, 1, 0]),\n",
       " '3occ_30': array([1, 1, 1, 0]),\n",
       " '3occ_51': array([1, 1, 1, 0]),\n",
       " '3occ_38': array([1, 1, 1, 0]),\n",
       " '3occ_25': array([1, 1, 1, 0]),\n",
       " '3occ_37': array([1, 1, 1, 0]),\n",
       " '3occ_29': array([1, 1, 1, 0]),\n",
       " '3occ_16': array([1, 1, 1, 0]),\n",
       " '3occ_26': array([0, 1, 1, 0]),\n",
       " '3occ_41': array([1, 1, 1, 0]),\n",
       " '3occ_71': array([1, 1, 1, 0]),\n",
       " '3occ_48': array([1, 1, 1, 0]),\n",
       " '3occ_34': array([1, 1, 1, 0]),\n",
       " '3occ_20': array([1, 1, 1, 0]),\n",
       " '3occ_23': array([1, 1, 1, 0]),\n",
       " '3occ_2': array([1, 1, 1, 0]),\n",
       " '3occ_8': array([1, 1, 1, 0]),\n",
       " '3occ_99': array([1, 1, 1, 0]),\n",
       " '3occ_39': array([1, 1, 1, 0]),\n",
       " '3occ_54': array([1, 1, 1, 0]),\n",
       " '3occ_98': array([1, 1, 1, 0]),\n",
       " '3occ_85': array([1, 1, 1, 0]),\n",
       " '3occ_92': array([1, 1, 1, 0]),\n",
       " '3occ_73': array([1, 1, 1, 0]),\n",
       " '3occ_12': array([1, 1, 1, 0]),\n",
       " '3occ_88': array([1, 1, 1, 0]),\n",
       " '3occ_5': array([1, 0, 1, 0]),\n",
       " '3occ_21': array([1, 1, 1, 0]),\n",
       " '3occ_64': array([1, 1, 1, 0]),\n",
       " '3occ_72': array([0, 1, 1, 0]),\n",
       " '3occ_62': array([1, 0, 1, 0]),\n",
       " '3occ_4': array([1, 1, 1, 0]),\n",
       " '3occ_6': array([1, 1, 1, 0]),\n",
       " '3occ_83': array([1, 1, 1, 0]),\n",
       " '3occ_84': array([1, 1, 1, 0]),\n",
       " '3occ_65': array([1, 1, 1, 0]),\n",
       " '3occ_70': array([1, 1, 1, 0]),\n",
       " '3occ_1': array([1, 1, 1, 0]),\n",
       " '3occ_36': array([1, 1, 1, 0]),\n",
       " '3occ_58': array([1, 1, 1, 0]),\n",
       " '3occ_55': array([1, 0, 1, 0]),\n",
       " '3occ_50': array([1, 1, 1, 0]),\n",
       " '3occ_43': array([1, 0, 1, 0]),\n",
       " '3occ_17': array([1, 1, 1, 0]),\n",
       " '3occ_45': array([1, 1, 1, 0]),\n",
       " '3occ_93': array([1, 1, 1, 0]),\n",
       " '3occ_74': array([1, 1, 1, 0]),\n",
       " '3occ_10': array([1, 1, 1, 0]),\n",
       " '3occ_47': array([0, 1, 1, 0]),\n",
       " '3occ_7': array([1, 1, 1, 0]),\n",
       " '3occ_82': array([1, 1, 1, 0]),\n",
       " '3occ_76': array([1, 1, 1, 0]),\n",
       " '3occ_35': array([1, 1, 1, 0]),\n",
       " '3occ_22': array([1, 1, 1, 0]),\n",
       " '3occ_75': array([1, 1, 1, 0]),\n",
       " '3occ_9': array([1, 0, 1, 0]),\n",
       " '3occ_3': array([1, 1, 1, 0]),\n",
       " '3occ_86': array([1, 1, 1, 0]),\n",
       " '3occ_0': array([1, 1, 1, 1]),\n",
       " '3occ_68': array([1, 1, 1, 0]),\n",
       " '3occ_11': array([1, 1, 1, 0]),\n",
       " '3occ_49': array([1, 1, 1, 0]),\n",
       " '3occ_90': array([1, 1, 1, 0]),\n",
       " '3occ_59': array([1, 0, 1, 0]),\n",
       " '3occ_60': array([1, 1, 1, 0]),\n",
       " '3occ_66': array([1, 0, 1, 1]),\n",
       " '3occ_14': array([1, 1, 1, 0]),\n",
       " '3occ_87': array([1, 1, 1, 0]),\n",
       " '3occ_46': array([1, 1, 1, 0]),\n",
       " '3occ_63': array([1, 1, 1, 0]),\n",
       " '3occ_95': array([1, 1, 1, 0]),\n",
       " '3occ_80': array([1, 1, 1, 0]),\n",
       " '3occ_24': array([1, 1, 1, 0]),\n",
       " '3occ_40': array([1, 1, 1, 0]),\n",
       " '3occ_33': array([1, 1, 1, 0]),\n",
       " '3occ_77': array([1, 0, 1, 0]),\n",
       " '3occ_94': array([1, 1, 1, 0]),\n",
       " '3occ_57': array([1, 0, 1, 0]),\n",
       " '3occ_15': array([0, 1, 1, 0]),\n",
       " '3occ_96': array([1, 1, 1, 0]),\n",
       " '3occ_28': array([1, 1, 1, 0]),\n",
       " '3occ_19': array([0, 0, 1, 0]),\n",
       " '3occ_32': array([1, 1, 1, 0]),\n",
       " '3occ_13': array([1, 1, 1, 0])}"
      ]
     },
     "execution_count": 7,
     "metadata": {},
     "output_type": "execute_result"
    }
   ],
   "source": [
    "score_file = os.path.join(root_path, 'aromatic_matches.pkl' if aromatic else 'basic_matches.pkl')\n",
    "with open(score_file, 'rb') as f:\n",
    "    matches = pickle.load(f)\n",
    "matches"
   ]
  },
  {
   "cell_type": "code",
   "execution_count": 16,
   "id": "a7181560-6dcd-409a-8929-dc9aa481c748",
   "metadata": {},
   "outputs": [],
   "source": [
    "test_data = torch.load(os.path.join('structure_based', ligand_name, ligand_name + '_aromatic' + '.pt' if aromatic else ligand_name + '.pt'))\n",
    "center = compute_center(test_data['target_pos'], test_data['Gt_mask']).numpy()\n",
    "\n",
    "# with open(os.path.join('structure_based', ligand_name, 'pp_info.pkl'), 'rb') as f:\n",
    "#     pp_info = pickle.load(f)\n",
    "\n",
    "# pp_info['pp_positions'] = pp_info['pp_positions'] - center\n",
    "# pp_info['pp_positions']"
   ]
  },
  {
   "cell_type": "code",
   "execution_count": 17,
   "id": "e4dc95b3-deec-489a-95f5-d31ea6ece746",
   "metadata": {},
   "outputs": [],
   "source": [
    "raw_data_path = '../../data/cleaned_crossdocked_data/raw'\n",
    "pdb_dict, pdb_rev_dict = build_pdb_dict(raw_data_path)"
   ]
  },
  {
   "cell_type": "code",
   "execution_count": 18,
   "id": "2a0df4c1-bb50-4c70-b3aa-9dae549e881f",
   "metadata": {},
   "outputs": [],
   "source": [
    "lig_id = ligand_name[ligand_name.rfind('rec')+4:ligand_name.rfind('rec')+8]"
   ]
  },
  {
   "cell_type": "code",
   "execution_count": 25,
   "id": "91c22cd2-aab4-4aba-9a7d-75b1aed25b2f",
   "metadata": {},
   "outputs": [
    {
     "data": {
      "text/plain": [
       "'structure_based/vp/1oty_A_rec_3occ_dih_lig_tt_docked_18/aromatic/3occ_17.sdf'"
      ]
     },
     "execution_count": 25,
     "metadata": {},
     "output_type": "execute_result"
    }
   ],
   "source": [
    "idx = '17'\n",
    "lig_file = os.path.join(gen_path, lig_id + '_' + idx + '.sdf')\n",
    "lig_file"
   ]
  },
  {
   "cell_type": "code",
   "execution_count": 26,
   "id": "4c0583b7-fe2c-456c-901b-6697f45e3fa7",
   "metadata": {},
   "outputs": [
    {
     "data": {
      "text/plain": [
       "array([[ 0.4156,  0.1187,  0.1715],\n",
       "       [ 1.8797, -0.1086,  1.9821],\n",
       "       [ 2.6091, -0.0277,  2.5366],\n",
       "       [ 2.5977,  1.5309,  0.3647],\n",
       "       [ 0.2768, -0.213 ,  0.773 ],\n",
       "       [ 2.4895, -0.804 ,  3.4779],\n",
       "       [ 0.9812, -1.3404,  3.036 ],\n",
       "       [ 0.9693, -0.8582,  2.2197],\n",
       "       [ 1.496 ,  0.592 ,  0.7376],\n",
       "       [-0.1006, -0.9306,  1.4903],\n",
       "       [ 1.739 , -1.376 ,  3.6523],\n",
       "       [-2.085 ,  0.839 , -2.8666],\n",
       "       [-1.533 ,  0.5665, -1.8536],\n",
       "       [-2.9137,  0.7487, -3.6254],\n",
       "       [-2.57  ,  0.655 , -4.9382],\n",
       "       [-1.0113,  0.2729, -3.0465],\n",
       "       [-0.0424,  0.0074, -0.9688],\n",
       "       [-1.716 ,  0.842 , -0.571 ],\n",
       "       [-3.1951,  0.8439, -2.5512]])"
      ]
     },
     "execution_count": 26,
     "metadata": {},
     "output_type": "execute_result"
    }
   ],
   "source": [
    "rdmol = Chem.MolFromMolFile(lig_file, sanitize=True)\n",
    "conf = rdmol.GetConformer()\n",
    "atom_positions = conf.GetPositions()\n",
    "\n",
    "atom_positions"
   ]
  },
  {
   "cell_type": "code",
   "execution_count": 27,
   "id": "5dda6d10-6646-486d-a69e-d807bc80605f",
   "metadata": {
    "scrolled": true
   },
   "outputs": [
    {
     "name": "stdout",
     "output_type": "stream",
     "text": [
      "137.2726556640625 101.7095432006836 39.33543280029297\n",
      "138.7367556640625 101.4822432006836 41.14603280029297\n",
      "139.4661556640625 101.5631432006836 41.70053280029297\n",
      "139.4547556640625 103.1217432006836 39.52863280029297\n",
      "137.1338556640625 101.3778432006836 39.93693280029297\n",
      "139.3465556640625 100.78684320068359 42.64183280029297\n",
      "137.8382556640625 100.25044320068359 42.19993280029297\n",
      "137.8263556640625 100.7326432006836 41.38363280029297\n",
      "138.3530556640625 102.18284320068359 39.90153280029297\n",
      "136.7564556640625 100.6602432006836 40.65423280029297\n",
      "138.5960556640625 100.21484320068359 42.816232800292966\n",
      "134.7720556640625 102.42984320068359 36.29733280029297\n",
      "135.3240556640625 102.1573432006836 37.31033280029297\n",
      "133.9433556640625 102.3395432006836 35.53853280029297\n",
      "134.2870556640625 102.2458432006836 34.22573280029297\n",
      "135.8457556640625 101.8637432006836 36.11743280029297\n",
      "136.8146556640625 101.5982432006836 38.19513280029297\n",
      "135.1410556640625 102.43284320068359 38.59293280029297\n",
      "133.6619556640625 102.4347432006836 36.61273280029297\n"
     ]
    }
   ],
   "source": [
    "for i in range(rdmol.GetNumAtoms()):\n",
    "    x,y,z = atom_positions[i] + center\n",
    "    print(x, y, z)\n",
    "    conf.SetAtomPosition(i,Point3D(x,y,z))"
   ]
  },
  {
   "cell_type": "code",
   "execution_count": 28,
   "id": "9f7a7066-448d-4224-a279-7e358e58f124",
   "metadata": {},
   "outputs": [],
   "source": [
    "with Chem.SDWriter(os.path.join('structure_based', ligand_name, lig_id + '_' + idx + '_2pocket.sdf')) as w:\n",
    "    w.write(rdmol)"
   ]
  },
  {
   "cell_type": "code",
   "execution_count": null,
   "id": "e0d86b86-b440-4ca1-9807-52ad177951fd",
   "metadata": {},
   "outputs": [],
   "source": []
  },
  {
   "cell_type": "code",
   "execution_count": null,
   "id": "35558476-e188-462d-aa80-33d49aaeff88",
   "metadata": {},
   "outputs": [],
   "source": []
  },
  {
   "cell_type": "code",
   "execution_count": null,
   "id": "d216383b-d26d-45e6-b676-30f50e40c0b6",
   "metadata": {},
   "outputs": [],
   "source": []
  }
 ],
 "metadata": {
  "kernelspec": {
   "display_name": "pp2drug",
   "language": "python",
   "name": "pp2drug"
  },
  "language_info": {
   "codemirror_mode": {
    "name": "ipython",
    "version": 3
   },
   "file_extension": ".py",
   "mimetype": "text/x-python",
   "name": "python",
   "nbconvert_exporter": "python",
   "pygments_lexer": "ipython3",
   "version": "3.10.14"
  }
 },
 "nbformat": 4,
 "nbformat_minor": 5
}
