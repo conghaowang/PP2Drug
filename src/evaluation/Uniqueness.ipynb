{
 "cells": [
  {
   "cell_type": "code",
   "execution_count": 1,
   "id": "264a4197-7f18-4107-8a9c-1792b38c9939",
   "metadata": {},
   "outputs": [],
   "source": [
    "from rdkit import Chem\n",
    "from rdkit.Chem import RDConfig\n",
    "from rdkit.Chem.QED import qed\n",
    "import os\n",
    "from tqdm import tqdm\n",
    "import seaborn as sns\n",
    "import numpy as np"
   ]
  },
  {
   "cell_type": "code",
   "execution_count": 2,
   "id": "d6148ce0-e07e-43ba-8518-86653bd88233",
   "metadata": {},
   "outputs": [],
   "source": [
    "import sys\n",
    "sys.path.append('..')\n",
    "sys.path.append(os.path.join(RDConfig.RDContribDir, \"SA_Score\"))\n",
    "import sascorer"
   ]
  },
  {
   "cell_type": "code",
   "execution_count": 3,
   "id": "5e24d1ea-2070-40ed-99b6-166f7b963845",
   "metadata": {},
   "outputs": [],
   "source": [
    "from utils_eval import build_pdb_dict\n"
   ]
  },
  {
   "cell_type": "code",
   "execution_count": 17,
   "id": "b06d3481-c131-4606-b209-97ad0b37a8c1",
   "metadata": {},
   "outputs": [],
   "source": [
    "# root_path = '../evaluation/ligand_based'\n",
    "root_path = '../evaluation/structure_based'\n",
    "bridge_type = 'vp'\n",
    "\n",
    "# ligand_name = '3hfg_A_rec_3hfg_17r_lig_tt_min_0'\n",
    "# ligand_name = '3ey4_C_rec_5pgu_8k4_lig_tt_min_0'  # 0.11 0.10\n",
    "# ligand_name = '5ni2_A_rec_5aen_dp8_lig_tt_min_0'\n",
    "# ligand_name = '3fu5_A_rec_5ni6_dj3_lig_tt_min_0'\n",
    "# ligand_name = '4yyz_B_rec_2ilt_nn1_lig_tt_min_0'  # 0.16 0.20 \n",
    "# ligand_name = '4bnn_A_rec_4bnm_tcu_lig_tt_min_0'\n",
    "# ligand_name = '4yvx_A_rec_1s2a_imn_lig_tt_min_0'\n",
    "# ligand_name = '3czr_B_rec_4bb5_hd2_lig_tt_min_0'\n",
    "# ligand_name = '3czr_A_rec_2ilt_nn1_lig_tt_min_0'\n",
    "# ligand_name = '4b84_A_rec_4btl_5gz_lig_tt_min_0'\n",
    "# ligand_name = '3fue_A_rec_3ftv_11x_lig_tt_min_0'  # 0.04 0.05\n",
    "# ligand_name = '4bnk_B_rec_4d44_ja3_lig_tt_min_0'  # 0.26 0.27\n",
    "# ligand_name = '3qqp_B_rec_4k1l_sff_lig_tt_min_0'\n",
    "# ligand_name = '4wdu_A_rec_3r94_flr_lig_tt_min_0'  # 0.37 0.27\n",
    "# ligand_name = '4alj_A_rec_4bnf_pv4_lig_tt_docked_0'  # 0.24 0.24\n",
    "# ligand_name = '1ejj_A_rec_1o99_2pg_lig_tt_docked_0'\n",
    "# ligand_name = '4h96_B_rec_4h95_06u_lig_tt_min_0'  # 0.40 0.42\n",
    "# ligand_name = '2oa6_D_rec_4kvi_1sv_lig_tt_min_0'  # 0.36 0.41\n",
    "# ligand_name = '4hx5_B_rec_3bzu_a21_lig_tt_min_0'\n",
    "# ligand_name = '5pgy_D_rec_3bzu_a21_lig_tt_min_0'\n",
    "# ligand_name = '5pgv_A_rec_3bzu_a21_lig_tt_min_0'\n",
    "# ligand_name = '4kux_B_rec_4kvw_jf4_lig_tt_min_0'  # 0.61 0.63\n",
    "# ligand_name = '4bnk_B_rec_4bnl_w1g_lig_tt_min_0'\n",
    "# ligand_name = '4b82_B_rec_4ara_c56_lig_tt_min_0'  # 0.42 0.53\n",
    "# ligand_name = '4pm0_A_rec_4y2b_epk_lig_tt_min_0'\n",
    "# ligand_name = '4ms6_A_rec_3fuh_5h1_lig_tt_min_0'  # 0.02 0.02\n",
    "# ligand_name = '5ivg_B_rec_4kvy_jf1_lig_tt_docked_9'  # 0.61 0.69\n",
    "# ligand_name = '3r8h_A_rec_3r8h_zom_lig_tt_min_0'\n",
    "# ligand_name = '1aoe_A_rec_3qlr_qlr_lig_tt_docked_4'  # 0.19 0.28\n",
    "# ligand_name = '2ilt_A_rec_3ey4_352_lig_tt_min_0'  # 0.70 0.71\n",
    "# ligand_name = '2g1q_A_rec_1x88_nat_lig_tt_min_0'  # 0.59 0.59\n",
    "# ligand_name = '5imp_B_rec_4kwd_jf2_lig_tt_min_0'  # 0.54 0.55\n",
    "# ligand_name = '4d45_A_rec_4ali_tcl_lig_tt_min_0'  # 0.57 0.52\n",
    "# ligand_name = '5ivg_B_rec_4kvw_jf4_lig_tt_min_0'\n",
    "# ligand_name = '2rbe_C_rec_3byz_h11_lig_tt_min_0'\n",
    "# ligand_name = '2whr_A_rec_3zlv_hi6_lig_tt_min_0'\n",
    "# ligand_name = '4hmn_A_rec_3ufy_npx_lig_tt_min_0'\n",
    "ligand_name = '4h7c_A_rec_3r6i_jms_lig_tt_min_0'\n",
    "\n",
    "aromatic = True\n",
    "\n",
    "gen_path = os.path.join(root_path, bridge_type, ligand_name, 'aromatic' if aromatic else 'basic')"
   ]
  },
  {
   "cell_type": "code",
   "execution_count": 18,
   "id": "04e75662-06e9-4825-9215-0362fe099a4a",
   "metadata": {},
   "outputs": [],
   "source": [
    "raw_data_path = '../../data/cleaned_crossdocked_data/raw'\n",
    "pdb_dict, pdb_rev_dict = build_pdb_dict(raw_data_path)"
   ]
  },
  {
   "cell_type": "code",
   "execution_count": 19,
   "id": "b9c3577a-de6c-4bbb-818f-4263a28462a8",
   "metadata": {},
   "outputs": [],
   "source": [
    "def get_mols(gen_path, ligand_name=None, raw_data_path=raw_data_path):\n",
    "    gen_mols, ref_mols = {}, {}\n",
    "    for file in tqdm(os.listdir(gen_path)):\n",
    "        ligand = file.split('.')[0]\n",
    "        ref_folder = pdb_rev_dict[ligand_name+'.sdf']\n",
    "        # ref_folder = pdb_rev_dict[file]\n",
    "\n",
    "        gen_m = Chem.MolFromMolFile(os.path.join(gen_path, file))\n",
    "        ref_m = Chem.MolFromMolFile(os.path.join(raw_data_path, ref_folder, ligand_name+'.sdf'))\n",
    "        # ref_m = Chem.MolFromMolFile(os.path.join(raw_data_path, ref_folder, file))\n",
    "        if gen_m == None or ref_m == None:\n",
    "            continue\n",
    "            \n",
    "        gen_mols[ligand] = gen_m\n",
    "        ref_mols[ligand] = ref_m\n",
    "\n",
    "    return gen_mols, ref_mols"
   ]
  },
  {
   "cell_type": "code",
   "execution_count": 20,
   "id": "6ef0691d-9e9e-4f81-b3d7-673c5252873c",
   "metadata": {},
   "outputs": [
    {
     "name": "stderr",
     "output_type": "stream",
     "text": [
      "100%|█████████████████████████████████████████████████████████████████████████| 500/500 [00:00<00:00, 603.75it/s]\n"
     ]
    }
   ],
   "source": [
    "# gen_mols, ref_mols = get_mols(gen_path, ligand_name=None)\n",
    "gen_mols, ref_mols = get_mols(gen_path, ligand_name=ligand_name)"
   ]
  },
  {
   "cell_type": "code",
   "execution_count": 21,
   "id": "86defa8b-392f-447d-ba0e-bc4328d56e61",
   "metadata": {},
   "outputs": [
    {
     "data": {
      "text/plain": [
       "500"
      ]
     },
     "execution_count": 21,
     "metadata": {},
     "output_type": "execute_result"
    }
   ],
   "source": [
    "len(gen_mols.values())"
   ]
  },
  {
   "cell_type": "code",
   "execution_count": 22,
   "id": "e5036ece-fe25-4f09-9f64-9647b313f003",
   "metadata": {},
   "outputs": [],
   "source": [
    "unique_smiles = set([Chem.MolToSmiles(mol, canonical=True) for mol in gen_mols.values() if mol is not None])"
   ]
  },
  {
   "cell_type": "code",
   "execution_count": 23,
   "id": "aa29b5d7-074c-4046-9b59-f47fe7d99e87",
   "metadata": {},
   "outputs": [
    {
     "data": {
      "text/plain": [
       "{'C=C1[C@@H](C(=CCCC)C(C)=O)C[C@@H](F)[C@H]1CCCC',\n",
       " 'C=C1[C@@H](C(=CCCC)C(C)=O)C[C@@H](F)[C@H]1[C@@H](C)CC'}"
      ]
     },
     "execution_count": 23,
     "metadata": {},
     "output_type": "execute_result"
    }
   ],
   "source": [
    "unique_smiles"
   ]
  },
  {
   "cell_type": "code",
   "execution_count": null,
   "id": "927612ef-268d-40a0-8f4a-eae7811863b1",
   "metadata": {},
   "outputs": [],
   "source": []
  }
 ],
 "metadata": {
  "kernelspec": {
   "display_name": "pp2drug",
   "language": "python",
   "name": "pp2drug"
  },
  "language_info": {
   "codemirror_mode": {
    "name": "ipython",
    "version": 3
   },
   "file_extension": ".py",
   "mimetype": "text/x-python",
   "name": "python",
   "nbconvert_exporter": "python",
   "pygments_lexer": "ipython3",
   "version": "3.10.14"
  }
 },
 "nbformat": 4,
 "nbformat_minor": 5
}
